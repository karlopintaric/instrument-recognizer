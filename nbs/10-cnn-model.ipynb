{
 "cells": [
  {
   "cell_type": "code",
   "execution_count": 6,
   "metadata": {},
   "outputs": [],
   "source": [
    "import timm\n",
    "import torch.nn as nn"
   ]
  },
  {
   "cell_type": "code",
   "execution_count": 37,
   "metadata": {},
   "outputs": [],
   "source": [
    "def create_pretrained_model(model_name, num_classes, dropout):\n",
    "\n",
    "    base_model = timm.create_model(model_name, pretrained=True, num_classes=num_classes)\n",
    "    nf = base_model.fc.in_features\n",
    "    \n",
    "    body = nn.Sequential(*list(base_model.children())[:-1])\n",
    "    head = nn.Sequential(\n",
    "                nn.BatchNorm1d(nf),\n",
    "                nn.Dropout(p=dropout),\n",
    "                nn.Linear(in_features=nf, out_features=num_classes)\n",
    "                )\n",
    "    \n",
    "    return nn.Sequential(body, head)\n",
    "    "
   ]
  },
  {
   "cell_type": "code",
   "execution_count": 38,
   "metadata": {},
   "outputs": [
    {
     "ename": "AttributeError",
     "evalue": "'BatchNorm1d' object has no attribute 'shape'",
     "output_type": "error",
     "traceback": [
      "\u001b[0;31m---------------------------------------------------------------------------\u001b[0m",
      "\u001b[0;31mAttributeError\u001b[0m                            Traceback (most recent call last)",
      "Cell \u001b[0;32mIn[38], line 1\u001b[0m\n\u001b[0;32m----> 1\u001b[0m model \u001b[39m=\u001b[39m create_pretrained_model(\u001b[39m\"\u001b[39;49m\u001b[39mresnet50\u001b[39;49m\u001b[39m\"\u001b[39;49m, \u001b[39m11\u001b[39;49m, \u001b[39m0.2\u001b[39;49m)\n",
      "Cell \u001b[0;32mIn[37], line 12\u001b[0m, in \u001b[0;36mcreate_pretrained_model\u001b[0;34m(model_name, num_classes, dropout)\u001b[0m\n\u001b[1;32m      6\u001b[0m body \u001b[39m=\u001b[39m nn\u001b[39m.\u001b[39mSequential(\u001b[39m*\u001b[39m\u001b[39mlist\u001b[39m(base_model\u001b[39m.\u001b[39mchildren())[:\u001b[39m-\u001b[39m\u001b[39m1\u001b[39m])\n\u001b[1;32m      7\u001b[0m head \u001b[39m=\u001b[39m nn\u001b[39m.\u001b[39mSequential(\n\u001b[1;32m      8\u001b[0m             nn\u001b[39m.\u001b[39mBatchNorm1d(nf),\n\u001b[1;32m      9\u001b[0m             nn\u001b[39m.\u001b[39mDropout(p\u001b[39m=\u001b[39mdropout),\n\u001b[1;32m     10\u001b[0m             nn\u001b[39m.\u001b[39mLinear(in_features\u001b[39m=\u001b[39mnf, out_features\u001b[39m=\u001b[39mnum_classes)\n\u001b[1;32m     11\u001b[0m             )\n\u001b[0;32m---> 12\u001b[0m head\u001b[39m.\u001b[39;49mapply(nn\u001b[39m.\u001b[39;49minit\u001b[39m.\u001b[39;49mkaiming_normal_)\n\u001b[1;32m     14\u001b[0m \u001b[39mreturn\u001b[39;00m nn\u001b[39m.\u001b[39mSequential(body, head)\n",
      "File \u001b[0;32m~/LUMEN-Data-Science-IRMAS/venv/lib/python3.10/site-packages/torch/nn/modules/module.py:728\u001b[0m, in \u001b[0;36mModule.apply\u001b[0;34m(self, fn)\u001b[0m\n\u001b[1;32m    693\u001b[0m \u001b[39m\u001b[39m\u001b[39mr\u001b[39m\u001b[39m\"\"\"Applies ``fn`` recursively to every submodule (as returned by ``.children()``)\u001b[39;00m\n\u001b[1;32m    694\u001b[0m \u001b[39mas well as self. Typical use includes initializing the parameters of a model\u001b[39;00m\n\u001b[1;32m    695\u001b[0m \u001b[39m(see also :ref:`nn-init-doc`).\u001b[39;00m\n\u001b[0;32m   (...)\u001b[0m\n\u001b[1;32m    725\u001b[0m \n\u001b[1;32m    726\u001b[0m \u001b[39m\"\"\"\u001b[39;00m\n\u001b[1;32m    727\u001b[0m \u001b[39mfor\u001b[39;00m module \u001b[39min\u001b[39;00m \u001b[39mself\u001b[39m\u001b[39m.\u001b[39mchildren():\n\u001b[0;32m--> 728\u001b[0m     module\u001b[39m.\u001b[39;49mapply(fn)\n\u001b[1;32m    729\u001b[0m fn(\u001b[39mself\u001b[39m)\n\u001b[1;32m    730\u001b[0m \u001b[39mreturn\u001b[39;00m \u001b[39mself\u001b[39m\n",
      "File \u001b[0;32m~/LUMEN-Data-Science-IRMAS/venv/lib/python3.10/site-packages/torch/nn/modules/module.py:729\u001b[0m, in \u001b[0;36mModule.apply\u001b[0;34m(self, fn)\u001b[0m\n\u001b[1;32m    727\u001b[0m \u001b[39mfor\u001b[39;00m module \u001b[39min\u001b[39;00m \u001b[39mself\u001b[39m\u001b[39m.\u001b[39mchildren():\n\u001b[1;32m    728\u001b[0m     module\u001b[39m.\u001b[39mapply(fn)\n\u001b[0;32m--> 729\u001b[0m fn(\u001b[39mself\u001b[39;49m)\n\u001b[1;32m    730\u001b[0m \u001b[39mreturn\u001b[39;00m \u001b[39mself\u001b[39m\n",
      "File \u001b[0;32m~/LUMEN-Data-Science-IRMAS/venv/lib/python3.10/site-packages/torch/nn/init.py:444\u001b[0m, in \u001b[0;36mkaiming_normal_\u001b[0;34m(tensor, a, mode, nonlinearity)\u001b[0m\n\u001b[1;32m    415\u001b[0m \u001b[39mdef\u001b[39;00m \u001b[39mkaiming_normal_\u001b[39m(\n\u001b[1;32m    416\u001b[0m     tensor: Tensor, a: \u001b[39mfloat\u001b[39m \u001b[39m=\u001b[39m \u001b[39m0\u001b[39m, mode: \u001b[39mstr\u001b[39m \u001b[39m=\u001b[39m \u001b[39m'\u001b[39m\u001b[39mfan_in\u001b[39m\u001b[39m'\u001b[39m, nonlinearity: \u001b[39mstr\u001b[39m \u001b[39m=\u001b[39m \u001b[39m'\u001b[39m\u001b[39mleaky_relu\u001b[39m\u001b[39m'\u001b[39m\n\u001b[1;32m    417\u001b[0m ):\n\u001b[1;32m    418\u001b[0m \u001b[39m    \u001b[39m\u001b[39mr\u001b[39m\u001b[39m\"\"\"Fills the input `Tensor` with values according to the method\u001b[39;00m\n\u001b[1;32m    419\u001b[0m \u001b[39m    described in `Delving deep into rectifiers: Surpassing human-level\u001b[39;00m\n\u001b[1;32m    420\u001b[0m \u001b[39m    performance on ImageNet classification` - He, K. et al. (2015), using a\u001b[39;00m\n\u001b[0;32m   (...)\u001b[0m\n\u001b[1;32m    442\u001b[0m \u001b[39m        >>> nn.init.kaiming_normal_(w, mode='fan_out', nonlinearity='relu')\u001b[39;00m\n\u001b[1;32m    443\u001b[0m \u001b[39m    \"\"\"\u001b[39;00m\n\u001b[0;32m--> 444\u001b[0m     \u001b[39mif\u001b[39;00m \u001b[39m0\u001b[39m \u001b[39min\u001b[39;00m tensor\u001b[39m.\u001b[39;49mshape:\n\u001b[1;32m    445\u001b[0m         warnings\u001b[39m.\u001b[39mwarn(\u001b[39m\"\u001b[39m\u001b[39mInitializing zero-element tensors is a no-op\u001b[39m\u001b[39m\"\u001b[39m)\n\u001b[1;32m    446\u001b[0m         \u001b[39mreturn\u001b[39;00m tensor\n",
      "File \u001b[0;32m~/LUMEN-Data-Science-IRMAS/venv/lib/python3.10/site-packages/torch/nn/modules/module.py:1269\u001b[0m, in \u001b[0;36mModule.__getattr__\u001b[0;34m(self, name)\u001b[0m\n\u001b[1;32m   1267\u001b[0m     \u001b[39mif\u001b[39;00m name \u001b[39min\u001b[39;00m modules:\n\u001b[1;32m   1268\u001b[0m         \u001b[39mreturn\u001b[39;00m modules[name]\n\u001b[0;32m-> 1269\u001b[0m \u001b[39mraise\u001b[39;00m \u001b[39mAttributeError\u001b[39;00m(\u001b[39m\"\u001b[39m\u001b[39m'\u001b[39m\u001b[39m{}\u001b[39;00m\u001b[39m'\u001b[39m\u001b[39m object has no attribute \u001b[39m\u001b[39m'\u001b[39m\u001b[39m{}\u001b[39;00m\u001b[39m'\u001b[39m\u001b[39m\"\u001b[39m\u001b[39m.\u001b[39mformat(\n\u001b[1;32m   1270\u001b[0m     \u001b[39mtype\u001b[39m(\u001b[39mself\u001b[39m)\u001b[39m.\u001b[39m\u001b[39m__name__\u001b[39m, name))\n",
      "\u001b[0;31mAttributeError\u001b[0m: 'BatchNorm1d' object has no attribute 'shape'"
     ]
    }
   ],
   "source": [
    "model = create_pretrained_model(\"resnet50\", 11, 0.2)"
   ]
  },
  {
   "cell_type": "code",
   "execution_count": 24,
   "metadata": {},
   "outputs": [],
   "source": [
    "model = timm.create_model(\"resnet34\", pretrained=True, num_classes=11)"
   ]
  },
  {
   "cell_type": "code",
   "execution_count": 23,
   "metadata": {},
   "outputs": [],
   "source": [
    "body = nn.Sequential(*list(model.children())[:-1])"
   ]
  },
  {
   "cell_type": "code",
   "execution_count": 5,
   "metadata": {},
   "outputs": [
    {
     "data": {
      "text/plain": [
       "Linear(in_features=512, out_features=11, bias=True)"
      ]
     },
     "execution_count": 5,
     "metadata": {},
     "output_type": "execute_result"
    }
   ],
   "source": [
    "base_model.fc = nn.Sequential(\n",
    "            nn.BatchNorm1d(512)\n",
    "            nn.Dropout(p=0.2),\n",
    "            nn.Linear(in_features=resnet.fc.in_features, out_features=n_classes)\n",
    "        )"
   ]
  },
  {
   "cell_type": "code",
   "execution_count": 30,
   "metadata": {},
   "outputs": [
    {
     "ename": "AttributeError",
     "evalue": "cannot assign module before Module.__init__() call",
     "output_type": "error",
     "traceback": [
      "\u001b[0;31m---------------------------------------------------------------------------\u001b[0m",
      "\u001b[0;31mAttributeError\u001b[0m                            Traceback (most recent call last)",
      "Cell \u001b[0;32mIn[30], line 1\u001b[0m\n\u001b[0;32m----> 1\u001b[0m CNN(\u001b[39m\"\u001b[39;49m\u001b[39mresnet50\u001b[39;49m\u001b[39m\"\u001b[39;49m, \u001b[39m11\u001b[39;49m, \u001b[39m0.2\u001b[39;49m)\n",
      "Cell \u001b[0;32mIn[29], line 8\u001b[0m, in \u001b[0;36mCNN.__init__\u001b[0;34m(self, model_name, num_classes, dropout)\u001b[0m\n\u001b[1;32m      6\u001b[0m \u001b[39mself\u001b[39m\u001b[39m.\u001b[39mmodel_name \u001b[39m=\u001b[39m model_name\n\u001b[1;32m      7\u001b[0m \u001b[39mself\u001b[39m\u001b[39m.\u001b[39mdropout \u001b[39m=\u001b[39m dropout\n\u001b[0;32m----> 8\u001b[0m \u001b[39mself\u001b[39;49m\u001b[39m.\u001b[39;49mmodel \u001b[39m=\u001b[39m \u001b[39mself\u001b[39m\u001b[39m.\u001b[39mcreate_model()\n",
      "File \u001b[0;32m~/LUMEN-Data-Science-IRMAS/venv/lib/python3.10/site-packages/torch/nn/modules/module.py:1298\u001b[0m, in \u001b[0;36mModule.__setattr__\u001b[0;34m(self, name, value)\u001b[0m\n\u001b[1;32m   1296\u001b[0m \u001b[39mif\u001b[39;00m \u001b[39misinstance\u001b[39m(value, Module):\n\u001b[1;32m   1297\u001b[0m     \u001b[39mif\u001b[39;00m modules \u001b[39mis\u001b[39;00m \u001b[39mNone\u001b[39;00m:\n\u001b[0;32m-> 1298\u001b[0m         \u001b[39mraise\u001b[39;00m \u001b[39mAttributeError\u001b[39;00m(\n\u001b[1;32m   1299\u001b[0m             \u001b[39m\"\u001b[39m\u001b[39mcannot assign module before Module.__init__() call\u001b[39m\u001b[39m\"\u001b[39m)\n\u001b[1;32m   1300\u001b[0m     remove_from(\u001b[39mself\u001b[39m\u001b[39m.\u001b[39m\u001b[39m__dict__\u001b[39m, \u001b[39mself\u001b[39m\u001b[39m.\u001b[39m_parameters, \u001b[39mself\u001b[39m\u001b[39m.\u001b[39m_buffers, \u001b[39mself\u001b[39m\u001b[39m.\u001b[39m_non_persistent_buffers_set)\n\u001b[1;32m   1301\u001b[0m     modules[name] \u001b[39m=\u001b[39m value\n",
      "\u001b[0;31mAttributeError\u001b[0m: cannot assign module before Module.__init__() call"
     ]
    }
   ],
   "source": [
    "CNN(\"resnet50\", 11, 0.2)"
   ]
  },
  {
   "cell_type": "code",
   "execution_count": null,
   "metadata": {},
   "outputs": [],
   "source": []
  }
 ],
 "metadata": {
  "kernelspec": {
   "display_name": "Python 3",
   "language": "python",
   "name": "python3"
  },
  "language_info": {
   "codemirror_mode": {
    "name": "ipython",
    "version": 3
   },
   "file_extension": ".py",
   "mimetype": "text/x-python",
   "name": "python",
   "nbconvert_exporter": "python",
   "pygments_lexer": "ipython3",
   "version": "3.10.9"
  },
  "orig_nbformat": 4
 },
 "nbformat": 4,
 "nbformat_minor": 2
}
