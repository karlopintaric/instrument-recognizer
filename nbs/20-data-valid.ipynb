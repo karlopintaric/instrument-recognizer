{
 "cells": [
  {
   "cell_type": "code",
   "execution_count": 13,
   "metadata": {},
   "outputs": [],
   "source": [
    "from cerberus import Validator, TypeDefinition\n",
    "from lumen_irmas.modeling.transforms import Transform, ParentMultilabel"
   ]
  },
  {
   "cell_type": "code",
   "execution_count": 41,
   "metadata": {},
   "outputs": [],
   "source": [
    "transform_type = TypeDefinition('transform', (Transform,), ())\n",
    "\n",
    "class ConfigValidator(Validator):\n",
    "    types_mapping = Validator.types_mapping.copy()\n",
    "    types_mapping['transform'] = transform_type"
   ]
  },
  {
   "cell_type": "code",
   "execution_count": 32,
   "metadata": {},
   "outputs": [],
   "source": [
    "config = {\n",
    "  \"preprocess\": {\n",
    "    ParentMultilabel(),\n",
    "    ParentMultilabel()}\n",
    "}"
   ]
  },
  {
   "cell_type": "code",
   "execution_count": 36,
   "metadata": {},
   "outputs": [],
   "source": [
    "import inspect\n",
    "import lumen_irmas.modeling.loss as loss_module"
   ]
  },
  {
   "cell_type": "code",
   "execution_count": 37,
   "metadata": {},
   "outputs": [
    {
     "data": {
      "text/plain": [
       "[('FocalLoss', lumen_irmas.modeling.loss.FocalLoss),\n",
       " ('HardDistillationLoss', lumen_irmas.modeling.loss.HardDistillationLoss),\n",
       " ('Union', typing.Union),\n",
       " ('__builtins__',\n",
       "  {'__name__': 'builtins',\n",
       "   '__doc__': \"Built-in functions, exceptions, and other objects.\\n\\nNoteworthy: None is the `nil' object; Ellipsis represents `...' in slices.\",\n",
       "   '__package__': '',\n",
       "   '__loader__': _frozen_importlib.BuiltinImporter,\n",
       "   '__spec__': ModuleSpec(name='builtins', loader=<class '_frozen_importlib.BuiltinImporter'>, origin='built-in'),\n",
       "   '__build_class__': <function __build_class__>,\n",
       "   '__import__': <function __import__>,\n",
       "   'abs': <function abs(x, /)>,\n",
       "   'all': <function all(iterable, /)>,\n",
       "   'any': <function any(iterable, /)>,\n",
       "   'ascii': <function ascii(obj, /)>,\n",
       "   'bin': <function bin(number, /)>,\n",
       "   'breakpoint': <function breakpoint>,\n",
       "   'callable': <function callable(obj, /)>,\n",
       "   'chr': <function chr(i, /)>,\n",
       "   'compile': <function compile(source, filename, mode, flags=0, dont_inherit=False, optimize=-1, *, _feature_version=-1)>,\n",
       "   'delattr': <function delattr(obj, name, /)>,\n",
       "   'dir': <function dir>,\n",
       "   'divmod': <function divmod(x, y, /)>,\n",
       "   'eval': <function eval(source, globals=None, locals=None, /)>,\n",
       "   'exec': <function exec(source, globals=None, locals=None, /)>,\n",
       "   'format': <function format(value, format_spec='', /)>,\n",
       "   'getattr': <function getattr>,\n",
       "   'globals': <function globals()>,\n",
       "   'hasattr': <function hasattr(obj, name, /)>,\n",
       "   'hash': <function hash(obj, /)>,\n",
       "   'hex': <function hex(number, /)>,\n",
       "   'id': <function id(obj, /)>,\n",
       "   'input': <bound method Kernel.raw_input of <ipykernel.ipkernel.IPythonKernel object at 0x7f5c2283cd00>>,\n",
       "   'isinstance': <function isinstance(obj, class_or_tuple, /)>,\n",
       "   'issubclass': <function issubclass(cls, class_or_tuple, /)>,\n",
       "   'iter': <function iter>,\n",
       "   'len': <function len(obj, /)>,\n",
       "   'locals': <function locals()>,\n",
       "   'max': <function max>,\n",
       "   'min': <function min>,\n",
       "   'next': <function next>,\n",
       "   'oct': <function oct(number, /)>,\n",
       "   'ord': <function ord(c, /)>,\n",
       "   'pow': <function pow(base, exp, mod=None)>,\n",
       "   'print': <function print>,\n",
       "   'repr': <function repr(obj, /)>,\n",
       "   'round': <function round(number, ndigits=None)>,\n",
       "   'setattr': <function setattr(obj, name, value, /)>,\n",
       "   'sorted': <function sorted(iterable, /, *, key=None, reverse=False)>,\n",
       "   'sum': <function sum(iterable, /, start=0)>,\n",
       "   'vars': <function vars>,\n",
       "   'None': None,\n",
       "   'Ellipsis': Ellipsis,\n",
       "   'NotImplemented': NotImplemented,\n",
       "   'False': False,\n",
       "   'True': True,\n",
       "   'bool': bool,\n",
       "   'memoryview': memoryview,\n",
       "   'bytearray': bytearray,\n",
       "   'bytes': bytes,\n",
       "   'classmethod': classmethod,\n",
       "   'complex': complex,\n",
       "   'dict': dict,\n",
       "   'enumerate': enumerate,\n",
       "   'filter': filter,\n",
       "   'float': float,\n",
       "   'frozenset': frozenset,\n",
       "   'property': property,\n",
       "   'int': int,\n",
       "   'list': list,\n",
       "   'map': map,\n",
       "   'object': object,\n",
       "   'range': range,\n",
       "   'reversed': reversed,\n",
       "   'set': set,\n",
       "   'slice': slice,\n",
       "   'staticmethod': staticmethod,\n",
       "   'str': str,\n",
       "   'super': super,\n",
       "   'tuple': tuple,\n",
       "   'type': type,\n",
       "   'zip': zip,\n",
       "   '__debug__': True,\n",
       "   'BaseException': BaseException,\n",
       "   'Exception': Exception,\n",
       "   'TypeError': TypeError,\n",
       "   'StopAsyncIteration': StopAsyncIteration,\n",
       "   'StopIteration': StopIteration,\n",
       "   'GeneratorExit': GeneratorExit,\n",
       "   'SystemExit': SystemExit,\n",
       "   'KeyboardInterrupt': KeyboardInterrupt,\n",
       "   'ImportError': ImportError,\n",
       "   'ModuleNotFoundError': ModuleNotFoundError,\n",
       "   'OSError': OSError,\n",
       "   'EnvironmentError': OSError,\n",
       "   'IOError': OSError,\n",
       "   'EOFError': EOFError,\n",
       "   'RuntimeError': RuntimeError,\n",
       "   'RecursionError': RecursionError,\n",
       "   'NotImplementedError': NotImplementedError,\n",
       "   'NameError': NameError,\n",
       "   'UnboundLocalError': UnboundLocalError,\n",
       "   'AttributeError': AttributeError,\n",
       "   'SyntaxError': SyntaxError,\n",
       "   'IndentationError': IndentationError,\n",
       "   'TabError': TabError,\n",
       "   'LookupError': LookupError,\n",
       "   'IndexError': IndexError,\n",
       "   'KeyError': KeyError,\n",
       "   'ValueError': ValueError,\n",
       "   'UnicodeError': UnicodeError,\n",
       "   'UnicodeEncodeError': UnicodeEncodeError,\n",
       "   'UnicodeDecodeError': UnicodeDecodeError,\n",
       "   'UnicodeTranslateError': UnicodeTranslateError,\n",
       "   'AssertionError': AssertionError,\n",
       "   'ArithmeticError': ArithmeticError,\n",
       "   'FloatingPointError': FloatingPointError,\n",
       "   'OverflowError': OverflowError,\n",
       "   'ZeroDivisionError': ZeroDivisionError,\n",
       "   'SystemError': SystemError,\n",
       "   'ReferenceError': ReferenceError,\n",
       "   'MemoryError': MemoryError,\n",
       "   'BufferError': BufferError,\n",
       "   'Warning': Warning,\n",
       "   'UserWarning': UserWarning,\n",
       "   'DeprecationWarning': DeprecationWarning,\n",
       "   'PendingDeprecationWarning': PendingDeprecationWarning,\n",
       "   'SyntaxWarning': SyntaxWarning,\n",
       "   'RuntimeWarning': RuntimeWarning,\n",
       "   'FutureWarning': FutureWarning,\n",
       "   'ImportWarning': ImportWarning,\n",
       "   'UnicodeWarning': UnicodeWarning,\n",
       "   'BytesWarning': BytesWarning,\n",
       "   'ResourceWarning': ResourceWarning,\n",
       "   'ConnectionError': ConnectionError,\n",
       "   'BlockingIOError': BlockingIOError,\n",
       "   'BrokenPipeError': BrokenPipeError,\n",
       "   'ChildProcessError': ChildProcessError,\n",
       "   'ConnectionAbortedError': ConnectionAbortedError,\n",
       "   'ConnectionRefusedError': ConnectionRefusedError,\n",
       "   'ConnectionResetError': ConnectionResetError,\n",
       "   'FileExistsError': FileExistsError,\n",
       "   'FileNotFoundError': FileNotFoundError,\n",
       "   'IsADirectoryError': IsADirectoryError,\n",
       "   'NotADirectoryError': NotADirectoryError,\n",
       "   'InterruptedError': InterruptedError,\n",
       "   'PermissionError': PermissionError,\n",
       "   'ProcessLookupError': ProcessLookupError,\n",
       "   'TimeoutError': TimeoutError,\n",
       "   'open': <function io.open(file, mode='r', buffering=-1, encoding=None, errors=None, newline=None, closefd=True, opener=None)>,\n",
       "   'copyright': Copyright (c) 2001-2022 Python Software Foundation.\n",
       "   All Rights Reserved.\n",
       "   \n",
       "   Copyright (c) 2000 BeOpen.com.\n",
       "   All Rights Reserved.\n",
       "   \n",
       "   Copyright (c) 1995-2001 Corporation for National Research Initiatives.\n",
       "   All Rights Reserved.\n",
       "   \n",
       "   Copyright (c) 1991-1995 Stichting Mathematisch Centrum, Amsterdam.\n",
       "   All Rights Reserved.,\n",
       "   'credits':     Thanks to CWI, CNRI, BeOpen.com, Zope Corporation and a cast of thousands\n",
       "       for supporting Python development.  See www.python.org for more information.,\n",
       "   'license': Type license() to see the full license text,\n",
       "   'help': Type help() for interactive help, or help(object) for help about object.,\n",
       "   'execfile': <function _pydev_bundle._pydev_execfile.execfile(file, glob=None, loc=None)>,\n",
       "   'runfile': <function _pydev_bundle.pydev_umd.runfile(filename, args=None, wdir=None, namespace=None)>,\n",
       "   '__IPYTHON__': True,\n",
       "   'display': <function IPython.core.display_functions.display(*objs, include=None, exclude=None, metadata=None, transient=None, display_id=None, raw=False, clear=False, **kwargs)>,\n",
       "   '__pybind11_internals_v4_gcc_libstdcpp_cxxabi1011__': <capsule object NULL at 0x7f5c205456c0>,\n",
       "   '__pybind11_internals_v4_gcc_libstdcpp_cxxabi1013__': <capsule object NULL at 0x7f5b5887e930>,\n",
       "   '__pybind11_internals_v4_gcc_libstdcpp_cxxabi1014__': <capsule object NULL at 0x7f5b4a346ba0>,\n",
       "   'get_ipython': <bound method InteractiveShell.get_ipython of <ipykernel.zmqshell.ZMQInteractiveShell object at 0x7f5c207c72b0>>}),\n",
       " ('__cached__',\n",
       "  '/home/kpintaric/lumen-irmas/lumen_irmas/modeling/__pycache__/loss.cpython-39.pyc'),\n",
       " ('__doc__', None),\n",
       " ('__file__', '/home/kpintaric/lumen-irmas/lumen_irmas/modeling/loss.py'),\n",
       " ('__loader__',\n",
       "  <_frozen_importlib_external.SourceFileLoader at 0x7f5b58d3c520>),\n",
       " ('__name__', 'lumen_irmas.modeling.loss'),\n",
       " ('__package__', 'lumen_irmas.modeling'),\n",
       " ('__spec__',\n",
       "  ModuleSpec(name='lumen_irmas.modeling.loss', loader=<_frozen_importlib_external.SourceFileLoader object at 0x7f5b58d3c520>, origin='/home/kpintaric/lumen-irmas/lumen_irmas/modeling/loss.py')),\n",
       " ('nn',\n",
       "  <module 'torch.nn' from '/home/kpintaric/lumen-irmas/venv/lib/python3.9/site-packages/torch/nn/__init__.py'>),\n",
       " ('np',\n",
       "  <module 'numpy' from '/home/kpintaric/lumen-irmas/venv/lib/python3.9/site-packages/numpy/__init__.py'>),\n",
       " ('partial', functools.partial),\n",
       " ('sigmoid_focal_loss',\n",
       "  <function torchvision.ops.focal_loss.sigmoid_focal_loss(inputs: torch.Tensor, targets: torch.Tensor, alpha: float = 0.25, gamma: float = 2, reduction: str = 'none') -> torch.Tensor>),\n",
       " ('torch',\n",
       "  <module 'torch' from '/home/kpintaric/lumen-irmas/venv/lib/python3.9/site-packages/torch/__init__.py'>)]"
      ]
     },
     "execution_count": 37,
     "metadata": {},
     "output_type": "execute_result"
    }
   ],
   "source": [
    "inspect.getmembers(loss_module)"
   ]
  },
  {
   "cell_type": "code",
   "execution_count": 33,
   "metadata": {},
   "outputs": [
    {
     "data": {
      "text/plain": [
       "{'preprocess': ['must be of transform type']}"
      ]
     },
     "execution_count": 33,
     "metadata": {},
     "output_type": "execute_result"
    }
   ],
   "source": [
    "v.validate(config)\n",
    "v.errors"
   ]
  },
  {
   "cell_type": "code",
   "execution_count": 66,
   "metadata": {},
   "outputs": [],
   "source": [
    "schema = {\n",
    "    'signal_augments': {\n",
    "        'type': 'dict',\n",
    "        'valuesrules': {'custom': transform_type}\n",
    "    }\n",
    "}"
   ]
  },
  {
   "cell_type": "code",
   "execution_count": 67,
   "metadata": {},
   "outputs": [],
   "source": [
    "config = {\n",
    "    'signal_augments': {\n",
    "        ParentMultilabel: \"-\"\n",
    "    }\n",
    "}"
   ]
  },
  {
   "cell_type": "code",
   "execution_count": 69,
   "metadata": {},
   "outputs": [
    {
     "ename": "SchemaError",
     "evalue": "{'signal_augments': [{'valuesrules': [{'custom': ['unknown rule']}]}]}",
     "output_type": "error",
     "traceback": [
      "\u001b[0;31m---------------------------------------------------------------------------\u001b[0m",
      "\u001b[0;31mSchemaError\u001b[0m                               Traceback (most recent call last)",
      "Cell \u001b[0;32mIn[69], line 1\u001b[0m\n\u001b[0;32m----> 1\u001b[0m validator \u001b[39m=\u001b[39m ConfigValidator(schema)\n\u001b[1;32m      2\u001b[0m is_valid \u001b[39m=\u001b[39m validator\u001b[39m.\u001b[39mvalidate(config)\n\u001b[1;32m      3\u001b[0m validator\u001b[39m.\u001b[39merrors\n",
      "File \u001b[0;32m~/lumen-irmas/venv/lib/python3.9/site-packages/cerberus/validator.py:193\u001b[0m, in \u001b[0;36mBareValidator.__init__\u001b[0;34m(self, *args, **kwargs)\u001b[0m\n\u001b[1;32m    188\u001b[0m \u001b[39m\u001b[39m\u001b[39m\"\"\" The error handler used to format :attr:`~cerberus.Validator.errors`\u001b[39;00m\n\u001b[1;32m    189\u001b[0m \u001b[39m    and process submitted errors with\u001b[39;00m\n\u001b[1;32m    190\u001b[0m \u001b[39m    :meth:`~cerberus.Validator._error`.\u001b[39;00m\n\u001b[1;32m    191\u001b[0m \u001b[39m    Type: :class:`~cerberus.errors.BaseErrorHandler` \"\"\"\u001b[39;00m\n\u001b[1;32m    192\u001b[0m \u001b[39mself\u001b[39m\u001b[39m.\u001b[39m__store_config(args, kwargs)\n\u001b[0;32m--> 193\u001b[0m \u001b[39mself\u001b[39;49m\u001b[39m.\u001b[39;49mschema \u001b[39m=\u001b[39m kwargs\u001b[39m.\u001b[39mget(\u001b[39m'\u001b[39m\u001b[39mschema\u001b[39m\u001b[39m'\u001b[39m, \u001b[39mNone\u001b[39;00m)\n\u001b[1;32m    194\u001b[0m \u001b[39mself\u001b[39m\u001b[39m.\u001b[39mallow_unknown \u001b[39m=\u001b[39m kwargs\u001b[39m.\u001b[39mget(\u001b[39m'\u001b[39m\u001b[39mallow_unknown\u001b[39m\u001b[39m'\u001b[39m, \u001b[39mFalse\u001b[39;00m)\n\u001b[1;32m    195\u001b[0m \u001b[39mself\u001b[39m\u001b[39m.\u001b[39mrequire_all \u001b[39m=\u001b[39m kwargs\u001b[39m.\u001b[39mget(\u001b[39m'\u001b[39m\u001b[39mrequire_all\u001b[39m\u001b[39m'\u001b[39m, \u001b[39mFalse\u001b[39;00m)\n",
      "File \u001b[0;32m~/lumen-irmas/venv/lib/python3.9/site-packages/cerberus/validator.py:604\u001b[0m, in \u001b[0;36mBareValidator.schema\u001b[0;34m(self, schema)\u001b[0m\n\u001b[1;32m    602\u001b[0m     \u001b[39mself\u001b[39m\u001b[39m.\u001b[39m_schema \u001b[39m=\u001b[39m schema\n\u001b[1;32m    603\u001b[0m \u001b[39melse\u001b[39;00m:\n\u001b[0;32m--> 604\u001b[0m     \u001b[39mself\u001b[39m\u001b[39m.\u001b[39m_schema \u001b[39m=\u001b[39m DefinitionSchema(\u001b[39mself\u001b[39;49m, schema)\n",
      "File \u001b[0;32m~/lumen-irmas/venv/lib/python3.9/site-packages/cerberus/schema.py:82\u001b[0m, in \u001b[0;36mDefinitionSchema.__init__\u001b[0;34m(self, validator, schema)\u001b[0m\n\u001b[1;32m     73\u001b[0m \u001b[39mself\u001b[39m\u001b[39m.\u001b[39mschema_validator \u001b[39m=\u001b[39m SchemaValidator(\n\u001b[1;32m     74\u001b[0m     \u001b[39mNone\u001b[39;00m,\n\u001b[1;32m     75\u001b[0m     allow_unknown\u001b[39m=\u001b[39m\u001b[39mself\u001b[39m\u001b[39m.\u001b[39mvalidation_schema,\n\u001b[0;32m   (...)\u001b[0m\n\u001b[1;32m     78\u001b[0m     target_validator\u001b[39m=\u001b[39mvalidator,\n\u001b[1;32m     79\u001b[0m )\n\u001b[1;32m     81\u001b[0m schema \u001b[39m=\u001b[39m \u001b[39mself\u001b[39m\u001b[39m.\u001b[39mexpand(schema)\n\u001b[0;32m---> 82\u001b[0m \u001b[39mself\u001b[39;49m\u001b[39m.\u001b[39;49mvalidate(schema)\n\u001b[1;32m     83\u001b[0m \u001b[39mself\u001b[39m\u001b[39m.\u001b[39mschema \u001b[39m=\u001b[39m schema\n",
      "File \u001b[0;32m~/lumen-irmas/venv/lib/python3.9/site-packages/cerberus/schema.py:267\u001b[0m, in \u001b[0;36mDefinitionSchema.validate\u001b[0;34m(self, schema)\u001b[0m\n\u001b[1;32m    265\u001b[0m _hash \u001b[39m=\u001b[39m (mapping_hash(schema), mapping_hash(\u001b[39mself\u001b[39m\u001b[39m.\u001b[39mvalidator\u001b[39m.\u001b[39mtypes_mapping))\n\u001b[1;32m    266\u001b[0m \u001b[39mif\u001b[39;00m _hash \u001b[39mnot\u001b[39;00m \u001b[39min\u001b[39;00m \u001b[39mself\u001b[39m\u001b[39m.\u001b[39mvalidator\u001b[39m.\u001b[39m_valid_schemas:\n\u001b[0;32m--> 267\u001b[0m     \u001b[39mself\u001b[39;49m\u001b[39m.\u001b[39;49m_validate(schema)\n\u001b[1;32m    268\u001b[0m     \u001b[39mself\u001b[39m\u001b[39m.\u001b[39mvalidator\u001b[39m.\u001b[39m_valid_schemas\u001b[39m.\u001b[39madd(_hash)\n",
      "File \u001b[0;32m~/lumen-irmas/venv/lib/python3.9/site-packages/cerberus/schema.py:285\u001b[0m, in \u001b[0;36mDefinitionSchema._validate\u001b[0;34m(self, schema)\u001b[0m\n\u001b[1;32m    282\u001b[0m         test_schema[field] \u001b[39m=\u001b[39m test_rules\n\u001b[1;32m    284\u001b[0m \u001b[39mif\u001b[39;00m \u001b[39mnot\u001b[39;00m \u001b[39mself\u001b[39m\u001b[39m.\u001b[39mschema_validator(test_schema, normalize\u001b[39m=\u001b[39m\u001b[39mFalse\u001b[39;00m):\n\u001b[0;32m--> 285\u001b[0m     \u001b[39mraise\u001b[39;00m SchemaError(\u001b[39mself\u001b[39m\u001b[39m.\u001b[39mschema_validator\u001b[39m.\u001b[39merrors)\n",
      "\u001b[0;31mSchemaError\u001b[0m: {'signal_augments': [{'valuesrules': [{'custom': ['unknown rule']}]}]}"
     ]
    }
   ],
   "source": [
    "validator = ConfigValidator(schema)\n",
    "is_valid = validator.validate(config)\n",
    "validator.errors"
   ]
  },
  {
   "cell_type": "code",
   "execution_count": 68,
   "metadata": {},
   "outputs": [],
   "source": [
    "def transform_type(field, value, error):\n",
    "    if not isinstance(value, Transform):\n",
    "        error(field, \"Value must be greater than 1.\")\n",
    "    return "
   ]
  },
  {
   "cell_type": "code",
   "execution_count": 63,
   "metadata": {},
   "outputs": [
    {
     "ename": "AttributeError",
     "evalue": "'TransformType' object has no attribute 'included_types'",
     "output_type": "error",
     "traceback": [
      "\u001b[0;31m---------------------------------------------------------------------------\u001b[0m",
      "\u001b[0;31mAttributeError\u001b[0m                            Traceback (most recent call last)",
      "Cell \u001b[0;32mIn[63], line 1\u001b[0m\n\u001b[0;32m----> 1\u001b[0m v\u001b[39m.\u001b[39;49mvalidate(config, schema)\n",
      "File \u001b[0;32m~/lumen-irmas/venv/lib/python3.9/site-packages/cerberus/validator.py:1050\u001b[0m, in \u001b[0;36mBareValidator.validate\u001b[0;34m(self, document, schema, update, normalize)\u001b[0m\n\u001b[1;32m   1048\u001b[0m definitions \u001b[39m=\u001b[39m \u001b[39mself\u001b[39m\u001b[39m.\u001b[39mschema\u001b[39m.\u001b[39mget(field)\n\u001b[1;32m   1049\u001b[0m \u001b[39mif\u001b[39;00m definitions \u001b[39mis\u001b[39;00m \u001b[39mnot\u001b[39;00m \u001b[39mNone\u001b[39;00m:\n\u001b[0;32m-> 1050\u001b[0m     \u001b[39mself\u001b[39;49m\u001b[39m.\u001b[39;49m__validate_definitions(definitions, field)\n\u001b[1;32m   1051\u001b[0m \u001b[39melse\u001b[39;00m:\n\u001b[1;32m   1052\u001b[0m     \u001b[39mself\u001b[39m\u001b[39m.\u001b[39m__validate_unknown_fields(field)\n",
      "File \u001b[0;32m~/lumen-irmas/venv/lib/python3.9/site-packages/cerberus/validator.py:1120\u001b[0m, in \u001b[0;36mBareValidator.__validate_definitions\u001b[0;34m(self, definitions, field)\u001b[0m\n\u001b[1;32m   1118\u001b[0m rule \u001b[39m=\u001b[39m \u001b[39mself\u001b[39m\u001b[39m.\u001b[39m_remaining_rules\u001b[39m.\u001b[39mpop(\u001b[39m0\u001b[39m)\n\u001b[1;32m   1119\u001b[0m \u001b[39mtry\u001b[39;00m:\n\u001b[0;32m-> 1120\u001b[0m     result \u001b[39m=\u001b[39m validate_rule(rule)\n\u001b[1;32m   1121\u001b[0m     \u001b[39m# TODO remove on next breaking release\u001b[39;00m\n\u001b[1;32m   1122\u001b[0m     \u001b[39mif\u001b[39;00m result:\n",
      "File \u001b[0;32m~/lumen-irmas/venv/lib/python3.9/site-packages/cerberus/validator.py:1095\u001b[0m, in \u001b[0;36mBareValidator.__validate_definitions.<locals>.validate_rule\u001b[0;34m(rule)\u001b[0m\n\u001b[1;32m   1093\u001b[0m \u001b[39mdef\u001b[39;00m \u001b[39mvalidate_rule\u001b[39m(rule):\n\u001b[1;32m   1094\u001b[0m     validator \u001b[39m=\u001b[39m \u001b[39mself\u001b[39m\u001b[39m.\u001b[39m__get_rule_handler(\u001b[39m'\u001b[39m\u001b[39mvalidate\u001b[39m\u001b[39m'\u001b[39m, rule)\n\u001b[0;32m-> 1095\u001b[0m     \u001b[39mreturn\u001b[39;00m validator(definitions\u001b[39m.\u001b[39;49mget(rule, \u001b[39mNone\u001b[39;49;00m), field, value)\n",
      "File \u001b[0;32m~/lumen-irmas/venv/lib/python3.9/site-packages/cerberus/validator.py:1583\u001b[0m, in \u001b[0;36mBareValidator._validate_valuesrules\u001b[0;34m(self, schema, field, value)\u001b[0m\n\u001b[1;32m   1577\u001b[0m \u001b[39mif\u001b[39;00m \u001b[39misinstance\u001b[39m(value, Mapping):\n\u001b[1;32m   1578\u001b[0m     validator \u001b[39m=\u001b[39m \u001b[39mself\u001b[39m\u001b[39m.\u001b[39m_get_child_validator(\n\u001b[1;32m   1579\u001b[0m         document_crumb\u001b[39m=\u001b[39mfield,\n\u001b[1;32m   1580\u001b[0m         schema_crumb\u001b[39m=\u001b[39mschema_crumb,\n\u001b[1;32m   1581\u001b[0m         schema\u001b[39m=\u001b[39m\u001b[39mdict\u001b[39m((k, schema) \u001b[39mfor\u001b[39;00m k \u001b[39min\u001b[39;00m value),\n\u001b[1;32m   1582\u001b[0m     )\n\u001b[0;32m-> 1583\u001b[0m     validator(value, update\u001b[39m=\u001b[39;49m\u001b[39mself\u001b[39;49m\u001b[39m.\u001b[39;49mupdate, normalize\u001b[39m=\u001b[39;49m\u001b[39mFalse\u001b[39;49;00m)\n\u001b[1;32m   1584\u001b[0m     \u001b[39mif\u001b[39;00m validator\u001b[39m.\u001b[39m_errors:\n\u001b[1;32m   1585\u001b[0m         \u001b[39mself\u001b[39m\u001b[39m.\u001b[39m_drop_nodes_from_errorpaths(validator\u001b[39m.\u001b[39m_errors, [], [\u001b[39m2\u001b[39m])\n",
      "File \u001b[0;32m~/lumen-irmas/venv/lib/python3.9/site-packages/cerberus/validator.py:1050\u001b[0m, in \u001b[0;36mBareValidator.validate\u001b[0;34m(self, document, schema, update, normalize)\u001b[0m\n\u001b[1;32m   1048\u001b[0m definitions \u001b[39m=\u001b[39m \u001b[39mself\u001b[39m\u001b[39m.\u001b[39mschema\u001b[39m.\u001b[39mget(field)\n\u001b[1;32m   1049\u001b[0m \u001b[39mif\u001b[39;00m definitions \u001b[39mis\u001b[39;00m \u001b[39mnot\u001b[39;00m \u001b[39mNone\u001b[39;00m:\n\u001b[0;32m-> 1050\u001b[0m     \u001b[39mself\u001b[39;49m\u001b[39m.\u001b[39;49m__validate_definitions(definitions, field)\n\u001b[1;32m   1051\u001b[0m \u001b[39melse\u001b[39;00m:\n\u001b[1;32m   1052\u001b[0m     \u001b[39mself\u001b[39m\u001b[39m.\u001b[39m__validate_unknown_fields(field)\n",
      "File \u001b[0;32m~/lumen-irmas/venv/lib/python3.9/site-packages/cerberus/validator.py:1120\u001b[0m, in \u001b[0;36mBareValidator.__validate_definitions\u001b[0;34m(self, definitions, field)\u001b[0m\n\u001b[1;32m   1118\u001b[0m rule \u001b[39m=\u001b[39m \u001b[39mself\u001b[39m\u001b[39m.\u001b[39m_remaining_rules\u001b[39m.\u001b[39mpop(\u001b[39m0\u001b[39m)\n\u001b[1;32m   1119\u001b[0m \u001b[39mtry\u001b[39;00m:\n\u001b[0;32m-> 1120\u001b[0m     result \u001b[39m=\u001b[39m validate_rule(rule)\n\u001b[1;32m   1121\u001b[0m     \u001b[39m# TODO remove on next breaking release\u001b[39;00m\n\u001b[1;32m   1122\u001b[0m     \u001b[39mif\u001b[39;00m result:\n",
      "File \u001b[0;32m~/lumen-irmas/venv/lib/python3.9/site-packages/cerberus/validator.py:1095\u001b[0m, in \u001b[0;36mBareValidator.__validate_definitions.<locals>.validate_rule\u001b[0;34m(rule)\u001b[0m\n\u001b[1;32m   1093\u001b[0m \u001b[39mdef\u001b[39;00m \u001b[39mvalidate_rule\u001b[39m(rule):\n\u001b[1;32m   1094\u001b[0m     validator \u001b[39m=\u001b[39m \u001b[39mself\u001b[39m\u001b[39m.\u001b[39m__get_rule_handler(\u001b[39m'\u001b[39m\u001b[39mvalidate\u001b[39m\u001b[39m'\u001b[39m, rule)\n\u001b[0;32m-> 1095\u001b[0m     \u001b[39mreturn\u001b[39;00m validator(definitions\u001b[39m.\u001b[39;49mget(rule, \u001b[39mNone\u001b[39;49;00m), field, value)\n",
      "File \u001b[0;32m~/lumen-irmas/venv/lib/python3.9/site-packages/cerberus/validator.py:1552\u001b[0m, in \u001b[0;36mBareValidator._validate_type\u001b[0;34m(self, data_type, field, value)\u001b[0m\n\u001b[1;32m   1549\u001b[0m type_definition \u001b[39m=\u001b[39m \u001b[39mself\u001b[39m\u001b[39m.\u001b[39mtypes_mapping\u001b[39m.\u001b[39mget(_type)\n\u001b[1;32m   1550\u001b[0m \u001b[39mif\u001b[39;00m type_definition \u001b[39mis\u001b[39;00m \u001b[39mnot\u001b[39;00m \u001b[39mNone\u001b[39;00m:\n\u001b[1;32m   1551\u001b[0m     matched \u001b[39m=\u001b[39m \u001b[39misinstance\u001b[39m(\n\u001b[0;32m-> 1552\u001b[0m         value, type_definition\u001b[39m.\u001b[39;49mincluded_types\n\u001b[1;32m   1553\u001b[0m     ) \u001b[39mand\u001b[39;00m \u001b[39mnot\u001b[39;00m \u001b[39misinstance\u001b[39m(value, type_definition\u001b[39m.\u001b[39mexcluded_types)\n\u001b[1;32m   1554\u001b[0m \u001b[39melse\u001b[39;00m:\n\u001b[1;32m   1555\u001b[0m     type_handler \u001b[39m=\u001b[39m \u001b[39mself\u001b[39m\u001b[39m.\u001b[39m__get_rule_handler(\u001b[39m'\u001b[39m\u001b[39mvalidate_type\u001b[39m\u001b[39m'\u001b[39m, _type)\n",
      "\u001b[0;31mAttributeError\u001b[0m: 'TransformType' object has no attribute 'included_types'"
     ]
    }
   ],
   "source": [
    "v.validate(config, schema)"
   ]
  },
  {
   "cell_type": "code",
   "execution_count": null,
   "metadata": {},
   "outputs": [],
   "source": []
  }
 ],
 "metadata": {
  "kernelspec": {
   "display_name": "Python 3",
   "language": "python",
   "name": "python3"
  },
  "language_info": {
   "codemirror_mode": {
    "name": "ipython",
    "version": 3
   },
   "file_extension": ".py",
   "mimetype": "text/x-python",
   "name": "python",
   "nbconvert_exporter": "python",
   "pygments_lexer": "ipython3",
   "version": "3.9.16"
  },
  "orig_nbformat": 4
 },
 "nbformat": 4,
 "nbformat_minor": 2
}
