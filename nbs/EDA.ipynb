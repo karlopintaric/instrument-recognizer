{
 "cells": [
  {
   "cell_type": "code",
   "execution_count": 48,
   "metadata": {},
   "outputs": [],
   "source": [
    "import matplotlib.pyplot as plt\n",
    "import seaborn as sns\n",
    "import pandas as pd\n",
    "plt.style.use('ggplot')\n",
    "pd.set_option('display.precision', 2)"
   ]
  },
  {
   "cell_type": "code",
   "execution_count": 17,
   "metadata": {},
   "outputs": [],
   "source": [
    "from lumen_irmas.utils import load_raw_file, get_wav_files, get_file_info"
   ]
  },
  {
   "attachments": {},
   "cell_type": "markdown",
   "metadata": {},
   "source": [
    "### Training Data"
   ]
  },
  {
   "cell_type": "code",
   "execution_count": 18,
   "metadata": {},
   "outputs": [
    {
     "data": {
      "text/plain": [
       "6705"
      ]
     },
     "execution_count": 18,
     "metadata": {},
     "output_type": "execute_result"
    }
   ],
   "source": [
    "files = get_wav_files(\"../data/raw/IRMAS_Training_Data/\")\n",
    "len(files)"
   ]
  },
  {
   "cell_type": "code",
   "execution_count": 19,
   "metadata": {},
   "outputs": [],
   "source": [
    "sample = files[0]\n",
    "sample_info = get_file_info(sample, extract_music_features=True)"
   ]
  },
  {
   "cell_type": "code",
   "execution_count": 20,
   "metadata": {},
   "outputs": [
    {
     "name": "stdout",
     "output_type": "stream",
     "text": [
      "path: ../data/raw/IRMAS_Training_Data/sax/122__[sax][nod][cla]1670__3.wav\n",
      "pitch: 5.180769679220701\n",
      "bpm: 77.1338619402985\n",
      "onset: 0.034829931972789115\n",
      "sample_rate: 44100\n",
      "duration: 2.9999773242630385\n",
      "channels: 2\n"
     ]
    }
   ],
   "source": [
    "for k,v in sample_info.items():\n",
    "    print(f\"{k}: {v}\")"
   ]
  },
  {
   "cell_type": "code",
   "execution_count": 49,
   "metadata": {},
   "outputs": [
    {
     "data": {
      "text/html": [
       "<div>\n",
       "<style scoped>\n",
       "    .dataframe tbody tr th:only-of-type {\n",
       "        vertical-align: middle;\n",
       "    }\n",
       "\n",
       "    .dataframe tbody tr th {\n",
       "        vertical-align: top;\n",
       "    }\n",
       "\n",
       "    .dataframe thead th {\n",
       "        text-align: right;\n",
       "    }\n",
       "</style>\n",
       "<table border=\"1\" class=\"dataframe\">\n",
       "  <thead>\n",
       "    <tr style=\"text-align: right;\">\n",
       "      <th></th>\n",
       "      <th>path</th>\n",
       "      <th>pitch</th>\n",
       "      <th>bpm</th>\n",
       "      <th>onset</th>\n",
       "      <th>sample_rate</th>\n",
       "      <th>duration</th>\n",
       "      <th>channels</th>\n",
       "      <th>fname</th>\n",
       "      <th>song_name</th>\n",
       "      <th>inst</th>\n",
       "      <th>label_count</th>\n",
       "    </tr>\n",
       "  </thead>\n",
       "  <tbody>\n",
       "    <tr>\n",
       "      <th>0</th>\n",
       "      <td>../data/raw/IRMAS_Training_Data//tru/[tru][cla...</td>\n",
       "      <td>6.43</td>\n",
       "      <td>60.09</td>\n",
       "      <td>0.03</td>\n",
       "      <td>44100</td>\n",
       "      <td>3.0</td>\n",
       "      <td>2</td>\n",
       "      <td>[tru][cla]1954__1</td>\n",
       "      <td>[tru][cla]1954</td>\n",
       "      <td>tru</td>\n",
       "      <td>1</td>\n",
       "    </tr>\n",
       "    <tr>\n",
       "      <th>1</th>\n",
       "      <td>../data/raw/IRMAS_Training_Data//tru/[tru][jaz...</td>\n",
       "      <td>6.44</td>\n",
       "      <td>191.41</td>\n",
       "      <td>0.03</td>\n",
       "      <td>44100</td>\n",
       "      <td>3.0</td>\n",
       "      <td>2</td>\n",
       "      <td>[tru][jaz_blu]1884__1</td>\n",
       "      <td>[tru][jaz_blu]1884</td>\n",
       "      <td>tru</td>\n",
       "      <td>1</td>\n",
       "    </tr>\n",
       "    <tr>\n",
       "      <th>2</th>\n",
       "      <td>../data/raw/IRMAS_Training_Data//tru/[tru][pop...</td>\n",
       "      <td>4.26</td>\n",
       "      <td>147.66</td>\n",
       "      <td>0.03</td>\n",
       "      <td>44100</td>\n",
       "      <td>3.0</td>\n",
       "      <td>2</td>\n",
       "      <td>[tru][pop_roc]2040__2</td>\n",
       "      <td>[tru][pop_roc]2040</td>\n",
       "      <td>tru</td>\n",
       "      <td>1</td>\n",
       "    </tr>\n",
       "    <tr>\n",
       "      <th>3</th>\n",
       "      <td>../data/raw/IRMAS_Training_Data//tru/[tru][cla...</td>\n",
       "      <td>6.17</td>\n",
       "      <td>105.47</td>\n",
       "      <td>0.03</td>\n",
       "      <td>44100</td>\n",
       "      <td>3.0</td>\n",
       "      <td>2</td>\n",
       "      <td>[tru][cla]2014__2</td>\n",
       "      <td>[tru][cla]2014</td>\n",
       "      <td>tru</td>\n",
       "      <td>1</td>\n",
       "    </tr>\n",
       "    <tr>\n",
       "      <th>4</th>\n",
       "      <td>../data/raw/IRMAS_Training_Data//tru/[tru][pop...</td>\n",
       "      <td>4.57</td>\n",
       "      <td>77.13</td>\n",
       "      <td>0.03</td>\n",
       "      <td>44100</td>\n",
       "      <td>3.0</td>\n",
       "      <td>2</td>\n",
       "      <td>[tru][pop_roc]2066__1</td>\n",
       "      <td>[tru][pop_roc]2066</td>\n",
       "      <td>tru</td>\n",
       "      <td>1</td>\n",
       "    </tr>\n",
       "  </tbody>\n",
       "</table>\n",
       "</div>"
      ],
      "text/plain": [
       "                                                path  pitch     bpm  onset  \\\n",
       "0  ../data/raw/IRMAS_Training_Data//tru/[tru][cla...   6.43   60.09   0.03   \n",
       "1  ../data/raw/IRMAS_Training_Data//tru/[tru][jaz...   6.44  191.41   0.03   \n",
       "2  ../data/raw/IRMAS_Training_Data//tru/[tru][pop...   4.26  147.66   0.03   \n",
       "3  ../data/raw/IRMAS_Training_Data//tru/[tru][cla...   6.17  105.47   0.03   \n",
       "4  ../data/raw/IRMAS_Training_Data//tru/[tru][pop...   4.57   77.13   0.03   \n",
       "\n",
       "   sample_rate  duration  channels                  fname           song_name  \\\n",
       "0        44100       3.0         2      [tru][cla]1954__1      [tru][cla]1954   \n",
       "1        44100       3.0         2  [tru][jaz_blu]1884__1  [tru][jaz_blu]1884   \n",
       "2        44100       3.0         2  [tru][pop_roc]2040__2  [tru][pop_roc]2040   \n",
       "3        44100       3.0         2      [tru][cla]2014__2      [tru][cla]2014   \n",
       "4        44100       3.0         2  [tru][pop_roc]2066__1  [tru][pop_roc]2066   \n",
       "\n",
       "  inst  label_count  \n",
       "0  tru            1  \n",
       "1  tru            1  \n",
       "2  tru            1  \n",
       "3  tru            1  \n",
       "4  tru            1  "
      ]
     },
     "execution_count": 49,
     "metadata": {},
     "output_type": "execute_result"
    }
   ],
   "source": [
    "metadata = pd.read_csv(\"../data/metadata_train.csv\")\n",
    "metadata.head()"
   ]
  },
  {
   "cell_type": "code",
   "execution_count": 56,
   "metadata": {},
   "outputs": [
    {
     "data": {
      "text/html": [
       "<div>\n",
       "<style scoped>\n",
       "    .dataframe tbody tr th:only-of-type {\n",
       "        vertical-align: middle;\n",
       "    }\n",
       "\n",
       "    .dataframe tbody tr th {\n",
       "        vertical-align: top;\n",
       "    }\n",
       "\n",
       "    .dataframe thead th {\n",
       "        text-align: right;\n",
       "    }\n",
       "</style>\n",
       "<table border=\"1\" class=\"dataframe\">\n",
       "  <thead>\n",
       "    <tr style=\"text-align: right;\">\n",
       "      <th></th>\n",
       "      <th>pitch</th>\n",
       "      <th>bpm</th>\n",
       "      <th>onset</th>\n",
       "      <th>sample_rate</th>\n",
       "      <th>duration</th>\n",
       "      <th>channels</th>\n",
       "      <th>label_count</th>\n",
       "    </tr>\n",
       "  </thead>\n",
       "  <tbody>\n",
       "    <tr>\n",
       "      <th>count</th>\n",
       "      <td>6651.00</td>\n",
       "      <td>6691.00</td>\n",
       "      <td>6705.00</td>\n",
       "      <td>6705.0</td>\n",
       "      <td>6.70e+03</td>\n",
       "      <td>6705.0</td>\n",
       "      <td>6705.0</td>\n",
       "    </tr>\n",
       "    <tr>\n",
       "      <th>mean</th>\n",
       "      <td>4.94</td>\n",
       "      <td>125.03</td>\n",
       "      <td>0.06</td>\n",
       "      <td>44100.0</td>\n",
       "      <td>3.00e+00</td>\n",
       "      <td>2.0</td>\n",
       "      <td>1.0</td>\n",
       "    </tr>\n",
       "    <tr>\n",
       "      <th>std</th>\n",
       "      <td>0.65</td>\n",
       "      <td>35.88</td>\n",
       "      <td>0.09</td>\n",
       "      <td>0.0</td>\n",
       "      <td>4.44e-16</td>\n",
       "      <td>0.0</td>\n",
       "      <td>0.0</td>\n",
       "    </tr>\n",
       "    <tr>\n",
       "      <th>min</th>\n",
       "      <td>4.18</td>\n",
       "      <td>24.15</td>\n",
       "      <td>0.03</td>\n",
       "      <td>44100.0</td>\n",
       "      <td>3.00e+00</td>\n",
       "      <td>2.0</td>\n",
       "      <td>1.0</td>\n",
       "    </tr>\n",
       "    <tr>\n",
       "      <th>25%</th>\n",
       "      <td>4.46</td>\n",
       "      <td>99.38</td>\n",
       "      <td>0.03</td>\n",
       "      <td>44100.0</td>\n",
       "      <td>3.00e+00</td>\n",
       "      <td>2.0</td>\n",
       "      <td>1.0</td>\n",
       "    </tr>\n",
       "    <tr>\n",
       "      <th>50%</th>\n",
       "      <td>4.70</td>\n",
       "      <td>120.19</td>\n",
       "      <td>0.03</td>\n",
       "      <td>44100.0</td>\n",
       "      <td>3.00e+00</td>\n",
       "      <td>2.0</td>\n",
       "      <td>1.0</td>\n",
       "    </tr>\n",
       "    <tr>\n",
       "      <th>75%</th>\n",
       "      <td>5.30</td>\n",
       "      <td>143.55</td>\n",
       "      <td>0.06</td>\n",
       "      <td>44100.0</td>\n",
       "      <td>3.00e+00</td>\n",
       "      <td>2.0</td>\n",
       "      <td>1.0</td>\n",
       "    </tr>\n",
       "    <tr>\n",
       "      <th>max</th>\n",
       "      <td>7.56</td>\n",
       "      <td>304.00</td>\n",
       "      <td>2.37</td>\n",
       "      <td>44100.0</td>\n",
       "      <td>3.00e+00</td>\n",
       "      <td>2.0</td>\n",
       "      <td>1.0</td>\n",
       "    </tr>\n",
       "  </tbody>\n",
       "</table>\n",
       "</div>"
      ],
      "text/plain": [
       "         pitch      bpm    onset  sample_rate  duration  channels  label_count\n",
       "count  6651.00  6691.00  6705.00       6705.0  6.70e+03    6705.0       6705.0\n",
       "mean      4.94   125.03     0.06      44100.0  3.00e+00       2.0          1.0\n",
       "std       0.65    35.88     0.09          0.0  4.44e-16       0.0          0.0\n",
       "min       4.18    24.15     0.03      44100.0  3.00e+00       2.0          1.0\n",
       "25%       4.46    99.38     0.03      44100.0  3.00e+00       2.0          1.0\n",
       "50%       4.70   120.19     0.03      44100.0  3.00e+00       2.0          1.0\n",
       "75%       5.30   143.55     0.06      44100.0  3.00e+00       2.0          1.0\n",
       "max       7.56   304.00     2.37      44100.0  3.00e+00       2.0          1.0"
      ]
     },
     "execution_count": 56,
     "metadata": {},
     "output_type": "execute_result"
    }
   ],
   "source": [
    "metadata.describe()"
   ]
  },
  {
   "cell_type": "code",
   "execution_count": 27,
   "metadata": {},
   "outputs": [
    {
     "data": {
      "text/html": [
       "<div>\n",
       "<style scoped>\n",
       "    .dataframe tbody tr th:only-of-type {\n",
       "        vertical-align: middle;\n",
       "    }\n",
       "\n",
       "    .dataframe tbody tr th {\n",
       "        vertical-align: top;\n",
       "    }\n",
       "\n",
       "    .dataframe thead th {\n",
       "        text-align: right;\n",
       "    }\n",
       "</style>\n",
       "<table border=\"1\" class=\"dataframe\">\n",
       "  <thead>\n",
       "    <tr style=\"text-align: right;\">\n",
       "      <th></th>\n",
       "      <th>path</th>\n",
       "      <th>fname</th>\n",
       "      <th>song_name</th>\n",
       "      <th>inst</th>\n",
       "    </tr>\n",
       "  </thead>\n",
       "  <tbody>\n",
       "    <tr>\n",
       "      <th>count</th>\n",
       "      <td>6705</td>\n",
       "      <td>6705</td>\n",
       "      <td>6705</td>\n",
       "      <td>6705</td>\n",
       "    </tr>\n",
       "    <tr>\n",
       "      <th>unique</th>\n",
       "      <td>6705</td>\n",
       "      <td>6705</td>\n",
       "      <td>2273</td>\n",
       "      <td>11</td>\n",
       "    </tr>\n",
       "    <tr>\n",
       "      <th>top</th>\n",
       "      <td>../data/raw/IRMAS_Training_Data//tru/[tru][cla...</td>\n",
       "      <td>[tru][cla]1954__1</td>\n",
       "      <td>[tru][cla]1954</td>\n",
       "      <td>voi</td>\n",
       "    </tr>\n",
       "    <tr>\n",
       "      <th>freq</th>\n",
       "      <td>1</td>\n",
       "      <td>1</td>\n",
       "      <td>3</td>\n",
       "      <td>778</td>\n",
       "    </tr>\n",
       "  </tbody>\n",
       "</table>\n",
       "</div>"
      ],
      "text/plain": [
       "                                                     path              fname  \\\n",
       "count                                                6705               6705   \n",
       "unique                                               6705               6705   \n",
       "top     ../data/raw/IRMAS_Training_Data//tru/[tru][cla...  [tru][cla]1954__1   \n",
       "freq                                                    1                  1   \n",
       "\n",
       "             song_name  inst  \n",
       "count             6705  6705  \n",
       "unique            2273    11  \n",
       "top     [tru][cla]1954   voi  \n",
       "freq                 3   778  "
      ]
     },
     "execution_count": 27,
     "metadata": {},
     "output_type": "execute_result"
    }
   ],
   "source": [
    "metadata.describe(include=[\"O\"])"
   ]
  },
  {
   "cell_type": "code",
   "execution_count": 54,
   "metadata": {},
   "outputs": [
    {
     "data": {
      "image/png": "[encoded data removed]",
      "text/plain": [
       "<Figure size 640x480 with 1 Axes>"
      ]
     },
     "metadata": {},
     "output_type": "display_data"
    }
   ],
   "source": [
    "metadata[\"inst\"].value_counts().sort_values(ascending=True).plot(kind=\"barh\")\n",
    "plt.title(\"Instrument counts\");"
   ]
  },
  {
   "cell_type": "code",
   "execution_count": null,
   "metadata": {},
   "outputs": [],
   "source": []
  },
  {
   "attachments": {},
   "cell_type": "markdown",
   "metadata": {},
   "source": [
    "### Validation data"
   ]
  },
  {
   "cell_type": "markdown",
   "metadata": {},
   "source": []
  }
 ],
 "metadata": {
  "kernelspec": {
   "display_name": "Python 3",
   "language": "python",
   "name": "python3"
  },
  "language_info": {
   "codemirror_mode": {
    "name": "ipython",
    "version": 3
   },
   "file_extension": ".py",
   "mimetype": "text/x-python",
   "name": "python",
   "nbconvert_exporter": "python",
   "pygments_lexer": "ipython3",
   "version": "3.9.16"
  },
  "orig_nbformat": 4
 },
 "nbformat": 4,
 "nbformat_minor": 2
}
