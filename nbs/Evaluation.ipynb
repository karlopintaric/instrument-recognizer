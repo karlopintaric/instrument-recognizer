{
 "cells": [
  {
   "cell_type": "code",
   "execution_count": 1,
   "metadata": {},
   "outputs": [
    {
     "ename": "NameError",
     "evalue": "name 'Dataloader' is not defined",
     "output_type": "error",
     "traceback": [
      "\u001b[0;31m---------------------------------------------------------------------------\u001b[0m",
      "\u001b[0;31mNameError\u001b[0m                                 Traceback (most recent call last)",
      "Cell \u001b[0;32mIn[1], line 1\u001b[0m\n\u001b[0;32m----> 1\u001b[0m \u001b[39mfrom\u001b[39;00m \u001b[39mmodeling\u001b[39;00m\u001b[39m.\u001b[39;00m\u001b[39mlearner\u001b[39;00m \u001b[39mimport\u001b[39;00m get_preds\n\u001b[1;32m      2\u001b[0m \u001b[39mfrom\u001b[39;00m \u001b[39mmodeling\u001b[39;00m \u001b[39mimport\u001b[39;00m ASTPretrained\n\u001b[1;32m      3\u001b[0m \u001b[39mfrom\u001b[39;00m \u001b[39mmodeling\u001b[39;00m\u001b[39m.\u001b[39;00m\u001b[39mdataset\u001b[39;00m \u001b[39mimport\u001b[39;00m get_loader\n",
      "File \u001b[0;32m~/lumen-irmas/modeling/learner.py:289\u001b[0m\n\u001b[1;32m    286\u001b[0m         \u001b[39mfor\u001b[39;00m k, v \u001b[39min\u001b[39;00m \u001b[39mself\u001b[39m\u001b[39m.\u001b[39mresult\u001b[39m.\u001b[39mitems():\n\u001b[1;32m    287\u001b[0m             \u001b[39mprint\u001b[39m(\u001b[39mf\u001b[39m\u001b[39m\"\u001b[39m\u001b[39m{\u001b[39;00mk\u001b[39m}\u001b[39;00m\u001b[39m: \u001b[39m\u001b[39m{\u001b[39;00mv\u001b[39m:\u001b[39;00m\u001b[39m.2f\u001b[39m\u001b[39m}\u001b[39;00m\u001b[39m\"\u001b[39m)\n\u001b[0;32m--> 289\u001b[0m \u001b[39mdef\u001b[39;00m \u001b[39mget_preds\u001b[39m(data: Dataloader, model: nn\u001b[39m.\u001b[39mModule, device: \u001b[39mstr\u001b[39m\u001b[39m=\u001b[39m\u001b[39m\"\u001b[39m\u001b[39mcpu\u001b[39m\u001b[39m\"\u001b[39m):\n\u001b[1;32m    291\u001b[0m         loop \u001b[39m=\u001b[39m tqdm(data, leave\u001b[39m=\u001b[39m\u001b[39mFalse\u001b[39;00m)\n\u001b[1;32m    292\u001b[0m         model\u001b[39m.\u001b[39meval()\n",
      "\u001b[0;31mNameError\u001b[0m: name 'Dataloader' is not defined"
     ]
    }
   ],
   "source": [
    "from modeling.learner import get_preds\n",
    "from modeling import ASTPretrained\n",
    "from modeling.dataset import get_loader\n",
    "from modeling.utils import parse_config\n",
    "from modeling.metrics import *\n",
    "\n",
    "import pandas as pd\n",
    "import matplotlib.pyplot as plt\n",
    "import torch\n",
    "import torch.nn as nn\n",
    "%matplotlib inline"
   ]
  },
  {
   "cell_type": "code",
   "execution_count": null,
   "metadata": {},
   "outputs": [],
   "source": [
    "CONFIG_PATH = \"../configs/config.yaml\"\n",
    "config = parse_config(CONFIG_PATH)"
   ]
  },
  {
   "cell_type": "code",
   "execution_count": null,
   "metadata": {},
   "outputs": [],
   "source": [
    "valid_dl = get_loader(config, subset=\"valid\")\n",
    "test_dl = get_loader(config, subset=\"test\")"
   ]
  },
  {
   "cell_type": "code",
   "execution_count": 1,
   "metadata": {},
   "outputs": [
    {
     "ename": "NameError",
     "evalue": "name 'ASTPretrained' is not defined",
     "output_type": "error",
     "traceback": [
      "\u001b[0;31m---------------------------------------------------------------------------\u001b[0m",
      "\u001b[0;31mNameError\u001b[0m                                 Traceback (most recent call last)",
      "Cell \u001b[0;32mIn[1], line 1\u001b[0m\n\u001b[0;32m----> 1\u001b[0m base_model \u001b[39m=\u001b[39m ASTPretrained(n_classes\u001b[39m=\u001b[39m\u001b[39m11\u001b[39m, download_weights\u001b[39m=\u001b[39m\u001b[39mFalse\u001b[39;00m)\n",
      "\u001b[0;31mNameError\u001b[0m: name 'ASTPretrained' is not defined"
     ]
    }
   ],
   "source": [
    "weight_list = [\"bpmsync_2\", \"no_sync1\"]\n",
    "\n",
    "base_model = ASTPretrained(n_classes=11, download_weights=False)"
   ]
  },
  {
   "cell_type": "code",
   "execution_count": null,
   "metadata": {},
   "outputs": [],
   "source": [
    "def evaluate(weight_list: list, base_model: nn.Module):\n",
    "    # Create empty lists to store the accuracy and F1 score for each weight on the validation and test sets\n",
    "    val_accs, val_f1s, test_accs, test_f1s = [], [], [], []\n",
    "\n",
    "    # Loop through each weight and calculate accuracy and F1 score on the validation and test sets\n",
    "    weights = [f\"../weights/{weight}.pth\" for weight in weight_list]\n",
    "    \n",
    "    for w in weights:\n",
    "        # Make predictions on the validation set using the current weight\n",
    "        base_model.load_state_dict(torch.load(w))\n",
    "        preds, targets = get_preds(valid_dl, base_model, device=\"cuda\")\n",
    "\n",
    "        # Calculate accuracy and F1 score on the validation set\n",
    "        thresholds = optimize_accuracy(preds, targets)\n",
    "        \n",
    "        val_acc = hamming_score(preds, targets, thresholds)\n",
    "        val_f1 = mean_f1_score(preds, targets, thresholds)\n",
    "\n",
    "        # Make predictions on the test set using the current weight\n",
    "        preds, targets = get_preds(test_dl, base_model, device=\"cuda\")\n",
    "\n",
    "        # Calculate accuracy and F1 score on the test set\n",
    "        test_acc = hamming_score(preds, targets, thresholds)\n",
    "        test_f1 = mean_f1_score(preds, targets, thresholds)\n",
    "\n",
    "        # Append the results to the corresponding lists\n",
    "        val_accs.append(val_acc)\n",
    "        val_f1s.append(val_f1)\n",
    "        test_accs.append(test_acc)\n",
    "        test_f1s.append(test_f1)\n",
    "\n",
    "    # Create a pandas dataframe to display the results\n",
    "    df = pd.DataFrame({\n",
    "        'Weight': weight_list,\n",
    "        'Val Acc': val_accs,\n",
    "        'Val F1': val_f1s,\n",
    "        'Test Acc': test_accs,\n",
    "        'Test F1': test_f1s\n",
    "    })\n",
    "\n",
    "    # Display the dataframe\n",
    "    return df"
   ]
  }
 ],
 "metadata": {
  "kernelspec": {
   "display_name": "Python 3",
   "language": "python",
   "name": "python3"
  },
  "language_info": {
   "codemirror_mode": {
    "name": "ipython",
    "version": 3
   },
   "file_extension": ".py",
   "mimetype": "text/x-python",
   "name": "python",
   "nbconvert_exporter": "python",
   "pygments_lexer": "ipython3",
   "version": "3.9.16"
  },
  "orig_nbformat": 4
 },
 "nbformat": 4,
 "nbformat_minor": 2
}
