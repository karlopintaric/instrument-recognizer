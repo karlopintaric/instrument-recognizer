{
 "cells": [
  {
   "cell_type": "code",
   "execution_count": 1,
   "metadata": {},
   "outputs": [],
   "source": [
    "from modeling.learner import get_preds\n",
    "from modeling import ASTPretrained\n",
    "from modeling.dataset import get_loader\n",
    "from modeling.utils import parse_config\n",
    "from modeling.models import average_model_weights\n",
    "from modeling.metrics import *\n",
    "\n",
    "import pandas as pd\n",
    "import matplotlib.pyplot as plt\n",
    "import torch\n",
    "import torch.nn as nn\n",
    "%matplotlib inline"
   ]
  },
  {
   "cell_type": "code",
   "execution_count": 2,
   "metadata": {},
   "outputs": [],
   "source": [
    "CONFIG_PATH = \"../configs/config.yaml\"\n",
    "config = parse_config(CONFIG_PATH)"
   ]
  },
  {
   "cell_type": "code",
   "execution_count": 3,
   "metadata": {},
   "outputs": [],
   "source": [
    "valid_dl = get_loader(config, subset=\"valid\")\n",
    "test_dl = get_loader(config, subset=\"test\")"
   ]
  },
  {
   "cell_type": "code",
   "execution_count": 4,
   "metadata": {},
   "outputs": [],
   "source": [
    "base_model = ASTPretrained(n_classes=11, download_weights=False)"
   ]
  },
  {
   "cell_type": "code",
   "execution_count": 5,
   "metadata": {},
   "outputs": [],
   "source": [
    "def evaluate(weight_list: list, base_model: nn.Module):\n",
    "    # Create empty lists to store the accuracy and F1 score for each weight on the validation and test sets\n",
    "    val_mAPs, val_accs, val_f1s, test_mAPs, test_accs, test_f1s = [], [], [], [], [], []\n",
    "\n",
    "    # Loop through each weight and calculate accuracy and F1 score on the validation and test sets\n",
    "    weights = [f\"../weights/{weight}.pth\" for weight in weight_list]\n",
    "    \n",
    "    for w in weights:\n",
    "        # Make predictions on the validation set using the current weight\n",
    "        base_model.load_state_dict(torch.load(w))\n",
    "        preds, targets = get_preds(valid_dl, base_model, device=\"cuda\")\n",
    "\n",
    "        # Calculate accuracy and F1 score on the validation set\n",
    "        thresholds = optimize_accuracy(preds, targets)\n",
    "        \n",
    "        val_mAP = mean_average_precision(preds, targets)\n",
    "        val_acc = hamming_score(preds, targets, thresholds)\n",
    "        val_f1 = mean_f1_score(preds, targets, thresholds)\n",
    "\n",
    "        # Make predictions on the test set using the current weight\n",
    "        preds, targets = get_preds(test_dl, base_model, device=\"cuda\")\n",
    "\n",
    "        # Calculate accuracy and F1 score on the test set\n",
    "        test_mAP = mean_average_precision(preds, targets)\n",
    "        test_acc = hamming_score(preds, targets, thresholds)\n",
    "        test_f1 = mean_f1_score(preds, targets, thresholds)\n",
    "\n",
    "        # Append the results to the corresponding lists\n",
    "        val_mAPs.append(val_mAP)\n",
    "        val_accs.append(val_acc)\n",
    "        val_f1s.append(val_f1)\n",
    "        test_mAPs.append(test_mAP)\n",
    "        test_accs.append(test_acc)\n",
    "        test_f1s.append(test_f1)\n",
    "\n",
    "    # Create a pandas dataframe to display the results\n",
    "    df = pd.DataFrame({\n",
    "        'Weight': weight_list,\n",
    "        'Val Acc': val_accs,\n",
    "        'Val mAP': val_mAPs,\n",
    "        'Val F1': val_f1s,\n",
    "        'Test Acc': test_accs,\n",
    "        'Test mAP': test_mAPs,\n",
    "        'Test F1': test_f1s\n",
    "    })\n",
    "\n",
    "    # Display the dataframe\n",
    "    return df"
   ]
  },
  {
   "cell_type": "code",
   "execution_count": 6,
   "metadata": {},
   "outputs": [],
   "source": [
    "weight_list = [\"bpm_sync_bce\", \"pitch_sync_bce\", \"no_sync2_bce\", \"bpm_sync_focal\", \"pitch_sync_focal\", \"no_sync2_focal\"]"
   ]
  },
  {
   "cell_type": "code",
   "execution_count": 7,
   "metadata": {},
   "outputs": [
    {
     "data": {
      "application/vnd.jupyter.widget-view+json": {
       "model_id": "",
       "version_major": 2,
       "version_minor": 0
      },
      "text/plain": [
       "  0%|          | 0/187 [00:00<?, ?it/s]"
      ]
     },
     "metadata": {},
     "output_type": "display_data"
    },
    {
     "data": {
      "application/vnd.jupyter.widget-view+json": {
       "model_id": "",
       "version_major": 2,
       "version_minor": 0
      },
      "text/plain": [
       "  0%|          | 0/174 [00:00<?, ?it/s]"
      ]
     },
     "metadata": {},
     "output_type": "display_data"
    },
    {
     "data": {
      "application/vnd.jupyter.widget-view+json": {
       "model_id": "",
       "version_major": 2,
       "version_minor": 0
      },
      "text/plain": [
       "  0%|          | 0/187 [00:00<?, ?it/s]"
      ]
     },
     "metadata": {},
     "output_type": "display_data"
    },
    {
     "data": {
      "application/vnd.jupyter.widget-view+json": {
       "model_id": "",
       "version_major": 2,
       "version_minor": 0
      },
      "text/plain": [
       "  0%|          | 0/174 [00:00<?, ?it/s]"
      ]
     },
     "metadata": {},
     "output_type": "display_data"
    },
    {
     "data": {
      "application/vnd.jupyter.widget-view+json": {
       "model_id": "",
       "version_major": 2,
       "version_minor": 0
      },
      "text/plain": [
       "  0%|          | 0/187 [00:00<?, ?it/s]"
      ]
     },
     "metadata": {},
     "output_type": "display_data"
    },
    {
     "data": {
      "application/vnd.jupyter.widget-view+json": {
       "model_id": "",
       "version_major": 2,
       "version_minor": 0
      },
      "text/plain": [
       "  0%|          | 0/174 [00:00<?, ?it/s]"
      ]
     },
     "metadata": {},
     "output_type": "display_data"
    },
    {
     "data": {
      "application/vnd.jupyter.widget-view+json": {
       "model_id": "",
       "version_major": 2,
       "version_minor": 0
      },
      "text/plain": [
       "  0%|          | 0/187 [00:00<?, ?it/s]"
      ]
     },
     "metadata": {},
     "output_type": "display_data"
    },
    {
     "data": {
      "application/vnd.jupyter.widget-view+json": {
       "model_id": "",
       "version_major": 2,
       "version_minor": 0
      },
      "text/plain": [
       "  0%|          | 0/174 [00:00<?, ?it/s]"
      ]
     },
     "metadata": {},
     "output_type": "display_data"
    },
    {
     "data": {
      "application/vnd.jupyter.widget-view+json": {
       "model_id": "",
       "version_major": 2,
       "version_minor": 0
      },
      "text/plain": [
       "  0%|          | 0/187 [00:00<?, ?it/s]"
      ]
     },
     "metadata": {},
     "output_type": "display_data"
    },
    {
     "data": {
      "application/vnd.jupyter.widget-view+json": {
       "model_id": "",
       "version_major": 2,
       "version_minor": 0
      },
      "text/plain": [
       "  0%|          | 0/174 [00:00<?, ?it/s]"
      ]
     },
     "metadata": {},
     "output_type": "display_data"
    },
    {
     "data": {
      "application/vnd.jupyter.widget-view+json": {
       "model_id": "",
       "version_major": 2,
       "version_minor": 0
      },
      "text/plain": [
       "  0%|          | 0/187 [00:00<?, ?it/s]"
      ]
     },
     "metadata": {},
     "output_type": "display_data"
    },
    {
     "data": {
      "application/vnd.jupyter.widget-view+json": {
       "model_id": "",
       "version_major": 2,
       "version_minor": 0
      },
      "text/plain": [
       "  0%|          | 0/174 [00:00<?, ?it/s]"
      ]
     },
     "metadata": {},
     "output_type": "display_data"
    },
    {
     "data": {
      "text/html": [
       "<div>\n",
       "<style scoped>\n",
       "    .dataframe tbody tr th:only-of-type {\n",
       "        vertical-align: middle;\n",
       "    }\n",
       "\n",
       "    .dataframe tbody tr th {\n",
       "        vertical-align: top;\n",
       "    }\n",
       "\n",
       "    .dataframe thead th {\n",
       "        text-align: right;\n",
       "    }\n",
       "</style>\n",
       "<table border=\"1\" class=\"dataframe\">\n",
       "  <thead>\n",
       "    <tr style=\"text-align: right;\">\n",
       "      <th></th>\n",
       "      <th>Weight</th>\n",
       "      <th>Val Acc</th>\n",
       "      <th>Val mAP</th>\n",
       "      <th>Val F1</th>\n",
       "      <th>Test Acc</th>\n",
       "      <th>Test mAP</th>\n",
       "      <th>Test F1</th>\n",
       "    </tr>\n",
       "  </thead>\n",
       "  <tbody>\n",
       "    <tr>\n",
       "      <th>0</th>\n",
       "      <td>bpm_sync_bce</td>\n",
       "      <td>0.934672</td>\n",
       "      <td>0.865198</td>\n",
       "      <td>0.764908</td>\n",
       "      <td>0.918412</td>\n",
       "      <td>0.826800</td>\n",
       "      <td>0.697930</td>\n",
       "    </tr>\n",
       "    <tr>\n",
       "      <th>1</th>\n",
       "      <td>pitch_sync_bce</td>\n",
       "      <td>0.931986</td>\n",
       "      <td>0.861343</td>\n",
       "      <td>0.757578</td>\n",
       "      <td>0.913226</td>\n",
       "      <td>0.820174</td>\n",
       "      <td>0.681324</td>\n",
       "    </tr>\n",
       "    <tr>\n",
       "      <th>2</th>\n",
       "      <td>no_sync2_bce</td>\n",
       "      <td>0.935832</td>\n",
       "      <td>0.871443</td>\n",
       "      <td>0.771809</td>\n",
       "      <td>0.915917</td>\n",
       "      <td>0.834264</td>\n",
       "      <td>0.694079</td>\n",
       "    </tr>\n",
       "    <tr>\n",
       "      <th>3</th>\n",
       "      <td>bpm_sync_focal</td>\n",
       "      <td>0.933146</td>\n",
       "      <td>0.852915</td>\n",
       "      <td>0.756612</td>\n",
       "      <td>0.916902</td>\n",
       "      <td>0.823464</td>\n",
       "      <td>0.690036</td>\n",
       "    </tr>\n",
       "    <tr>\n",
       "      <th>4</th>\n",
       "      <td>pitch_sync_focal</td>\n",
       "      <td>0.931498</td>\n",
       "      <td>0.860144</td>\n",
       "      <td>0.758313</td>\n",
       "      <td>0.912504</td>\n",
       "      <td>0.821003</td>\n",
       "      <td>0.684958</td>\n",
       "    </tr>\n",
       "    <tr>\n",
       "      <th>5</th>\n",
       "      <td>no_sync2_focal</td>\n",
       "      <td>0.935161</td>\n",
       "      <td>0.867765</td>\n",
       "      <td>0.774281</td>\n",
       "      <td>0.916049</td>\n",
       "      <td>0.833635</td>\n",
       "      <td>0.699292</td>\n",
       "    </tr>\n",
       "  </tbody>\n",
       "</table>\n",
       "</div>"
      ],
      "text/plain": [
       "             Weight   Val Acc   Val mAP    Val F1  Test Acc  Test mAP   \n",
       "0      bpm_sync_bce  0.934672  0.865198  0.764908  0.918412  0.826800  \\\n",
       "1    pitch_sync_bce  0.931986  0.861343  0.757578  0.913226  0.820174   \n",
       "2      no_sync2_bce  0.935832  0.871443  0.771809  0.915917  0.834264   \n",
       "3    bpm_sync_focal  0.933146  0.852915  0.756612  0.916902  0.823464   \n",
       "4  pitch_sync_focal  0.931498  0.860144  0.758313  0.912504  0.821003   \n",
       "5    no_sync2_focal  0.935161  0.867765  0.774281  0.916049  0.833635   \n",
       "\n",
       "    Test F1  \n",
       "0  0.697930  \n",
       "1  0.681324  \n",
       "2  0.694079  \n",
       "3  0.690036  \n",
       "4  0.684958  \n",
       "5  0.699292  "
      ]
     },
     "execution_count": 7,
     "metadata": {},
     "output_type": "execute_result"
    }
   ],
   "source": [
    "results = evaluate(weight_list, base_model)\n",
    "results"
   ]
  },
  {
   "cell_type": "code",
   "execution_count": 8,
   "metadata": {},
   "outputs": [],
   "source": [
    "weights = [f\"../weights/{weight}.pth\" for weight in weight_list[:3]]\n",
    "\n",
    "average_weight = average_model_weights(weights)\n",
    "torch.save(average_weight, \"../weights/averaged_weights_bce.pth\")"
   ]
  },
  {
   "cell_type": "code",
   "execution_count": 9,
   "metadata": {},
   "outputs": [
    {
     "data": {
      "application/vnd.jupyter.widget-view+json": {
       "model_id": "",
       "version_major": 2,
       "version_minor": 0
      },
      "text/plain": [
       "  0%|          | 0/187 [00:00<?, ?it/s]"
      ]
     },
     "metadata": {},
     "output_type": "display_data"
    },
    {
     "data": {
      "application/vnd.jupyter.widget-view+json": {
       "model_id": "",
       "version_major": 2,
       "version_minor": 0
      },
      "text/plain": [
       "  0%|          | 0/174 [00:00<?, ?it/s]"
      ]
     },
     "metadata": {},
     "output_type": "display_data"
    },
    {
     "data": {
      "text/html": [
       "<div>\n",
       "<style scoped>\n",
       "    .dataframe tbody tr th:only-of-type {\n",
       "        vertical-align: middle;\n",
       "    }\n",
       "\n",
       "    .dataframe tbody tr th {\n",
       "        vertical-align: top;\n",
       "    }\n",
       "\n",
       "    .dataframe thead th {\n",
       "        text-align: right;\n",
       "    }\n",
       "</style>\n",
       "<table border=\"1\" class=\"dataframe\">\n",
       "  <thead>\n",
       "    <tr style=\"text-align: right;\">\n",
       "      <th></th>\n",
       "      <th>Weight</th>\n",
       "      <th>Val Acc</th>\n",
       "      <th>Val mAP</th>\n",
       "      <th>Val F1</th>\n",
       "      <th>Test Acc</th>\n",
       "      <th>Test mAP</th>\n",
       "      <th>Test F1</th>\n",
       "    </tr>\n",
       "  </thead>\n",
       "  <tbody>\n",
       "    <tr>\n",
       "      <th>0</th>\n",
       "      <td>averaged_weights_bce</td>\n",
       "      <td>0.934489</td>\n",
       "      <td>0.870258</td>\n",
       "      <td>0.763884</td>\n",
       "      <td>0.916114</td>\n",
       "      <td>0.830385</td>\n",
       "      <td>0.686354</td>\n",
       "    </tr>\n",
       "  </tbody>\n",
       "</table>\n",
       "</div>"
      ],
      "text/plain": [
       "                 Weight   Val Acc   Val mAP    Val F1  Test Acc  Test mAP   \n",
       "0  averaged_weights_bce  0.934489  0.870258  0.763884  0.916114  0.830385  \\\n",
       "\n",
       "    Test F1  \n",
       "0  0.686354  "
      ]
     },
     "execution_count": 9,
     "metadata": {},
     "output_type": "execute_result"
    }
   ],
   "source": [
    "results = evaluate([\"averaged_weights_bce\"], base_model)\n",
    "results"
   ]
  },
  {
   "cell_type": "code",
   "execution_count": null,
   "metadata": {},
   "outputs": [],
   "source": []
  },
  {
   "cell_type": "code",
   "execution_count": 10,
   "metadata": {},
   "outputs": [],
   "source": [
    "weights = [f\"../weights/{weight}.pth\" for weight in weight_list[3:]]\n",
    "\n",
    "average_weight = average_model_weights(weights)\n",
    "torch.save(average_weight, \"../weights/averaged_weights_focal.pth\")"
   ]
  },
  {
   "cell_type": "code",
   "execution_count": 11,
   "metadata": {},
   "outputs": [
    {
     "data": {
      "application/vnd.jupyter.widget-view+json": {
       "model_id": "",
       "version_major": 2,
       "version_minor": 0
      },
      "text/plain": [
       "  0%|          | 0/187 [00:00<?, ?it/s]"
      ]
     },
     "metadata": {},
     "output_type": "display_data"
    },
    {
     "data": {
      "application/vnd.jupyter.widget-view+json": {
       "model_id": "",
       "version_major": 2,
       "version_minor": 0
      },
      "text/plain": [
       "  0%|          | 0/174 [00:00<?, ?it/s]"
      ]
     },
     "metadata": {},
     "output_type": "display_data"
    },
    {
     "data": {
      "text/html": [
       "<div>\n",
       "<style scoped>\n",
       "    .dataframe tbody tr th:only-of-type {\n",
       "        vertical-align: middle;\n",
       "    }\n",
       "\n",
       "    .dataframe tbody tr th {\n",
       "        vertical-align: top;\n",
       "    }\n",
       "\n",
       "    .dataframe thead th {\n",
       "        text-align: right;\n",
       "    }\n",
       "</style>\n",
       "<table border=\"1\" class=\"dataframe\">\n",
       "  <thead>\n",
       "    <tr style=\"text-align: right;\">\n",
       "      <th></th>\n",
       "      <th>Weight</th>\n",
       "      <th>Val Acc</th>\n",
       "      <th>Val mAP</th>\n",
       "      <th>Val F1</th>\n",
       "      <th>Test Acc</th>\n",
       "      <th>Test mAP</th>\n",
       "      <th>Test F1</th>\n",
       "    </tr>\n",
       "  </thead>\n",
       "  <tbody>\n",
       "    <tr>\n",
       "      <th>0</th>\n",
       "      <td>averaged_weights_focal</td>\n",
       "      <td>0.93394</td>\n",
       "      <td>0.866946</td>\n",
       "      <td>0.764757</td>\n",
       "      <td>0.916508</td>\n",
       "      <td>0.833178</td>\n",
       "      <td>0.691408</td>\n",
       "    </tr>\n",
       "  </tbody>\n",
       "</table>\n",
       "</div>"
      ],
      "text/plain": [
       "                   Weight  Val Acc   Val mAP    Val F1  Test Acc  Test mAP   \n",
       "0  averaged_weights_focal  0.93394  0.866946  0.764757  0.916508  0.833178  \\\n",
       "\n",
       "    Test F1  \n",
       "0  0.691408  "
      ]
     },
     "execution_count": 11,
     "metadata": {},
     "output_type": "execute_result"
    }
   ],
   "source": [
    "results = evaluate([\"averaged_weights_focal\"], base_model)\n",
    "results"
   ]
  },
  {
   "cell_type": "code",
   "execution_count": null,
   "metadata": {},
   "outputs": [],
   "source": []
  },
  {
   "cell_type": "code",
   "execution_count": 17,
   "metadata": {},
   "outputs": [
    {
     "data": {
      "application/vnd.jupyter.widget-view+json": {
       "model_id": "",
       "version_major": 2,
       "version_minor": 0
      },
      "text/plain": [
       "  0%|          | 0/187 [00:00<?, ?it/s]"
      ]
     },
     "metadata": {},
     "output_type": "display_data"
    }
   ],
   "source": [
    "best_weight = torch.load(\"../weights/bpm_sync_bce.pth\")\n",
    "base_model.load_state_dict(best_weight)\n",
    "preds, targets = get_preds(valid_dl, base_model, \"cuda\")\n",
    "best_model_thresholds = optimize_accuracy(preds, targets)\n",
    "np.save(\"acc_model_thresh\", best_model_thresholds)"
   ]
  },
  {
   "cell_type": "code",
   "execution_count": 18,
   "metadata": {},
   "outputs": [],
   "source": [
    "example = valid_dl.dataset[0][0]"
   ]
  },
  {
   "cell_type": "code",
   "execution_count": 20,
   "metadata": {},
   "outputs": [],
   "source": [
    "traced_model = torch.jit.trace(base_model.to(\"cpu\"), example)\n",
    "torch.jit.save(traced_model, \"acc_model_ast.pt\")"
   ]
  },
  {
   "cell_type": "code",
   "execution_count": 21,
   "metadata": {},
   "outputs": [
    {
     "data": {
      "text/plain": [
       "array([0.7094, 0.5323, 0.5094, 0.6527, 0.7043, 0.5403, 0.5436, 0.4266,\n",
       "       0.3344, 0.7884, 0.2298])"
      ]
     },
     "execution_count": 21,
     "metadata": {},
     "output_type": "execute_result"
    }
   ],
   "source": [
    "best_model_thresholds"
   ]
  },
  {
   "cell_type": "code",
   "execution_count": null,
   "metadata": {},
   "outputs": [],
   "source": []
  }
 ],
 "metadata": {
  "kernelspec": {
   "display_name": "Python 3 (ipykernel)",
   "language": "python",
   "name": "python3"
  },
  "language_info": {
   "codemirror_mode": {
    "name": "ipython",
    "version": 3
   },
   "file_extension": ".py",
   "mimetype": "text/x-python",
   "name": "python",
   "nbconvert_exporter": "python",
   "pygments_lexer": "ipython3",
   "version": "3.9.16"
  }
 },
 "nbformat": 4,
 "nbformat_minor": 2
}
