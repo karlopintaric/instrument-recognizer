{
 "cells": [
  {
   "cell_type": "code",
   "execution_count": 1,
   "metadata": {},
   "outputs": [
    {
     "name": "stderr",
     "output_type": "stream",
     "text": [
      "/home/kpintaric/lumen-irmas/venv/lib/python3.10/site-packages/tqdm/auto.py:21: TqdmWarning: IProgress not found. Please update jupyter and ipywidgets. See https://ipywidgets.readthedocs.io/en/stable/user_install.html\n",
      "  from .autonotebook import tqdm as notebook_tqdm\n"
     ]
    }
   ],
   "source": [
    "import sys\n",
    "sys.path.append(\"../\")\n",
    "\n",
    "from transforms import *\n",
    "import yaml\n",
    "from types import SimpleNamespace"
   ]
  },
  {
   "cell_type": "code",
   "execution_count": 53,
   "metadata": {},
   "outputs": [
    {
     "name": "stdout",
     "output_type": "stream",
     "text": [
      "namespace(train_dir='./data/raw/IRMAS_Training_Data', valid_dir='./data/raw/IRMAS_Validation_Data', preprocess={'PreprocessPipeline': {'parameters': {'target_sr': 22050}}}, transforms={'Preemphasis': None, 'Spectrogram': {'parameters': {'sample_rate': 22050, 'n_mels': 128, 'hop_length': 160, 'n_fft': 800}}, 'LogTransform': None, 'PadCutToLength': {'parameters': {'max_length': 1024}}, 'Normalize': {'parameters': {'mean': -4.2677393, 'std': 9.1379948}}}, transforms_not_used=[{'type': 'FeatureExtractor', 'parameters': {'sr': 22050}}], signal_augments=None, spec_augments=None, batch_size=8, loss={'type': 'FocalLoss', 'parameters': {'alpha': 0.25, 'gamma': 2}}, optimizer={'type': 'AdamW', 'parameters': {'weight_decay': 0.0001}}, learning_rates={'base_model': {'parameters': {'lr': 1e-08}}, 'classifier': {'parameters': {'lr': 0.001}}}, num_accum=2, verbose=True, EPOCHS=4, metrics=['hamming_score', 'zero_one_score', 'mean_average_precision', 'mean_f1_score'], scheduler={'type': 'OneCycleLR', 'parameters': {'pct_start': 0.3, 'anneal_strategy': 'cos'}}, early_stopping={'parameters': {'patience': 3, 'min_delta': 0.001}}, save_best_model=True)\n"
     ]
    }
   ],
   "source": [
    "CONFIG_PATH = \"../config.yaml\"\n",
    "\n",
    "with open(CONFIG_PATH) as file:\n",
    "  config = SimpleNamespace(**yaml.safe_load(file))\n",
    "  \n",
    "  print(config)"
   ]
  },
  {
   "cell_type": "code",
   "execution_count": 17,
   "metadata": {},
   "outputs": [],
   "source": [
    "from torchvision.transforms import Compose"
   ]
  },
  {
   "cell_type": "code",
   "execution_count": 21,
   "metadata": {},
   "outputs": [],
   "source": [
    "def init_obj(fn_dict, module, *args, **kwargs):\n",
    "    \n",
    "    if isinstance(fn_dict, dict):\n",
    "        fn_name = list(fn_dict.keys())[0]\n",
    "    if isinstance(fn_dict, str):\n",
    "        fn_name = fn_dict\n",
    "    \n",
    "    fn = getattr(module, fn_name)\n",
    "    fn_args = fn_dict[fn_name].get(\"parameters\")\n",
    "    \n",
    "    if fn_args is not None:\n",
    "        assert all([k not in fn_args for k in kwargs])\n",
    "        fn_args.update(kwargs)\n",
    "        \n",
    "        return fn(*args, **fn_args)\n",
    "    else:\n",
    "        return fn(*args, **kwargs)"
   ]
  },
  {
   "cell_type": "code",
   "execution_count": 33,
   "metadata": {},
   "outputs": [],
   "source": [
    "def init_transforms(config, module_name):\n",
    "    \n",
    "    if config is None:\n",
    "        return None\n",
    "\n",
    "    transforms = []\n",
    "    for transform in config.keys():\n",
    "        print(transform)\n",
    "        fn = getattr(transform_module, transform)\n",
    "        transforms.append(fn(config[transform][\"parameters\"]))\n",
    "    \n",
    "    return Compose(transforms)"
   ]
  },
  {
   "cell_type": "code",
   "execution_count": 56,
   "metadata": {},
   "outputs": [],
   "source": [
    "def init_objs(fn_dict, module):\n",
    "    \n",
    "    if fn_dict is None:\n",
    "        return None\n",
    "\n",
    "    transforms = []\n",
    "    for transform in fn_dict.keys():\n",
    "        fn = getattr(module, transform)\n",
    "        fn_args = fn_dict[transform]\n",
    "        \n",
    "        if fn_args is None:\n",
    "            transforms.append(fn())\n",
    "        else:\n",
    "            fn_args = fn_args.get(\"parameters\")\n",
    "            transforms.append(fn(**fn_args))\n",
    "    \n",
    "    return transforms"
   ]
  },
  {
   "cell_type": "code",
   "execution_count": 76,
   "metadata": {},
   "outputs": [],
   "source": [
    "fn_dict = config.preprocess\n",
    "\n",
    "transforms = []\n",
    "for transform in fn_dict.keys():\n",
    "    fn = getattr(transform_module, transform)\n",
    "    fn_args = fn_dict[transform]\n",
    "\n",
    "    if fn_args is None:\n",
    "            transforms.append(fn())\n",
    "    else:\n",
    "        fn_args = fn_args.get(\"parameters\")\n",
    "        transforms.append(fn(**fn_args))"
   ]
  },
  {
   "cell_type": "code",
   "execution_count": 86,
   "metadata": {},
   "outputs": [
    {
     "data": {
      "text/plain": [
       "PreprocessPipeline()"
      ]
     },
     "execution_count": 86,
     "metadata": {},
     "output_type": "execute_result"
    }
   ],
   "source": [
    "init_obj(config.preprocess, transform_module)"
   ]
  },
  {
   "cell_type": "code",
   "execution_count": 89,
   "metadata": {},
   "outputs": [
    {
     "data": {
      "text/plain": [
       "True"
      ]
     },
     "execution_count": 89,
     "metadata": {},
     "output_type": "execute_result"
    }
   ],
   "source": [
    "config.signal_augments is None"
   ]
  },
  {
   "cell_type": "code",
   "execution_count": 51,
   "metadata": {},
   "outputs": [],
   "source": [
    "config.optimizer.get(\"parameters\")"
   ]
  },
  {
   "cell_type": "code",
   "execution_count": 34,
   "metadata": {},
   "outputs": [
    {
     "name": "stdout",
     "output_type": "stream",
     "text": [
      "Preemphasis\n"
     ]
    },
    {
     "ename": "TypeError",
     "evalue": "'NoneType' object is not subscriptable",
     "output_type": "error",
     "traceback": [
      "\u001b[0;31m---------------------------------------------------------------------------\u001b[0m",
      "\u001b[0;31mTypeError\u001b[0m                                 Traceback (most recent call last)",
      "Cell \u001b[0;32mIn[34], line 2\u001b[0m\n\u001b[1;32m      1\u001b[0m \u001b[39mimport\u001b[39;00m \u001b[39mtransforms\u001b[39;00m \u001b[39mas\u001b[39;00m \u001b[39mtransform_module\u001b[39;00m\n\u001b[0;32m----> 2\u001b[0m init_transforms(config\u001b[39m.\u001b[39;49mtransforms, transforms)\n",
      "Cell \u001b[0;32mIn[33], line 10\u001b[0m, in \u001b[0;36minit_transforms\u001b[0;34m(config, module_name)\u001b[0m\n\u001b[1;32m      8\u001b[0m     \u001b[39mprint\u001b[39m(transform)\n\u001b[1;32m      9\u001b[0m     fn \u001b[39m=\u001b[39m \u001b[39mgetattr\u001b[39m(transform_module, transform)\n\u001b[0;32m---> 10\u001b[0m     transforms\u001b[39m.\u001b[39mappend(fn(config[transform][\u001b[39m\"\u001b[39;49m\u001b[39mparameters\u001b[39;49m\u001b[39m\"\u001b[39;49m]))\n\u001b[1;32m     12\u001b[0m \u001b[39mreturn\u001b[39;00m Compose(transforms)\n",
      "\u001b[0;31mTypeError\u001b[0m: 'NoneType' object is not subscriptable"
     ]
    }
   ],
   "source": [
    "import transforms as transform_module\n",
    "init_transforms(config.transforms, transforms)"
   ]
  },
  {
   "cell_type": "code",
   "execution_count": 16,
   "metadata": {},
   "outputs": [],
   "source": [
    "import torch.optim as optim"
   ]
  },
  {
   "cell_type": "code",
   "execution_count": 15,
   "metadata": {},
   "outputs": [],
   "source": [
    "from utils import init_obj"
   ]
  },
  {
   "cell_type": "code",
   "execution_count": 20,
   "metadata": {},
   "outputs": [],
   "source": [
    "import loss"
   ]
  },
  {
   "cell_type": "code",
   "execution_count": 22,
   "metadata": {},
   "outputs": [],
   "source": [
    "import models"
   ]
  },
  {
   "cell_type": "code",
   "execution_count": 24,
   "metadata": {},
   "outputs": [],
   "source": [
    "model = models.RNN(128, 64, 3, 11)"
   ]
  },
  {
   "cell_type": "code",
   "execution_count": 30,
   "metadata": {},
   "outputs": [],
   "source": [
    "opt = init_obj(config.optimizer, optim, model.parameters())"
   ]
  },
  {
   "cell_type": "code",
   "execution_count": null,
   "metadata": {},
   "outputs": [],
   "source": []
  }
 ],
 "metadata": {
  "kernelspec": {
   "display_name": "Python 3",
   "language": "python",
   "name": "python3"
  },
  "language_info": {
   "codemirror_mode": {
    "name": "ipython",
    "version": 3
   },
   "file_extension": ".py",
   "mimetype": "text/x-python",
   "name": "python",
   "nbconvert_exporter": "python",
   "pygments_lexer": "ipython3",
   "version": "3.10.9"
  },
  "orig_nbformat": 4
 },
 "nbformat": 4,
 "nbformat_minor": 2
}
