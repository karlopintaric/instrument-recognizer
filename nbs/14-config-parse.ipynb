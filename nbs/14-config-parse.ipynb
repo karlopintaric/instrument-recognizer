{
 "cells": [
  {
   "cell_type": "code",
   "execution_count": 5,
   "metadata": {},
   "outputs": [],
   "source": [
    "import sys\n",
    "sys.path.append(\"../\")\n",
    "\n",
    "from transforms import *\n",
    "import yaml\n",
    "from types import SimpleNamespace"
   ]
  },
  {
   "cell_type": "code",
   "execution_count": 28,
   "metadata": {},
   "outputs": [
    {
     "name": "stdout",
     "output_type": "stream",
     "text": [
      "namespace(dataset={'train_dir': './data/raw/IRMAS_Training_Data', 'valid_dir': './data/raw/IRMAS_Validation_Data', 'preprocess': 'PreprocessPipeline', 'transforms': 'FeatureExtractor', 'augments': False, 'SAMPLING_RATE': 16000, 'BATCH_SIZE': 32}, loss={'name': 'FocalLoss', 'args': {'pos_weight': 1}}, optimizer={'name': 'Adam', 'args': {'lr': 0.1, 'weight_decay': 0.01}}, verbose=True, EPOCHS=100, metrics=['hamming_score', 'zero_one_score', 'mean_f1_score', 'per_instr_f1_score'], model='ASTModel', scheduler={'name': 'ReduceLROnPlateau', 'args': {'patience': 2, 'threshold': 0.001}}, early_stopping={'enable': True, 'args': {'patience': 10, 'min_delta': 0.001}}, save_best_model=True)\n"
     ]
    }
   ],
   "source": [
    "CONFIG_PATH = \"../config.yaml\"\n",
    "\n",
    "with open(CONFIG_PATH) as file:\n",
    "  config = SimpleNamespace(**yaml.safe_load(file))\n",
    "  \n",
    "  print(config)"
   ]
  },
  {
   "cell_type": "code",
   "execution_count": 3,
   "metadata": {},
   "outputs": [
    {
     "data": {
      "text/plain": [
       "['hamming_score', 'zero_one_score', 'mean_f1_score', 'per_instr_f1_score']"
      ]
     },
     "execution_count": 3,
     "metadata": {},
     "output_type": "execute_result"
    }
   ],
   "source": [
    "config.metrics"
   ]
  },
  {
   "cell_type": "code",
   "execution_count": 16,
   "metadata": {},
   "outputs": [],
   "source": [
    "import torch.optim as optim"
   ]
  },
  {
   "cell_type": "code",
   "execution_count": 15,
   "metadata": {},
   "outputs": [],
   "source": [
    "from utils import init_obj"
   ]
  },
  {
   "cell_type": "code",
   "execution_count": 20,
   "metadata": {},
   "outputs": [],
   "source": [
    "import loss"
   ]
  },
  {
   "cell_type": "code",
   "execution_count": 22,
   "metadata": {},
   "outputs": [],
   "source": [
    "import models"
   ]
  },
  {
   "cell_type": "code",
   "execution_count": 24,
   "metadata": {},
   "outputs": [],
   "source": [
    "model = models.RNN(128, 64, 3, 11)"
   ]
  },
  {
   "cell_type": "code",
   "execution_count": 30,
   "metadata": {},
   "outputs": [],
   "source": [
    "opt = init_obj(config.optimizer, optim, model.parameters())"
   ]
  },
  {
   "cell_type": "code",
   "execution_count": null,
   "metadata": {},
   "outputs": [],
   "source": []
  }
 ],
 "metadata": {
  "kernelspec": {
   "display_name": "Python 3",
   "language": "python",
   "name": "python3"
  },
  "language_info": {
   "codemirror_mode": {
    "name": "ipython",
    "version": 3
   },
   "file_extension": ".py",
   "mimetype": "text/x-python",
   "name": "python",
   "nbconvert_exporter": "python",
   "pygments_lexer": "ipython3",
   "version": "3.10.9"
  },
  "orig_nbformat": 4
 },
 "nbformat": 4,
 "nbformat_minor": 2
}
