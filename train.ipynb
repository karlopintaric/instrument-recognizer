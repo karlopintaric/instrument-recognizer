{
 "cells": [
  {
   "cell_type": "code",
   "execution_count": 1,
   "id": "c7e138e8",
   "metadata": {},
   "outputs": [],
   "source": [
    "import torch\n",
    "import numpy as np\n",
    "import wandb\n",
    "\n",
    "from utils import parse_config\n",
    "from dataset import get_loader\n",
    "from learner import Learner\n",
    "from models import ASTPretrainedBigHead, ASTPretrainedSmallHead, RNN, ASTWithWeightedLayerPooling"
   ]
  },
  {
   "cell_type": "code",
   "execution_count": 2,
   "id": "8bd80af9",
   "metadata": {},
   "outputs": [],
   "source": [
    "SEED = 123\n",
    "torch.manual_seed(SEED)\n",
    "torch.cuda.manual_seed(SEED)\n",
    "torch.backends.cudnn.deterministic = True\n",
    "torch.backends.cudnn.benchmark = False\n",
    "np.random.seed(SEED)"
   ]
  },
  {
   "cell_type": "code",
   "execution_count": 3,
   "id": "9c28cc8e",
   "metadata": {},
   "outputs": [],
   "source": [
    "def main(config):\n",
    "    \n",
    "    train_dl = get_loader(config, subset=\"train\")\n",
    "    valid_dl = get_loader(config, subset=\"valid\")\n",
    "    \n",
    "    model = ASTPretrainedSmallHead(n_classes=11)\n",
    "\n",
    "    learn = Learner(train_dl, valid_dl, model, config)\n",
    "\n",
    "    learn.fit(4)"
   ]
  },
  {
   "cell_type": "code",
   "execution_count": null,
   "id": "f38688d6",
   "metadata": {},
   "outputs": [
    {
     "name": "stderr",
     "output_type": "stream",
     "text": [
      "\u001b[34m\u001b[1mwandb\u001b[0m: Currently logged in as: \u001b[33mk-pintaric\u001b[0m. Use \u001b[1m`wandb login --relogin`\u001b[0m to force relogin\n"
     ]
    },
    {
     "data": {
      "text/html": [
       "Tracking run with wandb version 0.14.0"
      ],
      "text/plain": [
       "<IPython.core.display.HTML object>"
      ]
     },
     "metadata": {},
     "output_type": "display_data"
    },
    {
     "data": {
      "text/html": [
       "Run data is saved locally in <code>/nfs/home/912c2e22633dde2e/lumen-irmas/wandb/run-20230321_221910-hnvi9e2x</code>"
      ],
      "text/plain": [
       "<IPython.core.display.HTML object>"
      ]
     },
     "metadata": {},
     "output_type": "display_data"
    },
    {
     "data": {
      "text/html": [
       "Syncing run <strong><a href='https://wandb.ai/k-pintaric/lumen-irmas/runs/hnvi9e2x' target=\"_blank\">driven-valley-25</a></strong> to <a href='https://wandb.ai/k-pintaric/lumen-irmas' target=\"_blank\">Weights & Biases</a> (<a href='https://wandb.me/run' target=\"_blank\">docs</a>)<br/>"
      ],
      "text/plain": [
       "<IPython.core.display.HTML object>"
      ]
     },
     "metadata": {},
     "output_type": "display_data"
    },
    {
     "data": {
      "text/html": [
       " View project at <a href='https://wandb.ai/k-pintaric/lumen-irmas' target=\"_blank\">https://wandb.ai/k-pintaric/lumen-irmas</a>"
      ],
      "text/plain": [
       "<IPython.core.display.HTML object>"
      ]
     },
     "metadata": {},
     "output_type": "display_data"
    },
    {
     "data": {
      "text/html": [
       " View run at <a href='https://wandb.ai/k-pintaric/lumen-irmas/runs/hnvi9e2x' target=\"_blank\">https://wandb.ai/k-pintaric/lumen-irmas/runs/hnvi9e2x</a>"
      ],
      "text/plain": [
       "<IPython.core.display.HTML object>"
      ]
     },
     "metadata": {},
     "output_type": "display_data"
    },
    {
     "data": {
      "application/vnd.jupyter.widget-view+json": {
       "model_id": "4020fa87b20447dfba82e8c4fec4af98",
       "version_major": 2,
       "version_minor": 0
      },
      "text/plain": [
       "  0%|          | 0/4 [00:00<?, ?it/s]"
      ]
     },
     "metadata": {},
     "output_type": "display_data"
    },
    {
     "data": {
      "application/vnd.jupyter.widget-view+json": {
       "model_id": "eef949345d7444dba44d121f6680d12f",
       "version_major": 2,
       "version_minor": 0
      },
      "text/plain": [
       "  0%|          | 0/839 [00:00<?, ?it/s]"
      ]
     },
     "metadata": {},
     "output_type": "display_data"
    }
   ],
   "source": [
    "if __name__==\"__main__\":\n",
    "\n",
    "    CONFIG_PATH = \"./config.yaml\"\n",
    "    config = parse_config(CONFIG_PATH)\n",
    "\n",
    "    run = wandb.init(config=config)\n",
    "    main(wandb.config)"
   ]
  },
  {
   "cell_type": "code",
   "execution_count": null,
   "id": "976e3b6e",
   "metadata": {},
   "outputs": [],
   "source": []
  }
 ],
 "metadata": {
  "kernelspec": {
   "display_name": "Python 3 (ipykernel)",
   "language": "python",
   "name": "python3"
  },
  "language_info": {
   "codemirror_mode": {
    "name": "ipython",
    "version": 3
   },
   "file_extension": ".py",
   "mimetype": "text/x-python",
   "name": "python",
   "nbconvert_exporter": "python",
   "pygments_lexer": "ipython3",
   "version": "3.10.9"
  }
 },
 "nbformat": 4,
 "nbformat_minor": 5
}
