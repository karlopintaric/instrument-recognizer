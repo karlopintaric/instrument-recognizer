{
 "cells": [
  {
   "cell_type": "code",
   "execution_count": 1,
   "id": "f3654707",
   "metadata": {},
   "outputs": [
    {
     "name": "stderr",
     "output_type": "stream",
     "text": [
      "/nfs/home/912c2e22633dde2e/lumen-irmas/preprocess.py:6: TqdmExperimentalWarning: Using `tqdm.autonotebook.tqdm` in notebook mode. Use `tqdm.tqdm` instead to force console mode (e.g. in jupyter console)\n",
      "  from tqdm.autonotebook import tqdm\n"
     ]
    }
   ],
   "source": [
    "import os\n",
    "from preprocess import IRMASPreprocessor"
   ]
  },
  {
   "cell_type": "code",
   "execution_count": 2,
   "id": "310ea5b3",
   "metadata": {},
   "outputs": [],
   "source": [
    "base_dir = os.getcwd()"
   ]
  },
  {
   "cell_type": "code",
   "execution_count": 3,
   "id": "14dc86e9",
   "metadata": {},
   "outputs": [
    {
     "data": {
      "application/vnd.jupyter.widget-view+json": {
       "model_id": "9a5e9989c59d4b618a981849c85c65d5",
       "version_major": 2,
       "version_minor": 0
      },
      "text/plain": [
       "0it [00:00, ?it/s]"
      ]
     },
     "metadata": {},
     "output_type": "display_data"
    },
    {
     "name": "stdout",
     "output_type": "stream",
     "text": [
      "Parallel preprocessing done!\n"
     ]
    }
   ],
   "source": [
    "data_dir = f'{base_dir}/data/raw/IRMAS_Training_Data'\n",
    "new_dir = f'{base_dir}/data/processed_22khz/all_sync/IRMAS_Training_Data'\n",
    "preprocessor = IRMASPreprocessor(data_dir, new_dir, ordered=True, sr=22050, subset=\"train\", metadata=\"metadata_train.csv\")\n",
    "preprocessor.preprocess_and_combine_all()"
   ]
  },
  {
   "cell_type": "code",
   "execution_count": 4,
   "id": "4f35e6b5",
   "metadata": {},
   "outputs": [
    {
     "data": {
      "application/vnd.jupyter.widget-view+json": {
       "model_id": "b1cfec6849344d48a0ce6fd044335545",
       "version_major": 2,
       "version_minor": 0
      },
      "text/plain": [
       "0it [00:00, ?it/s]"
      ]
     },
     "metadata": {},
     "output_type": "display_data"
    },
    {
     "name": "stdout",
     "output_type": "stream",
     "text": [
      "Parallel preprocessing done!\n"
     ]
    }
   ],
   "source": [
    "data_dir = f'{base_dir}/data/raw/IRMAS_Training_Data'\n",
    "new_dir = f'{base_dir}/data/processed_22khz/bpm_sync/IRMAS_Training_Data'\n",
    "preprocessor = IRMASPreprocessor(data_dir, new_dir, ordered=True, sr=22050, sync_pitch=False, subset=\"train\", metadata=\"metadata_train.csv\")\n",
    "preprocessor.preprocess_and_combine_all()"
   ]
  },
  {
   "cell_type": "code",
   "execution_count": 5,
   "id": "221332c5",
   "metadata": {},
   "outputs": [
    {
     "data": {
      "application/vnd.jupyter.widget-view+json": {
       "model_id": "2d46d9a9a11c4e9bb4bc7391593e92fb",
       "version_major": 2,
       "version_minor": 0
      },
      "text/plain": [
       "0it [00:00, ?it/s]"
      ]
     },
     "metadata": {},
     "output_type": "display_data"
    },
    {
     "name": "stdout",
     "output_type": "stream",
     "text": [
      "Parallel preprocessing done!\n"
     ]
    }
   ],
   "source": [
    "data_dir = f'{base_dir}/data/raw/IRMAS_Training_Data'\n",
    "new_dir = f'{base_dir}/data/processed_22khz/pitch_sync/IRMAS_Training_Data'\n",
    "preprocessor = IRMASPreprocessor(data_dir, new_dir, ordered=True, sr=22050, sync_bpm=False, subset=\"train\", metadata=\"metadata_train.csv\")\n",
    "preprocessor.preprocess_and_combine_all()"
   ]
  },
  {
   "cell_type": "code",
   "execution_count": null,
   "id": "568a192f",
   "metadata": {},
   "outputs": [],
   "source": []
  }
 ],
 "metadata": {
  "kernelspec": {
   "display_name": "Python 3 (ipykernel)",
   "language": "python",
   "name": "python3"
  },
  "language_info": {
   "codemirror_mode": {
    "name": "ipython",
    "version": 3
   },
   "file_extension": ".py",
   "mimetype": "text/x-python",
   "name": "python",
   "nbconvert_exporter": "python",
   "pygments_lexer": "ipython3",
   "version": "3.10.9"
  }
 },
 "nbformat": 4,
 "nbformat_minor": 5
}
