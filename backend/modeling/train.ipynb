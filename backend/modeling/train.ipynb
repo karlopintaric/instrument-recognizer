{
 "cells": [
  {
   "cell_type": "code",
   "execution_count": 2,
   "id": "c7e138e8",
   "metadata": {},
   "outputs": [
    {
     "name": "stderr",
     "output_type": "stream",
     "text": [
      "/home/kpintaric/lumen-irmas/venv/lib/python3.10/site-packages/torchvision/io/image.py:13: UserWarning: Failed to load image Python extension: /home/kpintaric/lumen-irmas/venv/lib/python3.10/site-packages/torchvision/image.so: undefined symbol: _ZN5torch3jit17parseSchemaOrNameERKNSt7__cxx1112basic_stringIcSt11char_traitsIcESaIcEEE\n",
      "  warn(f\"Failed to load image Python extension: {e}\")\n"
     ]
    },
    {
     "ename": "RuntimeError",
     "evalue": "Unable to find target for this triple (no targets are registered)",
     "output_type": "error",
     "traceback": [
      "\u001b[0;31m---------------------------------------------------------------------------\u001b[0m",
      "\u001b[0;31mRuntimeError\u001b[0m                              Traceback (most recent call last)",
      "Cell \u001b[0;32mIn[2], line 6\u001b[0m\n\u001b[1;32m      3\u001b[0m \u001b[39mimport\u001b[39;00m \u001b[39mwandb\u001b[39;00m\n\u001b[1;32m      5\u001b[0m \u001b[39mfrom\u001b[39;00m \u001b[39msrc\u001b[39;00m\u001b[39m.\u001b[39;00m\u001b[39mutils\u001b[39;00m \u001b[39mimport\u001b[39;00m parse_config\n\u001b[0;32m----> 6\u001b[0m \u001b[39mfrom\u001b[39;00m \u001b[39msrc\u001b[39;00m\u001b[39m.\u001b[39;00m\u001b[39mdataset\u001b[39;00m \u001b[39mimport\u001b[39;00m get_loader\n\u001b[1;32m      7\u001b[0m \u001b[39mfrom\u001b[39;00m \u001b[39msrc\u001b[39;00m\u001b[39m.\u001b[39;00m\u001b[39mlearner\u001b[39;00m \u001b[39mimport\u001b[39;00m Learner\n\u001b[1;32m      8\u001b[0m \u001b[39mfrom\u001b[39;00m \u001b[39msrc\u001b[39;00m\u001b[39m.\u001b[39;00m\u001b[39mmodels\u001b[39;00m \u001b[39mimport\u001b[39;00m ASTPretrainedBigHead, ASTPretrainedSmallHead, RNN, ASTWithWeightedLayerPooling\n",
      "File \u001b[0;32m~/lumen-irmas/backend/modeling/src/dataset.py:2\u001b[0m\n\u001b[1;32m      1\u001b[0m \u001b[39mfrom\u001b[39;00m \u001b[39m.\u001b[39;00m\u001b[39mutils\u001b[39;00m \u001b[39mimport\u001b[39;00m get_wav_files, CLASSES\n\u001b[0;32m----> 2\u001b[0m \u001b[39mfrom\u001b[39;00m \u001b[39m.\u001b[39;00m\u001b[39mtransforms\u001b[39;00m \u001b[39mimport\u001b[39;00m LabelsFromTxt, OneHotEncode, ParentMultilabel\n\u001b[1;32m      3\u001b[0m \u001b[39mfrom\u001b[39;00m \u001b[39mtorch\u001b[39;00m\u001b[39m.\u001b[39;00m\u001b[39mutils\u001b[39;00m\u001b[39m.\u001b[39;00m\u001b[39mdata\u001b[39;00m \u001b[39mimport\u001b[39;00m Dataset, DataLoader\n\u001b[1;32m      4\u001b[0m \u001b[39mimport\u001b[39;00m \u001b[39mtorch\u001b[39;00m\n",
      "File \u001b[0;32m~/lumen-irmas/backend/modeling/src/transforms.py:10\u001b[0m\n\u001b[1;32m      8\u001b[0m \u001b[39mimport\u001b[39;00m \u001b[39mtorch\u001b[39;00m\u001b[39m.\u001b[39;00m\u001b[39mnn\u001b[39;00m\u001b[39m.\u001b[39;00m\u001b[39mfunctional\u001b[39;00m \u001b[39mas\u001b[39;00m \u001b[39mF\u001b[39;00m\n\u001b[1;32m      9\u001b[0m \u001b[39mfrom\u001b[39;00m \u001b[39mtorchvision\u001b[39;00m\u001b[39m.\u001b[39;00m\u001b[39mtransforms\u001b[39;00m \u001b[39mimport\u001b[39;00m Compose\n\u001b[0;32m---> 10\u001b[0m \u001b[39mfrom\u001b[39;00m \u001b[39maudiomentations\u001b[39;00m \u001b[39mimport\u001b[39;00m TimeMask, RoomSimulator\n\u001b[1;32m     11\u001b[0m \u001b[39mfrom\u001b[39;00m \u001b[39maudiomentations\u001b[39;00m \u001b[39mimport\u001b[39;00m Compose \u001b[39mas\u001b[39;00m AudioCompose\n\u001b[1;32m     12\u001b[0m \u001b[39mfrom\u001b[39;00m \u001b[39mtorchaudio\u001b[39;00m\u001b[39m.\u001b[39;00m\u001b[39mtransforms\u001b[39;00m \u001b[39mimport\u001b[39;00m FrequencyMasking, TimeMasking\n",
      "File \u001b[0;32m~/lumen-irmas/venv/lib/python3.10/site-packages/audiomentations/__init__.py:1\u001b[0m\n\u001b[0;32m----> 1\u001b[0m \u001b[39mfrom\u001b[39;00m \u001b[39m.\u001b[39;00m\u001b[39maugmentations\u001b[39;00m\u001b[39m.\u001b[39;00m\u001b[39madd_background_noise\u001b[39;00m \u001b[39mimport\u001b[39;00m AddBackgroundNoise\n\u001b[1;32m      2\u001b[0m \u001b[39mfrom\u001b[39;00m \u001b[39m.\u001b[39;00m\u001b[39maugmentations\u001b[39;00m\u001b[39m.\u001b[39;00m\u001b[39madd_gaussian_noise\u001b[39;00m \u001b[39mimport\u001b[39;00m AddGaussianNoise\n\u001b[1;32m      3\u001b[0m \u001b[39mfrom\u001b[39;00m \u001b[39m.\u001b[39;00m\u001b[39maugmentations\u001b[39;00m\u001b[39m.\u001b[39;00m\u001b[39madd_gaussian_snr\u001b[39;00m \u001b[39mimport\u001b[39;00m AddGaussianSNR\n",
      "File \u001b[0;32m~/lumen-irmas/venv/lib/python3.10/site-packages/audiomentations/augmentations/add_background_noise.py:9\u001b[0m\n\u001b[1;32m      5\u001b[0m \u001b[39mfrom\u001b[39;00m \u001b[39mtyping\u001b[39;00m \u001b[39mimport\u001b[39;00m Optional, List, Callable, Union\n\u001b[1;32m      7\u001b[0m \u001b[39mimport\u001b[39;00m \u001b[39mnumpy\u001b[39;00m \u001b[39mas\u001b[39;00m \u001b[39mnp\u001b[39;00m\n\u001b[0;32m----> 9\u001b[0m \u001b[39mfrom\u001b[39;00m \u001b[39maudiomentations\u001b[39;00m\u001b[39m.\u001b[39;00m\u001b[39mcore\u001b[39;00m\u001b[39m.\u001b[39;00m\u001b[39maudio_loading_utils\u001b[39;00m \u001b[39mimport\u001b[39;00m load_sound_file\n\u001b[1;32m     10\u001b[0m \u001b[39mfrom\u001b[39;00m \u001b[39maudiomentations\u001b[39;00m\u001b[39m.\u001b[39;00m\u001b[39mcore\u001b[39;00m\u001b[39m.\u001b[39;00m\u001b[39mtransforms_interface\u001b[39;00m \u001b[39mimport\u001b[39;00m BaseWaveformTransform\n\u001b[1;32m     11\u001b[0m \u001b[39mfrom\u001b[39;00m \u001b[39maudiomentations\u001b[39;00m\u001b[39m.\u001b[39;00m\u001b[39mcore\u001b[39;00m\u001b[39m.\u001b[39;00m\u001b[39mutils\u001b[39;00m \u001b[39mimport\u001b[39;00m (\n\u001b[1;32m     12\u001b[0m     calculate_desired_noise_rms,\n\u001b[1;32m     13\u001b[0m     calculate_rms,\n\u001b[1;32m     14\u001b[0m     convert_decibels_to_amplitude_ratio,\n\u001b[1;32m     15\u001b[0m     find_audio_files_in_paths,\n\u001b[1;32m     16\u001b[0m )\n",
      "File \u001b[0;32m~/lumen-irmas/venv/lib/python3.10/site-packages/audiomentations/core/audio_loading_utils.py:3\u001b[0m\n\u001b[1;32m      1\u001b[0m \u001b[39mimport\u001b[39;00m \u001b[39mwarnings\u001b[39;00m\n\u001b[0;32m----> 3\u001b[0m \u001b[39mimport\u001b[39;00m \u001b[39mlibrosa\u001b[39;00m\n\u001b[1;32m      4\u001b[0m \u001b[39mimport\u001b[39;00m \u001b[39mnumpy\u001b[39;00m \u001b[39mas\u001b[39;00m \u001b[39mnp\u001b[39;00m\n\u001b[1;32m      7\u001b[0m \u001b[39mdef\u001b[39;00m \u001b[39mload_sound_file\u001b[39m(file_path, sample_rate, mono\u001b[39m=\u001b[39m\u001b[39mTrue\u001b[39;00m, resample_type\u001b[39m=\u001b[39m\u001b[39m\"\u001b[39m\u001b[39mauto\u001b[39m\u001b[39m\"\u001b[39m):\n",
      "File \u001b[0;32m~/lumen-irmas/venv/lib/python3.10/site-packages/librosa/__init__.py:209\u001b[0m\n\u001b[1;32m    207\u001b[0m \u001b[39m# And all the librosa sub-modules\u001b[39;00m\n\u001b[1;32m    208\u001b[0m \u001b[39mfrom\u001b[39;00m \u001b[39m.\u001b[39;00m\u001b[39m_cache\u001b[39;00m \u001b[39mimport\u001b[39;00m cache\n\u001b[0;32m--> 209\u001b[0m \u001b[39mfrom\u001b[39;00m \u001b[39m.\u001b[39;00m \u001b[39mimport\u001b[39;00m core\n\u001b[1;32m    210\u001b[0m \u001b[39mfrom\u001b[39;00m \u001b[39m.\u001b[39;00m \u001b[39mimport\u001b[39;00m beat\n\u001b[1;32m    211\u001b[0m \u001b[39mfrom\u001b[39;00m \u001b[39m.\u001b[39;00m \u001b[39mimport\u001b[39;00m decompose\n",
      "File \u001b[0;32m~/lumen-irmas/venv/lib/python3.10/site-packages/librosa/core/__init__.py:5\u001b[0m\n\u001b[1;32m      1\u001b[0m \u001b[39m#!/usr/bin/env python\u001b[39;00m\n\u001b[1;32m      2\u001b[0m \u001b[39m# -*- coding: utf-8 -*-\u001b[39;00m\n\u001b[1;32m      3\u001b[0m \u001b[39m\"\"\" Core IO and DSP functions\"\"\"\u001b[39;00m\n\u001b[0;32m----> 5\u001b[0m \u001b[39mfrom\u001b[39;00m \u001b[39m.\u001b[39;00m\u001b[39mconvert\u001b[39;00m \u001b[39mimport\u001b[39;00m \u001b[39m*\u001b[39m  \u001b[39m# pylint: disable=wildcard-import\u001b[39;00m\n\u001b[1;32m      6\u001b[0m \u001b[39mfrom\u001b[39;00m \u001b[39m.\u001b[39;00m\u001b[39maudio\u001b[39;00m \u001b[39mimport\u001b[39;00m \u001b[39m*\u001b[39m  \u001b[39m# pylint: disable=wildcard-import\u001b[39;00m\n\u001b[1;32m      7\u001b[0m \u001b[39mfrom\u001b[39;00m \u001b[39m.\u001b[39;00m\u001b[39mspectrum\u001b[39;00m \u001b[39mimport\u001b[39;00m \u001b[39m*\u001b[39m  \u001b[39m# pylint: disable=wildcard-import\u001b[39;00m\n",
      "File \u001b[0;32m~/lumen-irmas/venv/lib/python3.10/site-packages/librosa/core/convert.py:7\u001b[0m\n\u001b[1;32m      5\u001b[0m \u001b[39mimport\u001b[39;00m \u001b[39mre\u001b[39;00m\n\u001b[1;32m      6\u001b[0m \u001b[39mimport\u001b[39;00m \u001b[39mnumpy\u001b[39;00m \u001b[39mas\u001b[39;00m \u001b[39mnp\u001b[39;00m\n\u001b[0;32m----> 7\u001b[0m \u001b[39mfrom\u001b[39;00m \u001b[39m.\u001b[39;00m \u001b[39mimport\u001b[39;00m notation\n\u001b[1;32m      8\u001b[0m \u001b[39mfrom\u001b[39;00m \u001b[39m.\u001b[39;00m\u001b[39m.\u001b[39;00m\u001b[39mutil\u001b[39;00m\u001b[39m.\u001b[39;00m\u001b[39mexceptions\u001b[39;00m \u001b[39mimport\u001b[39;00m ParameterError\n\u001b[1;32m      9\u001b[0m \u001b[39mfrom\u001b[39;00m \u001b[39m.\u001b[39;00m\u001b[39m.\u001b[39;00m\u001b[39mutil\u001b[39;00m\u001b[39m.\u001b[39;00m\u001b[39mdecorators\u001b[39;00m \u001b[39mimport\u001b[39;00m deprecate_positional_args\n",
      "File \u001b[0;32m~/lumen-irmas/venv/lib/python3.10/site-packages/librosa/core/notation.py:8\u001b[0m\n\u001b[1;32m      6\u001b[0m \u001b[39mimport\u001b[39;00m \u001b[39mnumpy\u001b[39;00m \u001b[39mas\u001b[39;00m \u001b[39mnp\u001b[39;00m\n\u001b[1;32m      7\u001b[0m \u001b[39mfrom\u001b[39;00m \u001b[39m.\u001b[39;00m\u001b[39m.\u001b[39;00m\u001b[39m_cache\u001b[39;00m \u001b[39mimport\u001b[39;00m cache\n\u001b[0;32m----> 8\u001b[0m \u001b[39mfrom\u001b[39;00m \u001b[39m.\u001b[39;00m\u001b[39m.\u001b[39;00m\u001b[39mutil\u001b[39;00m\u001b[39m.\u001b[39;00m\u001b[39mexceptions\u001b[39;00m \u001b[39mimport\u001b[39;00m ParameterError\n\u001b[1;32m      9\u001b[0m \u001b[39mfrom\u001b[39;00m \u001b[39m.\u001b[39;00m\u001b[39m.\u001b[39;00m\u001b[39mutil\u001b[39;00m\u001b[39m.\u001b[39;00m\u001b[39mdecorators\u001b[39;00m \u001b[39mimport\u001b[39;00m deprecate_positional_args\n\u001b[1;32m     11\u001b[0m __all__ \u001b[39m=\u001b[39m [\n\u001b[1;32m     12\u001b[0m     \u001b[39m\"\u001b[39m\u001b[39mkey_to_degrees\u001b[39m\u001b[39m\"\u001b[39m,\n\u001b[1;32m     13\u001b[0m     \u001b[39m\"\u001b[39m\u001b[39mkey_to_notes\u001b[39m\u001b[39m\"\u001b[39m,\n\u001b[0;32m   (...)\u001b[0m\n\u001b[1;32m     18\u001b[0m     \u001b[39m\"\u001b[39m\u001b[39mlist_thaat\u001b[39m\u001b[39m\"\u001b[39m,\n\u001b[1;32m     19\u001b[0m ]\n",
      "File \u001b[0;32m~/lumen-irmas/venv/lib/python3.10/site-packages/librosa/util/__init__.py:77\u001b[0m\n\u001b[1;32m      1\u001b[0m \u001b[39m#!/usr/bin/env python\u001b[39;00m\n\u001b[1;32m      2\u001b[0m \u001b[39m# -*- coding: utf-8 -*-\u001b[39;00m\n\u001b[1;32m      3\u001b[0m \u001b[39m\"\"\"\u001b[39;00m\n\u001b[1;32m      4\u001b[0m \u001b[39mUtilities\u001b[39;00m\n\u001b[1;32m      5\u001b[0m \u001b[39m=========\u001b[39;00m\n\u001b[0;32m   (...)\u001b[0m\n\u001b[1;32m     74\u001b[0m \n\u001b[1;32m     75\u001b[0m \u001b[39m\"\"\"\u001b[39;00m\n\u001b[0;32m---> 77\u001b[0m \u001b[39mfrom\u001b[39;00m \u001b[39m.\u001b[39;00m\u001b[39mutils\u001b[39;00m \u001b[39mimport\u001b[39;00m \u001b[39m*\u001b[39m  \u001b[39m# pylint: disable=wildcard-import\u001b[39;00m\n\u001b[1;32m     78\u001b[0m \u001b[39mfrom\u001b[39;00m \u001b[39m.\u001b[39;00m\u001b[39mfiles\u001b[39;00m \u001b[39mimport\u001b[39;00m \u001b[39m*\u001b[39m  \u001b[39m# pylint: disable=wildcard-import\u001b[39;00m\n\u001b[1;32m     79\u001b[0m \u001b[39mfrom\u001b[39;00m \u001b[39m.\u001b[39;00m\u001b[39mmatching\u001b[39;00m \u001b[39mimport\u001b[39;00m \u001b[39m*\u001b[39m  \u001b[39m# pylint: disable=wildcard-import\u001b[39;00m\n",
      "File \u001b[0;32m~/lumen-irmas/venv/lib/python3.10/site-packages/librosa/util/utils.py:1879\u001b[0m\n\u001b[1;32m   1874\u001b[0m     slices[axis] \u001b[39m=\u001b[39m \u001b[39mslice\u001b[39m(edge_order, \u001b[39m-\u001b[39medge_order)\n\u001b[1;32m   1875\u001b[0m     \u001b[39mreturn\u001b[39;00m grad[\u001b[39mtuple\u001b[39m(slices)]\n\u001b[1;32m   1878\u001b[0m \u001b[39m@numba\u001b[39;49m\u001b[39m.\u001b[39;49mjit(nopython\u001b[39m=\u001b[39;49m\u001b[39mTrue\u001b[39;49;00m, cache\u001b[39m=\u001b[39;49m\u001b[39mTrue\u001b[39;49;00m)\n\u001b[0;32m-> 1879\u001b[0m \u001b[39mdef\u001b[39;49;00m \u001b[39m__shear_dense\u001b[39;49m(X, \u001b[39m*\u001b[39;49m, factor\u001b[39m=\u001b[39;49m\u001b[39m+\u001b[39;49m\u001b[39m1\u001b[39;49m, axis\u001b[39m=\u001b[39;49m\u001b[39m-\u001b[39;49m\u001b[39m1\u001b[39;49m):\n\u001b[1;32m   1880\u001b[0m \u001b[39m    \u001b[39;49m\u001b[39m\"\"\"Numba-accelerated shear for dense (ndarray) arrays\"\"\"\u001b[39;49;00m\n\u001b[1;32m   1882\u001b[0m     \u001b[39mif\u001b[39;49;00m axis \u001b[39m==\u001b[39;49m \u001b[39m0\u001b[39;49m:\n",
      "File \u001b[0;32m~/lumen-irmas/venv/lib/python3.10/site-packages/numba/core/decorators.py:208\u001b[0m, in \u001b[0;36m_jit.<locals>.wrapper\u001b[0;34m(func)\u001b[0m\n\u001b[1;32m    206\u001b[0m \u001b[39mif\u001b[39;00m config\u001b[39m.\u001b[39mDISABLE_JIT \u001b[39mand\u001b[39;00m \u001b[39mnot\u001b[39;00m target \u001b[39m==\u001b[39m \u001b[39m'\u001b[39m\u001b[39mnpyufunc\u001b[39m\u001b[39m'\u001b[39m:\n\u001b[1;32m    207\u001b[0m     \u001b[39mreturn\u001b[39;00m func\n\u001b[0;32m--> 208\u001b[0m disp \u001b[39m=\u001b[39m dispatcher(py_func\u001b[39m=\u001b[39;49mfunc, \u001b[39mlocals\u001b[39;49m\u001b[39m=\u001b[39;49m\u001b[39mlocals\u001b[39;49m,\n\u001b[1;32m    209\u001b[0m                   targetoptions\u001b[39m=\u001b[39;49mtargetoptions,\n\u001b[1;32m    210\u001b[0m                   \u001b[39m*\u001b[39;49m\u001b[39m*\u001b[39;49mdispatcher_args)\n\u001b[1;32m    211\u001b[0m \u001b[39mif\u001b[39;00m cache:\n\u001b[1;32m    212\u001b[0m     disp\u001b[39m.\u001b[39menable_caching()\n",
      "File \u001b[0;32m~/lumen-irmas/venv/lib/python3.10/site-packages/numba/core/dispatcher.py:824\u001b[0m, in \u001b[0;36mDispatcher.__init__\u001b[0;34m(self, py_func, locals, targetoptions, impl_kind, pipeline_class)\u001b[0m\n\u001b[1;32m    809\u001b[0m \u001b[39m\u001b[39m\u001b[39m\"\"\"\u001b[39;00m\n\u001b[1;32m    810\u001b[0m \u001b[39mParameters\u001b[39;00m\n\u001b[1;32m    811\u001b[0m \u001b[39m----------\u001b[39;00m\n\u001b[0;32m   (...)\u001b[0m\n\u001b[1;32m    821\u001b[0m \u001b[39m    The compiler pipeline type.\u001b[39;00m\n\u001b[1;32m    822\u001b[0m \u001b[39m\"\"\"\u001b[39;00m\n\u001b[1;32m    823\u001b[0m \u001b[39mself\u001b[39m\u001b[39m.\u001b[39mtypingctx \u001b[39m=\u001b[39m \u001b[39mself\u001b[39m\u001b[39m.\u001b[39mtargetdescr\u001b[39m.\u001b[39mtyping_context\n\u001b[0;32m--> 824\u001b[0m \u001b[39mself\u001b[39m\u001b[39m.\u001b[39mtargetctx \u001b[39m=\u001b[39m \u001b[39mself\u001b[39;49m\u001b[39m.\u001b[39;49mtargetdescr\u001b[39m.\u001b[39;49mtarget_context\n\u001b[1;32m    826\u001b[0m pysig \u001b[39m=\u001b[39m utils\u001b[39m.\u001b[39mpysignature(py_func)\n\u001b[1;32m    827\u001b[0m arg_count \u001b[39m=\u001b[39m \u001b[39mlen\u001b[39m(pysig\u001b[39m.\u001b[39mparameters)\n",
      "File \u001b[0;32m~/lumen-irmas/venv/lib/python3.10/site-packages/numba/core/registry.py:47\u001b[0m, in \u001b[0;36mCPUTarget.target_context\u001b[0;34m(self)\u001b[0m\n\u001b[1;32m     45\u001b[0m     \u001b[39mreturn\u001b[39;00m nested\n\u001b[1;32m     46\u001b[0m \u001b[39melse\u001b[39;00m:\n\u001b[0;32m---> 47\u001b[0m     \u001b[39mreturn\u001b[39;00m \u001b[39mself\u001b[39;49m\u001b[39m.\u001b[39;49m_toplevel_target_context\n",
      "File \u001b[0;32m~/lumen-irmas/venv/lib/python3.10/functools.py:981\u001b[0m, in \u001b[0;36mcached_property.__get__\u001b[0;34m(self, instance, owner)\u001b[0m\n\u001b[1;32m    979\u001b[0m val \u001b[39m=\u001b[39m cache\u001b[39m.\u001b[39mget(\u001b[39mself\u001b[39m\u001b[39m.\u001b[39mattrname, _NOT_FOUND)\n\u001b[1;32m    980\u001b[0m \u001b[39mif\u001b[39;00m val \u001b[39mis\u001b[39;00m _NOT_FOUND:\n\u001b[0;32m--> 981\u001b[0m     val \u001b[39m=\u001b[39m \u001b[39mself\u001b[39;49m\u001b[39m.\u001b[39;49mfunc(instance)\n\u001b[1;32m    982\u001b[0m     \u001b[39mtry\u001b[39;00m:\n\u001b[1;32m    983\u001b[0m         cache[\u001b[39mself\u001b[39m\u001b[39m.\u001b[39mattrname] \u001b[39m=\u001b[39m val\n",
      "File \u001b[0;32m~/lumen-irmas/venv/lib/python3.10/site-packages/numba/core/registry.py:31\u001b[0m, in \u001b[0;36mCPUTarget._toplevel_target_context\u001b[0;34m(self)\u001b[0m\n\u001b[1;32m     28\u001b[0m \u001b[39m@utils\u001b[39m\u001b[39m.\u001b[39mcached_property\n\u001b[1;32m     29\u001b[0m \u001b[39mdef\u001b[39;00m \u001b[39m_toplevel_target_context\u001b[39m(\u001b[39mself\u001b[39m):\n\u001b[1;32m     30\u001b[0m     \u001b[39m# Lazily-initialized top-level target context, for all threads\u001b[39;00m\n\u001b[0;32m---> 31\u001b[0m     \u001b[39mreturn\u001b[39;00m cpu\u001b[39m.\u001b[39;49mCPUContext(\u001b[39mself\u001b[39;49m\u001b[39m.\u001b[39;49mtyping_context, \u001b[39mself\u001b[39;49m\u001b[39m.\u001b[39;49m_target_name)\n",
      "File \u001b[0;32m~/lumen-irmas/venv/lib/python3.10/site-packages/numba/core/cpu.py:40\u001b[0m, in \u001b[0;36mCPUContext.__init__\u001b[0;34m(self, typingctx, target)\u001b[0m\n\u001b[1;32m     39\u001b[0m \u001b[39mdef\u001b[39;00m \u001b[39m__init__\u001b[39m(\u001b[39mself\u001b[39m, typingctx, target\u001b[39m=\u001b[39m\u001b[39m'\u001b[39m\u001b[39mcpu\u001b[39m\u001b[39m'\u001b[39m):\n\u001b[0;32m---> 40\u001b[0m     \u001b[39msuper\u001b[39;49m()\u001b[39m.\u001b[39;49m\u001b[39m__init__\u001b[39;49m(typingctx, target)\n",
      "File \u001b[0;32m~/lumen-irmas/venv/lib/python3.10/site-packages/numba/core/base.py:257\u001b[0m, in \u001b[0;36mBaseContext.__init__\u001b[0;34m(self, typing_context, target)\u001b[0m\n\u001b[1;32m    254\u001b[0m \u001b[39mself\u001b[39m\u001b[39m.\u001b[39mdata_model_manager \u001b[39m=\u001b[39m datamodel\u001b[39m.\u001b[39mdefault_manager\n\u001b[1;32m    256\u001b[0m \u001b[39m# Initialize\u001b[39;00m\n\u001b[0;32m--> 257\u001b[0m \u001b[39mself\u001b[39;49m\u001b[39m.\u001b[39;49minit()\n",
      "File \u001b[0;32m~/lumen-irmas/venv/lib/python3.10/site-packages/numba/core/compiler_lock.py:35\u001b[0m, in \u001b[0;36m_CompilerLock.__call__.<locals>._acquire_compile_lock\u001b[0;34m(*args, **kwargs)\u001b[0m\n\u001b[1;32m     32\u001b[0m \u001b[39m@functools\u001b[39m\u001b[39m.\u001b[39mwraps(func)\n\u001b[1;32m     33\u001b[0m \u001b[39mdef\u001b[39;00m \u001b[39m_acquire_compile_lock\u001b[39m(\u001b[39m*\u001b[39margs, \u001b[39m*\u001b[39m\u001b[39m*\u001b[39mkwargs):\n\u001b[1;32m     34\u001b[0m     \u001b[39mwith\u001b[39;00m \u001b[39mself\u001b[39m:\n\u001b[0;32m---> 35\u001b[0m         \u001b[39mreturn\u001b[39;00m func(\u001b[39m*\u001b[39;49margs, \u001b[39m*\u001b[39;49m\u001b[39m*\u001b[39;49mkwargs)\n",
      "File \u001b[0;32m~/lumen-irmas/venv/lib/python3.10/site-packages/numba/core/cpu.py:49\u001b[0m, in \u001b[0;36mCPUContext.init\u001b[0;34m(self)\u001b[0m\n\u001b[1;32m     46\u001b[0m \u001b[39m@global_compiler_lock\u001b[39m\n\u001b[1;32m     47\u001b[0m \u001b[39mdef\u001b[39;00m \u001b[39minit\u001b[39m(\u001b[39mself\u001b[39m):\n\u001b[1;32m     48\u001b[0m     \u001b[39mself\u001b[39m\u001b[39m.\u001b[39mis32bit \u001b[39m=\u001b[39m (utils\u001b[39m.\u001b[39mMACHINE_BITS \u001b[39m==\u001b[39m \u001b[39m32\u001b[39m)\n\u001b[0;32m---> 49\u001b[0m     \u001b[39mself\u001b[39m\u001b[39m.\u001b[39m_internal_codegen \u001b[39m=\u001b[39m codegen\u001b[39m.\u001b[39;49mJITCPUCodegen(\u001b[39m\"\u001b[39;49m\u001b[39mnumba.exec\u001b[39;49m\u001b[39m\"\u001b[39;49m)\n\u001b[1;32m     51\u001b[0m     \u001b[39m# Add ARM ABI functions from libgcc_s\u001b[39;00m\n\u001b[1;32m     52\u001b[0m     \u001b[39mif\u001b[39;00m platform\u001b[39m.\u001b[39mmachine() \u001b[39m==\u001b[39m \u001b[39m'\u001b[39m\u001b[39marmv7l\u001b[39m\u001b[39m'\u001b[39m:\n",
      "File \u001b[0;32m~/lumen-irmas/venv/lib/python3.10/site-packages/numba/core/codegen.py:1171\u001b[0m, in \u001b[0;36mCPUCodegen.__init__\u001b[0;34m(self, module_name)\u001b[0m\n\u001b[1;32m   1169\u001b[0m \u001b[39mself\u001b[39m\u001b[39m.\u001b[39m_llvm_module\u001b[39m.\u001b[39mname \u001b[39m=\u001b[39m \u001b[39m\"\u001b[39m\u001b[39mglobal_codegen_module\u001b[39m\u001b[39m\"\u001b[39m\n\u001b[1;32m   1170\u001b[0m \u001b[39mself\u001b[39m\u001b[39m.\u001b[39m_rtlinker \u001b[39m=\u001b[39m RuntimeLinker()\n\u001b[0;32m-> 1171\u001b[0m \u001b[39mself\u001b[39;49m\u001b[39m.\u001b[39;49m_init(\u001b[39mself\u001b[39;49m\u001b[39m.\u001b[39;49m_llvm_module)\n",
      "File \u001b[0;32m~/lumen-irmas/venv/lib/python3.10/site-packages/numba/core/codegen.py:1176\u001b[0m, in \u001b[0;36mCPUCodegen._init\u001b[0;34m(self, llvm_module)\u001b[0m\n\u001b[1;32m   1173\u001b[0m \u001b[39mdef\u001b[39;00m \u001b[39m_init\u001b[39m(\u001b[39mself\u001b[39m, llvm_module):\n\u001b[1;32m   1174\u001b[0m     \u001b[39massert\u001b[39;00m \u001b[39mlist\u001b[39m(llvm_module\u001b[39m.\u001b[39mglobal_variables) \u001b[39m==\u001b[39m [], \u001b[39m\"\u001b[39m\u001b[39mModule isn\u001b[39m\u001b[39m'\u001b[39m\u001b[39mt empty\u001b[39m\u001b[39m\"\u001b[39m\n\u001b[0;32m-> 1176\u001b[0m     target \u001b[39m=\u001b[39m ll\u001b[39m.\u001b[39;49mTarget\u001b[39m.\u001b[39;49mfrom_triple(ll\u001b[39m.\u001b[39;49mget_process_triple())\n\u001b[1;32m   1177\u001b[0m     tm_options \u001b[39m=\u001b[39m \u001b[39mdict\u001b[39m(opt\u001b[39m=\u001b[39mconfig\u001b[39m.\u001b[39mOPT)\n\u001b[1;32m   1178\u001b[0m     \u001b[39mself\u001b[39m\u001b[39m.\u001b[39m_tm_features \u001b[39m=\u001b[39m \u001b[39mself\u001b[39m\u001b[39m.\u001b[39m_customize_tm_features()\n",
      "File \u001b[0;32m~/lumen-irmas/venv/lib/python3.10/site-packages/llvmlite/binding/targets.py:197\u001b[0m, in \u001b[0;36mTarget.from_triple\u001b[0;34m(cls, triple)\u001b[0m\n\u001b[1;32m    194\u001b[0m target \u001b[39m=\u001b[39m ffi\u001b[39m.\u001b[39mlib\u001b[39m.\u001b[39mLLVMPY_GetTargetFromTriple(triple\u001b[39m.\u001b[39mencode(\u001b[39m'\u001b[39m\u001b[39mutf8\u001b[39m\u001b[39m'\u001b[39m),\n\u001b[1;32m    195\u001b[0m                                             outerr)\n\u001b[1;32m    196\u001b[0m \u001b[39mif\u001b[39;00m \u001b[39mnot\u001b[39;00m target:\n\u001b[0;32m--> 197\u001b[0m     \u001b[39mraise\u001b[39;00m \u001b[39mRuntimeError\u001b[39;00m(\u001b[39mstr\u001b[39m(outerr))\n\u001b[1;32m    198\u001b[0m target \u001b[39m=\u001b[39m \u001b[39mcls\u001b[39m(target)\n\u001b[1;32m    199\u001b[0m target\u001b[39m.\u001b[39m_triple \u001b[39m=\u001b[39m triple\n",
      "\u001b[0;31mRuntimeError\u001b[0m: Unable to find target for this triple (no targets are registered)"
     ]
    }
   ],
   "source": [
    "import torch\n",
    "import numpy as np\n",
    "import wandb\n",
    "\n",
    "from src.utils import parse_config\n",
    "from src.dataset import get_loader\n",
    "from src.learner import Learner\n",
    "from src.models import ASTPretrainedBigHead, ASTPretrainedSmallHead, RNN, ASTWithWeightedLayerPooling"
   ]
  },
  {
   "cell_type": "code",
   "execution_count": 2,
   "id": "8bd80af9",
   "metadata": {},
   "outputs": [],
   "source": [
    "SEED = 123\n",
    "torch.manual_seed(SEED)\n",
    "torch.cuda.manual_seed(SEED)\n",
    "torch.backends.cudnn.deterministic = True\n",
    "torch.backends.cudnn.benchmark = False\n",
    "np.random.seed(SEED)"
   ]
  },
  {
   "cell_type": "code",
   "execution_count": 3,
   "id": "9c28cc8e",
   "metadata": {},
   "outputs": [],
   "source": [
    "def main(config):\n",
    "    \n",
    "    train_dl = get_loader(config, subset=\"train\")\n",
    "    valid_dl = get_loader(config, subset=\"valid\")\n",
    "    \n",
    "    model = ASTPretrainedSmallHead(n_classes=11)\n",
    "\n",
    "    learn = Learner(train_dl, valid_dl, model, config)\n",
    "\n",
    "    learn.fit(4)"
   ]
  },
  {
   "cell_type": "code",
   "execution_count": null,
   "id": "f38688d6",
   "metadata": {},
   "outputs": [
    {
     "name": "stderr",
     "output_type": "stream",
     "text": [
      "\u001b[34m\u001b[1mwandb\u001b[0m: Currently logged in as: \u001b[33mk-pintaric\u001b[0m. Use \u001b[1m`wandb login --relogin`\u001b[0m to force relogin\n"
     ]
    },
    {
     "data": {
      "text/html": [
       "Tracking run with wandb version 0.14.0"
      ],
      "text/plain": [
       "<IPython.core.display.HTML object>"
      ]
     },
     "metadata": {},
     "output_type": "display_data"
    },
    {
     "data": {
      "text/html": [
       "Run data is saved locally in <code>/nfs/home/912c2e22633dde2e/lumen-irmas/wandb/run-20230321_221910-hnvi9e2x</code>"
      ],
      "text/plain": [
       "<IPython.core.display.HTML object>"
      ]
     },
     "metadata": {},
     "output_type": "display_data"
    },
    {
     "data": {
      "text/html": [
       "Syncing run <strong><a href='https://wandb.ai/k-pintaric/lumen-irmas/runs/hnvi9e2x' target=\"_blank\">driven-valley-25</a></strong> to <a href='https://wandb.ai/k-pintaric/lumen-irmas' target=\"_blank\">Weights & Biases</a> (<a href='https://wandb.me/run' target=\"_blank\">docs</a>)<br/>"
      ],
      "text/plain": [
       "<IPython.core.display.HTML object>"
      ]
     },
     "metadata": {},
     "output_type": "display_data"
    },
    {
     "data": {
      "text/html": [
       " View project at <a href='https://wandb.ai/k-pintaric/lumen-irmas' target=\"_blank\">https://wandb.ai/k-pintaric/lumen-irmas</a>"
      ],
      "text/plain": [
       "<IPython.core.display.HTML object>"
      ]
     },
     "metadata": {},
     "output_type": "display_data"
    },
    {
     "data": {
      "text/html": [
       " View run at <a href='https://wandb.ai/k-pintaric/lumen-irmas/runs/hnvi9e2x' target=\"_blank\">https://wandb.ai/k-pintaric/lumen-irmas/runs/hnvi9e2x</a>"
      ],
      "text/plain": [
       "<IPython.core.display.HTML object>"
      ]
     },
     "metadata": {},
     "output_type": "display_data"
    },
    {
     "data": {
      "application/vnd.jupyter.widget-view+json": {
       "model_id": "4020fa87b20447dfba82e8c4fec4af98",
       "version_major": 2,
       "version_minor": 0
      },
      "text/plain": [
       "  0%|          | 0/4 [00:00<?, ?it/s]"
      ]
     },
     "metadata": {},
     "output_type": "display_data"
    },
    {
     "data": {
      "application/vnd.jupyter.widget-view+json": {
       "model_id": "eef949345d7444dba44d121f6680d12f",
       "version_major": 2,
       "version_minor": 0
      },
      "text/plain": [
       "  0%|          | 0/839 [00:00<?, ?it/s]"
      ]
     },
     "metadata": {},
     "output_type": "display_data"
    }
   ],
   "source": [
    "if __name__==\"__main__\":\n",
    "\n",
    "    CONFIG_PATH = \"./config.yaml\"\n",
    "    config = parse_config(CONFIG_PATH)\n",
    "\n",
    "    run = wandb.init(config=config)\n",
    "    main(wandb.config)"
   ]
  },
  {
   "cell_type": "code",
   "execution_count": null,
   "id": "976e3b6e",
   "metadata": {},
   "outputs": [],
   "source": []
  }
 ],
 "metadata": {
  "kernelspec": {
   "display_name": "Python 3 (ipykernel)",
   "language": "python",
   "name": "python3"
  },
  "language_info": {
   "codemirror_mode": {
    "name": "ipython",
    "version": 3
   },
   "file_extension": ".py",
   "mimetype": "text/x-python",
   "name": "python",
   "nbconvert_exporter": "python",
   "pygments_lexer": "ipython3",
   "version": "3.10.9"
  }
 },
 "nbformat": 4,
 "nbformat_minor": 5
}
