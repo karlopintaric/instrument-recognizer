{
 "cells": [
  {
   "cell_type": "code",
   "execution_count": 1,
   "metadata": {},
   "outputs": [
    {
     "name": "stderr",
     "output_type": "stream",
     "text": [
      "/home/kpintaric/LUMEN-Data-Science-IRMAS/venv/lib/python3.10/site-packages/tqdm/auto.py:22: TqdmWarning: IProgress not found. Please update jupyter and ipywidgets. See https://ipywidgets.readthedocs.io/en/stable/user_install.html\n",
      "  from .autonotebook import tqdm as notebook_tqdm\n",
      "2023-03-12 11:47:48.723137: I tensorflow/core/platform/cpu_feature_guard.cc:193] This TensorFlow binary is optimized with oneAPI Deep Neural Network Library (oneDNN) to use the following CPU instructions in performance-critical operations:  SSE4.1 SSE4.2 AVX AVX2 FMA\n",
      "To enable them in other operations, rebuild TensorFlow with the appropriate compiler flags.\n"
     ]
    },
    {
     "ename": "ModuleNotFoundError",
     "evalue": "No module named 'train'",
     "output_type": "error",
     "traceback": [
      "\u001b[0;31m---------------------------------------------------------------------------\u001b[0m",
      "\u001b[0;31mModuleNotFoundError\u001b[0m                       Traceback (most recent call last)",
      "Cell \u001b[0;32mIn[1], line 20\u001b[0m\n\u001b[1;32m     18\u001b[0m \u001b[39mfrom\u001b[39;00m \u001b[39mtorch\u001b[39;00m\u001b[39m.\u001b[39;00m\u001b[39mnn\u001b[39;00m\u001b[39m.\u001b[39;00m\u001b[39mutils\u001b[39;00m\u001b[39m.\u001b[39;00m\u001b[39mrnn\u001b[39;00m \u001b[39mimport\u001b[39;00m pad_sequence\n\u001b[1;32m     19\u001b[0m \u001b[39mfrom\u001b[39;00m \u001b[39mmodels\u001b[39;00m \u001b[39mimport\u001b[39;00m RNN\n\u001b[0;32m---> 20\u001b[0m \u001b[39mfrom\u001b[39;00m \u001b[39mtrain\u001b[39;00m \u001b[39mimport\u001b[39;00m train_loop\n\u001b[1;32m     21\u001b[0m \u001b[39mimport\u001b[39;00m \u001b[39mtorchvision\u001b[39;00m\u001b[39m.\u001b[39;00m\u001b[39mtransforms\u001b[39;00m\n\u001b[1;32m     23\u001b[0m \u001b[39mimport\u001b[39;00m \u001b[39mmatplotlib\u001b[39;00m\u001b[39m.\u001b[39;00m\u001b[39mpyplot\u001b[39;00m \u001b[39mas\u001b[39;00m \u001b[39mplt\u001b[39;00m\n",
      "\u001b[0;31mModuleNotFoundError\u001b[0m: No module named 'train'"
     ]
    }
   ],
   "source": [
    "import torch\n",
    "from sklearn.metrics import f1_score, hamming_loss, accuracy_score, zero_one_loss\n",
    "import numpy as np\n",
    "\n",
    "import sys\n",
    "sys.path.append(\"/home/kpintaric/LUMEN-Data-Science-IRMAS/\")\n",
    "\n",
    "import torch\n",
    "import torch.nn as nn\n",
    "import torch.nn.functional as F\n",
    "import torch.optim as optim\n",
    "from dataset import IRMASDataset, collate_fn\n",
    "from utils import get_wav_files, CLASSES\n",
    "from transforms import PreprocessPipeline, RandomCombine, LabelsFromTxt, OneHotEncode, ParentMultilabel, PreprocessPipelineRNN\n",
    "from torch.utils.data import Dataset, DataLoader\n",
    "import torchaudio\n",
    "import IPython.display as ipd\n",
    "from torch.nn.utils.rnn import pad_sequence\n",
    "from models import RNN\n",
    "from train import train_loop\n",
    "import torchvision.transforms\n",
    "\n",
    "import matplotlib.pyplot as plt\n",
    "import numpy as np\n",
    "from tqdm import tqdm"
   ]
  },
  {
   "cell_type": "code",
   "execution_count": 3,
   "metadata": {},
   "outputs": [],
   "source": [
    "target = torch.tensor(\n",
    "    [[1,0,0],\n",
    "    [0,0,1]]\n",
    "    ).numpy()\n",
    "preds = torch.tensor(\n",
    "    [[0.7,0.8,0.1],\n",
    "    [0.7,0.5,0.6]]\n",
    "    ).numpy()"
   ]
  },
  {
   "cell_type": "code",
   "execution_count": 4,
   "metadata": {},
   "outputs": [
    {
     "name": "stdout",
     "output_type": "stream",
     "text": [
      "Samples: 0.6666666666666666\n",
      "Micro: 0.6666666666666666\n",
      "Macro: 0.5555555555555555\n",
      "None: [0.66666667 0.         1.        ]\n"
     ]
    }
   ],
   "source": [
    "pred = np.array(preds>0.5, dtype=np.float32)\n",
    "samples = f1_score(target, pred, average=\"samples\")\n",
    "micro = f1_score(target, pred, average=\"micro\")\n",
    "macro = f1_score(target, pred, average=\"macro\")\n",
    "none = f1_score(target, pred, average=None)\n",
    "\n",
    "print(f\"Samples: {samples}\\nMicro: {micro}\\nMacro: {macro}\\nNone: {none}\")"
   ]
  },
  {
   "cell_type": "code",
   "execution_count": 5,
   "metadata": {},
   "outputs": [],
   "source": [
    "# Koristi samples i None"
   ]
  },
  {
   "cell_type": "code",
   "execution_count": 6,
   "metadata": {},
   "outputs": [
    {
     "data": {
      "text/plain": [
       "0.3333333333333333"
      ]
     },
     "execution_count": 6,
     "metadata": {},
     "output_type": "execute_result"
    }
   ],
   "source": [
    "hamming_loss(target, pred)"
   ]
  },
  {
   "cell_type": "code",
   "execution_count": 13,
   "metadata": {},
   "outputs": [],
   "source": [
    "def calculate_metrics(preds, targets, threshold=0.5):\n",
    "    preds = (np.array(preds)>threshold).astype(np.float32)\n",
    "    return {\"hamming_score\": 1 - hamming_loss(targets, preds),\n",
    "            \"zero_one_score\": 1 - zero_one_loss(targets, preds, normalize=True),\n",
    "            \"f1_score/average\": f1_score(targets, preds, average=\"samples\", zero_division=0),\n",
    "            \"f1_score/per_instrument\": f1_score(targets, preds, average=None, zero_division=0)}"
   ]
  },
  {
   "cell_type": "code",
   "execution_count": 15,
   "metadata": {},
   "outputs": [],
   "source": [
    "def test_loop(dataloader, model, loss_fn, verbose=True):\n",
    "    \n",
    "    loop = tqdm(dataloader)\n",
    "    model.eval()\n",
    "    \n",
    "    num_batches = len(dataloader)\n",
    "    preds = []\n",
    "    targets = []\n",
    "    test_loss = 0\n",
    "\n",
    "    with torch.no_grad():\n",
    "        for Xb, yb in loop:\n",
    "            Xb, yb = Xb.to(device), yb.to(device)\n",
    "            pred = model(Xb)\n",
    "            \n",
    "            pred = (pred>0.5).float()\n",
    "            preds.extend(pred.cpu().numpy())\n",
    "            targets.extend(yb.cpu().numpy())\n",
    "            test_loss += loss_fn(pred, yb).item()\n",
    "            break\n",
    "\n",
    "    result = calculate_metrics(preds, targets)\n",
    "    test_loss /= num_batches\n",
    "    \n",
    "    if verbose:\n",
    "        print(f'Global accuracy: {result[\"hamming_score\"]*100:.2f}%\\n'\n",
    "            f'Percentage of samples guessed entirely correct: {result[\"zero_one_score\"]*100:.2f}%\\n' \n",
    "            f'Average f1 score: {result[\"f1_score/average\"]:.2f}'\n",
    "            )"
   ]
  },
  {
   "cell_type": "code",
   "execution_count": 9,
   "metadata": {},
   "outputs": [],
   "source": [
    "preprocess = PreprocessPipelineRNN(target_sr=22050)\n",
    "transforms = torchvision.transforms.Compose([\n",
    "    torchaudio.transforms.MelSpectrogram(sample_rate=22050, n_fft=2560, hop_length=512),\n",
    "    torchaudio.transforms.AmplitudeToDB(stype=\"power\", top_db=90)\n",
    "])\n",
    "target_transforms = torchvision.transforms.Compose([\n",
    "    ParentMultilabel(sep=\" \"),\n",
    "    OneHotEncode(CLASSES)\n",
    "])\n",
    "\n",
    "data_dir = \"/home/kpintaric/LUMEN-Data-Science-IRMAS/data/Dataset/IRMAS_Training_Data\"\n",
    "train_dst = IRMASDataset(data_dir, preprocess=preprocess, transforms=transforms, target_transforms=target_transforms)\n",
    "\n",
    "train_dl = DataLoader(train_dst, batch_size=8, collate_fn=collate_fn, shuffle=True)"
   ]
  },
  {
   "cell_type": "code",
   "execution_count": 11,
   "metadata": {},
   "outputs": [
    {
     "name": "stdout",
     "output_type": "stream",
     "text": [
      "Using device: cpu\n"
     ]
    }
   ],
   "source": [
    "device = \"cuda\" if torch.cuda.is_available() else \"cpu\"\n",
    "print(f\"Using device: {device}\")\n",
    "\n",
    "model = RNN(128,64,3,11, device)\n",
    "model = model.to(device)\n",
    "\n",
    "optimizer = optim.Adam(model.parameters(), lr=0.001)\n",
    "loss_fn = nn.BCEWithLogitsLoss()"
   ]
  },
  {
   "cell_type": "code",
   "execution_count": 16,
   "metadata": {},
   "outputs": [
    {
     "name": "stderr",
     "output_type": "stream",
     "text": [
      "  0%|          | 0/839 [00:00<?, ?it/s]"
     ]
    },
    {
     "name": "stdout",
     "output_type": "stream",
     "text": [
      "Global accuracy: 90.91%\n",
      "Percentage of samples guessed entirely correct: 0.00%\n",
      "Average f1 score: 0.00\n"
     ]
    },
    {
     "name": "stderr",
     "output_type": "stream",
     "text": [
      "\n"
     ]
    }
   ],
   "source": [
    "test_loop(train_dl, model, loss_fn)"
   ]
  },
  {
   "cell_type": "code",
   "execution_count": 2,
   "metadata": {},
   "outputs": [],
   "source": [
    "import metrics"
   ]
  },
  {
   "cell_type": "code",
   "execution_count": 5,
   "metadata": {},
   "outputs": [],
   "source": [
    "metric = getattr(metrics, \"hamming_loss\")"
   ]
  },
  {
   "cell_type": "code",
   "execution_count": 6,
   "metadata": {},
   "outputs": [
    {
     "data": {
      "text/plain": [
       "'hamming_loss'"
      ]
     },
     "execution_count": 6,
     "metadata": {},
     "output_type": "execute_result"
    }
   ],
   "source": [
    "metric.__name__"
   ]
  },
  {
   "cell_type": "code",
   "execution_count": null,
   "metadata": {},
   "outputs": [],
   "source": []
  }
 ],
 "metadata": {
  "kernelspec": {
   "display_name": "Python 3",
   "language": "python",
   "name": "python3"
  },
  "language_info": {
   "codemirror_mode": {
    "name": "ipython",
    "version": 3
   },
   "file_extension": ".py",
   "mimetype": "text/x-python",
   "name": "python",
   "nbconvert_exporter": "python",
   "pygments_lexer": "ipython3",
   "version": "3.10.9"
  },
  "orig_nbformat": 4,
  "vscode": {
   "interpreter": {
    "hash": "2ea0971815c2ab5f5be2293ce4ee4a36d54bf517a0e305e8dc186c9f5ee32098"
   }
  }
 },
 "nbformat": 4,
 "nbformat_minor": 2
}
