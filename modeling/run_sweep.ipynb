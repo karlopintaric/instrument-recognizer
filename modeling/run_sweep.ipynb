{
 "cells": [
  {
   "cell_type": "code",
   "execution_count": 1,
   "id": "c7e138e8",
   "metadata": {},
   "outputs": [],
   "source": [
    "import torch\n",
    "import numpy as np\n",
    "import wandb\n",
    "\n",
    "from utils import parse_config, unflatten_dot\n",
    "from dataset import get_loader\n",
    "from learner import Learner\n",
    "from models import ASTPretrained\n",
    "from types import SimpleNamespace"
   ]
  },
  {
   "cell_type": "code",
   "execution_count": 2,
   "id": "8bd80af9",
   "metadata": {},
   "outputs": [],
   "source": [
    "SEED = 123\n",
    "torch.manual_seed(SEED)\n",
    "torch.cuda.manual_seed(SEED)\n",
    "torch.backends.cudnn.deterministic = True\n",
    "torch.backends.cudnn.benchmark = False\n",
    "np.random.seed(SEED)"
   ]
  },
  {
   "cell_type": "code",
   "execution_count": 3,
   "id": "9c28cc8e",
   "metadata": {},
   "outputs": [],
   "source": [
    "def main():\n",
    "    \n",
    "    wandb.init()\n",
    "    config = wandb.config\n",
    "    train_dl = get_loader(config, subset=\"train\")\n",
    "    valid_dl = get_loader(config, subset=\"valid\")\n",
    "    \n",
    "    model = ASTPretrained(n_classes=11)\n",
    "\n",
    "    learn = Learner(train_dl, valid_dl, model, config)\n",
    "    learn.unfreeze()\n",
    "\n",
    "    learn.fit(4)"
   ]
  },
  {
   "cell_type": "code",
   "execution_count": 4,
   "id": "f38688d6",
   "metadata": {},
   "outputs": [
    {
     "name": "stdout",
     "output_type": "stream",
     "text": [
      "Create sweep with ID: nkjq1fa2\n",
      "Sweep URL: https://wandb.ai/k-pintaric/uncategorized/sweeps/nkjq1fa2\n"
     ]
    },
    {
     "name": "stderr",
     "output_type": "stream",
     "text": [
      "\u001b[34m\u001b[1mwandb\u001b[0m: Agent Starting Run: hjztcig1 with config:\n",
      "\u001b[34m\u001b[1mwandb\u001b[0m: \tEPOCHS: 8\n",
      "\u001b[34m\u001b[1mwandb\u001b[0m: \tLLRD: {'base_lr': 5.216780526316783e-05, 'lr_decay_rate': 0.7724874615846169, 'weight_decay': 7.20763066146665e-07}\n",
      "\u001b[34m\u001b[1mwandb\u001b[0m: \tbatch_size: 8\n",
      "\u001b[34m\u001b[1mwandb\u001b[0m: \tloss: {'FocalLoss': {'alpha': 0.25, 'gamma': 3}}\n",
      "\u001b[34m\u001b[1mwandb\u001b[0m: \tmetrics: ['hamming_score', 'zero_one_score', 'mAP', 'mean_f1_score']\n",
      "\u001b[34m\u001b[1mwandb\u001b[0m: \tnum_accum: 6\n",
      "\u001b[34m\u001b[1mwandb\u001b[0m: \toptimizer: {'AdamW': {'lr': 2.5876328734075884e-05, 'weight_decay': 0}}\n",
      "\u001b[34m\u001b[1mwandb\u001b[0m: \tpreprocess: {'PreprocessPipeline': {'target_sr': 16000}}\n",
      "\u001b[34m\u001b[1mwandb\u001b[0m: \tsave_best_model: True\n",
      "\u001b[34m\u001b[1mwandb\u001b[0m: \tscheduler: {'CosineAnnealingLR': {'eta_min': 0}}\n",
      "\u001b[34m\u001b[1mwandb\u001b[0m: \tsignal_augments: {'RepeatAudio': {'max_repeats': 4}}\n",
      "\u001b[34m\u001b[1mwandb\u001b[0m: \tspec_augments: {'MaskFrequency': {'max_mask_length': 30}, 'MaskTime': {'max_mask_length': 49}}\n",
      "\u001b[34m\u001b[1mwandb\u001b[0m: \ttrain_dir: ./data/processed/all_sync/IRMAS_Training_Data\n",
      "\u001b[34m\u001b[1mwandb\u001b[0m: \ttransforms: {'FeatureExtractor': {'sr': 16000}}\n",
      "\u001b[34m\u001b[1mwandb\u001b[0m: \tvalid_dir: ./data/raw/IRMAS_Validation_Data\n",
      "\u001b[34m\u001b[1mwandb\u001b[0m: \tverbose: True\n",
      "\u001b[34m\u001b[1mwandb\u001b[0m: Currently logged in as: \u001b[33mk-pintaric\u001b[0m. Use \u001b[1m`wandb login --relogin`\u001b[0m to force relogin\n"
     ]
    },
    {
     "data": {
      "text/html": [
       "Tracking run with wandb version 0.14.0"
      ],
      "text/plain": [
       "<IPython.core.display.HTML object>"
      ]
     },
     "metadata": {},
     "output_type": "display_data"
    },
    {
     "data": {
      "text/html": [
       "Run data is saved locally in <code>/nfs/home/912c2e22633dde2e/lumen-irmas/wandb/run-20230329_202910-hjztcig1</code>"
      ],
      "text/plain": [
       "<IPython.core.display.HTML object>"
      ]
     },
     "metadata": {},
     "output_type": "display_data"
    },
    {
     "data": {
      "text/html": [
       "Syncing run <strong><a href='https://wandb.ai/k-pintaric/uncategorized/runs/hjztcig1' target=\"_blank\">glorious-sweep-1</a></strong> to <a href='https://wandb.ai/k-pintaric/uncategorized' target=\"_blank\">Weights & Biases</a> (<a href='https://wandb.me/run' target=\"_blank\">docs</a>)<br/>Sweep page: <a href='https://wandb.ai/k-pintaric/uncategorized/sweeps/nkjq1fa2' target=\"_blank\">https://wandb.ai/k-pintaric/uncategorized/sweeps/nkjq1fa2</a>"
      ],
      "text/plain": [
       "<IPython.core.display.HTML object>"
      ]
     },
     "metadata": {},
     "output_type": "display_data"
    },
    {
     "data": {
      "text/html": [
       " View project at <a href='https://wandb.ai/k-pintaric/uncategorized' target=\"_blank\">https://wandb.ai/k-pintaric/uncategorized</a>"
      ],
      "text/plain": [
       "<IPython.core.display.HTML object>"
      ]
     },
     "metadata": {},
     "output_type": "display_data"
    },
    {
     "data": {
      "text/html": [
       " View sweep at <a href='https://wandb.ai/k-pintaric/uncategorized/sweeps/nkjq1fa2' target=\"_blank\">https://wandb.ai/k-pintaric/uncategorized/sweeps/nkjq1fa2</a>"
      ],
      "text/plain": [
       "<IPython.core.display.HTML object>"
      ]
     },
     "metadata": {},
     "output_type": "display_data"
    },
    {
     "data": {
      "text/html": [
       " View run at <a href='https://wandb.ai/k-pintaric/uncategorized/runs/hjztcig1' target=\"_blank\">https://wandb.ai/k-pintaric/uncategorized/runs/hjztcig1</a>"
      ],
      "text/plain": [
       "<IPython.core.display.HTML object>"
      ]
     },
     "metadata": {},
     "output_type": "display_data"
    },
    {
     "data": {
      "application/vnd.jupyter.widget-view+json": {
       "model_id": "f5d58f68791d4fee971a4833afd0ad94",
       "version_major": 2,
       "version_minor": 0
      },
      "text/plain": [
       "  0%|          | 0/8 [00:00<?, ?it/s]"
      ]
     },
     "metadata": {},
     "output_type": "display_data"
    },
    {
     "data": {
      "application/vnd.jupyter.widget-view+json": {
       "model_id": "fa80bc4a30f0464fb9e846554588e2ad",
       "version_major": 2,
       "version_minor": 0
      },
      "text/plain": [
       "  0%|          | 0/9220 [00:00<?, ?it/s]"
      ]
     },
     "metadata": {},
     "output_type": "display_data"
    },
    {
     "data": {
      "text/html": [
       "Waiting for W&B process to finish... <strong style=\"color:red\">(failed 1).</strong> Press Control-C to abort syncing."
      ],
      "text/plain": [
       "<IPython.core.display.HTML object>"
      ]
     },
     "metadata": {},
     "output_type": "display_data"
    },
    {
     "data": {
      "application/vnd.jupyter.widget-view+json": {
       "model_id": "a53e5acd09d04bcba41b9ddc8e9f5e16",
       "version_major": 2,
       "version_minor": 0
      },
      "text/plain": [
       "VBox(children=(Label(value='0.023 MB of 0.023 MB uploaded (0.000 MB deduped)\\r'), FloatProgress(value=1.0, max…"
      ]
     },
     "metadata": {},
     "output_type": "display_data"
    },
    {
     "data": {
      "text/html": [
       " View run <strong style=\"color:#cdcd00\">glorious-sweep-1</strong> at: <a href='https://wandb.ai/k-pintaric/uncategorized/runs/hjztcig1' target=\"_blank\">https://wandb.ai/k-pintaric/uncategorized/runs/hjztcig1</a><br/>Synced 5 W&B file(s), 0 media file(s), 0 artifact file(s) and 0 other file(s)"
      ],
      "text/plain": [
       "<IPython.core.display.HTML object>"
      ]
     },
     "metadata": {},
     "output_type": "display_data"
    },
    {
     "data": {
      "text/html": [
       "Find logs at: <code>./wandb/run-20230329_202910-hjztcig1/logs</code>"
      ],
      "text/plain": [
       "<IPython.core.display.HTML object>"
      ]
     },
     "metadata": {},
     "output_type": "display_data"
    },
    {
     "name": "stderr",
     "output_type": "stream",
     "text": [
      "Run hjztcig1 errored: AttributeError('Caught AttributeError in DataLoader worker process 0.\\nOriginal Traceback (most recent call last):\\n  File \"/nfs/home/912c2e22633dde2e/lumen-irmas/venv/lib/python3.10/site-packages/torch/utils/data/_utils/worker.py\", line 308, in _worker_loop\\n    data = fetcher.fetch(index)\\n  File \"/nfs/home/912c2e22633dde2e/lumen-irmas/venv/lib/python3.10/site-packages/torch/utils/data/_utils/fetch.py\", line 51, in fetch\\n    data = [self.dataset[idx] for idx in possibly_batched_index]\\n  File \"/nfs/home/912c2e22633dde2e/lumen-irmas/venv/lib/python3.10/site-packages/torch/utils/data/_utils/fetch.py\", line 51, in <listcomp>\\n    data = [self.dataset[idx] for idx in possibly_batched_index]\\n  File \"/nfs/home/912c2e22633dde2e/lumen-irmas/dataset.py\", line 52, in __getitem__\\n    signal = self.transforms(signal)\\n  File \"/nfs/home/912c2e22633dde2e/lumen-irmas/transforms.py\", line 106, in __call__\\n    return self.transform(signal.squeeze()).input_values.squeeze()\\nAttributeError: \\'ASTFeatureExtractor\\' object has no attribute \\'input_values\\'\\n')\n",
      "\u001b[34m\u001b[1mwandb\u001b[0m: \u001b[32m\u001b[41mERROR\u001b[0m Run hjztcig1 errored: AttributeError('Caught AttributeError in DataLoader worker process 0.\\nOriginal Traceback (most recent call last):\\n  File \"/nfs/home/912c2e22633dde2e/lumen-irmas/venv/lib/python3.10/site-packages/torch/utils/data/_utils/worker.py\", line 308, in _worker_loop\\n    data = fetcher.fetch(index)\\n  File \"/nfs/home/912c2e22633dde2e/lumen-irmas/venv/lib/python3.10/site-packages/torch/utils/data/_utils/fetch.py\", line 51, in fetch\\n    data = [self.dataset[idx] for idx in possibly_batched_index]\\n  File \"/nfs/home/912c2e22633dde2e/lumen-irmas/venv/lib/python3.10/site-packages/torch/utils/data/_utils/fetch.py\", line 51, in <listcomp>\\n    data = [self.dataset[idx] for idx in possibly_batched_index]\\n  File \"/nfs/home/912c2e22633dde2e/lumen-irmas/dataset.py\", line 52, in __getitem__\\n    signal = self.transforms(signal)\\n  File \"/nfs/home/912c2e22633dde2e/lumen-irmas/transforms.py\", line 106, in __call__\\n    return self.transform(signal.squeeze()).input_values.squeeze()\\nAttributeError: \\'ASTFeatureExtractor\\' object has no attribute \\'input_values\\'\\n')\n"
     ]
    }
   ],
   "source": [
    "import yaml\n",
    "CONFIG_PATH = \"./sweep_config.yaml\"\n",
    "with open(CONFIG_PATH) as file:\n",
    "    config = yaml.safe_load(file)\n",
    "\n",
    "sweep_id = wandb.sweep(sweep=config)\n",
    "wandb.agent(sweep_id, function=main, count=1)"
   ]
  },
  {
   "cell_type": "code",
   "execution_count": null,
   "id": "5eeae1b2",
   "metadata": {},
   "outputs": [],
   "source": []
  }
 ],
 "metadata": {
  "kernelspec": {
   "display_name": "Python 3 (ipykernel)",
   "language": "python",
   "name": "python3"
  },
  "language_info": {
   "codemirror_mode": {
    "name": "ipython",
    "version": 3
   },
   "file_extension": ".py",
   "mimetype": "text/x-python",
   "name": "python",
   "nbconvert_exporter": "python",
   "pygments_lexer": "ipython3",
   "version": "3.10.9"
  }
 },
 "nbformat": 4,
 "nbformat_minor": 5
}
