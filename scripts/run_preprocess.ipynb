{
 "cells": [
  {
   "cell_type": "code",
   "execution_count": 1,
   "id": "f3654707",
   "metadata": {},
   "outputs": [],
   "source": [
    "import os\n",
    "from modeling.preprocess import IRMASPreprocessor"
   ]
  },
  {
   "cell_type": "code",
   "execution_count": 3,
   "id": "bcf9603c",
   "metadata": {},
   "outputs": [],
   "source": [
    "preprocessor = IRMASPreprocessor.from_metadata(\"../data/metadata_train.csv\")"
   ]
  },
  {
   "cell_type": "code",
   "execution_count": 9,
   "id": "34aedca0",
   "metadata": {},
   "outputs": [
    {
     "data": {
      "application/vnd.jupyter.widget-view+json": {
       "model_id": "77d99141e8a845dabd5a89055ee55c0b",
       "version_major": 2,
       "version_minor": 0
      },
      "text/plain": [
       "0it [00:00, ?it/s]"
      ]
     },
     "metadata": {},
     "output_type": "display_data"
    },
    {
     "name": "stdout",
     "output_type": "stream",
     "text": [
      "Parallel preprocessing done!\n"
     ]
    }
   ],
   "source": [
    "save_dir = '/nfs/home/8548f215c44990b1/lumen-irmas/data/processed/no_sync_two'\n",
    "preprocessor.preprocess_and_mix(save_dir=save_dir, sync=None, ordered=False, num_track_to_mix=2)"
   ]
  }
 ],
 "metadata": {
  "kernelspec": {
   "display_name": "Python 3 (ipykernel)",
   "language": "python",
   "name": "python3"
  },
  "language_info": {
   "codemirror_mode": {
    "name": "ipython",
    "version": 3
   },
   "file_extension": ".py",
   "mimetype": "text/x-python",
   "name": "python",
   "nbconvert_exporter": "python",
   "pygments_lexer": "ipython3",
   "version": "3.9.16"
  }
 },
 "nbformat": 4,
 "nbformat_minor": 5
}
