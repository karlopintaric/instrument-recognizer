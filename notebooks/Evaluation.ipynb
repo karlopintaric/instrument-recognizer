{
 "cells": [
  {
   "cell_type": "code",
   "execution_count": 1,
   "metadata": {},
   "outputs": [],
   "source": [
    "from modeling.learner import get_preds\n",
    "from modeling import ASTPretrained\n",
    "from modeling.dataset import get_loader\n",
    "from modeling.utils import parse_config, CLASSES\n",
    "from modeling.models import average_model_weights\n",
    "from modeling.metrics import *\n",
    "\n",
    "import pandas as pd\n",
    "import matplotlib.pyplot as plt\n",
    "import torch\n",
    "import torch.nn as nn\n",
    "%matplotlib inline"
   ]
  },
  {
   "cell_type": "code",
   "execution_count": 3,
   "metadata": {},
   "outputs": [],
   "source": [
    "CONFIG_PATH = \"../configs/config.yaml\"\n",
    "config = parse_config(CONFIG_PATH)"
   ]
  },
  {
   "cell_type": "code",
   "execution_count": 4,
   "metadata": {},
   "outputs": [],
   "source": [
    "valid_dl = get_loader(config, subset=\"valid\")\n",
    "test_dl = get_loader(config, subset=\"test\")"
   ]
  },
  {
   "cell_type": "code",
   "execution_count": 5,
   "metadata": {},
   "outputs": [],
   "source": [
    "base_model = ASTPretrained(n_classes=11, download_weights=False)"
   ]
  },
  {
   "cell_type": "code",
   "execution_count": 30,
   "metadata": {},
   "outputs": [],
   "source": [
    "def evaluate(weight_list: list, base_model: nn.Module):\n",
    "    # Create empty lists to store the accuracy and F1 score for each weight on the validation and test sets\n",
    "    val_mAPs, val_accs, val_f1s, test_mAPs, test_accs, test_f1s = [], [], [], [], [], []\n",
    "\n",
    "    # Loop through each weight and calculate accuracy and F1 score on the validation and test sets\n",
    "    weights = [f\"../weights/{weight}.pth\" for weight in weight_list]\n",
    "    \n",
    "    for w in weights:\n",
    "        # Make predictions on the validation set using the current weight\n",
    "        base_model.load_state_dict(torch.load(w))\n",
    "        preds, targets = get_preds(valid_dl, base_model, device=\"cuda\")\n",
    "\n",
    "        # Calculate accuracy and F1 score on the validation set\n",
    "        thresholds = optimize_f1_score(preds, targets)\n",
    "        print(thresholds)\n",
    "        \n",
    "        val_mAP = mean_average_precision(preds, targets)\n",
    "        val_acc = hamming_score(preds, targets, thresholds)\n",
    "        val_f1 = mean_f1_score(preds, targets, thresholds)\n",
    "\n",
    "        # Make predictions on the test set using the current weight\n",
    "        preds, targets = get_preds(test_dl, base_model, device=\"cuda\")\n",
    "\n",
    "        # Calculate accuracy and F1 score on the test set\n",
    "        test_mAP = mean_average_precision(preds, targets)\n",
    "        test_acc = hamming_score(preds, targets, thresholds)\n",
    "        test_f1 = mean_f1_score(preds, targets, thresholds)\n",
    "\n",
    "        # Append the results to the corresponding lists\n",
    "        val_mAPs.append(val_mAP)\n",
    "        val_accs.append(val_acc)\n",
    "        val_f1s.append(val_f1)\n",
    "        test_mAPs.append(test_mAP)\n",
    "        test_accs.append(test_acc)\n",
    "        test_f1s.append(test_f1)\n",
    "\n",
    "    # Create a pandas dataframe to display the results\n",
    "    df = pd.DataFrame({\n",
    "        'Weight': weight_list,\n",
    "        'Val Acc': val_accs,\n",
    "        'Val mAP': val_mAPs,\n",
    "        'Val F1': val_f1s,\n",
    "        'Test Acc': test_accs,\n",
    "        'Test mAP': test_mAPs,\n",
    "        'Test F1': test_f1s\n",
    "    })\n",
    "\n",
    "    # Display the dataframe\n",
    "    return df"
   ]
  },
  {
   "cell_type": "code",
   "execution_count": 7,
   "metadata": {},
   "outputs": [],
   "source": [
    "weight_list = [\"bpm_sync_bce\", \"pitch_sync_bce\", \"no_sync2_bce\", \"bpm_sync_focal\", \"pitch_sync_focal\", \"no_sync2_focal\"]"
   ]
  },
  {
   "cell_type": "code",
   "execution_count": 8,
   "metadata": {},
   "outputs": [
    {
     "data": {
      "application/vnd.jupyter.widget-view+json": {
       "model_id": "",
       "version_major": 2,
       "version_minor": 0
      },
      "text/plain": [
       "  0%|          | 0/187 [00:00<?, ?it/s]"
      ]
     },
     "metadata": {},
     "output_type": "display_data"
    },
    {
     "name": "stderr",
     "output_type": "stream",
     "text": [
      "/nfs/home/8548f215c44990b1/lumen-irmas/modeling/metrics.py:144: RuntimeWarning: invalid value encountered in divide\n",
      "  fscore = (2 * precision * recall) / (precision + recall)\n"
     ]
    },
    {
     "data": {
      "application/vnd.jupyter.widget-view+json": {
       "model_id": "",
       "version_major": 2,
       "version_minor": 0
      },
      "text/plain": [
       "  0%|          | 0/174 [00:00<?, ?it/s]"
      ]
     },
     "metadata": {},
     "output_type": "display_data"
    },
    {
     "data": {
      "application/vnd.jupyter.widget-view+json": {
       "model_id": "",
       "version_major": 2,
       "version_minor": 0
      },
      "text/plain": [
       "  0%|          | 0/187 [00:00<?, ?it/s]"
      ]
     },
     "metadata": {},
     "output_type": "display_data"
    },
    {
     "name": "stderr",
     "output_type": "stream",
     "text": [
      "/nfs/home/8548f215c44990b1/lumen-irmas/modeling/metrics.py:144: RuntimeWarning: invalid value encountered in divide\n",
      "  fscore = (2 * precision * recall) / (precision + recall)\n"
     ]
    },
    {
     "data": {
      "application/vnd.jupyter.widget-view+json": {
       "model_id": "",
       "version_major": 2,
       "version_minor": 0
      },
      "text/plain": [
       "  0%|          | 0/174 [00:00<?, ?it/s]"
      ]
     },
     "metadata": {},
     "output_type": "display_data"
    },
    {
     "data": {
      "application/vnd.jupyter.widget-view+json": {
       "model_id": "",
       "version_major": 2,
       "version_minor": 0
      },
      "text/plain": [
       "  0%|          | 0/187 [00:00<?, ?it/s]"
      ]
     },
     "metadata": {},
     "output_type": "display_data"
    },
    {
     "name": "stderr",
     "output_type": "stream",
     "text": [
      "/nfs/home/8548f215c44990b1/lumen-irmas/modeling/metrics.py:144: RuntimeWarning: invalid value encountered in divide\n",
      "  fscore = (2 * precision * recall) / (precision + recall)\n",
      "/nfs/home/8548f215c44990b1/lumen-irmas/modeling/metrics.py:144: RuntimeWarning: invalid value encountered in divide\n",
      "  fscore = (2 * precision * recall) / (precision + recall)\n"
     ]
    },
    {
     "data": {
      "application/vnd.jupyter.widget-view+json": {
       "model_id": "",
       "version_major": 2,
       "version_minor": 0
      },
      "text/plain": [
       "  0%|          | 0/174 [00:00<?, ?it/s]"
      ]
     },
     "metadata": {},
     "output_type": "display_data"
    },
    {
     "data": {
      "application/vnd.jupyter.widget-view+json": {
       "model_id": "",
       "version_major": 2,
       "version_minor": 0
      },
      "text/plain": [
       "  0%|          | 0/187 [00:00<?, ?it/s]"
      ]
     },
     "metadata": {},
     "output_type": "display_data"
    },
    {
     "name": "stderr",
     "output_type": "stream",
     "text": [
      "/nfs/home/8548f215c44990b1/lumen-irmas/modeling/metrics.py:144: RuntimeWarning: invalid value encountered in divide\n",
      "  fscore = (2 * precision * recall) / (precision + recall)\n",
      "/nfs/home/8548f215c44990b1/lumen-irmas/modeling/metrics.py:144: RuntimeWarning: invalid value encountered in divide\n",
      "  fscore = (2 * precision * recall) / (precision + recall)\n"
     ]
    },
    {
     "data": {
      "application/vnd.jupyter.widget-view+json": {
       "model_id": "",
       "version_major": 2,
       "version_minor": 0
      },
      "text/plain": [
       "  0%|          | 0/174 [00:00<?, ?it/s]"
      ]
     },
     "metadata": {},
     "output_type": "display_data"
    },
    {
     "data": {
      "application/vnd.jupyter.widget-view+json": {
       "model_id": "",
       "version_major": 2,
       "version_minor": 0
      },
      "text/plain": [
       "  0%|          | 0/187 [00:00<?, ?it/s]"
      ]
     },
     "metadata": {},
     "output_type": "display_data"
    },
    {
     "name": "stderr",
     "output_type": "stream",
     "text": [
      "/nfs/home/8548f215c44990b1/lumen-irmas/modeling/metrics.py:144: RuntimeWarning: invalid value encountered in divide\n",
      "  fscore = (2 * precision * recall) / (precision + recall)\n",
      "/nfs/home/8548f215c44990b1/lumen-irmas/modeling/metrics.py:144: RuntimeWarning: invalid value encountered in divide\n",
      "  fscore = (2 * precision * recall) / (precision + recall)\n"
     ]
    },
    {
     "data": {
      "application/vnd.jupyter.widget-view+json": {
       "model_id": "",
       "version_major": 2,
       "version_minor": 0
      },
      "text/plain": [
       "  0%|          | 0/174 [00:00<?, ?it/s]"
      ]
     },
     "metadata": {},
     "output_type": "display_data"
    },
    {
     "data": {
      "application/vnd.jupyter.widget-view+json": {
       "model_id": "",
       "version_major": 2,
       "version_minor": 0
      },
      "text/plain": [
       "  0%|          | 0/187 [00:00<?, ?it/s]"
      ]
     },
     "metadata": {},
     "output_type": "display_data"
    },
    {
     "name": "stderr",
     "output_type": "stream",
     "text": [
      "/nfs/home/8548f215c44990b1/lumen-irmas/modeling/metrics.py:144: RuntimeWarning: invalid value encountered in divide\n",
      "  fscore = (2 * precision * recall) / (precision + recall)\n",
      "/nfs/home/8548f215c44990b1/lumen-irmas/modeling/metrics.py:144: RuntimeWarning: invalid value encountered in divide\n",
      "  fscore = (2 * precision * recall) / (precision + recall)\n"
     ]
    },
    {
     "data": {
      "application/vnd.jupyter.widget-view+json": {
       "model_id": "",
       "version_major": 2,
       "version_minor": 0
      },
      "text/plain": [
       "  0%|          | 0/174 [00:00<?, ?it/s]"
      ]
     },
     "metadata": {},
     "output_type": "display_data"
    },
    {
     "data": {
      "text/html": [
       "<div>\n",
       "<style scoped>\n",
       "    .dataframe tbody tr th:only-of-type {\n",
       "        vertical-align: middle;\n",
       "    }\n",
       "\n",
       "    .dataframe tbody tr th {\n",
       "        vertical-align: top;\n",
       "    }\n",
       "\n",
       "    .dataframe thead th {\n",
       "        text-align: right;\n",
       "    }\n",
       "</style>\n",
       "<table border=\"1\" class=\"dataframe\">\n",
       "  <thead>\n",
       "    <tr style=\"text-align: right;\">\n",
       "      <th></th>\n",
       "      <th>Weight</th>\n",
       "      <th>Val Acc</th>\n",
       "      <th>Val mAP</th>\n",
       "      <th>Val F1</th>\n",
       "      <th>Test Acc</th>\n",
       "      <th>Test mAP</th>\n",
       "      <th>Test F1</th>\n",
       "    </tr>\n",
       "  </thead>\n",
       "  <tbody>\n",
       "    <tr>\n",
       "      <th>0</th>\n",
       "      <td>bpm_sync_bce</td>\n",
       "      <td>0.927529</td>\n",
       "      <td>0.865198</td>\n",
       "      <td>0.765982</td>\n",
       "      <td>0.909157</td>\n",
       "      <td>0.826800</td>\n",
       "      <td>0.705824</td>\n",
       "    </tr>\n",
       "    <tr>\n",
       "      <th>1</th>\n",
       "      <td>pitch_sync_bce</td>\n",
       "      <td>0.925636</td>\n",
       "      <td>0.861343</td>\n",
       "      <td>0.760680</td>\n",
       "      <td>0.907122</td>\n",
       "      <td>0.820174</td>\n",
       "      <td>0.701609</td>\n",
       "    </tr>\n",
       "    <tr>\n",
       "      <th>2</th>\n",
       "      <td>no_sync2_bce</td>\n",
       "      <td>0.927468</td>\n",
       "      <td>0.871443</td>\n",
       "      <td>0.758045</td>\n",
       "      <td>0.909025</td>\n",
       "      <td>0.834264</td>\n",
       "      <td>0.690806</td>\n",
       "    </tr>\n",
       "    <tr>\n",
       "      <th>3</th>\n",
       "      <td>bpm_sync_focal</td>\n",
       "      <td>0.921363</td>\n",
       "      <td>0.852915</td>\n",
       "      <td>0.739115</td>\n",
       "      <td>0.905218</td>\n",
       "      <td>0.823464</td>\n",
       "      <td>0.698195</td>\n",
       "    </tr>\n",
       "    <tr>\n",
       "      <th>4</th>\n",
       "      <td>pitch_sync_focal</td>\n",
       "      <td>0.922523</td>\n",
       "      <td>0.860144</td>\n",
       "      <td>0.741792</td>\n",
       "      <td>0.907384</td>\n",
       "      <td>0.821003</td>\n",
       "      <td>0.694743</td>\n",
       "    </tr>\n",
       "    <tr>\n",
       "      <th>5</th>\n",
       "      <td>no_sync2_focal</td>\n",
       "      <td>0.926613</td>\n",
       "      <td>0.867765</td>\n",
       "      <td>0.758636</td>\n",
       "      <td>0.909682</td>\n",
       "      <td>0.833635</td>\n",
       "      <td>0.695754</td>\n",
       "    </tr>\n",
       "  </tbody>\n",
       "</table>\n",
       "</div>"
      ],
      "text/plain": [
       "             Weight   Val Acc   Val mAP    Val F1  Test Acc  Test mAP   \n",
       "0      bpm_sync_bce  0.927529  0.865198  0.765982  0.909157  0.826800  \\\n",
       "1    pitch_sync_bce  0.925636  0.861343  0.760680  0.907122  0.820174   \n",
       "2      no_sync2_bce  0.927468  0.871443  0.758045  0.909025  0.834264   \n",
       "3    bpm_sync_focal  0.921363  0.852915  0.739115  0.905218  0.823464   \n",
       "4  pitch_sync_focal  0.922523  0.860144  0.741792  0.907384  0.821003   \n",
       "5    no_sync2_focal  0.926613  0.867765  0.758636  0.909682  0.833635   \n",
       "\n",
       "    Test F1  \n",
       "0  0.705824  \n",
       "1  0.701609  \n",
       "2  0.690806  \n",
       "3  0.698195  \n",
       "4  0.694743  \n",
       "5  0.695754  "
      ]
     },
     "execution_count": 8,
     "metadata": {},
     "output_type": "execute_result"
    }
   ],
   "source": [
    "results = evaluate(weight_list, base_model)\n",
    "results"
   ]
  },
  {
   "cell_type": "code",
   "execution_count": 9,
   "metadata": {},
   "outputs": [],
   "source": [
    "weights = [f\"../weights/{weight}.pth\" for weight in weight_list[:3]]\n",
    "\n",
    "average_weight = average_model_weights(weights)\n",
    "torch.save(average_weight, \"../weights/averaged_weights_bce.pth\")"
   ]
  },
  {
   "cell_type": "code",
   "execution_count": 31,
   "metadata": {},
   "outputs": [
    {
     "data": {
      "application/vnd.jupyter.widget-view+json": {
       "model_id": "",
       "version_major": 2,
       "version_minor": 0
      },
      "text/plain": [
       "  0%|          | 0/187 [00:00<?, ?it/s]"
      ]
     },
     "metadata": {},
     "output_type": "display_data"
    },
    {
     "name": "stderr",
     "output_type": "stream",
     "text": [
      "/nfs/home/8548f215c44990b1/lumen-irmas/modeling/metrics.py:144: RuntimeWarning: invalid value encountered in divide\n",
      "  fscore = (2 * precision * recall) / (precision + recall)\n"
     ]
    },
    {
     "name": "stdout",
     "output_type": "stream",
     "text": [
      "[0.69686234 0.47541589 0.33716482 0.5102933  0.28994969 0.57248038\n",
      " 0.54958439 0.43131939 0.27124193 0.56657934 0.14958709]\n"
     ]
    },
    {
     "data": {
      "application/vnd.jupyter.widget-view+json": {
       "model_id": "",
       "version_major": 2,
       "version_minor": 0
      },
      "text/plain": [
       "  0%|          | 0/174 [00:00<?, ?it/s]"
      ]
     },
     "metadata": {},
     "output_type": "display_data"
    },
    {
     "data": {
      "text/html": [
       "<div>\n",
       "<style scoped>\n",
       "    .dataframe tbody tr th:only-of-type {\n",
       "        vertical-align: middle;\n",
       "    }\n",
       "\n",
       "    .dataframe tbody tr th {\n",
       "        vertical-align: top;\n",
       "    }\n",
       "\n",
       "    .dataframe thead th {\n",
       "        text-align: right;\n",
       "    }\n",
       "</style>\n",
       "<table border=\"1\" class=\"dataframe\">\n",
       "  <thead>\n",
       "    <tr style=\"text-align: right;\">\n",
       "      <th></th>\n",
       "      <th>Weight</th>\n",
       "      <th>Val Acc</th>\n",
       "      <th>Val mAP</th>\n",
       "      <th>Val F1</th>\n",
       "      <th>Test Acc</th>\n",
       "      <th>Test mAP</th>\n",
       "      <th>Test F1</th>\n",
       "    </tr>\n",
       "  </thead>\n",
       "  <tbody>\n",
       "    <tr>\n",
       "      <th>0</th>\n",
       "      <td>averaged_weights_bce</td>\n",
       "      <td>0.927957</td>\n",
       "      <td>0.870258</td>\n",
       "      <td>0.766727</td>\n",
       "      <td>0.909616</td>\n",
       "      <td>0.830385</td>\n",
       "      <td>0.704143</td>\n",
       "    </tr>\n",
       "  </tbody>\n",
       "</table>\n",
       "</div>"
      ],
      "text/plain": [
       "                 Weight   Val Acc   Val mAP    Val F1  Test Acc  Test mAP   \n",
       "0  averaged_weights_bce  0.927957  0.870258  0.766727  0.909616  0.830385  \\\n",
       "\n",
       "    Test F1  \n",
       "0  0.704143  "
      ]
     },
     "execution_count": 31,
     "metadata": {},
     "output_type": "execute_result"
    }
   ],
   "source": [
    "results = evaluate([\"averaged_weights_bce\"], base_model)\n",
    "results"
   ]
  },
  {
   "cell_type": "code",
   "execution_count": 33,
   "metadata": {},
   "outputs": [
    {
     "data": {
      "text/plain": [
       "<All keys matched successfully>"
      ]
     },
     "execution_count": 33,
     "metadata": {},
     "output_type": "execute_result"
    }
   ],
   "source": [
    "best_weight = torch.load(\"../weights/averaged_weights_bce.pth\")\n",
    "base_model.load_state_dict(best_weight)"
   ]
  },
  {
   "cell_type": "code",
   "execution_count": 16,
   "metadata": {},
   "outputs": [
    {
     "data": {
      "application/vnd.jupyter.widget-view+json": {
       "model_id": "",
       "version_major": 2,
       "version_minor": 0
      },
      "text/plain": [
       "  0%|          | 0/187 [00:00<?, ?it/s]"
      ]
     },
     "metadata": {},
     "output_type": "display_data"
    },
    {
     "name": "stderr",
     "output_type": "stream",
     "text": [
      "/nfs/home/8548f215c44990b1/lumen-irmas/modeling/metrics.py:144: RuntimeWarning: invalid value encountered in divide\n",
      "  fscore = (2 * precision * recall) / (precision + recall)\n"
     ]
    }
   ],
   "source": [
    "preds, targets = get_preds(valid_dl, base_model, \"cuda\")\n",
    "thresholds = optimize_f1_score(preds, targets)"
   ]
  },
  {
   "cell_type": "code",
   "execution_count": 40,
   "metadata": {},
   "outputs": [
    {
     "data": {
      "text/plain": [
       "('cla', 'cel', 'flu', 'tru', 'org', 'gac', 'vio', 'pia', 'gel', 'sax', 'voi')"
      ]
     },
     "execution_count": 40,
     "metadata": {},
     "output_type": "execute_result"
    }
   ],
   "source": [
    "CLASSES"
   ]
  },
  {
   "cell_type": "code",
   "execution_count": 34,
   "metadata": {},
   "outputs": [
    {
     "data": {
      "text/plain": [
       "array([0.69686234, 0.47541589, 0.33716482, 0.5102933 , 0.28994969,\n",
       "       0.57248038, 0.54958439, 0.43131939, 0.27124193, 0.56657934,\n",
       "       0.14958709])"
      ]
     },
     "execution_count": 34,
     "metadata": {},
     "output_type": "execute_result"
    }
   ],
   "source": [
    "thresholds"
   ]
  },
  {
   "cell_type": "code",
   "execution_count": 52,
   "metadata": {},
   "outputs": [],
   "source": [
    "np.save(\"../weights/acc_model_thresh\", thresholds)\n",
    "thresholds = np.load(\"../weights/acc_model_thresh.npy\", allow_pickle=True)"
   ]
  },
  {
   "cell_type": "code",
   "execution_count": 35,
   "metadata": {},
   "outputs": [
    {
     "data": {
      "application/vnd.jupyter.widget-view+json": {
       "model_id": "",
       "version_major": 2,
       "version_minor": 0
      },
      "text/plain": [
       "  0%|          | 0/174 [00:00<?, ?it/s]"
      ]
     },
     "metadata": {},
     "output_type": "display_data"
    }
   ],
   "source": [
    "preds, targets = get_preds(test_dl, base_model, \"cuda\")\n",
    "f1_score = mean_f1_score(preds, targets, thresholds)\n",
    "f1_scores_per_inst = per_instr_f1_score(preds, targets, thresholds)"
   ]
  },
  {
   "cell_type": "code",
   "execution_count": 45,
   "metadata": {},
   "outputs": [
    {
     "name": "stderr",
     "output_type": "stream",
     "text": [
      "/tmp/ipykernel_53426/1438799796.py:5: MatplotlibDeprecationWarning: The seaborn styles shipped by Matplotlib are deprecated since 3.6, as they no longer correspond to the styles shipped by seaborn. However, they will remain available as 'seaborn-v0_8-<style>'. Alternatively, directly use the seaborn API instead.\n",
      "  plt.style.use('seaborn-dark')\n"
     ]
    },
    {
     "data": {
      "image/png": "[encoded data removed]",
      "text/plain": [
       "<Figure size 1200x800 with 1 Axes>"
      ]
     },
     "metadata": {},
     "output_type": "display_data"
    }
   ],
   "source": [
    "# Sorting the accuracy and classes lists in descending order of accuracy\n",
    "f1_scores_per_inst, CLASSES = zip(*sorted(zip(f1_scores_per_inst, CLASSES), reverse=False))\n",
    "\n",
    "# Setting the background color and style\n",
    "plt.style.use('seaborn-dark')\n",
    "plt.rcParams['axes.facecolor'] = 'white'\n",
    "\n",
    "# Creating the figure and axis objects\n",
    "fig, ax = plt.subplots(figsize=(12, 8))\n",
    "\n",
    "# Setting the font size and weight of the title\n",
    "ax.set_title('F1 score for each instrument', fontsize=25, fontweight='bold')\n",
    "\n",
    "# Creating the horizontal bar plot with a gradient color\n",
    "color = plt.cm.GnBu([0.4, 0.9])\n",
    "ax.barh(CLASSES, f1_scores_per_inst, color=color)\n",
    "\n",
    "# Customizing the grid lines and axis labels\n",
    "ax.grid(color='grey', linestyle='--', alpha=0.2)\n",
    "ax.set_xlabel('F1 Score', fontsize=20, fontweight='bold')\n",
    "ax.set_ylabel('Instrument Labels', fontsize=20, fontweight='bold')\n",
    "\n",
    "# Customizing the tick labels\n",
    "ax.tick_params(axis='both', which='major', labelsize=15)\n",
    "\n",
    "# Adding the accuracy percentage text beside each bar\n",
    "for i, v in enumerate(f1_scores_per_inst):\n",
    "    ax.text(v+0.01, i, f\"{v:.2%}\", fontsize=14)\n",
    "\n",
    "# Adjusting the plot limits to add some space at the left and right\n",
    "plt.xlim(0.0, 1.0)\n",
    "\n",
    "# Showing the plot\n",
    "plt.show()"
   ]
  }
 ],
 "metadata": {
  "kernelspec": {
   "display_name": "Python 3 (ipykernel)",
   "language": "python",
   "name": "python3"
  },
  "language_info": {
   "codemirror_mode": {
    "name": "ipython",
    "version": 3
   },
   "file_extension": ".py",
   "mimetype": "text/x-python",
   "name": "python",
   "nbconvert_exporter": "python",
   "pygments_lexer": "ipython3",
   "version": "3.10.10"
  }
 },
 "nbformat": 4,
 "nbformat_minor": 2
}
