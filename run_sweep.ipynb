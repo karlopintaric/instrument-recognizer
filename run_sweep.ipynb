{
 "cells": [
  {
   "cell_type": "code",
   "execution_count": 1,
   "id": "c7e138e8",
   "metadata": {},
   "outputs": [],
   "source": [
    "import torch\n",
    "import numpy as np\n",
    "import wandb\n",
    "\n",
    "from utils import parse_config, unflatten_dot\n",
    "from dataset import get_loader\n",
    "from learner import Learner\n",
    "from models import ASTPretrainedBigHead, ASTPretrainedSmallHead, RNN, ASTWithWeightedLayerPooling\n",
    "from types import SimpleNamespace"
   ]
  },
  {
   "cell_type": "code",
   "execution_count": 2,
   "id": "8bd80af9",
   "metadata": {},
   "outputs": [],
   "source": [
    "SEED = 123\n",
    "torch.manual_seed(SEED)\n",
    "torch.cuda.manual_seed(SEED)\n",
    "torch.backends.cudnn.deterministic = True\n",
    "torch.backends.cudnn.benchmark = False\n",
    "np.random.seed(SEED)"
   ]
  },
  {
   "cell_type": "code",
   "execution_count": 3,
   "id": "9c28cc8e",
   "metadata": {},
   "outputs": [],
   "source": [
    "def main():\n",
    "    \n",
    "    wandb.init()\n",
    "    config = wandb.config\n",
    "    train_dl = get_loader(config, subset=\"train\")\n",
    "    valid_dl = get_loader(config, subset=\"valid\")\n",
    "    \n",
    "    model = ASTPretrainedSmallHead(n_classes=11)\n",
    "\n",
    "    learn = Learner(train_dl, valid_dl, model, config)\n",
    "\n",
    "    learn.fit(4)"
   ]
  },
  {
   "cell_type": "code",
   "execution_count": 5,
   "id": "f38688d6",
   "metadata": {},
   "outputs": [
    {
     "name": "stdout",
     "output_type": "stream",
     "text": [
      "Create sweep with ID: 4p6me4zo\n",
      "Sweep URL: https://wandb.ai/k-pintaric/uncategorized/sweeps/4p6me4zo\n"
     ]
    },
    {
     "name": "stderr",
     "output_type": "stream",
     "text": [
      "\u001b[34m\u001b[1mwandb\u001b[0m: Agent Starting Run: 4nntz0wk with config:\n",
      "\u001b[34m\u001b[1mwandb\u001b[0m: \tEPOCHS: 5\n",
      "\u001b[34m\u001b[1mwandb\u001b[0m: \tbatch_size: 8\n",
      "\u001b[34m\u001b[1mwandb\u001b[0m: \tearly_stopping: {'min_delta': 0.0001, 'patience': 3}\n",
      "\u001b[34m\u001b[1mwandb\u001b[0m: \tlearning_rates: {'base_model': {'lr': 1.2878301358694264e-08}, 'classifier': {'lr': 0.02911756816973033}}\n",
      "\u001b[34m\u001b[1mwandb\u001b[0m: \tloss: {'FocalLoss': {'alpha': -1, 'gamma': 2}}\n",
      "\u001b[34m\u001b[1mwandb\u001b[0m: \tmetrics: ['hamming_score', 'zero_one_score', 'mean_average_precision', 'mean_f1_score']\n",
      "\u001b[34m\u001b[1mwandb\u001b[0m: \tnum_accum: 6\n",
      "\u001b[34m\u001b[1mwandb\u001b[0m: \toptimizer: {'AdamW': {'weight_decay': 7.181742645634947e-07}}\n",
      "\u001b[34m\u001b[1mwandb\u001b[0m: \tpreprocess: {'PreprocessPipeline': {'target_sr': 22050}}\n",
      "\u001b[34m\u001b[1mwandb\u001b[0m: \tsave_best_model: True\n",
      "\u001b[34m\u001b[1mwandb\u001b[0m: \tscheduler: {'OneCycleLR': {'anneal_strategy': 'cos', 'pct_start': 0.1939329785206244}}\n",
      "\u001b[34m\u001b[1mwandb\u001b[0m: \tsignal_augments: None\n",
      "\u001b[34m\u001b[1mwandb\u001b[0m: \tspec_augments: None\n",
      "\u001b[34m\u001b[1mwandb\u001b[0m: \ttrain_dir: ./data/processed/all_sync/IRMAS_Training_Data\n",
      "\u001b[34m\u001b[1mwandb\u001b[0m: \ttransforms: {'LogTransform': None, 'Normalize': {'mean': -4.2677393, 'std': 9.1379948}, 'PadCutToLength': {'max_length': 1024}, 'Preemphasis': None, 'Spectrogram': {'hop_length': 512, 'n_fft': 2048, 'n_mels': 128, 'sample_rate': 22050}}\n",
      "\u001b[34m\u001b[1mwandb\u001b[0m: \tvalid_dir: ./data/raw/IRMAS_Validation_Data\n",
      "\u001b[34m\u001b[1mwandb\u001b[0m: \tverbose: True\n"
     ]
    },
    {
     "data": {
      "text/html": [
       "Tracking run with wandb version 0.14.0"
      ],
      "text/plain": [
       "<IPython.core.display.HTML object>"
      ]
     },
     "metadata": {},
     "output_type": "display_data"
    },
    {
     "data": {
      "text/html": [
       "Run data is saved locally in <code>/nfs/home/912c2e22633dde2e/lumen-irmas/wandb/run-20230322_153726-4nntz0wk</code>"
      ],
      "text/plain": [
       "<IPython.core.display.HTML object>"
      ]
     },
     "metadata": {},
     "output_type": "display_data"
    },
    {
     "data": {
      "text/html": [
       "Syncing run <strong><a href='https://wandb.ai/k-pintaric/uncategorized/runs/4nntz0wk' target=\"_blank\">deep-sweep-1</a></strong> to <a href='https://wandb.ai/k-pintaric/uncategorized' target=\"_blank\">Weights & Biases</a> (<a href='https://wandb.me/run' target=\"_blank\">docs</a>)<br/>Sweep page: <a href='https://wandb.ai/k-pintaric/uncategorized/sweeps/4p6me4zo' target=\"_blank\">https://wandb.ai/k-pintaric/uncategorized/sweeps/4p6me4zo</a>"
      ],
      "text/plain": [
       "<IPython.core.display.HTML object>"
      ]
     },
     "metadata": {},
     "output_type": "display_data"
    },
    {
     "data": {
      "text/html": [
       " View project at <a href='https://wandb.ai/k-pintaric/uncategorized' target=\"_blank\">https://wandb.ai/k-pintaric/uncategorized</a>"
      ],
      "text/plain": [
       "<IPython.core.display.HTML object>"
      ]
     },
     "metadata": {},
     "output_type": "display_data"
    },
    {
     "data": {
      "text/html": [
       " View sweep at <a href='https://wandb.ai/k-pintaric/uncategorized/sweeps/4p6me4zo' target=\"_blank\">https://wandb.ai/k-pintaric/uncategorized/sweeps/4p6me4zo</a>"
      ],
      "text/plain": [
       "<IPython.core.display.HTML object>"
      ]
     },
     "metadata": {},
     "output_type": "display_data"
    },
    {
     "data": {
      "text/html": [
       " View run at <a href='https://wandb.ai/k-pintaric/uncategorized/runs/4nntz0wk' target=\"_blank\">https://wandb.ai/k-pintaric/uncategorized/runs/4nntz0wk</a>"
      ],
      "text/plain": [
       "<IPython.core.display.HTML object>"
      ]
     },
     "metadata": {},
     "output_type": "display_data"
    },
    {
     "data": {
      "application/vnd.jupyter.widget-view+json": {
       "model_id": "f9f31fb7e1d3439186cfcf972029f198",
       "version_major": 2,
       "version_minor": 0
      },
      "text/plain": [
       "  0%|          | 0/5 [00:00<?, ?it/s]"
      ]
     },
     "metadata": {},
     "output_type": "display_data"
    },
    {
     "data": {
      "application/vnd.jupyter.widget-view+json": {
       "model_id": "b49f478fa5fa4fccbbd792c0ab62e8eb",
       "version_major": 2,
       "version_minor": 0
      },
      "text/plain": [
       "  0%|          | 0/9220 [00:00<?, ?it/s]"
      ]
     },
     "metadata": {},
     "output_type": "display_data"
    },
    {
     "data": {
      "text/html": [
       "Waiting for W&B process to finish... <strong style=\"color:red\">(failed 1).</strong> Press Control-C to abort syncing."
      ],
      "text/plain": [
       "<IPython.core.display.HTML object>"
      ]
     },
     "metadata": {},
     "output_type": "display_data"
    },
    {
     "data": {
      "application/vnd.jupyter.widget-view+json": {
       "model_id": "c0706900043449e790845afbdf79993e",
       "version_major": 2,
       "version_minor": 0
      },
      "text/plain": [
       "VBox(children=(Label(value='0.007 MB of 0.023 MB uploaded (0.000 MB deduped)\\r'), FloatProgress(value=0.297042…"
      ]
     },
     "metadata": {},
     "output_type": "display_data"
    },
    {
     "data": {
      "text/html": [
       " View run <strong style=\"color:#cdcd00\">deep-sweep-1</strong> at: <a href='https://wandb.ai/k-pintaric/uncategorized/runs/4nntz0wk' target=\"_blank\">https://wandb.ai/k-pintaric/uncategorized/runs/4nntz0wk</a><br/>Synced 5 W&B file(s), 0 media file(s), 0 artifact file(s) and 0 other file(s)"
      ],
      "text/plain": [
       "<IPython.core.display.HTML object>"
      ]
     },
     "metadata": {},
     "output_type": "display_data"
    },
    {
     "data": {
      "text/html": [
       "Find logs at: <code>./wandb/run-20230322_153726-4nntz0wk/logs</code>"
      ],
      "text/plain": [
       "<IPython.core.display.HTML object>"
      ]
     },
     "metadata": {},
     "output_type": "display_data"
    },
    {
     "name": "stderr",
     "output_type": "stream",
     "text": [
      "Run 4nntz0wk errored: RuntimeError('Caught RuntimeError in DataLoader worker process 0.\\nOriginal Traceback (most recent call last):\\n  File \"/nfs/home/912c2e22633dde2e/lumen-irmas/venv/lib/python3.10/site-packages/torch/utils/data/_utils/worker.py\", line 308, in _worker_loop\\n    data = fetcher.fetch(index)\\n  File \"/nfs/home/912c2e22633dde2e/lumen-irmas/venv/lib/python3.10/site-packages/torch/utils/data/_utils/fetch.py\", line 51, in fetch\\n    data = [self.dataset[idx] for idx in possibly_batched_index]\\n  File \"/nfs/home/912c2e22633dde2e/lumen-irmas/venv/lib/python3.10/site-packages/torch/utils/data/_utils/fetch.py\", line 51, in <listcomp>\\n    data = [self.dataset[idx] for idx in possibly_batched_index]\\n  File \"/nfs/home/912c2e22633dde2e/lumen-irmas/dataset.py\", line 52, in __getitem__\\n    signal = self.transforms(signal)\\n  File \"/nfs/home/912c2e22633dde2e/lumen-irmas/utils.py\", line 149, in __call__\\n    input = t(input, *args)\\n  File \"/nfs/home/912c2e22633dde2e/lumen-irmas/transforms.py\", line 130, in __call__\\n    return self.transform(signal)\\n  File \"/nfs/home/912c2e22633dde2e/lumen-irmas/venv/lib/python3.10/site-packages/torch/nn/modules/module.py\", line 1501, in _call_impl\\n    return forward_call(*args, **kwargs)\\n  File \"/nfs/home/912c2e22633dde2e/lumen-irmas/venv/lib/python3.10/site-packages/torchaudio/transforms/_transforms.py\", line 650, in forward\\n    specgram = self.spectrogram(waveform)\\n  File \"/nfs/home/912c2e22633dde2e/lumen-irmas/venv/lib/python3.10/site-packages/torch/nn/modules/module.py\", line 1501, in _call_impl\\n    return forward_call(*args, **kwargs)\\n  File \"/nfs/home/912c2e22633dde2e/lumen-irmas/venv/lib/python3.10/site-packages/torchaudio/transforms/_transforms.py\", line 110, in forward\\n    return F.spectrogram(\\n  File \"/nfs/home/912c2e22633dde2e/lumen-irmas/venv/lib/python3.10/site-packages/torchaudio/functional/functional.py\", line 126, in spectrogram\\n    spec_f = torch.stft(\\n  File \"/nfs/home/912c2e22633dde2e/lumen-irmas/venv/lib/python3.10/site-packages/torch/functional.py\", line 641, in stft\\n    return _VF.stft(input, n_fft, hop_length, win_length, window,  # type: ignore[attr-defined]\\nRuntimeError: stft(torch.FloatTensor[1, 1024], n_fft=2048, hop_length=512, win_length=2048, window=torch.FloatTensor{[2048]}, normalized=0, onesided=1, return_complex=1) : expected 0 < n_fft < 1024, but got n_fft=2048\\n')\n",
      "\u001b[34m\u001b[1mwandb\u001b[0m: \u001b[32m\u001b[41mERROR\u001b[0m Run 4nntz0wk errored: RuntimeError('Caught RuntimeError in DataLoader worker process 0.\\nOriginal Traceback (most recent call last):\\n  File \"/nfs/home/912c2e22633dde2e/lumen-irmas/venv/lib/python3.10/site-packages/torch/utils/data/_utils/worker.py\", line 308, in _worker_loop\\n    data = fetcher.fetch(index)\\n  File \"/nfs/home/912c2e22633dde2e/lumen-irmas/venv/lib/python3.10/site-packages/torch/utils/data/_utils/fetch.py\", line 51, in fetch\\n    data = [self.dataset[idx] for idx in possibly_batched_index]\\n  File \"/nfs/home/912c2e22633dde2e/lumen-irmas/venv/lib/python3.10/site-packages/torch/utils/data/_utils/fetch.py\", line 51, in <listcomp>\\n    data = [self.dataset[idx] for idx in possibly_batched_index]\\n  File \"/nfs/home/912c2e22633dde2e/lumen-irmas/dataset.py\", line 52, in __getitem__\\n    signal = self.transforms(signal)\\n  File \"/nfs/home/912c2e22633dde2e/lumen-irmas/utils.py\", line 149, in __call__\\n    input = t(input, *args)\\n  File \"/nfs/home/912c2e22633dde2e/lumen-irmas/transforms.py\", line 130, in __call__\\n    return self.transform(signal)\\n  File \"/nfs/home/912c2e22633dde2e/lumen-irmas/venv/lib/python3.10/site-packages/torch/nn/modules/module.py\", line 1501, in _call_impl\\n    return forward_call(*args, **kwargs)\\n  File \"/nfs/home/912c2e22633dde2e/lumen-irmas/venv/lib/python3.10/site-packages/torchaudio/transforms/_transforms.py\", line 650, in forward\\n    specgram = self.spectrogram(waveform)\\n  File \"/nfs/home/912c2e22633dde2e/lumen-irmas/venv/lib/python3.10/site-packages/torch/nn/modules/module.py\", line 1501, in _call_impl\\n    return forward_call(*args, **kwargs)\\n  File \"/nfs/home/912c2e22633dde2e/lumen-irmas/venv/lib/python3.10/site-packages/torchaudio/transforms/_transforms.py\", line 110, in forward\\n    return F.spectrogram(\\n  File \"/nfs/home/912c2e22633dde2e/lumen-irmas/venv/lib/python3.10/site-packages/torchaudio/functional/functional.py\", line 126, in spectrogram\\n    spec_f = torch.stft(\\n  File \"/nfs/home/912c2e22633dde2e/lumen-irmas/venv/lib/python3.10/site-packages/torch/functional.py\", line 641, in stft\\n    return _VF.stft(input, n_fft, hop_length, win_length, window,  # type: ignore[attr-defined]\\nRuntimeError: stft(torch.FloatTensor[1, 1024], n_fft=2048, hop_length=512, win_length=2048, window=torch.FloatTensor{[2048]}, normalized=0, onesided=1, return_complex=1) : expected 0 < n_fft < 1024, but got n_fft=2048\\n')\n"
     ]
    }
   ],
   "source": [
    "import yaml\n",
    "CONFIG_PATH = \"./sweep_config.yaml\"\n",
    "with open(CONFIG_PATH) as file:\n",
    "    config = yaml.safe_load(file)\n",
    "\n",
    "sweep_id = wandb.sweep(sweep=config)\n",
    "wandb.agent(sweep_id, function=main, count=1)"
   ]
  },
  {
   "cell_type": "code",
   "execution_count": null,
   "id": "3a75e288",
   "metadata": {},
   "outputs": [],
   "source": []
  }
 ],
 "metadata": {
  "kernelspec": {
   "display_name": "Python 3 (ipykernel)",
   "language": "python",
   "name": "python3"
  },
  "language_info": {
   "codemirror_mode": {
    "name": "ipython",
    "version": 3
   },
   "file_extension": ".py",
   "mimetype": "text/x-python",
   "name": "python",
   "nbconvert_exporter": "python",
   "pygments_lexer": "ipython3",
   "version": "3.10.9"
  }
 },
 "nbformat": 4,
 "nbformat_minor": 5
}
