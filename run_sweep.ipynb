{
 "cells": [
  {
   "cell_type": "code",
   "execution_count": 1,
   "id": "c7e138e8",
   "metadata": {},
   "outputs": [],
   "source": [
    "import torch\n",
    "import numpy as np\n",
    "import wandb\n",
    "\n",
    "from utils import parse_config, unflatten_dot\n",
    "from dataset import get_loader\n",
    "from learner import Learner\n",
    "from models import ASTPretrained\n",
    "from types import SimpleNamespace"
   ]
  },
  {
   "cell_type": "code",
   "execution_count": 2,
   "id": "8bd80af9",
   "metadata": {},
   "outputs": [],
   "source": [
    "SEED = 123\n",
    "torch.manual_seed(SEED)\n",
    "torch.cuda.manual_seed(SEED)\n",
    "torch.backends.cudnn.deterministic = True\n",
    "torch.backends.cudnn.benchmark = False\n",
    "np.random.seed(SEED)"
   ]
  },
  {
   "cell_type": "code",
   "execution_count": 3,
   "id": "9c28cc8e",
   "metadata": {},
   "outputs": [],
   "source": [
    "def main():\n",
    "    \n",
    "    wandb.init()\n",
    "    config = wandb.config\n",
    "    train_dl = get_loader(config, subset=\"train\")\n",
    "    valid_dl = get_loader(config, subset=\"valid\")\n",
    "    \n",
    "    model = ASTPretrained(n_classes=11)\n",
    "\n",
    "    learn = Learner(train_dl, valid_dl, model, config)\n",
    "    learn.unfreeze()\n",
    "\n",
    "    learn.fit(4)"
   ]
  },
  {
   "cell_type": "code",
   "execution_count": null,
   "id": "f38688d6",
   "metadata": {},
   "outputs": [
    {
     "name": "stdout",
     "output_type": "stream",
     "text": [
      "Create sweep with ID: 06f92x4a\n",
      "Sweep URL: https://wandb.ai/k-pintaric/IRMAS_allsync/sweeps/06f92x4a\n"
     ]
    },
    {
     "name": "stderr",
     "output_type": "stream",
     "text": [
      "\u001b[34m\u001b[1mwandb\u001b[0m: Agent Starting Run: v0l3uixf with config:\n",
      "\u001b[34m\u001b[1mwandb\u001b[0m: \tEPOCHS: 6\n",
      "\u001b[34m\u001b[1mwandb\u001b[0m: \tLLRD: {'base_lr': 6.615080968612837e-05, 'lr_decay_rate': 0.9533553746801784, 'weight_decay': 0.00012384424737481054}\n",
      "\u001b[34m\u001b[1mwandb\u001b[0m: \tbatch_size: 8\n",
      "\u001b[34m\u001b[1mwandb\u001b[0m: \tloss: {'FocalLoss': {'alpha': 0.5, 'gamma': 2}}\n",
      "\u001b[34m\u001b[1mwandb\u001b[0m: \tmetrics: ['hamming_score', 'zero_one_score', 'mAP', 'mean_f1_score']\n",
      "\u001b[34m\u001b[1mwandb\u001b[0m: \tnum_accum: 4\n",
      "\u001b[34m\u001b[1mwandb\u001b[0m: \toptimizer: {'AdamW': {'weight_decay': 0}}\n",
      "\u001b[34m\u001b[1mwandb\u001b[0m: \tpreprocess: {'PreprocessPipeline': {'target_sr': 16000}}\n",
      "\u001b[34m\u001b[1mwandb\u001b[0m: \tsave_best_model: True\n",
      "\u001b[34m\u001b[1mwandb\u001b[0m: \tscheduler: {'CosineAnnealingLR': {'eta_min': 0}}\n",
      "\u001b[34m\u001b[1mwandb\u001b[0m: \tsignal_augments: {'RepeatAudio': {'max_repeats': 3}}\n",
      "\u001b[34m\u001b[1mwandb\u001b[0m: \tspec_augments: {'MaskFrequency': {'max_mask_length': 6}, 'MaskTime': {'max_mask_length': 77}}\n",
      "\u001b[34m\u001b[1mwandb\u001b[0m: \ttrain_dir: ./data/processed/all_sync/IRMAS_Training_Data\n",
      "\u001b[34m\u001b[1mwandb\u001b[0m: \ttransforms: {'FeatureExtractor': {'sr': 16000}}\n",
      "\u001b[34m\u001b[1mwandb\u001b[0m: \tvalid_dir: ./data/raw/IRMAS_Validation_Data\n",
      "\u001b[34m\u001b[1mwandb\u001b[0m: \tverbose: True\n",
      "\u001b[34m\u001b[1mwandb\u001b[0m: Currently logged in as: \u001b[33mk-pintaric\u001b[0m. Use \u001b[1m`wandb login --relogin`\u001b[0m to force relogin\n"
     ]
    },
    {
     "data": {
      "text/html": [
       "Tracking run with wandb version 0.14.0"
      ],
      "text/plain": [
       "<IPython.core.display.HTML object>"
      ]
     },
     "metadata": {},
     "output_type": "display_data"
    },
    {
     "data": {
      "text/html": [
       "Run data is saved locally in <code>/nfs/home/912c2e22633dde2e/lumen-irmas/wandb/run-20230331_101221-v0l3uixf</code>"
      ],
      "text/plain": [
       "<IPython.core.display.HTML object>"
      ]
     },
     "metadata": {},
     "output_type": "display_data"
    },
    {
     "data": {
      "text/html": [
       "Syncing run <strong><a href='https://wandb.ai/k-pintaric/IRMAS_allsync/runs/v0l3uixf' target=\"_blank\">radiant-sweep-1</a></strong> to <a href='https://wandb.ai/k-pintaric/IRMAS_allsync' target=\"_blank\">Weights & Biases</a> (<a href='https://wandb.me/run' target=\"_blank\">docs</a>)<br/>Sweep page: <a href='https://wandb.ai/k-pintaric/IRMAS_allsync/sweeps/06f92x4a' target=\"_blank\">https://wandb.ai/k-pintaric/IRMAS_allsync/sweeps/06f92x4a</a>"
      ],
      "text/plain": [
       "<IPython.core.display.HTML object>"
      ]
     },
     "metadata": {},
     "output_type": "display_data"
    },
    {
     "data": {
      "text/html": [
       " View project at <a href='https://wandb.ai/k-pintaric/IRMAS_allsync' target=\"_blank\">https://wandb.ai/k-pintaric/IRMAS_allsync</a>"
      ],
      "text/plain": [
       "<IPython.core.display.HTML object>"
      ]
     },
     "metadata": {},
     "output_type": "display_data"
    },
    {
     "data": {
      "text/html": [
       " View sweep at <a href='https://wandb.ai/k-pintaric/IRMAS_allsync/sweeps/06f92x4a' target=\"_blank\">https://wandb.ai/k-pintaric/IRMAS_allsync/sweeps/06f92x4a</a>"
      ],
      "text/plain": [
       "<IPython.core.display.HTML object>"
      ]
     },
     "metadata": {},
     "output_type": "display_data"
    },
    {
     "data": {
      "text/html": [
       " View run at <a href='https://wandb.ai/k-pintaric/IRMAS_allsync/runs/v0l3uixf' target=\"_blank\">https://wandb.ai/k-pintaric/IRMAS_allsync/runs/v0l3uixf</a>"
      ],
      "text/plain": [
       "<IPython.core.display.HTML object>"
      ]
     },
     "metadata": {},
     "output_type": "display_data"
    },
    {
     "data": {
      "application/vnd.jupyter.widget-view+json": {
       "model_id": "58a752653f3b473193563e4b6736db0c",
       "version_major": 2,
       "version_minor": 0
      },
      "text/plain": [
       "  0%|          | 0/6 [00:00<?, ?it/s]"
      ]
     },
     "metadata": {},
     "output_type": "display_data"
    },
    {
     "data": {
      "application/vnd.jupyter.widget-view+json": {
       "model_id": "",
       "version_major": 2,
       "version_minor": 0
      },
      "text/plain": [
       "  0%|          | 0/9220 [00:00<?, ?it/s]"
      ]
     },
     "metadata": {},
     "output_type": "display_data"
    },
    {
     "data": {
      "application/vnd.jupyter.widget-view+json": {
       "model_id": "",
       "version_major": 2,
       "version_minor": 0
      },
      "text/plain": [
       "  0%|          | 0/185 [00:00<?, ?it/s]"
      ]
     },
     "metadata": {},
     "output_type": "display_data"
    },
    {
     "name": "stdout",
     "output_type": "stream",
     "text": [
      "| EPOCH: 1 | train_loss: 0.009 | val_loss: 0.066 |\n",
      "\n",
      "hamming_score: 0.83\n",
      "zero_one_score: 0.16\n",
      "mAP: 0.73\n",
      "mean_f1_score: 0.57\n"
     ]
    },
    {
     "data": {
      "application/vnd.jupyter.widget-view+json": {
       "model_id": "",
       "version_major": 2,
       "version_minor": 0
      },
      "text/plain": [
       "  0%|          | 0/9220 [00:00<?, ?it/s]"
      ]
     },
     "metadata": {},
     "output_type": "display_data"
    },
    {
     "data": {
      "application/vnd.jupyter.widget-view+json": {
       "model_id": "",
       "version_major": 2,
       "version_minor": 0
      },
      "text/plain": [
       "  0%|          | 0/185 [00:00<?, ?it/s]"
      ]
     },
     "metadata": {},
     "output_type": "display_data"
    },
    {
     "name": "stdout",
     "output_type": "stream",
     "text": [
      "| EPOCH: 2 | train_loss: 0.006 | val_loss: 0.058 |\n",
      "\n",
      "hamming_score: 0.85\n",
      "zero_one_score: 0.20\n",
      "mAP: 0.82\n",
      "mean_f1_score: 0.62\n"
     ]
    },
    {
     "data": {
      "application/vnd.jupyter.widget-view+json": {
       "model_id": "",
       "version_major": 2,
       "version_minor": 0
      },
      "text/plain": [
       "  0%|          | 0/9220 [00:00<?, ?it/s]"
      ]
     },
     "metadata": {},
     "output_type": "display_data"
    },
    {
     "data": {
      "application/vnd.jupyter.widget-view+json": {
       "model_id": "",
       "version_major": 2,
       "version_minor": 0
      },
      "text/plain": [
       "  0%|          | 0/185 [00:00<?, ?it/s]"
      ]
     },
     "metadata": {},
     "output_type": "display_data"
    },
    {
     "name": "stdout",
     "output_type": "stream",
     "text": [
      "| EPOCH: 3 | train_loss: 0.004 | val_loss: 0.089 |\n",
      "\n",
      "hamming_score: 0.85\n",
      "zero_one_score: 0.18\n",
      "mAP: 0.80\n",
      "mean_f1_score: 0.59\n"
     ]
    },
    {
     "data": {
      "application/vnd.jupyter.widget-view+json": {
       "model_id": "cdf68ea9949641b18c3808257fec7b4a",
       "version_major": 2,
       "version_minor": 0
      },
      "text/plain": [
       "  0%|          | 0/9220 [00:00<?, ?it/s]"
      ]
     },
     "metadata": {},
     "output_type": "display_data"
    }
   ],
   "source": [
    "import yaml\n",
    "CONFIG_PATH = \"./sweep_config.yaml\"\n",
    "with open(CONFIG_PATH) as file:\n",
    "    config = yaml.safe_load(file)\n",
    "\n",
    "sweep_id = wandb.sweep(sweep=config, project=\"IRMAS_allsync\")\n",
    "wandb.agent(sweep_id, function=main, count=10)"
   ]
  }
 ],
 "metadata": {
  "kernelspec": {
   "display_name": "Python 3 (ipykernel)",
   "language": "python",
   "name": "python3"
  },
  "language_info": {
   "codemirror_mode": {
    "name": "ipython",
    "version": 3
   },
   "file_extension": ".py",
   "mimetype": "text/x-python",
   "name": "python",
   "nbconvert_exporter": "python",
   "pygments_lexer": "ipython3",
   "version": "3.10.10"
  }
 },
 "nbformat": 4,
 "nbformat_minor": 5
}
