{
 "cells": [
  {
   "cell_type": "code",
   "execution_count": 1,
   "id": "c7e138e8",
   "metadata": {},
   "outputs": [
    {
     "name": "stderr",
     "output_type": "stream",
     "text": [
      "/home/kpintaric/lumen-irmas/venv/lib/python3.10/site-packages/tqdm/auto.py:21: TqdmWarning: IProgress not found. Please update jupyter and ipywidgets. See https://ipywidgets.readthedocs.io/en/stable/user_install.html\n",
      "  from .autonotebook import tqdm as notebook_tqdm\n",
      "/home/kpintaric/lumen-irmas/venv/lib/python3.10/site-packages/torchvision/io/image.py:13: UserWarning: Failed to load image Python extension: /home/kpintaric/lumen-irmas/venv/lib/python3.10/site-packages/torchvision/image.so: undefined symbol: _ZN5torch3jit17parseSchemaOrNameERKNSt7__cxx1112basic_stringIcSt11char_traitsIcESaIcEEE\n",
      "  warn(f\"Failed to load image Python extension: {e}\")\n"
     ]
    }
   ],
   "source": [
    "import torch\n",
    "import numpy as np\n",
    "import wandb\n",
    "\n",
    "from utils import parse_config, unflatten_dot\n",
    "from dataset import get_loader\n",
    "from learner import Learner\n",
    "from models import ASTPretrainedBigHead, ASTPretrainedSmallHead, RNN, ASTWithWeightedLayerPooling\n",
    "from types import SimpleNamespace"
   ]
  },
  {
   "cell_type": "code",
   "execution_count": 2,
   "id": "8bd80af9",
   "metadata": {},
   "outputs": [],
   "source": [
    "SEED = 123\n",
    "torch.manual_seed(SEED)\n",
    "torch.cuda.manual_seed(SEED)\n",
    "torch.backends.cudnn.deterministic = True\n",
    "torch.backends.cudnn.benchmark = False\n",
    "np.random.seed(SEED)"
   ]
  },
  {
   "cell_type": "code",
   "execution_count": 38,
   "id": "9c28cc8e",
   "metadata": {},
   "outputs": [],
   "source": [
    "def main():\n",
    "    \n",
    "    wandb.init()\n",
    "    config = wandb.config\n",
    "    train_dl = get_loader(config, subset=\"train\")\n",
    "    valid_dl = get_loader(config, subset=\"valid\")\n",
    "    \n",
    "    model = ASTPretrainedSmallHead(n_classes=11)\n",
    "\n",
    "    learn = Learner(train_dl, valid_dl, model, config)\n",
    "\n",
    "    learn.fit(4)"
   ]
  },
  {
   "cell_type": "code",
   "execution_count": null,
   "id": "31ddc5c8",
   "metadata": {},
   "outputs": [],
   "source": []
  },
  {
   "cell_type": "code",
   "execution_count": 39,
   "id": "f38688d6",
   "metadata": {},
   "outputs": [],
   "source": [
    "import yaml\n",
    "CONFIG_PATH = \"./sweep_config.yaml\"\n",
    "with open(CONFIG_PATH) as file:\n",
    "    config = yaml.safe_load(file)\n",
    "\n",
    "#run = wandb.init(config=config)\n",
    "# main(wandb.config)"
   ]
  },
  {
   "cell_type": "code",
   "execution_count": 40,
   "id": "976e3b6e",
   "metadata": {},
   "outputs": [
    {
     "name": "stdout",
     "output_type": "stream",
     "text": [
      "Create sweep with ID: n491ieon\n",
      "Sweep URL: https://wandb.ai/k-pintaric/test3/sweeps/n491ieon\n"
     ]
    },
    {
     "name": "stderr",
     "output_type": "stream",
     "text": [
      "\u001b[34m\u001b[1mwandb\u001b[0m: Agent Starting Run: m8o4ouqm with config:\n",
      "\u001b[34m\u001b[1mwandb\u001b[0m: \tEPOCHS: 5\n",
      "\u001b[34m\u001b[1mwandb\u001b[0m: \tbatch_size: 8\n",
      "\u001b[34m\u001b[1mwandb\u001b[0m: \tearly_stopping: {'min_delta': 0.0001, 'patience': 3}\n",
      "\u001b[34m\u001b[1mwandb\u001b[0m: \tlearning_rates: {'base_model': {'lr': 1.8100890518860848e-06}, 'classifier': {'lr': 0.010610086287094036}}\n",
      "\u001b[34m\u001b[1mwandb\u001b[0m: \tloss: {'FocalLoss': {'alpha': -1, 'gamma': 2}}\n",
      "\u001b[34m\u001b[1mwandb\u001b[0m: \tmetrics: ['hamming_score', 'zero_one_score', 'mean_average_precision', 'mean_f1_score']\n",
      "\u001b[34m\u001b[1mwandb\u001b[0m: \tnum_accum: 8\n",
      "\u001b[34m\u001b[1mwandb\u001b[0m: \toptimizer: {'AdamW': {'weight_decay': 0.012545400244447856}}\n",
      "\u001b[34m\u001b[1mwandb\u001b[0m: \tpreprocess: {'PreprocessPipeline': {'target_sr': 22050}}\n",
      "\u001b[34m\u001b[1mwandb\u001b[0m: \tsave_best_model: True\n",
      "\u001b[34m\u001b[1mwandb\u001b[0m: \tscheduler: {'OneCycleLR': {'anneal_strategy': 'cos', 'pct_start': 0.2802312669168328}}\n",
      "\u001b[34m\u001b[1mwandb\u001b[0m: \ttrain_dir: ./data/processed/all_sync/IRMAS_Training_Data\n",
      "\u001b[34m\u001b[1mwandb\u001b[0m: \ttransforms: {'LogTransform': None, 'Normalize': {'mean': -4.2677393, 'std': 9.1379948}, 'PadCutToLength': {'max_length': 1024}, 'Preemphasis': None, 'Spectrogram': {'hop_length': 128, 'n_fft': 512, 'n_mels': 128, 'sample_rate': 22050}}\n",
      "\u001b[34m\u001b[1mwandb\u001b[0m: \tvalid_dir: ./data/raw/IRMAS_Validation_Data\n",
      "\u001b[34m\u001b[1mwandb\u001b[0m: \tverbose: True\n",
      "Failed to detect the name of this notebook, you can set it manually with the WANDB_NOTEBOOK_NAME environment variable to enable code saving.\n"
     ]
    },
    {
     "data": {
      "text/html": [
       "Tracking run with wandb version 0.14.0"
      ],
      "text/plain": [
       "<IPython.core.display.HTML object>"
      ]
     },
     "metadata": {},
     "output_type": "display_data"
    },
    {
     "data": {
      "text/html": [
       "Run data is saved locally in <code>/home/kpintaric/lumen-irmas/wandb/run-20230322_162332-m8o4ouqm</code>"
      ],
      "text/plain": [
       "<IPython.core.display.HTML object>"
      ]
     },
     "metadata": {},
     "output_type": "display_data"
    },
    {
     "data": {
      "text/html": [
       "Syncing run <strong><a href='https://wandb.ai/k-pintaric/test3/runs/m8o4ouqm' target=\"_blank\">curious-sweep-1</a></strong> to <a href='https://wandb.ai/k-pintaric/test3' target=\"_blank\">Weights & Biases</a> (<a href='https://wandb.me/run' target=\"_blank\">docs</a>)<br/>Sweep page: <a href='https://wandb.ai/k-pintaric/test3/sweeps/n491ieon' target=\"_blank\">https://wandb.ai/k-pintaric/test3/sweeps/n491ieon</a>"
      ],
      "text/plain": [
       "<IPython.core.display.HTML object>"
      ]
     },
     "metadata": {},
     "output_type": "display_data"
    },
    {
     "data": {
      "text/html": [
       " View project at <a href='https://wandb.ai/k-pintaric/test3' target=\"_blank\">https://wandb.ai/k-pintaric/test3</a>"
      ],
      "text/plain": [
       "<IPython.core.display.HTML object>"
      ]
     },
     "metadata": {},
     "output_type": "display_data"
    },
    {
     "data": {
      "text/html": [
       " View sweep at <a href='https://wandb.ai/k-pintaric/test3/sweeps/n491ieon' target=\"_blank\">https://wandb.ai/k-pintaric/test3/sweeps/n491ieon</a>"
      ],
      "text/plain": [
       "<IPython.core.display.HTML object>"
      ]
     },
     "metadata": {},
     "output_type": "display_data"
    },
    {
     "data": {
      "text/html": [
       " View run at <a href='https://wandb.ai/k-pintaric/test3/runs/m8o4ouqm' target=\"_blank\">https://wandb.ai/k-pintaric/test3/runs/m8o4ouqm</a>"
      ],
      "text/plain": [
       "<IPython.core.display.HTML object>"
      ]
     },
     "metadata": {},
     "output_type": "display_data"
    },
    {
     "data": {
      "text/html": [
       "Waiting for W&B process to finish... <strong style=\"color:red\">(failed 1).</strong> Press Control-C to abort syncing."
      ],
      "text/plain": [
       "<IPython.core.display.HTML object>"
      ]
     },
     "metadata": {},
     "output_type": "display_data"
    },
    {
     "data": {
      "text/html": [
       " View run <strong style=\"color:#cdcd00\">curious-sweep-1</strong> at: <a href='https://wandb.ai/k-pintaric/test3/runs/m8o4ouqm' target=\"_blank\">https://wandb.ai/k-pintaric/test3/runs/m8o4ouqm</a><br/>Synced 5 W&B file(s), 0 media file(s), 0 artifact file(s) and 0 other file(s)"
      ],
      "text/plain": [
       "<IPython.core.display.HTML object>"
      ]
     },
     "metadata": {},
     "output_type": "display_data"
    },
    {
     "data": {
      "text/html": [
       "Find logs at: <code>./wandb/run-20230322_162332-m8o4ouqm/logs</code>"
      ],
      "text/plain": [
       "<IPython.core.display.HTML object>"
      ]
     },
     "metadata": {},
     "output_type": "display_data"
    },
    {
     "name": "stderr",
     "output_type": "stream",
     "text": [
      "Run m8o4ouqm errored: TypeError('transforms.PreprocessPipeline() argument after ** must be a mapping, not NoneType')\n",
      "\u001b[34m\u001b[1mwandb\u001b[0m: \u001b[32m\u001b[41mERROR\u001b[0m Run m8o4ouqm errored: TypeError('transforms.PreprocessPipeline() argument after ** must be a mapping, not NoneType')\n"
     ]
    }
   ],
   "source": [
    "sweep_id = wandb.sweep(sweep=config, project=\"test3\")\n",
    "wandb.agent(sweep_id, function=main, count=1)"
   ]
  },
  {
   "cell_type": "code",
   "execution_count": null,
   "id": "70607e75",
   "metadata": {},
   "outputs": [],
   "source": []
  }
 ],
 "metadata": {
  "kernelspec": {
   "display_name": "Python 3 (ipykernel)",
   "language": "python",
   "name": "python3"
  },
  "language_info": {
   "codemirror_mode": {
    "name": "ipython",
    "version": 3
   },
   "file_extension": ".py",
   "mimetype": "text/x-python",
   "name": "python",
   "nbconvert_exporter": "python",
   "pygments_lexer": "ipython3",
   "version": "3.10.9"
  }
 },
 "nbformat": 4,
 "nbformat_minor": 5
}
