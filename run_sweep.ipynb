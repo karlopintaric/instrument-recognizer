{
 "cells": [
  {
   "cell_type": "code",
   "execution_count": 1,
   "id": "c7e138e8",
   "metadata": {},
   "outputs": [],
   "source": [
    "import torch\n",
    "import numpy as np\n",
    "import wandb\n",
    "\n",
    "from utils import parse_config, unflatten_dot\n",
    "from dataset import get_loader\n",
    "from learner import Learner\n",
    "from models import ASTPretrainedBigHead, ASTPretrainedSmallHead, RNN, ASTWithWeightedLayerPooling\n",
    "from types import SimpleNamespace"
   ]
  },
  {
   "cell_type": "code",
   "execution_count": 2,
   "id": "8bd80af9",
   "metadata": {},
   "outputs": [],
   "source": [
    "SEED = 123\n",
    "torch.manual_seed(SEED)\n",
    "torch.cuda.manual_seed(SEED)\n",
    "torch.backends.cudnn.deterministic = True\n",
    "torch.backends.cudnn.benchmark = False\n",
    "np.random.seed(SEED)"
   ]
  },
  {
   "cell_type": "code",
   "execution_count": 3,
   "id": "9c28cc8e",
   "metadata": {},
   "outputs": [],
   "source": [
    "def main():\n",
    "    \n",
    "    wandb.init()\n",
    "    config = wandb.config\n",
    "    train_dl = get_loader(config, subset=\"train\")\n",
    "    valid_dl = get_loader(config, subset=\"valid\")\n",
    "    \n",
    "    model = ASTPretrainedSmallHead(n_classes=11)\n",
    "\n",
    "    learn = Learner(train_dl, valid_dl, model, config)\n",
    "    learn.unfreeze()\n",
    "\n",
    "    learn.fit(4)"
   ]
  },
  {
   "cell_type": "code",
   "execution_count": 4,
   "id": "f38688d6",
   "metadata": {},
   "outputs": [
    {
     "name": "stdout",
     "output_type": "stream",
     "text": [
      "Create sweep with ID: hdafiir7\n",
      "Sweep URL: https://wandb.ai/k-pintaric/uncategorized/sweeps/hdafiir7\n"
     ]
    },
    {
     "name": "stderr",
     "output_type": "stream",
     "text": [
      "\u001b[34m\u001b[1mwandb\u001b[0m: Agent Starting Run: 7begkphe with config:\n",
      "\u001b[34m\u001b[1mwandb\u001b[0m: \tEPOCHS: 3\n",
      "\u001b[34m\u001b[1mwandb\u001b[0m: \tbatch_size: 8\n",
      "\u001b[34m\u001b[1mwandb\u001b[0m: \tearly_stopping: {'min_delta': 0.0001, 'patience': 20}\n",
      "\u001b[34m\u001b[1mwandb\u001b[0m: \tlearning_rates: {'base_model': {'lr': 6.281122088848578e-08}, 'classifier': {'lr': 0.00045641324682915507}}\n",
      "\u001b[34m\u001b[1mwandb\u001b[0m: \tloss: {'FocalLoss': {'alpha': 0.25, 'gamma': 2}}\n",
      "\u001b[34m\u001b[1mwandb\u001b[0m: \tmetrics: ['hamming_score', 'zero_one_score', 'mean_average_precision', 'mean_f1_score']\n",
      "\u001b[34m\u001b[1mwandb\u001b[0m: \tnum_accum: 4\n",
      "\u001b[34m\u001b[1mwandb\u001b[0m: \toptimizer: {'AdamW': {'weight_decay': 0.008252844099883201}}\n",
      "\u001b[34m\u001b[1mwandb\u001b[0m: \tpreprocess: {'PreprocessPipeline': {'target_sr': 22050}}\n",
      "\u001b[34m\u001b[1mwandb\u001b[0m: \tsave_best_model: True\n",
      "\u001b[34m\u001b[1mwandb\u001b[0m: \tscheduler: {'OneCycleLR': {'anneal_strategy': 'cos', 'pct_start': 0.14499683328854124}}\n",
      "\u001b[34m\u001b[1mwandb\u001b[0m: \tsignal_augments: None\n",
      "\u001b[34m\u001b[1mwandb\u001b[0m: \tspec_augments: None\n",
      "\u001b[34m\u001b[1mwandb\u001b[0m: \ttrain_dir: ./data/processed_22khz/all_sync/IRMAS_Training_Data\n",
      "\u001b[34m\u001b[1mwandb\u001b[0m: \ttransforms: {'CustomFeatureExtractor': {'hop_length': 256, 'max_length': 1024, 'mean': -4.2677393, 'n_fft': 2048, 'n_mels': 128, 'sample_rate': 22050, 'std': 9.1379948}}\n",
      "\u001b[34m\u001b[1mwandb\u001b[0m: \tvalid_dir: ./data/raw/IRMAS_Validation_Data\n",
      "\u001b[34m\u001b[1mwandb\u001b[0m: \tverbose: True\n",
      "\u001b[34m\u001b[1mwandb\u001b[0m: Currently logged in as: \u001b[33mk-pintaric\u001b[0m. Use \u001b[1m`wandb login --relogin`\u001b[0m to force relogin\n"
     ]
    },
    {
     "data": {
      "text/html": [
       "Tracking run with wandb version 0.14.0"
      ],
      "text/plain": [
       "<IPython.core.display.HTML object>"
      ]
     },
     "metadata": {},
     "output_type": "display_data"
    },
    {
     "data": {
      "text/html": [
       "Run data is saved locally in <code>/nfs/home/912c2e22633dde2e/lumen-irmas/wandb/run-20230323_171520-7begkphe</code>"
      ],
      "text/plain": [
       "<IPython.core.display.HTML object>"
      ]
     },
     "metadata": {},
     "output_type": "display_data"
    },
    {
     "data": {
      "text/html": [
       "Syncing run <strong><a href='https://wandb.ai/k-pintaric/uncategorized/runs/7begkphe' target=\"_blank\">silvery-sweep-1</a></strong> to <a href='https://wandb.ai/k-pintaric/uncategorized' target=\"_blank\">Weights & Biases</a> (<a href='https://wandb.me/run' target=\"_blank\">docs</a>)<br/>Sweep page: <a href='https://wandb.ai/k-pintaric/uncategorized/sweeps/hdafiir7' target=\"_blank\">https://wandb.ai/k-pintaric/uncategorized/sweeps/hdafiir7</a>"
      ],
      "text/plain": [
       "<IPython.core.display.HTML object>"
      ]
     },
     "metadata": {},
     "output_type": "display_data"
    },
    {
     "data": {
      "text/html": [
       " View project at <a href='https://wandb.ai/k-pintaric/uncategorized' target=\"_blank\">https://wandb.ai/k-pintaric/uncategorized</a>"
      ],
      "text/plain": [
       "<IPython.core.display.HTML object>"
      ]
     },
     "metadata": {},
     "output_type": "display_data"
    },
    {
     "data": {
      "text/html": [
       " View sweep at <a href='https://wandb.ai/k-pintaric/uncategorized/sweeps/hdafiir7' target=\"_blank\">https://wandb.ai/k-pintaric/uncategorized/sweeps/hdafiir7</a>"
      ],
      "text/plain": [
       "<IPython.core.display.HTML object>"
      ]
     },
     "metadata": {},
     "output_type": "display_data"
    },
    {
     "data": {
      "text/html": [
       " View run at <a href='https://wandb.ai/k-pintaric/uncategorized/runs/7begkphe' target=\"_blank\">https://wandb.ai/k-pintaric/uncategorized/runs/7begkphe</a>"
      ],
      "text/plain": [
       "<IPython.core.display.HTML object>"
      ]
     },
     "metadata": {},
     "output_type": "display_data"
    },
    {
     "data": {
      "application/vnd.jupyter.widget-view+json": {
       "model_id": "",
       "version_major": 2,
       "version_minor": 0
      },
      "text/plain": [
       "  0%|          | 0/3 [00:00<?, ?it/s]"
      ]
     },
     "metadata": {},
     "output_type": "display_data"
    },
    {
     "data": {
      "application/vnd.jupyter.widget-view+json": {
       "model_id": "",
       "version_major": 2,
       "version_minor": 0
      },
      "text/plain": [
       "  0%|          | 0/9220 [00:00<?, ?it/s]"
      ]
     },
     "metadata": {},
     "output_type": "display_data"
    },
    {
     "data": {
      "application/vnd.jupyter.widget-view+json": {
       "model_id": "",
       "version_major": 2,
       "version_minor": 0
      },
      "text/plain": [
       "  0%|          | 0/180 [00:00<?, ?it/s]"
      ]
     },
     "metadata": {},
     "output_type": "display_data"
    },
    {
     "name": "stdout",
     "output_type": "stream",
     "text": [
      "| EPOCH: 1 | train_loss: 0.010 | val_loss: 0.034 |\n",
      "\n",
      "hamming_score: 0.81\n",
      "zero_one_score: 0.10\n",
      "mean_average_precision: 0.71\n",
      "mean_f1_score: 0.56\n"
     ]
    },
    {
     "data": {
      "application/vnd.jupyter.widget-view+json": {
       "model_id": "",
       "version_major": 2,
       "version_minor": 0
      },
      "text/plain": [
       "  0%|          | 0/9220 [00:00<?, ?it/s]"
      ]
     },
     "metadata": {},
     "output_type": "display_data"
    },
    {
     "data": {
      "application/vnd.jupyter.widget-view+json": {
       "model_id": "",
       "version_major": 2,
       "version_minor": 0
      },
      "text/plain": [
       "  0%|          | 0/180 [00:00<?, ?it/s]"
      ]
     },
     "metadata": {},
     "output_type": "display_data"
    },
    {
     "name": "stdout",
     "output_type": "stream",
     "text": [
      "| EPOCH: 2 | train_loss: 0.008 | val_loss: 0.033 |\n",
      "\n",
      "hamming_score: 0.79\n",
      "zero_one_score: 0.07\n",
      "mean_average_precision: 0.73\n",
      "mean_f1_score: 0.55\n"
     ]
    },
    {
     "data": {
      "application/vnd.jupyter.widget-view+json": {
       "model_id": "",
       "version_major": 2,
       "version_minor": 0
      },
      "text/plain": [
       "  0%|          | 0/9220 [00:00<?, ?it/s]"
      ]
     },
     "metadata": {},
     "output_type": "display_data"
    },
    {
     "data": {
      "application/vnd.jupyter.widget-view+json": {
       "model_id": "",
       "version_major": 2,
       "version_minor": 0
      },
      "text/plain": [
       "  0%|          | 0/180 [00:00<?, ?it/s]"
      ]
     },
     "metadata": {},
     "output_type": "display_data"
    },
    {
     "name": "stdout",
     "output_type": "stream",
     "text": [
      "| EPOCH: 3 | train_loss: 0.008 | val_loss: 0.033 |\n",
      "\n",
      "hamming_score: 0.80\n",
      "zero_one_score: 0.07\n",
      "mean_average_precision: 0.73\n",
      "mean_f1_score: 0.55\n"
     ]
    },
    {
     "data": {
      "text/html": [
       "Waiting for W&B process to finish... <strong style=\"color:green\">(success).</strong>"
      ],
      "text/plain": [
       "<IPython.core.display.HTML object>"
      ]
     },
     "metadata": {},
     "output_type": "display_data"
    },
    {
     "data": {
      "application/vnd.jupyter.widget-view+json": {
       "model_id": "a6f330fa25d2459193dfd37a000b0486",
       "version_major": 2,
       "version_minor": 0
      },
      "text/plain": [
       "VBox(children=(Label(value='0.007 MB of 0.020 MB uploaded (0.000 MB deduped)\\r'), FloatProgress(value=0.345040…"
      ]
     },
     "metadata": {},
     "output_type": "display_data"
    },
    {
     "data": {
      "text/html": [
       "<style>\n",
       "    table.wandb td:nth-child(1) { padding: 0 10px; text-align: left ; width: auto;} td:nth-child(2) {text-align: left ; width: 100%}\n",
       "    .wandb-row { display: flex; flex-direction: row; flex-wrap: wrap; justify-content: flex-start; width: 100% }\n",
       "    .wandb-col { display: flex; flex-direction: column; flex-basis: 100%; flex: 1; padding: 10px; }\n",
       "    </style>\n",
       "<div class=\"wandb-row\"><div class=\"wandb-col\"><h3>Run history:</h3><br/><table class=\"wandb\"><tr><td>epoch</td><td>▁▅█</td></tr><tr><td>hamming_score</td><td>█▁▄</td></tr><tr><td>lr_param_group_0</td><td>▁▂▃▅▇███████▇▇▇▇▆▆▆▆▅▅▅▄▄▄▃▃▃▂▂▂▂▂▁▁▁▁▁▁</td></tr><tr><td>lr_param_group_1</td><td>▁▂▃▅▇███████▇▇▇▇▆▆▆▆▅▅▅▄▄▄▃▃▃▂▂▂▂▂▁▁▁▁▁▁</td></tr><tr><td>mean_average_precision</td><td>▁█▆</td></tr><tr><td>mean_f1_score</td><td>█▁▂</td></tr><tr><td>test_step</td><td>▁▁▁▂▂▂▂▂▂▃▃▃▃▃▃▄▄▄▄▄▅▅▅▅▅▅▆▆▆▆▆▇▇▇▇▇▇███</td></tr><tr><td>train_loss</td><td>█▂▁</td></tr><tr><td>train_loss_per_batch</td><td>█▃▂▃▂▂▂▂▂▂▃▂▂▂▂▂▃▂▂▂▂▂▁▂▁▂▁▂▂▂▂▂▂▁▂▁▂▂▁▂</td></tr><tr><td>train_step</td><td>▁▁▁▂▂▂▂▂▂▃▃▃▃▃▃▄▄▄▄▄▅▅▅▅▅▅▆▆▆▆▆▇▇▇▇▇▇███</td></tr><tr><td>val_loss</td><td>█▁▅</td></tr><tr><td>valid_loss_per_batch</td><td>▂▃▃▃▂▁▂▁▃▂▃▃▃▂▃▃▃▃▃▂▃▂▃▂▂█▃▂▃▂▂▃▁▄▂▂▃▄▂▃</td></tr><tr><td>zero_one_score</td><td>█▁▂</td></tr></table><br/></div><div class=\"wandb-col\"><h3>Run summary:</h3><br/><table class=\"wandb\"><tr><td>epoch</td><td>3</td></tr><tr><td>hamming_score</td><td>0.79598</td></tr><tr><td>lr_param_group_0</td><td>0.0</td></tr><tr><td>lr_param_group_1</td><td>0.0</td></tr><tr><td>mean_average_precision</td><td>0.7283</td></tr><tr><td>mean_f1_score</td><td>0.55073</td></tr><tr><td>test_step</td><td>540</td></tr><tr><td>train_loss</td><td>0.00799</td></tr><tr><td>train_loss_per_batch</td><td>0.00994</td></tr><tr><td>train_step</td><td>27660</td></tr><tr><td>val_loss</td><td>0.03335</td></tr><tr><td>valid_loss_per_batch</td><td>0.01995</td></tr><tr><td>zero_one_score</td><td>0.07098</td></tr></table><br/></div></div>"
      ],
      "text/plain": [
       "<IPython.core.display.HTML object>"
      ]
     },
     "metadata": {},
     "output_type": "display_data"
    },
    {
     "data": {
      "text/html": [
       " View run <strong style=\"color:#cdcd00\">silvery-sweep-1</strong> at: <a href='https://wandb.ai/k-pintaric/uncategorized/runs/7begkphe' target=\"_blank\">https://wandb.ai/k-pintaric/uncategorized/runs/7begkphe</a><br/>Synced 6 W&B file(s), 0 media file(s), 0 artifact file(s) and 0 other file(s)"
      ],
      "text/plain": [
       "<IPython.core.display.HTML object>"
      ]
     },
     "metadata": {},
     "output_type": "display_data"
    },
    {
     "data": {
      "text/html": [
       "Find logs at: <code>./wandb/run-20230323_171520-7begkphe/logs</code>"
      ],
      "text/plain": [
       "<IPython.core.display.HTML object>"
      ]
     },
     "metadata": {},
     "output_type": "display_data"
    },
    {
     "name": "stderr",
     "output_type": "stream",
     "text": [
      "\u001b[34m\u001b[1mwandb\u001b[0m: Agent Starting Run: ur5c1q8x with config:\n",
      "\u001b[34m\u001b[1mwandb\u001b[0m: \tEPOCHS: 1\n",
      "\u001b[34m\u001b[1mwandb\u001b[0m: \tbatch_size: 8\n",
      "\u001b[34m\u001b[1mwandb\u001b[0m: \tearly_stopping: {'min_delta': 0.0001, 'patience': 20}\n",
      "\u001b[34m\u001b[1mwandb\u001b[0m: \tlearning_rates: {'base_model': {'lr': 1.258459692982835e-06}, 'classifier': {'lr': 0.0001630123869957506}}\n",
      "\u001b[34m\u001b[1mwandb\u001b[0m: \tloss: {'FocalLoss': {'alpha': -1, 'gamma': 2}}\n",
      "\u001b[34m\u001b[1mwandb\u001b[0m: \tmetrics: ['hamming_score', 'zero_one_score', 'mean_average_precision', 'mean_f1_score']\n",
      "\u001b[34m\u001b[1mwandb\u001b[0m: \tnum_accum: 2\n",
      "\u001b[34m\u001b[1mwandb\u001b[0m: \toptimizer: {'AdamW': {'weight_decay': 5.0852933663920816e-08}}\n",
      "\u001b[34m\u001b[1mwandb\u001b[0m: \tpreprocess: {'PreprocessPipeline': {'target_sr': 22050}}\n",
      "\u001b[34m\u001b[1mwandb\u001b[0m: \tsave_best_model: True\n",
      "\u001b[34m\u001b[1mwandb\u001b[0m: \tscheduler: {'OneCycleLR': {'anneal_strategy': 'cos', 'pct_start': 0.4950002097634445}}\n",
      "\u001b[34m\u001b[1mwandb\u001b[0m: \tsignal_augments: None\n",
      "\u001b[34m\u001b[1mwandb\u001b[0m: \tspec_augments: None\n",
      "\u001b[34m\u001b[1mwandb\u001b[0m: \ttrain_dir: ./data/processed_22khz/all_sync/IRMAS_Training_Data\n",
      "\u001b[34m\u001b[1mwandb\u001b[0m: \ttransforms: {'CustomFeatureExtractor': {'hop_length': 128, 'max_length': 1024, 'mean': -4.2677393, 'n_fft': 512, 'n_mels': 128, 'sample_rate': 22050, 'std': 9.1379948}}\n",
      "\u001b[34m\u001b[1mwandb\u001b[0m: \tvalid_dir: ./data/raw/IRMAS_Validation_Data\n",
      "\u001b[34m\u001b[1mwandb\u001b[0m: \tverbose: True\n"
     ]
    },
    {
     "data": {
      "text/html": [
       "Tracking run with wandb version 0.14.0"
      ],
      "text/plain": [
       "<IPython.core.display.HTML object>"
      ]
     },
     "metadata": {},
     "output_type": "display_data"
    },
    {
     "data": {
      "text/html": [
       "Run data is saved locally in <code>/nfs/home/912c2e22633dde2e/lumen-irmas/wandb/run-20230323_230344-ur5c1q8x</code>"
      ],
      "text/plain": [
       "<IPython.core.display.HTML object>"
      ]
     },
     "metadata": {},
     "output_type": "display_data"
    },
    {
     "data": {
      "text/html": [
       "Syncing run <strong><a href='https://wandb.ai/k-pintaric/uncategorized/runs/ur5c1q8x' target=\"_blank\">swift-sweep-2</a></strong> to <a href='https://wandb.ai/k-pintaric/uncategorized' target=\"_blank\">Weights & Biases</a> (<a href='https://wandb.me/run' target=\"_blank\">docs</a>)<br/>Sweep page: <a href='https://wandb.ai/k-pintaric/uncategorized/sweeps/hdafiir7' target=\"_blank\">https://wandb.ai/k-pintaric/uncategorized/sweeps/hdafiir7</a>"
      ],
      "text/plain": [
       "<IPython.core.display.HTML object>"
      ]
     },
     "metadata": {},
     "output_type": "display_data"
    },
    {
     "data": {
      "text/html": [
       " View project at <a href='https://wandb.ai/k-pintaric/uncategorized' target=\"_blank\">https://wandb.ai/k-pintaric/uncategorized</a>"
      ],
      "text/plain": [
       "<IPython.core.display.HTML object>"
      ]
     },
     "metadata": {},
     "output_type": "display_data"
    },
    {
     "data": {
      "text/html": [
       " View sweep at <a href='https://wandb.ai/k-pintaric/uncategorized/sweeps/hdafiir7' target=\"_blank\">https://wandb.ai/k-pintaric/uncategorized/sweeps/hdafiir7</a>"
      ],
      "text/plain": [
       "<IPython.core.display.HTML object>"
      ]
     },
     "metadata": {},
     "output_type": "display_data"
    },
    {
     "data": {
      "text/html": [
       " View run at <a href='https://wandb.ai/k-pintaric/uncategorized/runs/ur5c1q8x' target=\"_blank\">https://wandb.ai/k-pintaric/uncategorized/runs/ur5c1q8x</a>"
      ],
      "text/plain": [
       "<IPython.core.display.HTML object>"
      ]
     },
     "metadata": {},
     "output_type": "display_data"
    },
    {
     "name": "stderr",
     "output_type": "stream",
     "text": [
      "/nfs/home/912c2e22633dde2e/lumen-irmas/venv/lib/python3.10/site-packages/torchaudio/functional/functional.py:576: UserWarning: At least one mel filterbank has all zero values. The value for `n_mels` (128) may be set too high. Or, the value for `n_freqs` (257) may be set too low.\n",
      "  warnings.warn(\n"
     ]
    },
    {
     "data": {
      "application/vnd.jupyter.widget-view+json": {
       "model_id": "",
       "version_major": 2,
       "version_minor": 0
      },
      "text/plain": [
       "  0%|          | 0/1 [00:00<?, ?it/s]"
      ]
     },
     "metadata": {},
     "output_type": "display_data"
    },
    {
     "data": {
      "application/vnd.jupyter.widget-view+json": {
       "model_id": "",
       "version_major": 2,
       "version_minor": 0
      },
      "text/plain": [
       "  0%|          | 0/9220 [00:00<?, ?it/s]"
      ]
     },
     "metadata": {},
     "output_type": "display_data"
    },
    {
     "data": {
      "application/vnd.jupyter.widget-view+json": {
       "model_id": "",
       "version_major": 2,
       "version_minor": 0
      },
      "text/plain": [
       "  0%|          | 0/180 [00:00<?, ?it/s]"
      ]
     },
     "metadata": {},
     "output_type": "display_data"
    },
    {
     "name": "stdout",
     "output_type": "stream",
     "text": [
      "| EPOCH: 1 | train_loss: 0.045 | val_loss: 0.079 |\n",
      "\n",
      "hamming_score: 0.85\n",
      "zero_one_score: 0.21\n",
      "mean_average_precision: 0.80\n",
      "mean_f1_score: 0.65\n"
     ]
    },
    {
     "data": {
      "text/html": [
       "Waiting for W&B process to finish... <strong style=\"color:green\">(success).</strong>"
      ],
      "text/plain": [
       "<IPython.core.display.HTML object>"
      ]
     },
     "metadata": {},
     "output_type": "display_data"
    },
    {
     "data": {
      "text/html": [
       "<style>\n",
       "    table.wandb td:nth-child(1) { padding: 0 10px; text-align: left ; width: auto;} td:nth-child(2) {text-align: left ; width: 100%}\n",
       "    .wandb-row { display: flex; flex-direction: row; flex-wrap: wrap; justify-content: flex-start; width: 100% }\n",
       "    .wandb-col { display: flex; flex-direction: column; flex-basis: 100%; flex: 1; padding: 10px; }\n",
       "    </style>\n",
       "<div class=\"wandb-row\"><div class=\"wandb-col\"><h3>Run history:</h3><br/><table class=\"wandb\"><tr><td>epoch</td><td>▁</td></tr><tr><td>hamming_score</td><td>▁</td></tr><tr><td>lr_param_group_0</td><td>▁▁▁▂▂▃▃▃▄▄▅▆▆▆▇▇███████▇▇▇▆▆▅▅▄▄▃▂▂▂▁▁▁▁</td></tr><tr><td>lr_param_group_1</td><td>▁▁▁▂▂▃▃▃▄▄▅▆▆▆▇▇███████▇▇▇▆▆▅▅▄▄▃▂▂▂▁▁▁▁</td></tr><tr><td>mean_average_precision</td><td>▁</td></tr><tr><td>mean_f1_score</td><td>▁</td></tr><tr><td>test_step</td><td>▁▁▁▁▂▂▂▂▂▃▃▃▃▃▃▄▄▄▄▄▅▅▅▅▅▅▆▆▆▆▆▇▇▇▇▇▇███</td></tr><tr><td>train_loss</td><td>▁</td></tr><tr><td>train_loss_per_batch</td><td>█▆▅▅▅▄▄▄▂▃▃▃▃▃▃▃▂▃▃▃▂▄▂▂▂▃▄▃▂▂▁▂▂▂▃▁▂▃▂▂</td></tr><tr><td>train_step</td><td>▁▁▁▁▂▂▂▂▂▃▃▃▃▃▃▄▄▄▄▄▅▅▅▅▅▅▆▆▆▆▆▇▇▇▇▇▇███</td></tr><tr><td>val_loss</td><td>▁</td></tr><tr><td>valid_loss_per_batch</td><td>▅▃▅▃▂▄▄▂▄▃▇▃▃▅▄▂▅▄▅▃▃▅▃▂▄▄▅▃▂▄▂▃▄▄▂▃▄▁▂█</td></tr><tr><td>zero_one_score</td><td>▁</td></tr></table><br/></div><div class=\"wandb-col\"><h3>Run summary:</h3><br/><table class=\"wandb\"><tr><td>epoch</td><td>1</td></tr><tr><td>hamming_score</td><td>0.85064</td></tr><tr><td>lr_param_group_0</td><td>0.0</td></tr><tr><td>lr_param_group_1</td><td>0.0</td></tr><tr><td>mean_average_precision</td><td>0.80076</td></tr><tr><td>mean_f1_score</td><td>0.6474</td></tr><tr><td>test_step</td><td>180</td></tr><tr><td>train_loss</td><td>0.04461</td></tr><tr><td>train_loss_per_batch</td><td>0.04243</td></tr><tr><td>train_step</td><td>9220</td></tr><tr><td>val_loss</td><td>0.07896</td></tr><tr><td>valid_loss_per_batch</td><td>0.1635</td></tr><tr><td>zero_one_score</td><td>0.20877</td></tr></table><br/></div></div>"
      ],
      "text/plain": [
       "<IPython.core.display.HTML object>"
      ]
     },
     "metadata": {},
     "output_type": "display_data"
    },
    {
     "data": {
      "text/html": [
       " View run <strong style=\"color:#cdcd00\">swift-sweep-2</strong> at: <a href='https://wandb.ai/k-pintaric/uncategorized/runs/ur5c1q8x' target=\"_blank\">https://wandb.ai/k-pintaric/uncategorized/runs/ur5c1q8x</a><br/>Synced 6 W&B file(s), 0 media file(s), 0 artifact file(s) and 0 other file(s)"
      ],
      "text/plain": [
       "<IPython.core.display.HTML object>"
      ]
     },
     "metadata": {},
     "output_type": "display_data"
    },
    {
     "data": {
      "text/html": [
       "Find logs at: <code>./wandb/run-20230323_230344-ur5c1q8x/logs</code>"
      ],
      "text/plain": [
       "<IPython.core.display.HTML object>"
      ]
     },
     "metadata": {},
     "output_type": "display_data"
    },
    {
     "name": "stderr",
     "output_type": "stream",
     "text": [
      "\u001b[34m\u001b[1mwandb\u001b[0m: Agent Starting Run: 5f8ymutn with config:\n",
      "\u001b[34m\u001b[1mwandb\u001b[0m: \tEPOCHS: 7\n",
      "\u001b[34m\u001b[1mwandb\u001b[0m: \tbatch_size: 8\n",
      "\u001b[34m\u001b[1mwandb\u001b[0m: \tearly_stopping: {'min_delta': 0.0001, 'patience': 20}\n",
      "\u001b[34m\u001b[1mwandb\u001b[0m: \tlearning_rates: {'base_model': {'lr': 6.521144695638673e-08}, 'classifier': {'lr': 0.0003038803821711939}}\n",
      "\u001b[34m\u001b[1mwandb\u001b[0m: \tloss: {'FocalLoss': {'alpha': -1, 'gamma': 3}}\n",
      "\u001b[34m\u001b[1mwandb\u001b[0m: \tmetrics: ['hamming_score', 'zero_one_score', 'mean_average_precision', 'mean_f1_score']\n",
      "\u001b[34m\u001b[1mwandb\u001b[0m: \tnum_accum: 8\n",
      "\u001b[34m\u001b[1mwandb\u001b[0m: \toptimizer: {'AdamW': {'weight_decay': 2.7949381034476455e-05}}\n",
      "\u001b[34m\u001b[1mwandb\u001b[0m: \tpreprocess: {'PreprocessPipeline': {'target_sr': 22050}}\n",
      "\u001b[34m\u001b[1mwandb\u001b[0m: \tsave_best_model: True\n",
      "\u001b[34m\u001b[1mwandb\u001b[0m: \tscheduler: {'OneCycleLR': {'anneal_strategy': 'cos', 'pct_start': 0.4766941286246821}}\n",
      "\u001b[34m\u001b[1mwandb\u001b[0m: \tsignal_augments: None\n",
      "\u001b[34m\u001b[1mwandb\u001b[0m: \tspec_augments: None\n",
      "\u001b[34m\u001b[1mwandb\u001b[0m: \ttrain_dir: ./data/processed_22khz/all_sync/IRMAS_Training_Data\n",
      "\u001b[34m\u001b[1mwandb\u001b[0m: \ttransforms: {'CustomFeatureExtractor': {'hop_length': 256, 'max_length': 1024, 'mean': -4.2677393, 'n_fft': 512, 'n_mels': 128, 'sample_rate': 22050, 'std': 9.1379948}}\n",
      "\u001b[34m\u001b[1mwandb\u001b[0m: \tvalid_dir: ./data/raw/IRMAS_Validation_Data\n",
      "\u001b[34m\u001b[1mwandb\u001b[0m: \tverbose: True\n"
     ]
    },
    {
     "data": {
      "text/html": [
       "Tracking run with wandb version 0.14.0"
      ],
      "text/plain": [
       "<IPython.core.display.HTML object>"
      ]
     },
     "metadata": {},
     "output_type": "display_data"
    },
    {
     "data": {
      "text/html": [
       "Run data is saved locally in <code>/nfs/home/912c2e22633dde2e/lumen-irmas/wandb/run-20230324_010016-5f8ymutn</code>"
      ],
      "text/plain": [
       "<IPython.core.display.HTML object>"
      ]
     },
     "metadata": {},
     "output_type": "display_data"
    },
    {
     "data": {
      "text/html": [
       "Syncing run <strong><a href='https://wandb.ai/k-pintaric/uncategorized/runs/5f8ymutn' target=\"_blank\">vague-sweep-3</a></strong> to <a href='https://wandb.ai/k-pintaric/uncategorized' target=\"_blank\">Weights & Biases</a> (<a href='https://wandb.me/run' target=\"_blank\">docs</a>)<br/>Sweep page: <a href='https://wandb.ai/k-pintaric/uncategorized/sweeps/hdafiir7' target=\"_blank\">https://wandb.ai/k-pintaric/uncategorized/sweeps/hdafiir7</a>"
      ],
      "text/plain": [
       "<IPython.core.display.HTML object>"
      ]
     },
     "metadata": {},
     "output_type": "display_data"
    },
    {
     "data": {
      "text/html": [
       " View project at <a href='https://wandb.ai/k-pintaric/uncategorized' target=\"_blank\">https://wandb.ai/k-pintaric/uncategorized</a>"
      ],
      "text/plain": [
       "<IPython.core.display.HTML object>"
      ]
     },
     "metadata": {},
     "output_type": "display_data"
    },
    {
     "data": {
      "text/html": [
       " View sweep at <a href='https://wandb.ai/k-pintaric/uncategorized/sweeps/hdafiir7' target=\"_blank\">https://wandb.ai/k-pintaric/uncategorized/sweeps/hdafiir7</a>"
      ],
      "text/plain": [
       "<IPython.core.display.HTML object>"
      ]
     },
     "metadata": {},
     "output_type": "display_data"
    },
    {
     "data": {
      "text/html": [
       " View run at <a href='https://wandb.ai/k-pintaric/uncategorized/runs/5f8ymutn' target=\"_blank\">https://wandb.ai/k-pintaric/uncategorized/runs/5f8ymutn</a>"
      ],
      "text/plain": [
       "<IPython.core.display.HTML object>"
      ]
     },
     "metadata": {},
     "output_type": "display_data"
    },
    {
     "name": "stderr",
     "output_type": "stream",
     "text": [
      "/nfs/home/912c2e22633dde2e/lumen-irmas/venv/lib/python3.10/site-packages/torchaudio/functional/functional.py:576: UserWarning: At least one mel filterbank has all zero values. The value for `n_mels` (128) may be set too high. Or, the value for `n_freqs` (257) may be set too low.\n",
      "  warnings.warn(\n"
     ]
    },
    {
     "data": {
      "application/vnd.jupyter.widget-view+json": {
       "model_id": "",
       "version_major": 2,
       "version_minor": 0
      },
      "text/plain": [
       "  0%|          | 0/7 [00:00<?, ?it/s]"
      ]
     },
     "metadata": {},
     "output_type": "display_data"
    },
    {
     "data": {
      "application/vnd.jupyter.widget-view+json": {
       "model_id": "",
       "version_major": 2,
       "version_minor": 0
      },
      "text/plain": [
       "  0%|          | 0/9220 [00:00<?, ?it/s]"
      ]
     },
     "metadata": {},
     "output_type": "display_data"
    },
    {
     "data": {
      "application/vnd.jupyter.widget-view+json": {
       "model_id": "",
       "version_major": 2,
       "version_minor": 0
      },
      "text/plain": [
       "  0%|          | 0/180 [00:00<?, ?it/s]"
      ]
     },
     "metadata": {},
     "output_type": "display_data"
    },
    {
     "name": "stdout",
     "output_type": "stream",
     "text": [
      "| EPOCH: 1 | train_loss: 0.008 | val_loss: 0.048 |\n",
      "\n",
      "hamming_score: 0.80\n",
      "zero_one_score: 0.08\n",
      "mean_average_precision: 0.75\n",
      "mean_f1_score: 0.56\n"
     ]
    },
    {
     "data": {
      "application/vnd.jupyter.widget-view+json": {
       "model_id": "",
       "version_major": 2,
       "version_minor": 0
      },
      "text/plain": [
       "  0%|          | 0/9220 [00:00<?, ?it/s]"
      ]
     },
     "metadata": {},
     "output_type": "display_data"
    },
    {
     "data": {
      "application/vnd.jupyter.widget-view+json": {
       "model_id": "",
       "version_major": 2,
       "version_minor": 0
      },
      "text/plain": [
       "  0%|          | 0/180 [00:00<?, ?it/s]"
      ]
     },
     "metadata": {},
     "output_type": "display_data"
    },
    {
     "name": "stdout",
     "output_type": "stream",
     "text": [
      "| EPOCH: 2 | train_loss: 0.006 | val_loss: 0.039 |\n",
      "\n",
      "hamming_score: 0.82\n",
      "zero_one_score: 0.15\n",
      "mean_average_precision: 0.82\n",
      "mean_f1_score: 0.60\n"
     ]
    },
    {
     "data": {
      "application/vnd.jupyter.widget-view+json": {
       "model_id": "",
       "version_major": 2,
       "version_minor": 0
      },
      "text/plain": [
       "  0%|          | 0/9220 [00:00<?, ?it/s]"
      ]
     },
     "metadata": {},
     "output_type": "display_data"
    },
    {
     "data": {
      "application/vnd.jupyter.widget-view+json": {
       "model_id": "",
       "version_major": 2,
       "version_minor": 0
      },
      "text/plain": [
       "  0%|          | 0/180 [00:00<?, ?it/s]"
      ]
     },
     "metadata": {},
     "output_type": "display_data"
    },
    {
     "name": "stdout",
     "output_type": "stream",
     "text": [
      "| EPOCH: 3 | train_loss: 0.005 | val_loss: 0.040 |\n",
      "\n",
      "hamming_score: 0.83\n",
      "zero_one_score: 0.14\n",
      "mean_average_precision: 0.81\n",
      "mean_f1_score: 0.61\n"
     ]
    },
    {
     "data": {
      "application/vnd.jupyter.widget-view+json": {
       "model_id": "",
       "version_major": 2,
       "version_minor": 0
      },
      "text/plain": [
       "  0%|          | 0/9220 [00:00<?, ?it/s]"
      ]
     },
     "metadata": {},
     "output_type": "display_data"
    },
    {
     "data": {
      "application/vnd.jupyter.widget-view+json": {
       "model_id": "",
       "version_major": 2,
       "version_minor": 0
      },
      "text/plain": [
       "  0%|          | 0/180 [00:00<?, ?it/s]"
      ]
     },
     "metadata": {},
     "output_type": "display_data"
    },
    {
     "name": "stdout",
     "output_type": "stream",
     "text": [
      "| EPOCH: 4 | train_loss: 0.005 | val_loss: 0.041 |\n",
      "\n",
      "hamming_score: 0.84\n",
      "zero_one_score: 0.16\n",
      "mean_average_precision: 0.81\n",
      "mean_f1_score: 0.62\n"
     ]
    },
    {
     "data": {
      "application/vnd.jupyter.widget-view+json": {
       "model_id": "",
       "version_major": 2,
       "version_minor": 0
      },
      "text/plain": [
       "  0%|          | 0/9220 [00:00<?, ?it/s]"
      ]
     },
     "metadata": {},
     "output_type": "display_data"
    },
    {
     "data": {
      "application/vnd.jupyter.widget-view+json": {
       "model_id": "",
       "version_major": 2,
       "version_minor": 0
      },
      "text/plain": [
       "  0%|          | 0/180 [00:00<?, ?it/s]"
      ]
     },
     "metadata": {},
     "output_type": "display_data"
    },
    {
     "name": "stdout",
     "output_type": "stream",
     "text": [
      "| EPOCH: 5 | train_loss: 0.005 | val_loss: 0.041 |\n",
      "\n",
      "hamming_score: 0.83\n",
      "zero_one_score: 0.14\n",
      "mean_average_precision: 0.82\n",
      "mean_f1_score: 0.61\n"
     ]
    },
    {
     "data": {
      "application/vnd.jupyter.widget-view+json": {
       "model_id": "",
       "version_major": 2,
       "version_minor": 0
      },
      "text/plain": [
       "  0%|          | 0/9220 [00:00<?, ?it/s]"
      ]
     },
     "metadata": {},
     "output_type": "display_data"
    },
    {
     "data": {
      "application/vnd.jupyter.widget-view+json": {
       "model_id": "",
       "version_major": 2,
       "version_minor": 0
      },
      "text/plain": [
       "  0%|          | 0/180 [00:00<?, ?it/s]"
      ]
     },
     "metadata": {},
     "output_type": "display_data"
    },
    {
     "name": "stdout",
     "output_type": "stream",
     "text": [
      "| EPOCH: 6 | train_loss: 0.005 | val_loss: 0.042 |\n",
      "\n",
      "hamming_score: 0.84\n",
      "zero_one_score: 0.18\n",
      "mean_average_precision: 0.81\n",
      "mean_f1_score: 0.63\n"
     ]
    },
    {
     "data": {
      "application/vnd.jupyter.widget-view+json": {
       "model_id": "",
       "version_major": 2,
       "version_minor": 0
      },
      "text/plain": [
       "  0%|          | 0/9220 [00:00<?, ?it/s]"
      ]
     },
     "metadata": {},
     "output_type": "display_data"
    },
    {
     "data": {
      "application/vnd.jupyter.widget-view+json": {
       "model_id": "",
       "version_major": 2,
       "version_minor": 0
      },
      "text/plain": [
       "  0%|          | 0/180 [00:00<?, ?it/s]"
      ]
     },
     "metadata": {},
     "output_type": "display_data"
    },
    {
     "name": "stdout",
     "output_type": "stream",
     "text": [
      "| EPOCH: 7 | train_loss: 0.005 | val_loss: 0.041 |\n",
      "\n",
      "hamming_score: 0.83\n",
      "zero_one_score: 0.16\n",
      "mean_average_precision: 0.81\n",
      "mean_f1_score: 0.61\n"
     ]
    },
    {
     "data": {
      "text/html": [
       "Waiting for W&B process to finish... <strong style=\"color:green\">(success).</strong>"
      ],
      "text/plain": [
       "<IPython.core.display.HTML object>"
      ]
     },
     "metadata": {},
     "output_type": "display_data"
    },
    {
     "data": {
      "application/vnd.jupyter.widget-view+json": {
       "model_id": "dcca43a64ee8439a97925158a2b4aeb3",
       "version_major": 2,
       "version_minor": 0
      },
      "text/plain": [
       "VBox(children=(Label(value='0.007 MB of 0.007 MB uploaded (0.000 MB deduped)\\r'), FloatProgress(value=1.0, max…"
      ]
     },
     "metadata": {},
     "output_type": "display_data"
    },
    {
     "data": {
      "text/html": [
       "<style>\n",
       "    table.wandb td:nth-child(1) { padding: 0 10px; text-align: left ; width: auto;} td:nth-child(2) {text-align: left ; width: 100%}\n",
       "    .wandb-row { display: flex; flex-direction: row; flex-wrap: wrap; justify-content: flex-start; width: 100% }\n",
       "    .wandb-col { display: flex; flex-direction: column; flex-basis: 100%; flex: 1; padding: 10px; }\n",
       "    </style>\n",
       "<div class=\"wandb-row\"><div class=\"wandb-col\"><h3>Run history:</h3><br/><table class=\"wandb\"><tr><td>epoch</td><td>▁▂▃▅▆▇█</td></tr><tr><td>hamming_score</td><td>▁▄▆█▆█▇</td></tr><tr><td>lr_param_group_0</td><td>▁▁▂▂▂▃▃▃▄▄▅▆▆▇▇▇███████▇▇▆▆▆▅▅▄▃▃▂▂▂▁▁▁▁</td></tr><tr><td>lr_param_group_1</td><td>▁▁▂▂▂▃▃▃▄▄▅▆▆▇▇▇███████▇▇▆▆▆▅▅▄▃▃▂▂▂▁▁▁▁</td></tr><tr><td>mean_average_precision</td><td>▁█▇▇█▇▇</td></tr><tr><td>mean_f1_score</td><td>▁▅▆█▆█▇</td></tr><tr><td>test_step</td><td>▁▁▁▁▂▂▂▂▂▃▃▃▃▃▃▄▄▄▄▄▅▅▅▅▅▅▆▆▆▆▆▇▇▇▇▇▇███</td></tr><tr><td>train_loss</td><td>█▃▂▂▁▁▁</td></tr><tr><td>train_loss_per_batch</td><td>█▅▅▅▄▄▅▄▄▃▃▂▂▃▃▂▁▃▂▃▃▄▃▃▂▂▃▄▂▂▁▃▄▃▃▄▂▂▂▃</td></tr><tr><td>train_step</td><td>▁▁▁▂▂▂▂▂▂▃▃▃▃▃▃▄▄▄▄▄▅▅▅▅▅▅▆▆▆▆▆▇▇▇▇▇▇███</td></tr><tr><td>val_loss</td><td>█▁▂▃▃▃▃</td></tr><tr><td>valid_loss_per_batch</td><td>▄▅▆▆▄▄▃▃▄▃▅▂▅▂▂▅▅▅▇█▃▃▆▂▄▄▄▆▄▃▆▄▁▃▁▂▄▃▄▂</td></tr><tr><td>zero_one_score</td><td>▁▆▆▇▆█▇</td></tr></table><br/></div><div class=\"wandb-col\"><h3>Run summary:</h3><br/><table class=\"wandb\"><tr><td>epoch</td><td>7</td></tr><tr><td>hamming_score</td><td>0.83115</td></tr><tr><td>lr_param_group_0</td><td>0.0</td></tr><tr><td>lr_param_group_1</td><td>0.0</td></tr><tr><td>mean_average_precision</td><td>0.8115</td></tr><tr><td>mean_f1_score</td><td>0.61464</td></tr><tr><td>test_step</td><td>1260</td></tr><tr><td>train_loss</td><td>0.00487</td></tr><tr><td>train_loss_per_batch</td><td>0.00425</td></tr><tr><td>train_step</td><td>64540</td></tr><tr><td>val_loss</td><td>0.04128</td></tr><tr><td>valid_loss_per_batch</td><td>0.04562</td></tr><tr><td>zero_one_score</td><td>0.15797</td></tr></table><br/></div></div>"
      ],
      "text/plain": [
       "<IPython.core.display.HTML object>"
      ]
     },
     "metadata": {},
     "output_type": "display_data"
    },
    {
     "data": {
      "text/html": [
       " View run <strong style=\"color:#cdcd00\">vague-sweep-3</strong> at: <a href='https://wandb.ai/k-pintaric/uncategorized/runs/5f8ymutn' target=\"_blank\">https://wandb.ai/k-pintaric/uncategorized/runs/5f8ymutn</a><br/>Synced 6 W&B file(s), 0 media file(s), 0 artifact file(s) and 0 other file(s)"
      ],
      "text/plain": [
       "<IPython.core.display.HTML object>"
      ]
     },
     "metadata": {},
     "output_type": "display_data"
    },
    {
     "data": {
      "text/html": [
       "Find logs at: <code>./wandb/run-20230324_010016-5f8ymutn/logs</code>"
      ],
      "text/plain": [
       "<IPython.core.display.HTML object>"
      ]
     },
     "metadata": {},
     "output_type": "display_data"
    },
    {
     "name": "stderr",
     "output_type": "stream",
     "text": [
      "\u001b[34m\u001b[1mwandb\u001b[0m: Agent Starting Run: iagd24gq with config:\n",
      "\u001b[34m\u001b[1mwandb\u001b[0m: \tEPOCHS: 8\n",
      "\u001b[34m\u001b[1mwandb\u001b[0m: \tbatch_size: 8\n",
      "\u001b[34m\u001b[1mwandb\u001b[0m: \tearly_stopping: {'min_delta': 0.0001, 'patience': 20}\n",
      "\u001b[34m\u001b[1mwandb\u001b[0m: \tlearning_rates: {'base_model': {'lr': 7.073708644460277e-06}, 'classifier': {'lr': 0.00022636127218850712}}\n",
      "\u001b[34m\u001b[1mwandb\u001b[0m: \tloss: {'FocalLoss': {'alpha': 0.25, 'gamma': 1}}\n",
      "\u001b[34m\u001b[1mwandb\u001b[0m: \tmetrics: ['hamming_score', 'zero_one_score', 'mean_average_precision', 'mean_f1_score']\n",
      "\u001b[34m\u001b[1mwandb\u001b[0m: \tnum_accum: 4\n",
      "\u001b[34m\u001b[1mwandb\u001b[0m: \toptimizer: {'AdamW': {'weight_decay': 3.237446455210846e-06}}\n",
      "\u001b[34m\u001b[1mwandb\u001b[0m: \tpreprocess: {'PreprocessPipeline': {'target_sr': 22050}}\n",
      "\u001b[34m\u001b[1mwandb\u001b[0m: \tsave_best_model: True\n",
      "\u001b[34m\u001b[1mwandb\u001b[0m: \tscheduler: {'OneCycleLR': {'anneal_strategy': 'cos', 'pct_start': 0.483512078399103}}\n",
      "\u001b[34m\u001b[1mwandb\u001b[0m: \tsignal_augments: None\n",
      "\u001b[34m\u001b[1mwandb\u001b[0m: \tspec_augments: None\n",
      "\u001b[34m\u001b[1mwandb\u001b[0m: \ttrain_dir: ./data/processed_22khz/all_sync/IRMAS_Training_Data\n",
      "\u001b[34m\u001b[1mwandb\u001b[0m: \ttransforms: {'CustomFeatureExtractor': {'hop_length': 512, 'max_length': 1024, 'mean': -4.2677393, 'n_fft': 2048, 'n_mels': 128, 'sample_rate': 22050, 'std': 9.1379948}}\n",
      "\u001b[34m\u001b[1mwandb\u001b[0m: \tvalid_dir: ./data/raw/IRMAS_Validation_Data\n",
      "\u001b[34m\u001b[1mwandb\u001b[0m: \tverbose: True\n"
     ]
    },
    {
     "data": {
      "text/html": [
       "Tracking run with wandb version 0.14.0"
      ],
      "text/plain": [
       "<IPython.core.display.HTML object>"
      ]
     },
     "metadata": {},
     "output_type": "display_data"
    },
    {
     "data": {
      "text/html": [
       "Run data is saved locally in <code>/nfs/home/912c2e22633dde2e/lumen-irmas/wandb/run-20230324_142351-iagd24gq</code>"
      ],
      "text/plain": [
       "<IPython.core.display.HTML object>"
      ]
     },
     "metadata": {},
     "output_type": "display_data"
    },
    {
     "data": {
      "text/html": [
       "Syncing run <strong><a href='https://wandb.ai/k-pintaric/uncategorized/runs/iagd24gq' target=\"_blank\">cool-sweep-4</a></strong> to <a href='https://wandb.ai/k-pintaric/uncategorized' target=\"_blank\">Weights & Biases</a> (<a href='https://wandb.me/run' target=\"_blank\">docs</a>)<br/>Sweep page: <a href='https://wandb.ai/k-pintaric/uncategorized/sweeps/hdafiir7' target=\"_blank\">https://wandb.ai/k-pintaric/uncategorized/sweeps/hdafiir7</a>"
      ],
      "text/plain": [
       "<IPython.core.display.HTML object>"
      ]
     },
     "metadata": {},
     "output_type": "display_data"
    },
    {
     "data": {
      "text/html": [
       " View project at <a href='https://wandb.ai/k-pintaric/uncategorized' target=\"_blank\">https://wandb.ai/k-pintaric/uncategorized</a>"
      ],
      "text/plain": [
       "<IPython.core.display.HTML object>"
      ]
     },
     "metadata": {},
     "output_type": "display_data"
    },
    {
     "data": {
      "text/html": [
       " View sweep at <a href='https://wandb.ai/k-pintaric/uncategorized/sweeps/hdafiir7' target=\"_blank\">https://wandb.ai/k-pintaric/uncategorized/sweeps/hdafiir7</a>"
      ],
      "text/plain": [
       "<IPython.core.display.HTML object>"
      ]
     },
     "metadata": {},
     "output_type": "display_data"
    },
    {
     "data": {
      "text/html": [
       " View run at <a href='https://wandb.ai/k-pintaric/uncategorized/runs/iagd24gq' target=\"_blank\">https://wandb.ai/k-pintaric/uncategorized/runs/iagd24gq</a>"
      ],
      "text/plain": [
       "<IPython.core.display.HTML object>"
      ]
     },
     "metadata": {},
     "output_type": "display_data"
    },
    {
     "data": {
      "application/vnd.jupyter.widget-view+json": {
       "model_id": "",
       "version_major": 2,
       "version_minor": 0
      },
      "text/plain": [
       "  0%|          | 0/8 [00:00<?, ?it/s]"
      ]
     },
     "metadata": {},
     "output_type": "display_data"
    },
    {
     "data": {
      "application/vnd.jupyter.widget-view+json": {
       "model_id": "",
       "version_major": 2,
       "version_minor": 0
      },
      "text/plain": [
       "  0%|          | 0/9220 [00:00<?, ?it/s]"
      ]
     },
     "metadata": {},
     "output_type": "display_data"
    },
    {
     "data": {
      "application/vnd.jupyter.widget-view+json": {
       "model_id": "",
       "version_major": 2,
       "version_minor": 0
      },
      "text/plain": [
       "  0%|          | 0/180 [00:00<?, ?it/s]"
      ]
     },
     "metadata": {},
     "output_type": "display_data"
    },
    {
     "name": "stdout",
     "output_type": "stream",
     "text": [
      "| EPOCH: 1 | train_loss: 0.019 | val_loss: 0.058 |\n",
      "\n",
      "hamming_score: 0.79\n",
      "zero_one_score: 0.06\n",
      "mean_average_precision: 0.75\n",
      "mean_f1_score: 0.53\n"
     ]
    },
    {
     "data": {
      "application/vnd.jupyter.widget-view+json": {
       "model_id": "",
       "version_major": 2,
       "version_minor": 0
      },
      "text/plain": [
       "  0%|          | 0/9220 [00:00<?, ?it/s]"
      ]
     },
     "metadata": {},
     "output_type": "display_data"
    },
    {
     "data": {
      "application/vnd.jupyter.widget-view+json": {
       "model_id": "",
       "version_major": 2,
       "version_minor": 0
      },
      "text/plain": [
       "  0%|          | 0/180 [00:00<?, ?it/s]"
      ]
     },
     "metadata": {},
     "output_type": "display_data"
    },
    {
     "name": "stdout",
     "output_type": "stream",
     "text": [
      "| EPOCH: 2 | train_loss: 0.014 | val_loss: 0.056 |\n",
      "\n",
      "hamming_score: 0.84\n",
      "zero_one_score: 0.15\n",
      "mean_average_precision: 0.76\n",
      "mean_f1_score: 0.61\n"
     ]
    },
    {
     "data": {
      "application/vnd.jupyter.widget-view+json": {
       "model_id": "",
       "version_major": 2,
       "version_minor": 0
      },
      "text/plain": [
       "  0%|          | 0/9220 [00:00<?, ?it/s]"
      ]
     },
     "metadata": {},
     "output_type": "display_data"
    },
    {
     "data": {
      "application/vnd.jupyter.widget-view+json": {
       "model_id": "",
       "version_major": 2,
       "version_minor": 0
      },
      "text/plain": [
       "  0%|          | 0/180 [00:00<?, ?it/s]"
      ]
     },
     "metadata": {},
     "output_type": "display_data"
    },
    {
     "name": "stdout",
     "output_type": "stream",
     "text": [
      "| EPOCH: 3 | train_loss: 0.012 | val_loss: 0.056 |\n",
      "\n",
      "hamming_score: 0.83\n",
      "zero_one_score: 0.12\n",
      "mean_average_precision: 0.79\n",
      "mean_f1_score: 0.59\n"
     ]
    },
    {
     "data": {
      "application/vnd.jupyter.widget-view+json": {
       "model_id": "",
       "version_major": 2,
       "version_minor": 0
      },
      "text/plain": [
       "  0%|          | 0/9220 [00:00<?, ?it/s]"
      ]
     },
     "metadata": {},
     "output_type": "display_data"
    },
    {
     "data": {
      "application/vnd.jupyter.widget-view+json": {
       "model_id": "",
       "version_major": 2,
       "version_minor": 0
      },
      "text/plain": [
       "  0%|          | 0/180 [00:00<?, ?it/s]"
      ]
     },
     "metadata": {},
     "output_type": "display_data"
    },
    {
     "name": "stdout",
     "output_type": "stream",
     "text": [
      "| EPOCH: 4 | train_loss: 0.010 | val_loss: 0.060 |\n",
      "\n",
      "hamming_score: 0.85\n",
      "zero_one_score: 0.15\n",
      "mean_average_precision: 0.79\n",
      "mean_f1_score: 0.62\n"
     ]
    },
    {
     "data": {
      "application/vnd.jupyter.widget-view+json": {
       "model_id": "",
       "version_major": 2,
       "version_minor": 0
      },
      "text/plain": [
       "  0%|          | 0/9220 [00:00<?, ?it/s]"
      ]
     },
     "metadata": {},
     "output_type": "display_data"
    },
    {
     "data": {
      "application/vnd.jupyter.widget-view+json": {
       "model_id": "",
       "version_major": 2,
       "version_minor": 0
      },
      "text/plain": [
       "  0%|          | 0/180 [00:00<?, ?it/s]"
      ]
     },
     "metadata": {},
     "output_type": "display_data"
    },
    {
     "name": "stdout",
     "output_type": "stream",
     "text": [
      "| EPOCH: 5 | train_loss: 0.008 | val_loss: 0.066 |\n",
      "\n",
      "hamming_score: 0.84\n",
      "zero_one_score: 0.11\n",
      "mean_average_precision: 0.79\n",
      "mean_f1_score: 0.57\n"
     ]
    },
    {
     "data": {
      "application/vnd.jupyter.widget-view+json": {
       "model_id": "",
       "version_major": 2,
       "version_minor": 0
      },
      "text/plain": [
       "  0%|          | 0/9220 [00:00<?, ?it/s]"
      ]
     },
     "metadata": {},
     "output_type": "display_data"
    },
    {
     "data": {
      "application/vnd.jupyter.widget-view+json": {
       "model_id": "",
       "version_major": 2,
       "version_minor": 0
      },
      "text/plain": [
       "  0%|          | 0/180 [00:00<?, ?it/s]"
      ]
     },
     "metadata": {},
     "output_type": "display_data"
    },
    {
     "name": "stdout",
     "output_type": "stream",
     "text": [
      "| EPOCH: 6 | train_loss: 0.006 | val_loss: 0.073 |\n",
      "\n",
      "hamming_score: 0.84\n",
      "zero_one_score: 0.11\n",
      "mean_average_precision: 0.80\n",
      "mean_f1_score: 0.59\n"
     ]
    },
    {
     "data": {
      "application/vnd.jupyter.widget-view+json": {
       "model_id": "",
       "version_major": 2,
       "version_minor": 0
      },
      "text/plain": [
       "  0%|          | 0/9220 [00:00<?, ?it/s]"
      ]
     },
     "metadata": {},
     "output_type": "display_data"
    },
    {
     "data": {
      "application/vnd.jupyter.widget-view+json": {
       "model_id": "",
       "version_major": 2,
       "version_minor": 0
      },
      "text/plain": [
       "  0%|          | 0/180 [00:00<?, ?it/s]"
      ]
     },
     "metadata": {},
     "output_type": "display_data"
    },
    {
     "name": "stdout",
     "output_type": "stream",
     "text": [
      "| EPOCH: 7 | train_loss: 0.004 | val_loss: 0.084 |\n",
      "\n",
      "hamming_score: 0.84\n",
      "zero_one_score: 0.08\n",
      "mean_average_precision: 0.78\n",
      "mean_f1_score: 0.56\n"
     ]
    },
    {
     "data": {
      "application/vnd.jupyter.widget-view+json": {
       "model_id": "",
       "version_major": 2,
       "version_minor": 0
      },
      "text/plain": [
       "  0%|          | 0/9220 [00:00<?, ?it/s]"
      ]
     },
     "metadata": {},
     "output_type": "display_data"
    },
    {
     "data": {
      "application/vnd.jupyter.widget-view+json": {
       "model_id": "",
       "version_major": 2,
       "version_minor": 0
      },
      "text/plain": [
       "  0%|          | 0/180 [00:00<?, ?it/s]"
      ]
     },
     "metadata": {},
     "output_type": "display_data"
    },
    {
     "name": "stdout",
     "output_type": "stream",
     "text": [
      "| EPOCH: 8 | train_loss: 0.003 | val_loss: 0.086 |\n",
      "\n",
      "hamming_score: 0.83\n",
      "zero_one_score: 0.09\n",
      "mean_average_precision: 0.79\n",
      "mean_f1_score: 0.57\n"
     ]
    },
    {
     "data": {
      "text/html": [
       "Waiting for W&B process to finish... <strong style=\"color:green\">(success).</strong>"
      ],
      "text/plain": [
       "<IPython.core.display.HTML object>"
      ]
     },
     "metadata": {},
     "output_type": "display_data"
    },
    {
     "data": {
      "application/vnd.jupyter.widget-view+json": {
       "model_id": "785b3469023446fd97cb61264a8c1e82",
       "version_major": 2,
       "version_minor": 0
      },
      "text/plain": [
       "VBox(children=(Label(value='0.007 MB of 0.007 MB uploaded (0.000 MB deduped)\\r'), FloatProgress(value=1.0, max…"
      ]
     },
     "metadata": {},
     "output_type": "display_data"
    },
    {
     "data": {
      "text/html": [
       "<style>\n",
       "    table.wandb td:nth-child(1) { padding: 0 10px; text-align: left ; width: auto;} td:nth-child(2) {text-align: left ; width: 100%}\n",
       "    .wandb-row { display: flex; flex-direction: row; flex-wrap: wrap; justify-content: flex-start; width: 100% }\n",
       "    .wandb-col { display: flex; flex-direction: column; flex-basis: 100%; flex: 1; padding: 10px; }\n",
       "    </style>\n",
       "<div class=\"wandb-row\"><div class=\"wandb-col\"><h3>Run history:</h3><br/><table class=\"wandb\"><tr><td>epoch</td><td>▁▂▃▄▅▆▇█</td></tr><tr><td>hamming_score</td><td>▁▇▆█▇▆▆▆</td></tr><tr><td>lr_param_group_0</td><td>▁▁▁▂▂▃▃▃▄▅▅▆▆▇▇▇███████▇▇▇▆▅▅▅▄▃▃▂▂▂▁▁▁▁</td></tr><tr><td>lr_param_group_1</td><td>▁▁▁▂▂▃▃▃▄▅▅▆▆▇▇▇███████▇▇▇▆▅▅▅▄▃▃▂▂▂▁▁▁▁</td></tr><tr><td>mean_average_precision</td><td>▁▃▆▇▇█▆▆</td></tr><tr><td>mean_f1_score</td><td>▁█▆█▄▆▄▄</td></tr><tr><td>test_step</td><td>▁▁▁▁▂▂▂▂▂▃▃▃▃▃▃▄▄▄▄▄▅▅▅▅▅▅▆▆▆▆▆▇▇▇▇▇▇███</td></tr><tr><td>train_loss</td><td>█▆▅▄▃▂▁▁</td></tr><tr><td>train_loss_per_batch</td><td>██▇▆▆▇▅▆▅▆▆▄▅▄▅▅▄▄▃▃▂▃▄▃▄▃▃▂▃▂▃▂▂▂▂▁▂▁▁▂</td></tr><tr><td>train_step</td><td>▁▁▁▁▂▂▂▂▂▃▃▃▃▃▃▄▄▄▄▄▅▅▅▅▅▅▆▆▆▆▆▇▇▇▇▇▇███</td></tr><tr><td>val_loss</td><td>▁▁▁▂▃▅██</td></tr><tr><td>valid_loss_per_batch</td><td>▂▂▃▃▂▃▃▁▂▂▃▃▃▂▂▁▄▂▅▃▃▄▂▂▄▃▄▃▂▃▄▂█▄▄▅▃▅▃▄</td></tr><tr><td>zero_one_score</td><td>▁█▅█▄▅▃▃</td></tr></table><br/></div><div class=\"wandb-col\"><h3>Run summary:</h3><br/><table class=\"wandb\"><tr><td>epoch</td><td>8</td></tr><tr><td>hamming_score</td><td>0.83457</td></tr><tr><td>lr_param_group_0</td><td>0.0</td></tr><tr><td>lr_param_group_1</td><td>0.0</td></tr><tr><td>mean_average_precision</td><td>0.78547</td></tr><tr><td>mean_f1_score</td><td>0.56792</td></tr><tr><td>test_step</td><td>1440</td></tr><tr><td>train_loss</td><td>0.00338</td></tr><tr><td>train_loss_per_batch</td><td>0.00399</td></tr><tr><td>train_step</td><td>73760</td></tr><tr><td>val_loss</td><td>0.08611</td></tr><tr><td>valid_loss_per_batch</td><td>0.0981</td></tr><tr><td>zero_one_score</td><td>0.08838</td></tr></table><br/></div></div>"
      ],
      "text/plain": [
       "<IPython.core.display.HTML object>"
      ]
     },
     "metadata": {},
     "output_type": "display_data"
    },
    {
     "data": {
      "text/html": [
       " View run <strong style=\"color:#cdcd00\">cool-sweep-4</strong> at: <a href='https://wandb.ai/k-pintaric/uncategorized/runs/iagd24gq' target=\"_blank\">https://wandb.ai/k-pintaric/uncategorized/runs/iagd24gq</a><br/>Synced 6 W&B file(s), 0 media file(s), 0 artifact file(s) and 0 other file(s)"
      ],
      "text/plain": [
       "<IPython.core.display.HTML object>"
      ]
     },
     "metadata": {},
     "output_type": "display_data"
    },
    {
     "data": {
      "text/html": [
       "Find logs at: <code>./wandb/run-20230324_142351-iagd24gq/logs</code>"
      ],
      "text/plain": [
       "<IPython.core.display.HTML object>"
      ]
     },
     "metadata": {},
     "output_type": "display_data"
    },
    {
     "name": "stderr",
     "output_type": "stream",
     "text": [
      "\u001b[34m\u001b[1mwandb\u001b[0m: Agent Starting Run: ye8uji0i with config:\n",
      "\u001b[34m\u001b[1mwandb\u001b[0m: \tEPOCHS: 8\n",
      "\u001b[34m\u001b[1mwandb\u001b[0m: \tbatch_size: 8\n",
      "\u001b[34m\u001b[1mwandb\u001b[0m: \tearly_stopping: {'min_delta': 0.0001, 'patience': 20}\n",
      "\u001b[34m\u001b[1mwandb\u001b[0m: \tlearning_rates: {'base_model': {'lr': 2.9996322084782475e-06}, 'classifier': {'lr': 0.007335342924905495}}\n",
      "\u001b[34m\u001b[1mwandb\u001b[0m: \tloss: {'FocalLoss': {'alpha': 0.5, 'gamma': 2}}\n",
      "\u001b[34m\u001b[1mwandb\u001b[0m: \tmetrics: ['hamming_score', 'zero_one_score', 'mean_average_precision', 'mean_f1_score']\n",
      "\u001b[34m\u001b[1mwandb\u001b[0m: \tnum_accum: 4\n",
      "\u001b[34m\u001b[1mwandb\u001b[0m: \toptimizer: {'AdamW': {'weight_decay': 6.401091346120071e-05}}\n",
      "\u001b[34m\u001b[1mwandb\u001b[0m: \tpreprocess: {'PreprocessPipeline': {'target_sr': 22050}}\n",
      "\u001b[34m\u001b[1mwandb\u001b[0m: \tsave_best_model: True\n",
      "\u001b[34m\u001b[1mwandb\u001b[0m: \tscheduler: {'OneCycleLR': {'anneal_strategy': 'cos', 'pct_start': 0.33398384020649563}}\n",
      "\u001b[34m\u001b[1mwandb\u001b[0m: \tsignal_augments: None\n",
      "\u001b[34m\u001b[1mwandb\u001b[0m: \tspec_augments: None\n",
      "\u001b[34m\u001b[1mwandb\u001b[0m: \ttrain_dir: ./data/processed_22khz/all_sync/IRMAS_Training_Data\n",
      "\u001b[34m\u001b[1mwandb\u001b[0m: \ttransforms: {'CustomFeatureExtractor': {'hop_length': 128, 'max_length': 1024, 'mean': -4.2677393, 'n_fft': 2048, 'n_mels': 128, 'sample_rate': 22050, 'std': 9.1379948}}\n",
      "\u001b[34m\u001b[1mwandb\u001b[0m: \tvalid_dir: ./data/raw/IRMAS_Validation_Data\n",
      "\u001b[34m\u001b[1mwandb\u001b[0m: \tverbose: True\n"
     ]
    },
    {
     "data": {
      "text/html": [
       "Tracking run with wandb version 0.14.0"
      ],
      "text/plain": [
       "<IPython.core.display.HTML object>"
      ]
     },
     "metadata": {},
     "output_type": "display_data"
    },
    {
     "data": {
      "text/html": [
       "Run data is saved locally in <code>/nfs/home/912c2e22633dde2e/lumen-irmas/wandb/run-20230325_054619-ye8uji0i</code>"
      ],
      "text/plain": [
       "<IPython.core.display.HTML object>"
      ]
     },
     "metadata": {},
     "output_type": "display_data"
    },
    {
     "data": {
      "text/html": [
       "Syncing run <strong><a href='https://wandb.ai/k-pintaric/uncategorized/runs/ye8uji0i' target=\"_blank\">happy-sweep-5</a></strong> to <a href='https://wandb.ai/k-pintaric/uncategorized' target=\"_blank\">Weights & Biases</a> (<a href='https://wandb.me/run' target=\"_blank\">docs</a>)<br/>Sweep page: <a href='https://wandb.ai/k-pintaric/uncategorized/sweeps/hdafiir7' target=\"_blank\">https://wandb.ai/k-pintaric/uncategorized/sweeps/hdafiir7</a>"
      ],
      "text/plain": [
       "<IPython.core.display.HTML object>"
      ]
     },
     "metadata": {},
     "output_type": "display_data"
    },
    {
     "data": {
      "text/html": [
       " View project at <a href='https://wandb.ai/k-pintaric/uncategorized' target=\"_blank\">https://wandb.ai/k-pintaric/uncategorized</a>"
      ],
      "text/plain": [
       "<IPython.core.display.HTML object>"
      ]
     },
     "metadata": {},
     "output_type": "display_data"
    },
    {
     "data": {
      "text/html": [
       " View sweep at <a href='https://wandb.ai/k-pintaric/uncategorized/sweeps/hdafiir7' target=\"_blank\">https://wandb.ai/k-pintaric/uncategorized/sweeps/hdafiir7</a>"
      ],
      "text/plain": [
       "<IPython.core.display.HTML object>"
      ]
     },
     "metadata": {},
     "output_type": "display_data"
    },
    {
     "data": {
      "text/html": [
       " View run at <a href='https://wandb.ai/k-pintaric/uncategorized/runs/ye8uji0i' target=\"_blank\">https://wandb.ai/k-pintaric/uncategorized/runs/ye8uji0i</a>"
      ],
      "text/plain": [
       "<IPython.core.display.HTML object>"
      ]
     },
     "metadata": {},
     "output_type": "display_data"
    },
    {
     "data": {
      "application/vnd.jupyter.widget-view+json": {
       "model_id": "",
       "version_major": 2,
       "version_minor": 0
      },
      "text/plain": [
       "  0%|          | 0/8 [00:00<?, ?it/s]"
      ]
     },
     "metadata": {},
     "output_type": "display_data"
    },
    {
     "data": {
      "application/vnd.jupyter.widget-view+json": {
       "model_id": "",
       "version_major": 2,
       "version_minor": 0
      },
      "text/plain": [
       "  0%|          | 0/9220 [00:00<?, ?it/s]"
      ]
     },
     "metadata": {},
     "output_type": "display_data"
    },
    {
     "data": {
      "application/vnd.jupyter.widget-view+json": {
       "model_id": "",
       "version_major": 2,
       "version_minor": 0
      },
      "text/plain": [
       "  0%|          | 0/180 [00:00<?, ?it/s]"
      ]
     },
     "metadata": {},
     "output_type": "display_data"
    },
    {
     "name": "stdout",
     "output_type": "stream",
     "text": [
      "| EPOCH: 1 | train_loss: 0.012 | val_loss: 0.047 |\n",
      "\n",
      "hamming_score: 0.81\n",
      "zero_one_score: 0.11\n",
      "mean_average_precision: 0.73\n",
      "mean_f1_score: 0.57\n"
     ]
    },
    {
     "data": {
      "application/vnd.jupyter.widget-view+json": {
       "model_id": "",
       "version_major": 2,
       "version_minor": 0
      },
      "text/plain": [
       "  0%|          | 0/9220 [00:00<?, ?it/s]"
      ]
     },
     "metadata": {},
     "output_type": "display_data"
    },
    {
     "data": {
      "application/vnd.jupyter.widget-view+json": {
       "model_id": "",
       "version_major": 2,
       "version_minor": 0
      },
      "text/plain": [
       "  0%|          | 0/180 [00:00<?, ?it/s]"
      ]
     },
     "metadata": {},
     "output_type": "display_data"
    },
    {
     "name": "stdout",
     "output_type": "stream",
     "text": [
      "| EPOCH: 2 | train_loss: 0.010 | val_loss: 0.055 |\n",
      "\n",
      "hamming_score: 0.81\n",
      "zero_one_score: 0.12\n",
      "mean_average_precision: 0.73\n",
      "mean_f1_score: 0.58\n"
     ]
    },
    {
     "data": {
      "application/vnd.jupyter.widget-view+json": {
       "model_id": "",
       "version_major": 2,
       "version_minor": 0
      },
      "text/plain": [
       "  0%|          | 0/9220 [00:00<?, ?it/s]"
      ]
     },
     "metadata": {},
     "output_type": "display_data"
    },
    {
     "data": {
      "application/vnd.jupyter.widget-view+json": {
       "model_id": "",
       "version_major": 2,
       "version_minor": 0
      },
      "text/plain": [
       "  0%|          | 0/180 [00:00<?, ?it/s]"
      ]
     },
     "metadata": {},
     "output_type": "display_data"
    },
    {
     "name": "stdout",
     "output_type": "stream",
     "text": [
      "| EPOCH: 3 | train_loss: 0.009 | val_loss: 0.058 |\n",
      "\n",
      "hamming_score: 0.84\n",
      "zero_one_score: 0.17\n",
      "mean_average_precision: 0.78\n",
      "mean_f1_score: 0.61\n"
     ]
    },
    {
     "data": {
      "application/vnd.jupyter.widget-view+json": {
       "model_id": "",
       "version_major": 2,
       "version_minor": 0
      },
      "text/plain": [
       "  0%|          | 0/9220 [00:00<?, ?it/s]"
      ]
     },
     "metadata": {},
     "output_type": "display_data"
    },
    {
     "data": {
      "application/vnd.jupyter.widget-view+json": {
       "model_id": "",
       "version_major": 2,
       "version_minor": 0
      },
      "text/plain": [
       "  0%|          | 0/180 [00:00<?, ?it/s]"
      ]
     },
     "metadata": {},
     "output_type": "display_data"
    },
    {
     "name": "stdout",
     "output_type": "stream",
     "text": [
      "| EPOCH: 4 | train_loss: 0.008 | val_loss: 0.069 |\n",
      "\n",
      "hamming_score: 0.84\n",
      "zero_one_score: 0.18\n",
      "mean_average_precision: 0.77\n",
      "mean_f1_score: 0.60\n"
     ]
    },
    {
     "data": {
      "application/vnd.jupyter.widget-view+json": {
       "model_id": "",
       "version_major": 2,
       "version_minor": 0
      },
      "text/plain": [
       "  0%|          | 0/9220 [00:00<?, ?it/s]"
      ]
     },
     "metadata": {},
     "output_type": "display_data"
    },
    {
     "data": {
      "application/vnd.jupyter.widget-view+json": {
       "model_id": "",
       "version_major": 2,
       "version_minor": 0
      },
      "text/plain": [
       "  0%|          | 0/180 [00:00<?, ?it/s]"
      ]
     },
     "metadata": {},
     "output_type": "display_data"
    },
    {
     "name": "stdout",
     "output_type": "stream",
     "text": [
      "| EPOCH: 5 | train_loss: 0.007 | val_loss: 0.077 |\n",
      "\n",
      "hamming_score: 0.85\n",
      "zero_one_score: 0.18\n",
      "mean_average_precision: 0.78\n",
      "mean_f1_score: 0.62\n"
     ]
    },
    {
     "data": {
      "application/vnd.jupyter.widget-view+json": {
       "model_id": "",
       "version_major": 2,
       "version_minor": 0
      },
      "text/plain": [
       "  0%|          | 0/9220 [00:00<?, ?it/s]"
      ]
     },
     "metadata": {},
     "output_type": "display_data"
    },
    {
     "data": {
      "application/vnd.jupyter.widget-view+json": {
       "model_id": "",
       "version_major": 2,
       "version_minor": 0
      },
      "text/plain": [
       "  0%|          | 0/180 [00:00<?, ?it/s]"
      ]
     },
     "metadata": {},
     "output_type": "display_data"
    },
    {
     "name": "stdout",
     "output_type": "stream",
     "text": [
      "| EPOCH: 6 | train_loss: 0.006 | val_loss: 0.087 |\n",
      "\n",
      "hamming_score: 0.83\n",
      "zero_one_score: 0.13\n",
      "mean_average_precision: 0.77\n",
      "mean_f1_score: 0.58\n"
     ]
    },
    {
     "data": {
      "application/vnd.jupyter.widget-view+json": {
       "model_id": "",
       "version_major": 2,
       "version_minor": 0
      },
      "text/plain": [
       "  0%|          | 0/9220 [00:00<?, ?it/s]"
      ]
     },
     "metadata": {},
     "output_type": "display_data"
    },
    {
     "data": {
      "application/vnd.jupyter.widget-view+json": {
       "model_id": "",
       "version_major": 2,
       "version_minor": 0
      },
      "text/plain": [
       "  0%|          | 0/180 [00:00<?, ?it/s]"
      ]
     },
     "metadata": {},
     "output_type": "display_data"
    },
    {
     "name": "stdout",
     "output_type": "stream",
     "text": [
      "| EPOCH: 7 | train_loss: 0.006 | val_loss: 0.095 |\n",
      "\n",
      "hamming_score: 0.84\n",
      "zero_one_score: 0.17\n",
      "mean_average_precision: 0.77\n",
      "mean_f1_score: 0.60\n"
     ]
    },
    {
     "data": {
      "application/vnd.jupyter.widget-view+json": {
       "model_id": "",
       "version_major": 2,
       "version_minor": 0
      },
      "text/plain": [
       "  0%|          | 0/9220 [00:00<?, ?it/s]"
      ]
     },
     "metadata": {},
     "output_type": "display_data"
    },
    {
     "data": {
      "application/vnd.jupyter.widget-view+json": {
       "model_id": "",
       "version_major": 2,
       "version_minor": 0
      },
      "text/plain": [
       "  0%|          | 0/180 [00:00<?, ?it/s]"
      ]
     },
     "metadata": {},
     "output_type": "display_data"
    },
    {
     "name": "stdout",
     "output_type": "stream",
     "text": [
      "| EPOCH: 8 | train_loss: 0.005 | val_loss: 0.099 |\n",
      "\n",
      "hamming_score: 0.83\n",
      "zero_one_score: 0.15\n",
      "mean_average_precision: 0.76\n",
      "mean_f1_score: 0.59\n"
     ]
    },
    {
     "data": {
      "text/html": [
       "Waiting for W&B process to finish... <strong style=\"color:green\">(success).</strong>"
      ],
      "text/plain": [
       "<IPython.core.display.HTML object>"
      ]
     },
     "metadata": {},
     "output_type": "display_data"
    },
    {
     "data": {
      "application/vnd.jupyter.widget-view+json": {
       "model_id": "a9ef154c31b944e195213b5e0e8f6615",
       "version_major": 2,
       "version_minor": 0
      },
      "text/plain": [
       "VBox(children=(Label(value='0.007 MB of 0.007 MB uploaded (0.000 MB deduped)\\r'), FloatProgress(value=1.0, max…"
      ]
     },
     "metadata": {},
     "output_type": "display_data"
    },
    {
     "data": {
      "text/html": [
       "<style>\n",
       "    table.wandb td:nth-child(1) { padding: 0 10px; text-align: left ; width: auto;} td:nth-child(2) {text-align: left ; width: 100%}\n",
       "    .wandb-row { display: flex; flex-direction: row; flex-wrap: wrap; justify-content: flex-start; width: 100% }\n",
       "    .wandb-col { display: flex; flex-direction: column; flex-basis: 100%; flex: 1; padding: 10px; }\n",
       "    </style>\n",
       "<div class=\"wandb-row\"><div class=\"wandb-col\"><h3>Run history:</h3><br/><table class=\"wandb\"><tr><td>epoch</td><td>▁▂▃▄▅▆▇█</td></tr><tr><td>hamming_score</td><td>▁▂▇▆█▅▆▅</td></tr><tr><td>lr_param_group_0</td><td>▁▁▂▂▃▄▄▅▆▇▇███████▇▇▇▆▆▆▅▅▅▄▄▃▃▃▂▂▂▁▁▁▁▁</td></tr><tr><td>lr_param_group_1</td><td>▁▁▂▂▃▄▄▅▆▇▇███████▇▇▇▆▆▆▅▅▅▄▄▃▃▃▂▂▂▁▁▁▁▁</td></tr><tr><td>mean_average_precision</td><td>▁▂█▇█▆▇▆</td></tr><tr><td>mean_f1_score</td><td>▁▂▇▆█▂▆▄</td></tr><tr><td>test_step</td><td>▁▁▁▁▂▂▂▂▂▃▃▃▃▃▃▄▄▄▄▄▅▅▅▅▅▅▆▆▆▆▆▇▇▇▇▇▇███</td></tr><tr><td>train_loss</td><td>█▆▅▄▃▂▁▁</td></tr><tr><td>train_loss_per_batch</td><td>▆▇▇█▄▇▅▆▃▇▃▅▅▆▅▅▅▃▅▆▃▂▃▃▃▂▁▂▅▄▅▃▆▂▃▄▂▂▂▃</td></tr><tr><td>train_step</td><td>▁▁▁▁▂▂▂▂▂▃▃▃▃▃▃▄▄▄▄▄▅▅▅▅▅▅▆▆▆▆▆▇▇▇▇▇▇███</td></tr><tr><td>val_loss</td><td>▁▂▂▄▅▆▇█</td></tr><tr><td>valid_loss_per_batch</td><td>▂▂▁▁▂▂▂▄▃▃▁▂▄▂▃▄▃▃▃▄▃▂▂▄▁▆▃▅▁▄▃█▅▅▅▂▃▆▇▄</td></tr><tr><td>zero_one_score</td><td>▁▁▇██▃▇▅</td></tr></table><br/></div><div class=\"wandb-col\"><h3>Run summary:</h3><br/><table class=\"wandb\"><tr><td>epoch</td><td>8</td></tr><tr><td>hamming_score</td><td>0.83109</td></tr><tr><td>lr_param_group_0</td><td>0.0</td></tr><tr><td>lr_param_group_1</td><td>0.0</td></tr><tr><td>mean_average_precision</td><td>0.76493</td></tr><tr><td>mean_f1_score</td><td>0.5887</td></tr><tr><td>test_step</td><td>1440</td></tr><tr><td>train_loss</td><td>0.00534</td></tr><tr><td>train_loss_per_batch</td><td>0.0034</td></tr><tr><td>train_step</td><td>73760</td></tr><tr><td>val_loss</td><td>0.09891</td></tr><tr><td>valid_loss_per_batch</td><td>0.09997</td></tr><tr><td>zero_one_score</td><td>0.14544</td></tr></table><br/></div></div>"
      ],
      "text/plain": [
       "<IPython.core.display.HTML object>"
      ]
     },
     "metadata": {},
     "output_type": "display_data"
    },
    {
     "data": {
      "text/html": [
       " View run <strong style=\"color:#cdcd00\">happy-sweep-5</strong> at: <a href='https://wandb.ai/k-pintaric/uncategorized/runs/ye8uji0i' target=\"_blank\">https://wandb.ai/k-pintaric/uncategorized/runs/ye8uji0i</a><br/>Synced 6 W&B file(s), 0 media file(s), 0 artifact file(s) and 0 other file(s)"
      ],
      "text/plain": [
       "<IPython.core.display.HTML object>"
      ]
     },
     "metadata": {},
     "output_type": "display_data"
    },
    {
     "data": {
      "text/html": [
       "Find logs at: <code>./wandb/run-20230325_054619-ye8uji0i/logs</code>"
      ],
      "text/plain": [
       "<IPython.core.display.HTML object>"
      ]
     },
     "metadata": {},
     "output_type": "display_data"
    },
    {
     "name": "stderr",
     "output_type": "stream",
     "text": [
      "\u001b[34m\u001b[1mwandb\u001b[0m: Agent Starting Run: xafo9r3z with config:\n",
      "\u001b[34m\u001b[1mwandb\u001b[0m: \tEPOCHS: 4\n",
      "\u001b[34m\u001b[1mwandb\u001b[0m: \tbatch_size: 8\n",
      "\u001b[34m\u001b[1mwandb\u001b[0m: \tearly_stopping: {'min_delta': 0.0001, 'patience': 20}\n",
      "\u001b[34m\u001b[1mwandb\u001b[0m: \tlearning_rates: {'base_model': {'lr': 8.685331624340081e-07}, 'classifier': {'lr': 0.020716299922331725}}\n",
      "\u001b[34m\u001b[1mwandb\u001b[0m: \tloss: {'FocalLoss': {'alpha': 0.75, 'gamma': 2}}\n",
      "\u001b[34m\u001b[1mwandb\u001b[0m: \tmetrics: ['hamming_score', 'zero_one_score', 'mean_average_precision', 'mean_f1_score']\n",
      "\u001b[34m\u001b[1mwandb\u001b[0m: \tnum_accum: 4\n",
      "\u001b[34m\u001b[1mwandb\u001b[0m: \toptimizer: {'AdamW': {'weight_decay': 3.5464330610895393e-08}}\n",
      "\u001b[34m\u001b[1mwandb\u001b[0m: \tpreprocess: {'PreprocessPipeline': {'target_sr': 22050}}\n",
      "\u001b[34m\u001b[1mwandb\u001b[0m: \tsave_best_model: True\n",
      "\u001b[34m\u001b[1mwandb\u001b[0m: \tscheduler: {'OneCycleLR': {'anneal_strategy': 'cos', 'pct_start': 0.1957306545986609}}\n",
      "\u001b[34m\u001b[1mwandb\u001b[0m: \tsignal_augments: None\n",
      "\u001b[34m\u001b[1mwandb\u001b[0m: \tspec_augments: None\n",
      "\u001b[34m\u001b[1mwandb\u001b[0m: \ttrain_dir: ./data/processed_22khz/all_sync/IRMAS_Training_Data\n",
      "\u001b[34m\u001b[1mwandb\u001b[0m: \ttransforms: {'CustomFeatureExtractor': {'hop_length': 128, 'max_length': 1024, 'mean': -4.2677393, 'n_fft': 512, 'n_mels': 128, 'sample_rate': 22050, 'std': 9.1379948}}\n",
      "\u001b[34m\u001b[1mwandb\u001b[0m: \tvalid_dir: ./data/raw/IRMAS_Validation_Data\n",
      "\u001b[34m\u001b[1mwandb\u001b[0m: \tverbose: True\n"
     ]
    },
    {
     "data": {
      "text/html": [
       "Tracking run with wandb version 0.14.0"
      ],
      "text/plain": [
       "<IPython.core.display.HTML object>"
      ]
     },
     "metadata": {},
     "output_type": "display_data"
    },
    {
     "data": {
      "text/html": [
       "Run data is saved locally in <code>/nfs/home/912c2e22633dde2e/lumen-irmas/wandb/run-20230325_211525-xafo9r3z</code>"
      ],
      "text/plain": [
       "<IPython.core.display.HTML object>"
      ]
     },
     "metadata": {},
     "output_type": "display_data"
    },
    {
     "data": {
      "text/html": [
       "Syncing run <strong><a href='https://wandb.ai/k-pintaric/uncategorized/runs/xafo9r3z' target=\"_blank\">volcanic-sweep-6</a></strong> to <a href='https://wandb.ai/k-pintaric/uncategorized' target=\"_blank\">Weights & Biases</a> (<a href='https://wandb.me/run' target=\"_blank\">docs</a>)<br/>Sweep page: <a href='https://wandb.ai/k-pintaric/uncategorized/sweeps/hdafiir7' target=\"_blank\">https://wandb.ai/k-pintaric/uncategorized/sweeps/hdafiir7</a>"
      ],
      "text/plain": [
       "<IPython.core.display.HTML object>"
      ]
     },
     "metadata": {},
     "output_type": "display_data"
    },
    {
     "data": {
      "text/html": [
       " View project at <a href='https://wandb.ai/k-pintaric/uncategorized' target=\"_blank\">https://wandb.ai/k-pintaric/uncategorized</a>"
      ],
      "text/plain": [
       "<IPython.core.display.HTML object>"
      ]
     },
     "metadata": {},
     "output_type": "display_data"
    },
    {
     "data": {
      "text/html": [
       " View sweep at <a href='https://wandb.ai/k-pintaric/uncategorized/sweeps/hdafiir7' target=\"_blank\">https://wandb.ai/k-pintaric/uncategorized/sweeps/hdafiir7</a>"
      ],
      "text/plain": [
       "<IPython.core.display.HTML object>"
      ]
     },
     "metadata": {},
     "output_type": "display_data"
    },
    {
     "data": {
      "text/html": [
       " View run at <a href='https://wandb.ai/k-pintaric/uncategorized/runs/xafo9r3z' target=\"_blank\">https://wandb.ai/k-pintaric/uncategorized/runs/xafo9r3z</a>"
      ],
      "text/plain": [
       "<IPython.core.display.HTML object>"
      ]
     },
     "metadata": {},
     "output_type": "display_data"
    },
    {
     "name": "stderr",
     "output_type": "stream",
     "text": [
      "/nfs/home/912c2e22633dde2e/lumen-irmas/venv/lib/python3.10/site-packages/torchaudio/functional/functional.py:576: UserWarning: At least one mel filterbank has all zero values. The value for `n_mels` (128) may be set too high. Or, the value for `n_freqs` (257) may be set too low.\n",
      "  warnings.warn(\n"
     ]
    },
    {
     "data": {
      "application/vnd.jupyter.widget-view+json": {
       "model_id": "",
       "version_major": 2,
       "version_minor": 0
      },
      "text/plain": [
       "  0%|          | 0/4 [00:00<?, ?it/s]"
      ]
     },
     "metadata": {},
     "output_type": "display_data"
    },
    {
     "data": {
      "application/vnd.jupyter.widget-view+json": {
       "model_id": "",
       "version_major": 2,
       "version_minor": 0
      },
      "text/plain": [
       "  0%|          | 0/9220 [00:00<?, ?it/s]"
      ]
     },
     "metadata": {},
     "output_type": "display_data"
    },
    {
     "data": {
      "application/vnd.jupyter.widget-view+json": {
       "model_id": "",
       "version_major": 2,
       "version_minor": 0
      },
      "text/plain": [
       "  0%|          | 0/180 [00:00<?, ?it/s]"
      ]
     },
     "metadata": {},
     "output_type": "display_data"
    },
    {
     "name": "stdout",
     "output_type": "stream",
     "text": [
      "| EPOCH: 1 | train_loss: 0.010 | val_loss: 0.046 |\n",
      "\n",
      "hamming_score: 0.85\n",
      "zero_one_score: 0.22\n",
      "mean_average_precision: 0.81\n",
      "mean_f1_score: 0.64\n"
     ]
    },
    {
     "data": {
      "application/vnd.jupyter.widget-view+json": {
       "model_id": "",
       "version_major": 2,
       "version_minor": 0
      },
      "text/plain": [
       "  0%|          | 0/9220 [00:00<?, ?it/s]"
      ]
     },
     "metadata": {},
     "output_type": "display_data"
    },
    {
     "data": {
      "application/vnd.jupyter.widget-view+json": {
       "model_id": "",
       "version_major": 2,
       "version_minor": 0
      },
      "text/plain": [
       "  0%|          | 0/180 [00:00<?, ?it/s]"
      ]
     },
     "metadata": {},
     "output_type": "display_data"
    },
    {
     "name": "stdout",
     "output_type": "stream",
     "text": [
      "| EPOCH: 2 | train_loss: 0.009 | val_loss: 0.049 |\n",
      "\n",
      "hamming_score: 0.86\n",
      "zero_one_score: 0.20\n",
      "mean_average_precision: 0.84\n",
      "mean_f1_score: 0.65\n"
     ]
    },
    {
     "data": {
      "application/vnd.jupyter.widget-view+json": {
       "model_id": "",
       "version_major": 2,
       "version_minor": 0
      },
      "text/plain": [
       "  0%|          | 0/9220 [00:00<?, ?it/s]"
      ]
     },
     "metadata": {},
     "output_type": "display_data"
    },
    {
     "data": {
      "application/vnd.jupyter.widget-view+json": {
       "model_id": "",
       "version_major": 2,
       "version_minor": 0
      },
      "text/plain": [
       "  0%|          | 0/180 [00:00<?, ?it/s]"
      ]
     },
     "metadata": {},
     "output_type": "display_data"
    },
    {
     "name": "stdout",
     "output_type": "stream",
     "text": [
      "| EPOCH: 3 | train_loss: 0.008 | val_loss: 0.069 |\n",
      "\n",
      "hamming_score: 0.87\n",
      "zero_one_score: 0.22\n",
      "mean_average_precision: 0.81\n",
      "mean_f1_score: 0.65\n"
     ]
    },
    {
     "data": {
      "application/vnd.jupyter.widget-view+json": {
       "model_id": "",
       "version_major": 2,
       "version_minor": 0
      },
      "text/plain": [
       "  0%|          | 0/9220 [00:00<?, ?it/s]"
      ]
     },
     "metadata": {},
     "output_type": "display_data"
    },
    {
     "data": {
      "application/vnd.jupyter.widget-view+json": {
       "model_id": "",
       "version_major": 2,
       "version_minor": 0
      },
      "text/plain": [
       "  0%|          | 0/180 [00:00<?, ?it/s]"
      ]
     },
     "metadata": {},
     "output_type": "display_data"
    },
    {
     "name": "stdout",
     "output_type": "stream",
     "text": [
      "| EPOCH: 4 | train_loss: 0.008 | val_loss: 0.068 |\n",
      "\n",
      "hamming_score: 0.86\n",
      "zero_one_score: 0.21\n",
      "mean_average_precision: 0.82\n",
      "mean_f1_score: 0.65\n"
     ]
    },
    {
     "data": {
      "text/html": [
       "Waiting for W&B process to finish... <strong style=\"color:green\">(success).</strong>"
      ],
      "text/plain": [
       "<IPython.core.display.HTML object>"
      ]
     },
     "metadata": {},
     "output_type": "display_data"
    },
    {
     "data": {
      "text/html": [
       "<style>\n",
       "    table.wandb td:nth-child(1) { padding: 0 10px; text-align: left ; width: auto;} td:nth-child(2) {text-align: left ; width: 100%}\n",
       "    .wandb-row { display: flex; flex-direction: row; flex-wrap: wrap; justify-content: flex-start; width: 100% }\n",
       "    .wandb-col { display: flex; flex-direction: column; flex-basis: 100%; flex: 1; padding: 10px; }\n",
       "    </style>\n",
       "<div class=\"wandb-row\"><div class=\"wandb-col\"><h3>Run history:</h3><br/><table class=\"wandb\"><tr><td>epoch</td><td>▁▃▆█</td></tr><tr><td>hamming_score</td><td>▁▂█▆</td></tr><tr><td>lr_param_group_0</td><td>▁▂▃▄▅▇▇███████▇▇▇▇▆▆▆▅▅▅▄▄▄▃▃▃▂▂▂▂▂▁▁▁▁▁</td></tr><tr><td>lr_param_group_1</td><td>▁▂▃▄▅▇▇███████▇▇▇▇▆▆▆▅▅▅▄▄▄▃▃▃▂▂▂▂▂▁▁▁▁▁</td></tr><tr><td>mean_average_precision</td><td>▁█▂▅</td></tr><tr><td>mean_f1_score</td><td>▁▄█▅</td></tr><tr><td>test_step</td><td>▁▁▁▁▂▂▂▂▂▃▃▃▃▃▃▄▄▄▄▄▅▅▅▅▅▅▆▆▆▆▆▇▇▇▇▇▇███</td></tr><tr><td>train_loss</td><td>█▅▂▁</td></tr><tr><td>train_loss_per_batch</td><td>▅▆▇██▇▃▄▅▇▂▅▅▄▃▆▄█▄▄▂▁▄▄▆▄▄▅▃▆▃▃▅▁▅▃▂▅▅▅</td></tr><tr><td>train_step</td><td>▁▁▁▁▂▂▂▂▂▃▃▃▃▃▃▄▄▄▄▄▅▅▅▅▅▅▆▆▆▆▆▇▇▇▇▇▇███</td></tr><tr><td>val_loss</td><td>▁▂██</td></tr><tr><td>valid_loss_per_batch</td><td>▁▃▁▂▄▂▂▃▂▂▂▂▂▂▂▂▂▂▃▂▃▃▂▅▃▃▆▅▂▇▅▂▃▄▅▃▃▃▂█</td></tr><tr><td>zero_one_score</td><td>▇▁█▅</td></tr></table><br/></div><div class=\"wandb-col\"><h3>Run summary:</h3><br/><table class=\"wandb\"><tr><td>epoch</td><td>4</td></tr><tr><td>hamming_score</td><td>0.86304</td></tr><tr><td>lr_param_group_0</td><td>0.0</td></tr><tr><td>lr_param_group_1</td><td>0.0</td></tr><tr><td>mean_average_precision</td><td>0.82397</td></tr><tr><td>mean_f1_score</td><td>0.64762</td></tr><tr><td>test_step</td><td>720</td></tr><tr><td>train_loss</td><td>0.00786</td></tr><tr><td>train_loss_per_batch</td><td>0.01406</td></tr><tr><td>train_step</td><td>36880</td></tr><tr><td>val_loss</td><td>0.06817</td></tr><tr><td>valid_loss_per_batch</td><td>0.17713</td></tr><tr><td>zero_one_score</td><td>0.21155</td></tr></table><br/></div></div>"
      ],
      "text/plain": [
       "<IPython.core.display.HTML object>"
      ]
     },
     "metadata": {},
     "output_type": "display_data"
    },
    {
     "data": {
      "text/html": [
       " View run <strong style=\"color:#cdcd00\">volcanic-sweep-6</strong> at: <a href='https://wandb.ai/k-pintaric/uncategorized/runs/xafo9r3z' target=\"_blank\">https://wandb.ai/k-pintaric/uncategorized/runs/xafo9r3z</a><br/>Synced 6 W&B file(s), 0 media file(s), 0 artifact file(s) and 0 other file(s)"
      ],
      "text/plain": [
       "<IPython.core.display.HTML object>"
      ]
     },
     "metadata": {},
     "output_type": "display_data"
    },
    {
     "data": {
      "text/html": [
       "Find logs at: <code>./wandb/run-20230325_211525-xafo9r3z/logs</code>"
      ],
      "text/plain": [
       "<IPython.core.display.HTML object>"
      ]
     },
     "metadata": {},
     "output_type": "display_data"
    },
    {
     "name": "stderr",
     "output_type": "stream",
     "text": [
      "\u001b[34m\u001b[1mwandb\u001b[0m: Agent Starting Run: 3l330ziz with config:\n",
      "\u001b[34m\u001b[1mwandb\u001b[0m: \tEPOCHS: 5\n",
      "\u001b[34m\u001b[1mwandb\u001b[0m: \tbatch_size: 8\n",
      "\u001b[34m\u001b[1mwandb\u001b[0m: \tearly_stopping: {'min_delta': 0.0001, 'patience': 20}\n",
      "\u001b[34m\u001b[1mwandb\u001b[0m: \tlearning_rates: {'base_model': {'lr': 5.38739646580313e-06}, 'classifier': {'lr': 0.00021889834690049545}}\n",
      "\u001b[34m\u001b[1mwandb\u001b[0m: \tloss: {'FocalLoss': {'alpha': 0.25, 'gamma': 2}}\n",
      "\u001b[34m\u001b[1mwandb\u001b[0m: \tmetrics: ['hamming_score', 'zero_one_score', 'mean_average_precision', 'mean_f1_score']\n",
      "\u001b[34m\u001b[1mwandb\u001b[0m: \tnum_accum: 8\n",
      "\u001b[34m\u001b[1mwandb\u001b[0m: \toptimizer: {'AdamW': {'weight_decay': 3.7387755698596086e-05}}\n",
      "\u001b[34m\u001b[1mwandb\u001b[0m: \tpreprocess: {'PreprocessPipeline': {'target_sr': 22050}}\n",
      "\u001b[34m\u001b[1mwandb\u001b[0m: \tsave_best_model: True\n",
      "\u001b[34m\u001b[1mwandb\u001b[0m: \tscheduler: {'OneCycleLR': {'anneal_strategy': 'cos', 'pct_start': 0.39234521849853793}}\n",
      "\u001b[34m\u001b[1mwandb\u001b[0m: \tsignal_augments: None\n",
      "\u001b[34m\u001b[1mwandb\u001b[0m: \tspec_augments: None\n",
      "\u001b[34m\u001b[1mwandb\u001b[0m: \ttrain_dir: ./data/processed_22khz/all_sync/IRMAS_Training_Data\n",
      "\u001b[34m\u001b[1mwandb\u001b[0m: \ttransforms: {'CustomFeatureExtractor': {'hop_length': 256, 'max_length': 1024, 'mean': -4.2677393, 'n_fft': 1024, 'n_mels': 128, 'sample_rate': 22050, 'std': 9.1379948}}\n",
      "\u001b[34m\u001b[1mwandb\u001b[0m: \tvalid_dir: ./data/raw/IRMAS_Validation_Data\n",
      "\u001b[34m\u001b[1mwandb\u001b[0m: \tverbose: True\n"
     ]
    },
    {
     "data": {
      "text/html": [
       "Tracking run with wandb version 0.14.0"
      ],
      "text/plain": [
       "<IPython.core.display.HTML object>"
      ]
     },
     "metadata": {},
     "output_type": "display_data"
    },
    {
     "data": {
      "text/html": [
       "Run data is saved locally in <code>/nfs/home/912c2e22633dde2e/lumen-irmas/wandb/run-20230326_045705-3l330ziz</code>"
      ],
      "text/plain": [
       "<IPython.core.display.HTML object>"
      ]
     },
     "metadata": {},
     "output_type": "display_data"
    },
    {
     "data": {
      "text/html": [
       "Syncing run <strong><a href='https://wandb.ai/k-pintaric/uncategorized/runs/3l330ziz' target=\"_blank\">warm-sweep-7</a></strong> to <a href='https://wandb.ai/k-pintaric/uncategorized' target=\"_blank\">Weights & Biases</a> (<a href='https://wandb.me/run' target=\"_blank\">docs</a>)<br/>Sweep page: <a href='https://wandb.ai/k-pintaric/uncategorized/sweeps/hdafiir7' target=\"_blank\">https://wandb.ai/k-pintaric/uncategorized/sweeps/hdafiir7</a>"
      ],
      "text/plain": [
       "<IPython.core.display.HTML object>"
      ]
     },
     "metadata": {},
     "output_type": "display_data"
    },
    {
     "data": {
      "text/html": [
       " View project at <a href='https://wandb.ai/k-pintaric/uncategorized' target=\"_blank\">https://wandb.ai/k-pintaric/uncategorized</a>"
      ],
      "text/plain": [
       "<IPython.core.display.HTML object>"
      ]
     },
     "metadata": {},
     "output_type": "display_data"
    },
    {
     "data": {
      "text/html": [
       " View sweep at <a href='https://wandb.ai/k-pintaric/uncategorized/sweeps/hdafiir7' target=\"_blank\">https://wandb.ai/k-pintaric/uncategorized/sweeps/hdafiir7</a>"
      ],
      "text/plain": [
       "<IPython.core.display.HTML object>"
      ]
     },
     "metadata": {},
     "output_type": "display_data"
    },
    {
     "data": {
      "text/html": [
       " View run at <a href='https://wandb.ai/k-pintaric/uncategorized/runs/3l330ziz' target=\"_blank\">https://wandb.ai/k-pintaric/uncategorized/runs/3l330ziz</a>"
      ],
      "text/plain": [
       "<IPython.core.display.HTML object>"
      ]
     },
     "metadata": {},
     "output_type": "display_data"
    },
    {
     "data": {
      "application/vnd.jupyter.widget-view+json": {
       "model_id": "",
       "version_major": 2,
       "version_minor": 0
      },
      "text/plain": [
       "  0%|          | 0/5 [00:00<?, ?it/s]"
      ]
     },
     "metadata": {},
     "output_type": "display_data"
    },
    {
     "data": {
      "application/vnd.jupyter.widget-view+json": {
       "model_id": "",
       "version_major": 2,
       "version_minor": 0
      },
      "text/plain": [
       "  0%|          | 0/9220 [00:00<?, ?it/s]"
      ]
     },
     "metadata": {},
     "output_type": "display_data"
    },
    {
     "data": {
      "application/vnd.jupyter.widget-view+json": {
       "model_id": "",
       "version_major": 2,
       "version_minor": 0
      },
      "text/plain": [
       "  0%|          | 0/180 [00:00<?, ?it/s]"
      ]
     },
     "metadata": {},
     "output_type": "display_data"
    },
    {
     "name": "stdout",
     "output_type": "stream",
     "text": [
      "| EPOCH: 1 | train_loss: 0.005 | val_loss: 0.033 |\n",
      "\n",
      "hamming_score: 0.82\n",
      "zero_one_score: 0.12\n",
      "mean_average_precision: 0.77\n",
      "mean_f1_score: 0.60\n"
     ]
    },
    {
     "data": {
      "application/vnd.jupyter.widget-view+json": {
       "model_id": "",
       "version_major": 2,
       "version_minor": 0
      },
      "text/plain": [
       "  0%|          | 0/9220 [00:00<?, ?it/s]"
      ]
     },
     "metadata": {},
     "output_type": "display_data"
    },
    {
     "data": {
      "application/vnd.jupyter.widget-view+json": {
       "model_id": "",
       "version_major": 2,
       "version_minor": 0
      },
      "text/plain": [
       "  0%|          | 0/180 [00:00<?, ?it/s]"
      ]
     },
     "metadata": {},
     "output_type": "display_data"
    },
    {
     "name": "stdout",
     "output_type": "stream",
     "text": [
      "| EPOCH: 2 | train_loss: 0.004 | val_loss: 0.028 |\n",
      "\n",
      "hamming_score: 0.85\n",
      "zero_one_score: 0.17\n",
      "mean_average_precision: 0.81\n",
      "mean_f1_score: 0.63\n"
     ]
    },
    {
     "data": {
      "application/vnd.jupyter.widget-view+json": {
       "model_id": "",
       "version_major": 2,
       "version_minor": 0
      },
      "text/plain": [
       "  0%|          | 0/9220 [00:00<?, ?it/s]"
      ]
     },
     "metadata": {},
     "output_type": "display_data"
    },
    {
     "data": {
      "application/vnd.jupyter.widget-view+json": {
       "model_id": "",
       "version_major": 2,
       "version_minor": 0
      },
      "text/plain": [
       "  0%|          | 0/180 [00:00<?, ?it/s]"
      ]
     },
     "metadata": {},
     "output_type": "display_data"
    },
    {
     "name": "stdout",
     "output_type": "stream",
     "text": [
      "| EPOCH: 3 | train_loss: 0.003 | val_loss: 0.032 |\n",
      "\n",
      "hamming_score: 0.83\n",
      "zero_one_score: 0.11\n",
      "mean_average_precision: 0.80\n",
      "mean_f1_score: 0.59\n"
     ]
    },
    {
     "data": {
      "application/vnd.jupyter.widget-view+json": {
       "model_id": "",
       "version_major": 2,
       "version_minor": 0
      },
      "text/plain": [
       "  0%|          | 0/9220 [00:00<?, ?it/s]"
      ]
     },
     "metadata": {},
     "output_type": "display_data"
    },
    {
     "data": {
      "application/vnd.jupyter.widget-view+json": {
       "model_id": "",
       "version_major": 2,
       "version_minor": 0
      },
      "text/plain": [
       "  0%|          | 0/180 [00:00<?, ?it/s]"
      ]
     },
     "metadata": {},
     "output_type": "display_data"
    },
    {
     "name": "stdout",
     "output_type": "stream",
     "text": [
      "| EPOCH: 4 | train_loss: 0.003 | val_loss: 0.033 |\n",
      "\n",
      "hamming_score: 0.83\n",
      "zero_one_score: 0.09\n",
      "mean_average_precision: 0.80\n",
      "mean_f1_score: 0.58\n"
     ]
    },
    {
     "data": {
      "application/vnd.jupyter.widget-view+json": {
       "model_id": "",
       "version_major": 2,
       "version_minor": 0
      },
      "text/plain": [
       "  0%|          | 0/9220 [00:00<?, ?it/s]"
      ]
     },
     "metadata": {},
     "output_type": "display_data"
    },
    {
     "data": {
      "application/vnd.jupyter.widget-view+json": {
       "model_id": "",
       "version_major": 2,
       "version_minor": 0
      },
      "text/plain": [
       "  0%|          | 0/180 [00:00<?, ?it/s]"
      ]
     },
     "metadata": {},
     "output_type": "display_data"
    },
    {
     "name": "stdout",
     "output_type": "stream",
     "text": [
      "| EPOCH: 5 | train_loss: 0.002 | val_loss: 0.034 |\n",
      "\n",
      "hamming_score: 0.82\n",
      "zero_one_score: 0.07\n",
      "mean_average_precision: 0.80\n",
      "mean_f1_score: 0.57\n"
     ]
    },
    {
     "data": {
      "text/html": [
       "Waiting for W&B process to finish... <strong style=\"color:green\">(success).</strong>"
      ],
      "text/plain": [
       "<IPython.core.display.HTML object>"
      ]
     },
     "metadata": {},
     "output_type": "display_data"
    },
    {
     "data": {
      "text/html": [
       "<style>\n",
       "    table.wandb td:nth-child(1) { padding: 0 10px; text-align: left ; width: auto;} td:nth-child(2) {text-align: left ; width: 100%}\n",
       "    .wandb-row { display: flex; flex-direction: row; flex-wrap: wrap; justify-content: flex-start; width: 100% }\n",
       "    .wandb-col { display: flex; flex-direction: column; flex-basis: 100%; flex: 1; padding: 10px; }\n",
       "    </style>\n",
       "<div class=\"wandb-row\"><div class=\"wandb-col\"><h3>Run history:</h3><br/><table class=\"wandb\"><tr><td>epoch</td><td>▁▃▅▆█</td></tr><tr><td>hamming_score</td><td>▁█▄▂▁</td></tr><tr><td>lr_param_group_0</td><td>▁▁▂▂▃▃▄▄▅▆▆▇▇███████▇▇▇▆▆▅▅▅▄▄▃▃▂▂▂▂▁▁▁▁</td></tr><tr><td>lr_param_group_1</td><td>▁▁▂▂▃▃▄▄▅▆▆▇▇███████▇▇▇▆▆▅▅▅▄▄▃▃▂▂▂▂▁▁▁▁</td></tr><tr><td>mean_average_precision</td><td>▁█▇▇▆</td></tr><tr><td>mean_f1_score</td><td>▄█▄▂▁</td></tr><tr><td>test_step</td><td>▁▁▁▂▂▂▂▂▂▃▃▃▃▃▃▄▄▄▄▄▅▅▅▅▅▅▆▆▆▆▆▇▇▇▇▇▇███</td></tr><tr><td>train_loss</td><td>█▄▃▂▁</td></tr><tr><td>train_loss_per_batch</td><td>█▆▅▄▃▄▄▄▄▄▃▃▂▂▃▃▃▃▄▂▂▃▂▂▃▂▃▂▂▃▃▂▁▄▂▃▂▂▂▂</td></tr><tr><td>train_step</td><td>▁▁▁▁▂▂▂▂▂▃▃▃▃▃▃▄▄▄▄▄▅▅▅▅▅▅▆▆▆▆▆▇▇▇▇▇▇███</td></tr><tr><td>val_loss</td><td>▇▁▅▇█</td></tr><tr><td>valid_loss_per_batch</td><td>▄▃▃▂▃▄▃▄▃▁▄▅▅▃▂▄▃▅▃▂▄▂▂▁▃▄▂▄▂▃▅▆▄▃█▂▄▂▃▃</td></tr><tr><td>zero_one_score</td><td>▄█▄▂▁</td></tr></table><br/></div><div class=\"wandb-col\"><h3>Run summary:</h3><br/><table class=\"wandb\"><tr><td>epoch</td><td>5</td></tr><tr><td>hamming_score</td><td>0.82223</td></tr><tr><td>lr_param_group_0</td><td>0.0</td></tr><tr><td>lr_param_group_1</td><td>0.0</td></tr><tr><td>mean_average_precision</td><td>0.79844</td></tr><tr><td>mean_f1_score</td><td>0.56509</td></tr><tr><td>test_step</td><td>900</td></tr><tr><td>train_loss</td><td>0.00223</td></tr><tr><td>train_loss_per_batch</td><td>0.00193</td></tr><tr><td>train_step</td><td>46100</td></tr><tr><td>val_loss</td><td>0.03365</td></tr><tr><td>valid_loss_per_batch</td><td>0.02783</td></tr><tr><td>zero_one_score</td><td>0.06889</td></tr></table><br/></div></div>"
      ],
      "text/plain": [
       "<IPython.core.display.HTML object>"
      ]
     },
     "metadata": {},
     "output_type": "display_data"
    },
    {
     "data": {
      "text/html": [
       " View run <strong style=\"color:#cdcd00\">warm-sweep-7</strong> at: <a href='https://wandb.ai/k-pintaric/uncategorized/runs/3l330ziz' target=\"_blank\">https://wandb.ai/k-pintaric/uncategorized/runs/3l330ziz</a><br/>Synced 6 W&B file(s), 0 media file(s), 0 artifact file(s) and 0 other file(s)"
      ],
      "text/plain": [
       "<IPython.core.display.HTML object>"
      ]
     },
     "metadata": {},
     "output_type": "display_data"
    },
    {
     "data": {
      "text/html": [
       "Find logs at: <code>./wandb/run-20230326_045705-3l330ziz/logs</code>"
      ],
      "text/plain": [
       "<IPython.core.display.HTML object>"
      ]
     },
     "metadata": {},
     "output_type": "display_data"
    },
    {
     "name": "stderr",
     "output_type": "stream",
     "text": [
      "\u001b[34m\u001b[1mwandb\u001b[0m: Agent Starting Run: jvgmt2oo with config:\n",
      "\u001b[34m\u001b[1mwandb\u001b[0m: \tEPOCHS: 8\n",
      "\u001b[34m\u001b[1mwandb\u001b[0m: \tbatch_size: 8\n",
      "\u001b[34m\u001b[1mwandb\u001b[0m: \tearly_stopping: {'min_delta': 0.0001, 'patience': 20}\n",
      "\u001b[34m\u001b[1mwandb\u001b[0m: \tlearning_rates: {'base_model': {'lr': 1.8543748024810475e-08}, 'classifier': {'lr': 0.0003697287782788321}}\n",
      "\u001b[34m\u001b[1mwandb\u001b[0m: \tloss: {'FocalLoss': {'alpha': 0.25, 'gamma': 1}}\n",
      "\u001b[34m\u001b[1mwandb\u001b[0m: \tmetrics: ['hamming_score', 'zero_one_score', 'mean_average_precision', 'mean_f1_score']\n",
      "\u001b[34m\u001b[1mwandb\u001b[0m: \tnum_accum: 6\n",
      "\u001b[34m\u001b[1mwandb\u001b[0m: \toptimizer: {'AdamW': {'weight_decay': 3.844872565701316e-08}}\n",
      "\u001b[34m\u001b[1mwandb\u001b[0m: \tpreprocess: {'PreprocessPipeline': {'target_sr': 22050}}\n",
      "\u001b[34m\u001b[1mwandb\u001b[0m: \tsave_best_model: True\n",
      "\u001b[34m\u001b[1mwandb\u001b[0m: \tscheduler: {'OneCycleLR': {'anneal_strategy': 'cos', 'pct_start': 0.4365075915343361}}\n",
      "\u001b[34m\u001b[1mwandb\u001b[0m: \tsignal_augments: None\n",
      "\u001b[34m\u001b[1mwandb\u001b[0m: \tspec_augments: None\n",
      "\u001b[34m\u001b[1mwandb\u001b[0m: \ttrain_dir: ./data/processed_22khz/all_sync/IRMAS_Training_Data\n",
      "\u001b[34m\u001b[1mwandb\u001b[0m: \ttransforms: {'CustomFeatureExtractor': {'hop_length': 256, 'max_length': 1024, 'mean': -4.2677393, 'n_fft': 2048, 'n_mels': 128, 'sample_rate': 22050, 'std': 9.1379948}}\n",
      "\u001b[34m\u001b[1mwandb\u001b[0m: \tvalid_dir: ./data/raw/IRMAS_Validation_Data\n",
      "\u001b[34m\u001b[1mwandb\u001b[0m: \tverbose: True\n"
     ]
    },
    {
     "data": {
      "text/html": [
       "Tracking run with wandb version 0.14.0"
      ],
      "text/plain": [
       "<IPython.core.display.HTML object>"
      ]
     },
     "metadata": {},
     "output_type": "display_data"
    },
    {
     "data": {
      "text/html": [
       "Run data is saved locally in <code>/nfs/home/912c2e22633dde2e/lumen-irmas/wandb/run-20230326_143150-jvgmt2oo</code>"
      ],
      "text/plain": [
       "<IPython.core.display.HTML object>"
      ]
     },
     "metadata": {},
     "output_type": "display_data"
    },
    {
     "data": {
      "text/html": [
       "Syncing run <strong><a href='https://wandb.ai/k-pintaric/uncategorized/runs/jvgmt2oo' target=\"_blank\">smart-sweep-8</a></strong> to <a href='https://wandb.ai/k-pintaric/uncategorized' target=\"_blank\">Weights & Biases</a> (<a href='https://wandb.me/run' target=\"_blank\">docs</a>)<br/>Sweep page: <a href='https://wandb.ai/k-pintaric/uncategorized/sweeps/hdafiir7' target=\"_blank\">https://wandb.ai/k-pintaric/uncategorized/sweeps/hdafiir7</a>"
      ],
      "text/plain": [
       "<IPython.core.display.HTML object>"
      ]
     },
     "metadata": {},
     "output_type": "display_data"
    },
    {
     "data": {
      "text/html": [
       " View project at <a href='https://wandb.ai/k-pintaric/uncategorized' target=\"_blank\">https://wandb.ai/k-pintaric/uncategorized</a>"
      ],
      "text/plain": [
       "<IPython.core.display.HTML object>"
      ]
     },
     "metadata": {},
     "output_type": "display_data"
    },
    {
     "data": {
      "text/html": [
       " View sweep at <a href='https://wandb.ai/k-pintaric/uncategorized/sweeps/hdafiir7' target=\"_blank\">https://wandb.ai/k-pintaric/uncategorized/sweeps/hdafiir7</a>"
      ],
      "text/plain": [
       "<IPython.core.display.HTML object>"
      ]
     },
     "metadata": {},
     "output_type": "display_data"
    },
    {
     "data": {
      "text/html": [
       " View run at <a href='https://wandb.ai/k-pintaric/uncategorized/runs/jvgmt2oo' target=\"_blank\">https://wandb.ai/k-pintaric/uncategorized/runs/jvgmt2oo</a>"
      ],
      "text/plain": [
       "<IPython.core.display.HTML object>"
      ]
     },
     "metadata": {},
     "output_type": "display_data"
    },
    {
     "data": {
      "application/vnd.jupyter.widget-view+json": {
       "model_id": "",
       "version_major": 2,
       "version_minor": 0
      },
      "text/plain": [
       "  0%|          | 0/8 [00:00<?, ?it/s]"
      ]
     },
     "metadata": {},
     "output_type": "display_data"
    },
    {
     "data": {
      "application/vnd.jupyter.widget-view+json": {
       "model_id": "",
       "version_major": 2,
       "version_minor": 0
      },
      "text/plain": [
       "  0%|          | 0/9220 [00:00<?, ?it/s]"
      ]
     },
     "metadata": {},
     "output_type": "display_data"
    },
    {
     "data": {
      "application/vnd.jupyter.widget-view+json": {
       "model_id": "",
       "version_major": 2,
       "version_minor": 0
      },
      "text/plain": [
       "  0%|          | 0/180 [00:00<?, ?it/s]"
      ]
     },
     "metadata": {},
     "output_type": "display_data"
    },
    {
     "name": "stdout",
     "output_type": "stream",
     "text": [
      "| EPOCH: 1 | train_loss: 0.015 | val_loss: 0.065 |\n",
      "\n",
      "hamming_score: 0.78\n",
      "zero_one_score: 0.07\n",
      "mean_average_precision: 0.69\n",
      "mean_f1_score: 0.49\n"
     ]
    },
    {
     "data": {
      "application/vnd.jupyter.widget-view+json": {
       "model_id": "",
       "version_major": 2,
       "version_minor": 0
      },
      "text/plain": [
       "  0%|          | 0/9220 [00:00<?, ?it/s]"
      ]
     },
     "metadata": {},
     "output_type": "display_data"
    },
    {
     "data": {
      "application/vnd.jupyter.widget-view+json": {
       "model_id": "",
       "version_major": 2,
       "version_minor": 0
      },
      "text/plain": [
       "  0%|          | 0/180 [00:00<?, ?it/s]"
      ]
     },
     "metadata": {},
     "output_type": "display_data"
    },
    {
     "name": "stdout",
     "output_type": "stream",
     "text": [
      "| EPOCH: 2 | train_loss: 0.011 | val_loss: 0.060 |\n",
      "\n",
      "hamming_score: 0.78\n",
      "zero_one_score: 0.06\n",
      "mean_average_precision: 0.71\n",
      "mean_f1_score: 0.52\n"
     ]
    },
    {
     "data": {
      "application/vnd.jupyter.widget-view+json": {
       "model_id": "",
       "version_major": 2,
       "version_minor": 0
      },
      "text/plain": [
       "  0%|          | 0/9220 [00:00<?, ?it/s]"
      ]
     },
     "metadata": {},
     "output_type": "display_data"
    },
    {
     "data": {
      "application/vnd.jupyter.widget-view+json": {
       "model_id": "",
       "version_major": 2,
       "version_minor": 0
      },
      "text/plain": [
       "  0%|          | 0/180 [00:00<?, ?it/s]"
      ]
     },
     "metadata": {},
     "output_type": "display_data"
    },
    {
     "name": "stdout",
     "output_type": "stream",
     "text": [
      "| EPOCH: 3 | train_loss: 0.011 | val_loss: 0.060 |\n",
      "\n",
      "hamming_score: 0.79\n",
      "zero_one_score: 0.07\n",
      "mean_average_precision: 0.72\n",
      "mean_f1_score: 0.54\n"
     ]
    },
    {
     "data": {
      "application/vnd.jupyter.widget-view+json": {
       "model_id": "",
       "version_major": 2,
       "version_minor": 0
      },
      "text/plain": [
       "  0%|          | 0/9220 [00:00<?, ?it/s]"
      ]
     },
     "metadata": {},
     "output_type": "display_data"
    },
    {
     "data": {
      "application/vnd.jupyter.widget-view+json": {
       "model_id": "",
       "version_major": 2,
       "version_minor": 0
      },
      "text/plain": [
       "  0%|          | 0/180 [00:00<?, ?it/s]"
      ]
     },
     "metadata": {},
     "output_type": "display_data"
    },
    {
     "name": "stdout",
     "output_type": "stream",
     "text": [
      "| EPOCH: 4 | train_loss: 0.010 | val_loss: 0.063 |\n",
      "\n",
      "hamming_score: 0.80\n",
      "zero_one_score: 0.09\n",
      "mean_average_precision: 0.71\n",
      "mean_f1_score: 0.55\n"
     ]
    },
    {
     "data": {
      "application/vnd.jupyter.widget-view+json": {
       "model_id": "",
       "version_major": 2,
       "version_minor": 0
      },
      "text/plain": [
       "  0%|          | 0/9220 [00:00<?, ?it/s]"
      ]
     },
     "metadata": {},
     "output_type": "display_data"
    },
    {
     "data": {
      "application/vnd.jupyter.widget-view+json": {
       "model_id": "",
       "version_major": 2,
       "version_minor": 0
      },
      "text/plain": [
       "  0%|          | 0/180 [00:00<?, ?it/s]"
      ]
     },
     "metadata": {},
     "output_type": "display_data"
    },
    {
     "name": "stdout",
     "output_type": "stream",
     "text": [
      "| EPOCH: 5 | train_loss: 0.010 | val_loss: 0.065 |\n",
      "\n",
      "hamming_score: 0.82\n",
      "zero_one_score: 0.12\n",
      "mean_average_precision: 0.70\n",
      "mean_f1_score: 0.58\n"
     ]
    },
    {
     "data": {
      "application/vnd.jupyter.widget-view+json": {
       "model_id": "",
       "version_major": 2,
       "version_minor": 0
      },
      "text/plain": [
       "  0%|          | 0/9220 [00:00<?, ?it/s]"
      ]
     },
     "metadata": {},
     "output_type": "display_data"
    },
    {
     "data": {
      "application/vnd.jupyter.widget-view+json": {
       "model_id": "",
       "version_major": 2,
       "version_minor": 0
      },
      "text/plain": [
       "  0%|          | 0/180 [00:00<?, ?it/s]"
      ]
     },
     "metadata": {},
     "output_type": "display_data"
    },
    {
     "name": "stdout",
     "output_type": "stream",
     "text": [
      "| EPOCH: 6 | train_loss: 0.010 | val_loss: 0.062 |\n",
      "\n",
      "hamming_score: 0.81\n",
      "zero_one_score: 0.11\n",
      "mean_average_precision: 0.72\n",
      "mean_f1_score: 0.58\n"
     ]
    },
    {
     "data": {
      "application/vnd.jupyter.widget-view+json": {
       "model_id": "",
       "version_major": 2,
       "version_minor": 0
      },
      "text/plain": [
       "  0%|          | 0/9220 [00:00<?, ?it/s]"
      ]
     },
     "metadata": {},
     "output_type": "display_data"
    },
    {
     "data": {
      "application/vnd.jupyter.widget-view+json": {
       "model_id": "",
       "version_major": 2,
       "version_minor": 0
      },
      "text/plain": [
       "  0%|          | 0/180 [00:00<?, ?it/s]"
      ]
     },
     "metadata": {},
     "output_type": "display_data"
    },
    {
     "name": "stdout",
     "output_type": "stream",
     "text": [
      "| EPOCH: 7 | train_loss: 0.010 | val_loss: 0.065 |\n",
      "\n",
      "hamming_score: 0.80\n",
      "zero_one_score: 0.09\n",
      "mean_average_precision: 0.70\n",
      "mean_f1_score: 0.56\n"
     ]
    },
    {
     "data": {
      "application/vnd.jupyter.widget-view+json": {
       "model_id": "",
       "version_major": 2,
       "version_minor": 0
      },
      "text/plain": [
       "  0%|          | 0/9220 [00:00<?, ?it/s]"
      ]
     },
     "metadata": {},
     "output_type": "display_data"
    },
    {
     "data": {
      "application/vnd.jupyter.widget-view+json": {
       "model_id": "",
       "version_major": 2,
       "version_minor": 0
      },
      "text/plain": [
       "  0%|          | 0/180 [00:00<?, ?it/s]"
      ]
     },
     "metadata": {},
     "output_type": "display_data"
    },
    {
     "name": "stdout",
     "output_type": "stream",
     "text": [
      "| EPOCH: 8 | train_loss: 0.010 | val_loss: 0.064 |\n",
      "\n",
      "hamming_score: 0.80\n",
      "zero_one_score: 0.09\n",
      "mean_average_precision: 0.71\n",
      "mean_f1_score: 0.56\n"
     ]
    },
    {
     "data": {
      "text/html": [
       "Waiting for W&B process to finish... <strong style=\"color:green\">(success).</strong>"
      ],
      "text/plain": [
       "<IPython.core.display.HTML object>"
      ]
     },
     "metadata": {},
     "output_type": "display_data"
    },
    {
     "data": {
      "application/vnd.jupyter.widget-view+json": {
       "model_id": "ba6fcf42dc0547089f7e7fe599972d36",
       "version_major": 2,
       "version_minor": 0
      },
      "text/plain": [
       "VBox(children=(Label(value='0.007 MB of 0.007 MB uploaded (0.000 MB deduped)\\r'), FloatProgress(value=1.0, max…"
      ]
     },
     "metadata": {},
     "output_type": "display_data"
    },
    {
     "data": {
      "text/html": [
       "<style>\n",
       "    table.wandb td:nth-child(1) { padding: 0 10px; text-align: left ; width: auto;} td:nth-child(2) {text-align: left ; width: 100%}\n",
       "    .wandb-row { display: flex; flex-direction: row; flex-wrap: wrap; justify-content: flex-start; width: 100% }\n",
       "    .wandb-col { display: flex; flex-direction: column; flex-basis: 100%; flex: 1; padding: 10px; }\n",
       "    </style>\n",
       "<div class=\"wandb-row\"><div class=\"wandb-col\"><h3>Run history:</h3><br/><table class=\"wandb\"><tr><td>epoch</td><td>▁▂▃▄▅▆▇█</td></tr><tr><td>hamming_score</td><td>▂▁▂▄█▇▅▅</td></tr><tr><td>lr_param_group_0</td><td>▁▁▂▂▂▃▃▄▄▅▆▆▇▇███████▇▇▇▆▆▅▅▅▄▄▃▃▂▂▂▁▁▁▁</td></tr><tr><td>lr_param_group_1</td><td>▁▁▂▂▂▃▃▄▄▅▆▆▇▇███████▇▇▇▆▆▅▅▅▄▄▃▃▂▂▂▁▁▁▁</td></tr><tr><td>mean_average_precision</td><td>▁▇█▅▃█▃▅</td></tr><tr><td>mean_f1_score</td><td>▁▃▅▆██▇▇</td></tr><tr><td>test_step</td><td>▁▁▁▁▂▂▂▂▂▃▃▃▃▃▃▄▄▄▄▄▅▅▅▅▅▅▆▆▆▆▆▇▇▇▇▇▇███</td></tr><tr><td>train_loss</td><td>█▃▂▂▁▁▁▁</td></tr><tr><td>train_loss_per_batch</td><td>█▆▅▄▄▄▃▅▄▃▃▄▁▂▃▃▄▃▂▃▃▅▁▂▃▂▂▄▃▃▃▁▁▂▃▂▂▂▃▂</td></tr><tr><td>train_step</td><td>▁▁▁▁▂▂▂▂▂▃▃▃▃▃▃▄▄▄▄▄▅▅▅▅▅▅▆▆▆▆▆▇▇▇▇▇▇███</td></tr><tr><td>val_loss</td><td>█▁▁▅▇▄▇▆</td></tr><tr><td>valid_loss_per_batch</td><td>▃▅▅▃▅▃▆▃▃▅▄▃▂▃▃▂▂▃▃▄▅▃▃▁▄▅▅▄▄▄▃▆▂▃▄▃▄▃█▆</td></tr><tr><td>zero_one_score</td><td>▃▁▂▅█▇▅▅</td></tr></table><br/></div><div class=\"wandb-col\"><h3>Run summary:</h3><br/><table class=\"wandb\"><tr><td>epoch</td><td>8</td></tr><tr><td>hamming_score</td><td>0.80458</td></tr><tr><td>lr_param_group_0</td><td>0.0</td></tr><tr><td>lr_param_group_1</td><td>0.0</td></tr><tr><td>mean_average_precision</td><td>0.70714</td></tr><tr><td>mean_f1_score</td><td>0.56167</td></tr><tr><td>test_step</td><td>1440</td></tr><tr><td>train_loss</td><td>0.00978</td></tr><tr><td>train_loss_per_batch</td><td>0.00783</td></tr><tr><td>train_step</td><td>73760</td></tr><tr><td>val_loss</td><td>0.06367</td></tr><tr><td>valid_loss_per_batch</td><td>0.08149</td></tr><tr><td>zero_one_score</td><td>0.09047</td></tr></table><br/></div></div>"
      ],
      "text/plain": [
       "<IPython.core.display.HTML object>"
      ]
     },
     "metadata": {},
     "output_type": "display_data"
    },
    {
     "data": {
      "text/html": [
       " View run <strong style=\"color:#cdcd00\">smart-sweep-8</strong> at: <a href='https://wandb.ai/k-pintaric/uncategorized/runs/jvgmt2oo' target=\"_blank\">https://wandb.ai/k-pintaric/uncategorized/runs/jvgmt2oo</a><br/>Synced 6 W&B file(s), 0 media file(s), 0 artifact file(s) and 0 other file(s)"
      ],
      "text/plain": [
       "<IPython.core.display.HTML object>"
      ]
     },
     "metadata": {},
     "output_type": "display_data"
    },
    {
     "data": {
      "text/html": [
       "Find logs at: <code>./wandb/run-20230326_143150-jvgmt2oo/logs</code>"
      ],
      "text/plain": [
       "<IPython.core.display.HTML object>"
      ]
     },
     "metadata": {},
     "output_type": "display_data"
    },
    {
     "name": "stderr",
     "output_type": "stream",
     "text": [
      "\u001b[34m\u001b[1mwandb\u001b[0m: Agent Starting Run: z6y62tbr with config:\n",
      "\u001b[34m\u001b[1mwandb\u001b[0m: \tEPOCHS: 8\n",
      "\u001b[34m\u001b[1mwandb\u001b[0m: \tbatch_size: 8\n",
      "\u001b[34m\u001b[1mwandb\u001b[0m: \tearly_stopping: {'min_delta': 0.0001, 'patience': 20}\n",
      "\u001b[34m\u001b[1mwandb\u001b[0m: \tlearning_rates: {'base_model': {'lr': 4.0692258676497033e-07}, 'classifier': {'lr': 0.004970452288435886}}\n",
      "\u001b[34m\u001b[1mwandb\u001b[0m: \tloss: {'FocalLoss': {'alpha': 0.25, 'gamma': 3}}\n",
      "\u001b[34m\u001b[1mwandb\u001b[0m: \tmetrics: ['hamming_score', 'zero_one_score', 'mean_average_precision', 'mean_f1_score']\n",
      "\u001b[34m\u001b[1mwandb\u001b[0m: \tnum_accum: 6\n",
      "\u001b[34m\u001b[1mwandb\u001b[0m: \toptimizer: {'AdamW': {'weight_decay': 2.648635455311075e-07}}\n",
      "\u001b[34m\u001b[1mwandb\u001b[0m: \tpreprocess: {'PreprocessPipeline': {'target_sr': 22050}}\n",
      "\u001b[34m\u001b[1mwandb\u001b[0m: \tsave_best_model: True\n",
      "\u001b[34m\u001b[1mwandb\u001b[0m: \tscheduler: {'OneCycleLR': {'anneal_strategy': 'cos', 'pct_start': 0.4148826570114353}}\n",
      "\u001b[34m\u001b[1mwandb\u001b[0m: \tsignal_augments: None\n",
      "\u001b[34m\u001b[1mwandb\u001b[0m: \tspec_augments: None\n",
      "\u001b[34m\u001b[1mwandb\u001b[0m: \ttrain_dir: ./data/processed_22khz/all_sync/IRMAS_Training_Data\n",
      "\u001b[34m\u001b[1mwandb\u001b[0m: \ttransforms: {'CustomFeatureExtractor': {'hop_length': 128, 'max_length': 1024, 'mean': -4.2677393, 'n_fft': 2048, 'n_mels': 128, 'sample_rate': 22050, 'std': 9.1379948}}\n",
      "\u001b[34m\u001b[1mwandb\u001b[0m: \tvalid_dir: ./data/raw/IRMAS_Validation_Data\n",
      "\u001b[34m\u001b[1mwandb\u001b[0m: \tverbose: True\n"
     ]
    },
    {
     "data": {
      "text/html": [
       "Tracking run with wandb version 0.14.0"
      ],
      "text/plain": [
       "<IPython.core.display.HTML object>"
      ]
     },
     "metadata": {},
     "output_type": "display_data"
    },
    {
     "data": {
      "text/html": [
       "Run data is saved locally in <code>/nfs/home/912c2e22633dde2e/lumen-irmas/wandb/run-20230327_055412-z6y62tbr</code>"
      ],
      "text/plain": [
       "<IPython.core.display.HTML object>"
      ]
     },
     "metadata": {},
     "output_type": "display_data"
    },
    {
     "data": {
      "text/html": [
       "Syncing run <strong><a href='https://wandb.ai/k-pintaric/uncategorized/runs/z6y62tbr' target=\"_blank\">colorful-sweep-9</a></strong> to <a href='https://wandb.ai/k-pintaric/uncategorized' target=\"_blank\">Weights & Biases</a> (<a href='https://wandb.me/run' target=\"_blank\">docs</a>)<br/>Sweep page: <a href='https://wandb.ai/k-pintaric/uncategorized/sweeps/hdafiir7' target=\"_blank\">https://wandb.ai/k-pintaric/uncategorized/sweeps/hdafiir7</a>"
      ],
      "text/plain": [
       "<IPython.core.display.HTML object>"
      ]
     },
     "metadata": {},
     "output_type": "display_data"
    },
    {
     "data": {
      "text/html": [
       " View project at <a href='https://wandb.ai/k-pintaric/uncategorized' target=\"_blank\">https://wandb.ai/k-pintaric/uncategorized</a>"
      ],
      "text/plain": [
       "<IPython.core.display.HTML object>"
      ]
     },
     "metadata": {},
     "output_type": "display_data"
    },
    {
     "data": {
      "text/html": [
       " View sweep at <a href='https://wandb.ai/k-pintaric/uncategorized/sweeps/hdafiir7' target=\"_blank\">https://wandb.ai/k-pintaric/uncategorized/sweeps/hdafiir7</a>"
      ],
      "text/plain": [
       "<IPython.core.display.HTML object>"
      ]
     },
     "metadata": {},
     "output_type": "display_data"
    },
    {
     "data": {
      "text/html": [
       " View run at <a href='https://wandb.ai/k-pintaric/uncategorized/runs/z6y62tbr' target=\"_blank\">https://wandb.ai/k-pintaric/uncategorized/runs/z6y62tbr</a>"
      ],
      "text/plain": [
       "<IPython.core.display.HTML object>"
      ]
     },
     "metadata": {},
     "output_type": "display_data"
    },
    {
     "data": {
      "application/vnd.jupyter.widget-view+json": {
       "model_id": "",
       "version_major": 2,
       "version_minor": 0
      },
      "text/plain": [
       "  0%|          | 0/8 [00:00<?, ?it/s]"
      ]
     },
     "metadata": {},
     "output_type": "display_data"
    },
    {
     "data": {
      "application/vnd.jupyter.widget-view+json": {
       "model_id": "",
       "version_major": 2,
       "version_minor": 0
      },
      "text/plain": [
       "  0%|          | 0/9220 [00:00<?, ?it/s]"
      ]
     },
     "metadata": {},
     "output_type": "display_data"
    },
    {
     "data": {
      "application/vnd.jupyter.widget-view+json": {
       "model_id": "",
       "version_major": 2,
       "version_minor": 0
      },
      "text/plain": [
       "  0%|          | 0/180 [00:00<?, ?it/s]"
      ]
     },
     "metadata": {},
     "output_type": "display_data"
    },
    {
     "name": "stdout",
     "output_type": "stream",
     "text": [
      "| EPOCH: 1 | train_loss: 0.003 | val_loss: 0.018 |\n",
      "\n",
      "hamming_score: 0.76\n",
      "zero_one_score: 0.07\n",
      "mean_average_precision: 0.71\n",
      "mean_f1_score: 0.48\n"
     ]
    },
    {
     "data": {
      "application/vnd.jupyter.widget-view+json": {
       "model_id": "",
       "version_major": 2,
       "version_minor": 0
      },
      "text/plain": [
       "  0%|          | 0/9220 [00:00<?, ?it/s]"
      ]
     },
     "metadata": {},
     "output_type": "display_data"
    },
    {
     "data": {
      "application/vnd.jupyter.widget-view+json": {
       "model_id": "",
       "version_major": 2,
       "version_minor": 0
      },
      "text/plain": [
       "  0%|          | 0/180 [00:00<?, ?it/s]"
      ]
     },
     "metadata": {},
     "output_type": "display_data"
    },
    {
     "name": "stdout",
     "output_type": "stream",
     "text": [
      "| EPOCH: 2 | train_loss: 0.003 | val_loss: 0.018 |\n",
      "\n",
      "hamming_score: 0.80\n",
      "zero_one_score: 0.10\n",
      "mean_average_precision: 0.72\n",
      "mean_f1_score: 0.55\n"
     ]
    },
    {
     "data": {
      "application/vnd.jupyter.widget-view+json": {
       "model_id": "",
       "version_major": 2,
       "version_minor": 0
      },
      "text/plain": [
       "  0%|          | 0/9220 [00:00<?, ?it/s]"
      ]
     },
     "metadata": {},
     "output_type": "display_data"
    },
    {
     "data": {
      "application/vnd.jupyter.widget-view+json": {
       "model_id": "",
       "version_major": 2,
       "version_minor": 0
      },
      "text/plain": [
       "  0%|          | 0/180 [00:00<?, ?it/s]"
      ]
     },
     "metadata": {},
     "output_type": "display_data"
    },
    {
     "name": "stdout",
     "output_type": "stream",
     "text": [
      "| EPOCH: 3 | train_loss: 0.003 | val_loss: 0.021 |\n",
      "\n",
      "hamming_score: 0.78\n",
      "zero_one_score: 0.09\n",
      "mean_average_precision: 0.69\n",
      "mean_f1_score: 0.54\n"
     ]
    },
    {
     "data": {
      "application/vnd.jupyter.widget-view+json": {
       "model_id": "",
       "version_major": 2,
       "version_minor": 0
      },
      "text/plain": [
       "  0%|          | 0/9220 [00:00<?, ?it/s]"
      ]
     },
     "metadata": {},
     "output_type": "display_data"
    },
    {
     "data": {
      "application/vnd.jupyter.widget-view+json": {
       "model_id": "",
       "version_major": 2,
       "version_minor": 0
      },
      "text/plain": [
       "  0%|          | 0/180 [00:00<?, ?it/s]"
      ]
     },
     "metadata": {},
     "output_type": "display_data"
    },
    {
     "name": "stdout",
     "output_type": "stream",
     "text": [
      "| EPOCH: 4 | train_loss: 0.003 | val_loss: 0.020 |\n",
      "\n",
      "hamming_score: 0.78\n",
      "zero_one_score: 0.06\n",
      "mean_average_precision: 0.72\n",
      "mean_f1_score: 0.53\n"
     ]
    },
    {
     "data": {
      "application/vnd.jupyter.widget-view+json": {
       "model_id": "",
       "version_major": 2,
       "version_minor": 0
      },
      "text/plain": [
       "  0%|          | 0/9220 [00:00<?, ?it/s]"
      ]
     },
     "metadata": {},
     "output_type": "display_data"
    },
    {
     "data": {
      "application/vnd.jupyter.widget-view+json": {
       "model_id": "",
       "version_major": 2,
       "version_minor": 0
      },
      "text/plain": [
       "  0%|          | 0/180 [00:00<?, ?it/s]"
      ]
     },
     "metadata": {},
     "output_type": "display_data"
    },
    {
     "name": "stdout",
     "output_type": "stream",
     "text": [
      "| EPOCH: 5 | train_loss: 0.003 | val_loss: 0.020 |\n",
      "\n",
      "hamming_score: 0.78\n",
      "zero_one_score: 0.07\n",
      "mean_average_precision: 0.72\n",
      "mean_f1_score: 0.52\n"
     ]
    },
    {
     "data": {
      "application/vnd.jupyter.widget-view+json": {
       "model_id": "",
       "version_major": 2,
       "version_minor": 0
      },
      "text/plain": [
       "  0%|          | 0/9220 [00:00<?, ?it/s]"
      ]
     },
     "metadata": {},
     "output_type": "display_data"
    },
    {
     "data": {
      "application/vnd.jupyter.widget-view+json": {
       "model_id": "",
       "version_major": 2,
       "version_minor": 0
      },
      "text/plain": [
       "  0%|          | 0/180 [00:00<?, ?it/s]"
      ]
     },
     "metadata": {},
     "output_type": "display_data"
    },
    {
     "name": "stdout",
     "output_type": "stream",
     "text": [
      "| EPOCH: 6 | train_loss: 0.003 | val_loss: 0.021 |\n",
      "\n",
      "hamming_score: 0.80\n",
      "zero_one_score: 0.10\n",
      "mean_average_precision: 0.71\n",
      "mean_f1_score: 0.56\n"
     ]
    },
    {
     "data": {
      "application/vnd.jupyter.widget-view+json": {
       "model_id": "",
       "version_major": 2,
       "version_minor": 0
      },
      "text/plain": [
       "  0%|          | 0/9220 [00:00<?, ?it/s]"
      ]
     },
     "metadata": {},
     "output_type": "display_data"
    },
    {
     "data": {
      "application/vnd.jupyter.widget-view+json": {
       "model_id": "",
       "version_major": 2,
       "version_minor": 0
      },
      "text/plain": [
       "  0%|          | 0/180 [00:00<?, ?it/s]"
      ]
     },
     "metadata": {},
     "output_type": "display_data"
    },
    {
     "name": "stdout",
     "output_type": "stream",
     "text": [
      "| EPOCH: 7 | train_loss: 0.002 | val_loss: 0.021 |\n",
      "\n",
      "hamming_score: 0.79\n",
      "zero_one_score: 0.09\n",
      "mean_average_precision: 0.73\n",
      "mean_f1_score: 0.53\n"
     ]
    },
    {
     "data": {
      "application/vnd.jupyter.widget-view+json": {
       "model_id": "",
       "version_major": 2,
       "version_minor": 0
      },
      "text/plain": [
       "  0%|          | 0/9220 [00:00<?, ?it/s]"
      ]
     },
     "metadata": {},
     "output_type": "display_data"
    },
    {
     "data": {
      "application/vnd.jupyter.widget-view+json": {
       "model_id": "",
       "version_major": 2,
       "version_minor": 0
      },
      "text/plain": [
       "  0%|          | 0/180 [00:00<?, ?it/s]"
      ]
     },
     "metadata": {},
     "output_type": "display_data"
    },
    {
     "name": "stdout",
     "output_type": "stream",
     "text": [
      "| EPOCH: 8 | train_loss: 0.002 | val_loss: 0.021 |\n",
      "\n",
      "hamming_score: 0.78\n",
      "zero_one_score: 0.08\n",
      "mean_average_precision: 0.72\n",
      "mean_f1_score: 0.53\n"
     ]
    },
    {
     "data": {
      "text/html": [
       "Waiting for W&B process to finish... <strong style=\"color:green\">(success).</strong>"
      ],
      "text/plain": [
       "<IPython.core.display.HTML object>"
      ]
     },
     "metadata": {},
     "output_type": "display_data"
    },
    {
     "data": {
      "application/vnd.jupyter.widget-view+json": {
       "model_id": "69de32c6533042d997bf8743d5de749d",
       "version_major": 2,
       "version_minor": 0
      },
      "text/plain": [
       "VBox(children=(Label(value='0.007 MB of 0.007 MB uploaded (0.000 MB deduped)\\r'), FloatProgress(value=1.0, max…"
      ]
     },
     "metadata": {},
     "output_type": "display_data"
    },
    {
     "data": {
      "text/html": [
       "<style>\n",
       "    table.wandb td:nth-child(1) { padding: 0 10px; text-align: left ; width: auto;} td:nth-child(2) {text-align: left ; width: 100%}\n",
       "    .wandb-row { display: flex; flex-direction: row; flex-wrap: wrap; justify-content: flex-start; width: 100% }\n",
       "    .wandb-col { display: flex; flex-direction: column; flex-basis: 100%; flex: 1; padding: 10px; }\n",
       "    </style>\n",
       "<div class=\"wandb-row\"><div class=\"wandb-col\"><h3>Run history:</h3><br/><table class=\"wandb\"><tr><td>epoch</td><td>▁▂▃▄▅▆▇█</td></tr><tr><td>hamming_score</td><td>▁▇▄▃▄█▅▅</td></tr><tr><td>lr_param_group_0</td><td>▁▁▂▂▂▃▃▄▅▅▆▇▇▇███████▇▇▇▆▆▅▅▄▄▃▃▃▂▂▂▁▁▁▁</td></tr><tr><td>lr_param_group_1</td><td>▁▁▂▂▂▃▃▄▅▅▆▇▇▇███████▇▇▇▆▆▅▅▄▄▃▃▃▂▂▂▁▁▁▁</td></tr><tr><td>mean_average_precision</td><td>▄▅▁▅▆▅█▆</td></tr><tr><td>mean_f1_score</td><td>▁▇▆▅▄█▆▅</td></tr><tr><td>test_step</td><td>▁▁▁▁▂▂▂▂▂▃▃▃▃▃▃▄▄▄▄▄▅▅▅▅▅▅▆▆▆▆▆▇▇▇▇▇▇███</td></tr><tr><td>train_loss</td><td>█▇▅▄▃▂▁▁</td></tr><tr><td>train_loss_per_batch</td><td>█▆▇▆▅▅▅▅▆▆▅▆▄▆█▂▇▅▄▃▄▇▄▄▄▆▅▅▁▂▃▄▆▄▇▄▂▃▂▃</td></tr><tr><td>train_step</td><td>▁▁▁▁▂▂▂▂▂▃▃▃▃▃▃▄▄▄▄▄▅▅▅▅▅▅▆▆▆▆▆▇▇▇▇▇▇███</td></tr><tr><td>val_loss</td><td>▁▁▇▆▆▇▇█</td></tr><tr><td>valid_loss_per_batch</td><td>▄▅▄▃▃▂▅▃▂▁▄▅▄▄▃▂▄▂▃▅▃▄▃▃▃▄▁▄▃▆▄▅▁▃▄█▂▃▅▃</td></tr><tr><td>zero_one_score</td><td>▂█▅▁▂█▆▄</td></tr></table><br/></div><div class=\"wandb-col\"><h3>Run summary:</h3><br/><table class=\"wandb\"><tr><td>epoch</td><td>8</td></tr><tr><td>hamming_score</td><td>0.78427</td></tr><tr><td>lr_param_group_0</td><td>0.0</td></tr><tr><td>lr_param_group_1</td><td>0.0</td></tr><tr><td>mean_average_precision</td><td>0.71847</td></tr><tr><td>mean_f1_score</td><td>0.52943</td></tr><tr><td>test_step</td><td>1440</td></tr><tr><td>train_loss</td><td>0.00242</td></tr><tr><td>train_loss_per_batch</td><td>0.00145</td></tr><tr><td>train_step</td><td>73760</td></tr><tr><td>val_loss</td><td>0.02132</td></tr><tr><td>valid_loss_per_batch</td><td>0.01681</td></tr><tr><td>zero_one_score</td><td>0.07933</td></tr></table><br/></div></div>"
      ],
      "text/plain": [
       "<IPython.core.display.HTML object>"
      ]
     },
     "metadata": {},
     "output_type": "display_data"
    },
    {
     "data": {
      "text/html": [
       " View run <strong style=\"color:#cdcd00\">colorful-sweep-9</strong> at: <a href='https://wandb.ai/k-pintaric/uncategorized/runs/z6y62tbr' target=\"_blank\">https://wandb.ai/k-pintaric/uncategorized/runs/z6y62tbr</a><br/>Synced 6 W&B file(s), 0 media file(s), 0 artifact file(s) and 0 other file(s)"
      ],
      "text/plain": [
       "<IPython.core.display.HTML object>"
      ]
     },
     "metadata": {},
     "output_type": "display_data"
    },
    {
     "data": {
      "text/html": [
       "Find logs at: <code>./wandb/run-20230327_055412-z6y62tbr/logs</code>"
      ],
      "text/plain": [
       "<IPython.core.display.HTML object>"
      ]
     },
     "metadata": {},
     "output_type": "display_data"
    },
    {
     "name": "stderr",
     "output_type": "stream",
     "text": [
      "\u001b[34m\u001b[1mwandb\u001b[0m: Agent Starting Run: q2b5fyjo with config:\n",
      "\u001b[34m\u001b[1mwandb\u001b[0m: \tEPOCHS: 6\n",
      "\u001b[34m\u001b[1mwandb\u001b[0m: \tbatch_size: 8\n",
      "\u001b[34m\u001b[1mwandb\u001b[0m: \tearly_stopping: {'min_delta': 0.0001, 'patience': 20}\n",
      "\u001b[34m\u001b[1mwandb\u001b[0m: \tlearning_rates: {'base_model': {'lr': 4.714743673189592e-06}, 'classifier': {'lr': 0.00041010210079734993}}\n",
      "\u001b[34m\u001b[1mwandb\u001b[0m: \tloss: {'FocalLoss': {'alpha': 0.25, 'gamma': 2}}\n",
      "\u001b[34m\u001b[1mwandb\u001b[0m: \tmetrics: ['hamming_score', 'zero_one_score', 'mean_average_precision', 'mean_f1_score']\n",
      "\u001b[34m\u001b[1mwandb\u001b[0m: \tnum_accum: 4\n",
      "\u001b[34m\u001b[1mwandb\u001b[0m: \toptimizer: {'AdamW': {'weight_decay': 6.101988775154302e-08}}\n",
      "\u001b[34m\u001b[1mwandb\u001b[0m: \tpreprocess: {'PreprocessPipeline': {'target_sr': 22050}}\n",
      "\u001b[34m\u001b[1mwandb\u001b[0m: \tsave_best_model: True\n",
      "\u001b[34m\u001b[1mwandb\u001b[0m: \tscheduler: {'OneCycleLR': {'anneal_strategy': 'cos', 'pct_start': 0.33272555371187323}}\n",
      "\u001b[34m\u001b[1mwandb\u001b[0m: \tsignal_augments: None\n",
      "\u001b[34m\u001b[1mwandb\u001b[0m: \tspec_augments: None\n",
      "\u001b[34m\u001b[1mwandb\u001b[0m: \ttrain_dir: ./data/processed_22khz/all_sync/IRMAS_Training_Data\n",
      "\u001b[34m\u001b[1mwandb\u001b[0m: \ttransforms: {'CustomFeatureExtractor': {'hop_length': 512, 'max_length': 1024, 'mean': -4.2677393, 'n_fft': 1024, 'n_mels': 128, 'sample_rate': 22050, 'std': 9.1379948}}\n",
      "\u001b[34m\u001b[1mwandb\u001b[0m: \tvalid_dir: ./data/raw/IRMAS_Validation_Data\n",
      "\u001b[34m\u001b[1mwandb\u001b[0m: \tverbose: True\n"
     ]
    },
    {
     "data": {
      "text/html": [
       "Tracking run with wandb version 0.14.0"
      ],
      "text/plain": [
       "<IPython.core.display.HTML object>"
      ]
     },
     "metadata": {},
     "output_type": "display_data"
    },
    {
     "data": {
      "text/html": [
       "Run data is saved locally in <code>/nfs/home/912c2e22633dde2e/lumen-irmas/wandb/run-20230327_212017-q2b5fyjo</code>"
      ],
      "text/plain": [
       "<IPython.core.display.HTML object>"
      ]
     },
     "metadata": {},
     "output_type": "display_data"
    },
    {
     "data": {
      "text/html": [
       "Syncing run <strong><a href='https://wandb.ai/k-pintaric/uncategorized/runs/q2b5fyjo' target=\"_blank\">polished-sweep-10</a></strong> to <a href='https://wandb.ai/k-pintaric/uncategorized' target=\"_blank\">Weights & Biases</a> (<a href='https://wandb.me/run' target=\"_blank\">docs</a>)<br/>Sweep page: <a href='https://wandb.ai/k-pintaric/uncategorized/sweeps/hdafiir7' target=\"_blank\">https://wandb.ai/k-pintaric/uncategorized/sweeps/hdafiir7</a>"
      ],
      "text/plain": [
       "<IPython.core.display.HTML object>"
      ]
     },
     "metadata": {},
     "output_type": "display_data"
    },
    {
     "data": {
      "text/html": [
       " View project at <a href='https://wandb.ai/k-pintaric/uncategorized' target=\"_blank\">https://wandb.ai/k-pintaric/uncategorized</a>"
      ],
      "text/plain": [
       "<IPython.core.display.HTML object>"
      ]
     },
     "metadata": {},
     "output_type": "display_data"
    },
    {
     "data": {
      "text/html": [
       " View sweep at <a href='https://wandb.ai/k-pintaric/uncategorized/sweeps/hdafiir7' target=\"_blank\">https://wandb.ai/k-pintaric/uncategorized/sweeps/hdafiir7</a>"
      ],
      "text/plain": [
       "<IPython.core.display.HTML object>"
      ]
     },
     "metadata": {},
     "output_type": "display_data"
    },
    {
     "data": {
      "text/html": [
       " View run at <a href='https://wandb.ai/k-pintaric/uncategorized/runs/q2b5fyjo' target=\"_blank\">https://wandb.ai/k-pintaric/uncategorized/runs/q2b5fyjo</a>"
      ],
      "text/plain": [
       "<IPython.core.display.HTML object>"
      ]
     },
     "metadata": {},
     "output_type": "display_data"
    },
    {
     "data": {
      "application/vnd.jupyter.widget-view+json": {
       "model_id": "",
       "version_major": 2,
       "version_minor": 0
      },
      "text/plain": [
       "  0%|          | 0/6 [00:00<?, ?it/s]"
      ]
     },
     "metadata": {},
     "output_type": "display_data"
    },
    {
     "data": {
      "application/vnd.jupyter.widget-view+json": {
       "model_id": "",
       "version_major": 2,
       "version_minor": 0
      },
      "text/plain": [
       "  0%|          | 0/9220 [00:00<?, ?it/s]"
      ]
     },
     "metadata": {},
     "output_type": "display_data"
    },
    {
     "data": {
      "application/vnd.jupyter.widget-view+json": {
       "model_id": "",
       "version_major": 2,
       "version_minor": 0
      },
      "text/plain": [
       "  0%|          | 0/180 [00:00<?, ?it/s]"
      ]
     },
     "metadata": {},
     "output_type": "display_data"
    },
    {
     "name": "stdout",
     "output_type": "stream",
     "text": [
      "| EPOCH: 1 | train_loss: 0.010 | val_loss: 0.031 |\n",
      "\n",
      "hamming_score: 0.82\n",
      "zero_one_score: 0.12\n",
      "mean_average_precision: 0.75\n",
      "mean_f1_score: 0.59\n"
     ]
    },
    {
     "data": {
      "application/vnd.jupyter.widget-view+json": {
       "model_id": "",
       "version_major": 2,
       "version_minor": 0
      },
      "text/plain": [
       "  0%|          | 0/9220 [00:00<?, ?it/s]"
      ]
     },
     "metadata": {},
     "output_type": "display_data"
    },
    {
     "data": {
      "application/vnd.jupyter.widget-view+json": {
       "model_id": "",
       "version_major": 2,
       "version_minor": 0
      },
      "text/plain": [
       "  0%|          | 0/180 [00:00<?, ?it/s]"
      ]
     },
     "metadata": {},
     "output_type": "display_data"
    },
    {
     "name": "stdout",
     "output_type": "stream",
     "text": [
      "| EPOCH: 2 | train_loss: 0.007 | val_loss: 0.033 |\n",
      "\n",
      "hamming_score: 0.85\n",
      "zero_one_score: 0.15\n",
      "mean_average_precision: 0.79\n",
      "mean_f1_score: 0.60\n"
     ]
    },
    {
     "data": {
      "application/vnd.jupyter.widget-view+json": {
       "model_id": "",
       "version_major": 2,
       "version_minor": 0
      },
      "text/plain": [
       "  0%|          | 0/9220 [00:00<?, ?it/s]"
      ]
     },
     "metadata": {},
     "output_type": "display_data"
    },
    {
     "data": {
      "application/vnd.jupyter.widget-view+json": {
       "model_id": "",
       "version_major": 2,
       "version_minor": 0
      },
      "text/plain": [
       "  0%|          | 0/180 [00:00<?, ?it/s]"
      ]
     },
     "metadata": {},
     "output_type": "display_data"
    },
    {
     "name": "stdout",
     "output_type": "stream",
     "text": [
      "| EPOCH: 3 | train_loss: 0.006 | val_loss: 0.039 |\n",
      "\n",
      "hamming_score: 0.86\n",
      "zero_one_score: 0.19\n",
      "mean_average_precision: 0.78\n",
      "mean_f1_score: 0.62\n"
     ]
    },
    {
     "data": {
      "application/vnd.jupyter.widget-view+json": {
       "model_id": "",
       "version_major": 2,
       "version_minor": 0
      },
      "text/plain": [
       "  0%|          | 0/9220 [00:00<?, ?it/s]"
      ]
     },
     "metadata": {},
     "output_type": "display_data"
    },
    {
     "data": {
      "application/vnd.jupyter.widget-view+json": {
       "model_id": "",
       "version_major": 2,
       "version_minor": 0
      },
      "text/plain": [
       "  0%|          | 0/180 [00:00<?, ?it/s]"
      ]
     },
     "metadata": {},
     "output_type": "display_data"
    },
    {
     "name": "stdout",
     "output_type": "stream",
     "text": [
      "| EPOCH: 4 | train_loss: 0.005 | val_loss: 0.043 |\n",
      "\n",
      "hamming_score: 0.86\n",
      "zero_one_score: 0.19\n",
      "mean_average_precision: 0.79\n",
      "mean_f1_score: 0.62\n"
     ]
    },
    {
     "data": {
      "application/vnd.jupyter.widget-view+json": {
       "model_id": "",
       "version_major": 2,
       "version_minor": 0
      },
      "text/plain": [
       "  0%|          | 0/9220 [00:00<?, ?it/s]"
      ]
     },
     "metadata": {},
     "output_type": "display_data"
    },
    {
     "data": {
      "application/vnd.jupyter.widget-view+json": {
       "model_id": "",
       "version_major": 2,
       "version_minor": 0
      },
      "text/plain": [
       "  0%|          | 0/180 [00:00<?, ?it/s]"
      ]
     },
     "metadata": {},
     "output_type": "display_data"
    },
    {
     "name": "stdout",
     "output_type": "stream",
     "text": [
      "| EPOCH: 5 | train_loss: 0.004 | val_loss: 0.046 |\n",
      "\n",
      "hamming_score: 0.85\n",
      "zero_one_score: 0.13\n",
      "mean_average_precision: 0.78\n",
      "mean_f1_score: 0.60\n"
     ]
    },
    {
     "data": {
      "application/vnd.jupyter.widget-view+json": {
       "model_id": "",
       "version_major": 2,
       "version_minor": 0
      },
      "text/plain": [
       "  0%|          | 0/9220 [00:00<?, ?it/s]"
      ]
     },
     "metadata": {},
     "output_type": "display_data"
    },
    {
     "data": {
      "application/vnd.jupyter.widget-view+json": {
       "model_id": "",
       "version_major": 2,
       "version_minor": 0
      },
      "text/plain": [
       "  0%|          | 0/180 [00:00<?, ?it/s]"
      ]
     },
     "metadata": {},
     "output_type": "display_data"
    },
    {
     "name": "stdout",
     "output_type": "stream",
     "text": [
      "| EPOCH: 6 | train_loss: 0.004 | val_loss: 0.046 |\n",
      "\n",
      "hamming_score: 0.85\n",
      "zero_one_score: 0.12\n",
      "mean_average_precision: 0.78\n",
      "mean_f1_score: 0.59\n"
     ]
    },
    {
     "data": {
      "text/html": [
       "Waiting for W&B process to finish... <strong style=\"color:green\">(success).</strong>"
      ],
      "text/plain": [
       "<IPython.core.display.HTML object>"
      ]
     },
     "metadata": {},
     "output_type": "display_data"
    },
    {
     "data": {
      "application/vnd.jupyter.widget-view+json": {
       "model_id": "35abb328a1e8432d96db3c45d129fbb4",
       "version_major": 2,
       "version_minor": 0
      },
      "text/plain": [
       "VBox(children=(Label(value='0.007 MB of 0.020 MB uploaded (0.000 MB deduped)\\r'), FloatProgress(value=0.338044…"
      ]
     },
     "metadata": {},
     "output_type": "display_data"
    },
    {
     "data": {
      "text/html": [
       "<style>\n",
       "    table.wandb td:nth-child(1) { padding: 0 10px; text-align: left ; width: auto;} td:nth-child(2) {text-align: left ; width: 100%}\n",
       "    .wandb-row { display: flex; flex-direction: row; flex-wrap: wrap; justify-content: flex-start; width: 100% }\n",
       "    .wandb-col { display: flex; flex-direction: column; flex-basis: 100%; flex: 1; padding: 10px; }\n",
       "    </style>\n",
       "<div class=\"wandb-row\"><div class=\"wandb-col\"><h3>Run history:</h3><br/><table class=\"wandb\"><tr><td>epoch</td><td>▁▂▄▅▇█</td></tr><tr><td>hamming_score</td><td>▁▅██▆▅</td></tr><tr><td>lr_param_group_0</td><td>▁▁▂▂▃▃▄▅▆▇▇███████▇▇▇▇▆▆▅▅▄▄▄▃▃▂▂▂▂▁▁▁▁▁</td></tr><tr><td>lr_param_group_1</td><td>▁▁▂▂▃▃▄▅▆▇▇███████▇▇▇▇▆▆▅▅▄▄▄▃▃▂▂▂▂▁▁▁▁▁</td></tr><tr><td>mean_average_precision</td><td>▁▇▆█▆▇</td></tr><tr><td>mean_f1_score</td><td>▂▄██▄▁</td></tr><tr><td>test_step</td><td>▁▁▁▂▂▂▂▂▂▃▃▃▃▃▃▄▄▄▄▄▅▅▅▅▅▅▆▆▆▆▆▇▇▇▇▇▇███</td></tr><tr><td>train_loss</td><td>█▅▄▃▂▁</td></tr><tr><td>train_loss_per_batch</td><td>█▇▅▇▆▃▆▅▄▅▄▅▃▂▅▄▂▄▂▄▂▄▁▃▃▂▃▂▃▂▂▃▂▁▁▁▃▁▁▂</td></tr><tr><td>train_step</td><td>▁▁▁▂▂▂▂▂▂▃▃▃▃▃▃▄▄▄▄▄▅▅▅▅▅▅▆▆▆▆▆▇▇▇▇▇▇███</td></tr><tr><td>val_loss</td><td>▁▂▅▆██</td></tr><tr><td>valid_loss_per_batch</td><td>▂▃▂▂▃▃▂▂▅▁▅▃▂▁▅▃▇▃▆▇▅▅▄█▅▅▄▃▆▄▂▄▅▃▃▅▇▃▆▆</td></tr><tr><td>zero_one_score</td><td>▁▄██▂▁</td></tr></table><br/></div><div class=\"wandb-col\"><h3>Run summary:</h3><br/><table class=\"wandb\"><tr><td>epoch</td><td>6</td></tr><tr><td>hamming_score</td><td>0.84564</td></tr><tr><td>lr_param_group_0</td><td>0.0</td></tr><tr><td>lr_param_group_1</td><td>0.0</td></tr><tr><td>mean_average_precision</td><td>0.78165</td></tr><tr><td>mean_f1_score</td><td>0.5888</td></tr><tr><td>test_step</td><td>1080</td></tr><tr><td>train_loss</td><td>0.00369</td></tr><tr><td>train_loss_per_batch</td><td>0.003</td></tr><tr><td>train_step</td><td>55320</td></tr><tr><td>val_loss</td><td>0.04588</td></tr><tr><td>valid_loss_per_batch</td><td>0.03954</td></tr><tr><td>zero_one_score</td><td>0.11621</td></tr></table><br/></div></div>"
      ],
      "text/plain": [
       "<IPython.core.display.HTML object>"
      ]
     },
     "metadata": {},
     "output_type": "display_data"
    },
    {
     "data": {
      "text/html": [
       " View run <strong style=\"color:#cdcd00\">polished-sweep-10</strong> at: <a href='https://wandb.ai/k-pintaric/uncategorized/runs/q2b5fyjo' target=\"_blank\">https://wandb.ai/k-pintaric/uncategorized/runs/q2b5fyjo</a><br/>Synced 6 W&B file(s), 0 media file(s), 0 artifact file(s) and 0 other file(s)"
      ],
      "text/plain": [
       "<IPython.core.display.HTML object>"
      ]
     },
     "metadata": {},
     "output_type": "display_data"
    },
    {
     "data": {
      "text/html": [
       "Find logs at: <code>./wandb/run-20230327_212017-q2b5fyjo/logs</code>"
      ],
      "text/plain": [
       "<IPython.core.display.HTML object>"
      ]
     },
     "metadata": {},
     "output_type": "display_data"
    }
   ],
   "source": [
    "import yaml\n",
    "CONFIG_PATH = \"./sweep_config.yaml\"\n",
    "with open(CONFIG_PATH) as file:\n",
    "    config = yaml.safe_load(file)\n",
    "\n",
    "sweep_id = wandb.sweep(sweep=config)\n",
    "wandb.agent(sweep_id, function=main, count=10)"
   ]
  }
 ],
 "metadata": {
  "kernelspec": {
   "display_name": "Python 3 (ipykernel)",
   "language": "python",
   "name": "python3"
  },
  "language_info": {
   "codemirror_mode": {
    "name": "ipython",
    "version": 3
   },
   "file_extension": ".py",
   "mimetype": "text/x-python",
   "name": "python",
   "nbconvert_exporter": "python",
   "pygments_lexer": "ipython3",
   "version": "3.10.9"
  }
 },
 "nbformat": 4,
 "nbformat_minor": 5
}
